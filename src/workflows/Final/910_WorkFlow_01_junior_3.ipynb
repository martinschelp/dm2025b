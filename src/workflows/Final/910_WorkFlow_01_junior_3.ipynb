{
 "cells": [
  {
   "cell_type": "markdown",
   "id": "859d38e7-11c0-48bc-978a-d0e907f19ed1",
   "metadata": {
    "id": "859d38e7-11c0-48bc-978a-d0e907f19ed1"
   },
   "source": [
    "# 9 WorkFlow Analista Jr"
   ]
  },
  {
   "cell_type": "markdown",
   "id": "29c586e3-ed7d-44b2-92a0-f19669f06940",
   "metadata": {
    "id": "29c586e3-ed7d-44b2-92a0-f19669f06940"
   },
   "source": [
    "### 9.1 Objetivo"
   ]
  },
  {
   "cell_type": "markdown",
   "id": "6fff8327-10ed-4b11-bbee-f1c3f357d123",
   "metadata": {
    "id": "6fff8327-10ed-4b11-bbee-f1c3f357d123"
   },
   "source": [
    "Presentar un workflow/pipeline completo al que los estudiantes deberán\n",
    "<br>El Analista Jr corre sus scripts en la virtual manchine **desktop-jr** que tiene estas características\n",
    "\n",
    "\n",
    "*   Normal, paga tarifa completa, nunca es apagada por Google\n",
    "*   reside en el datacenter de Sao Paulo, Brasil\n",
    "*   64 GB de memoria RAM\n",
    "*   8 vCPU\n",
    "\n"
   ]
  },
  {
   "cell_type": "markdown",
   "id": "oSKhZRToy2F7",
   "metadata": {
    "id": "oSKhZRToy2F7"
   },
   "source": [
    "## 9.3  Workflow"
   ]
  },
  {
   "cell_type": "markdown",
   "id": "85171302-a2d6-48cb-b9b2-8d839a276859",
   "metadata": {
    "id": "85171302-a2d6-48cb-b9b2-8d839a276859"
   },
   "source": [
    "## Inicializacion"
   ]
  },
  {
   "cell_type": "markdown",
   "id": "eSU5vi00CPRS",
   "metadata": {
    "id": "eSU5vi00CPRS"
   },
   "source": [
    "Esta parte se debe correr con el runtime en lenguaje **R** Ir al menu, Runtime -> Change Runtime Type -> Runtime type -> R"
   ]
  },
  {
   "cell_type": "markdown",
   "id": "Zq8dySimCPRT",
   "metadata": {
    "id": "Zq8dySimCPRT"
   },
   "source": [
    "limpio el ambiente de R"
   ]
  },
  {
   "cell_type": "code",
   "execution_count": 1,
   "id": "EL8wdHaUs59K",
   "metadata": {
    "id": "EL8wdHaUs59K"
   },
   "outputs": [
    {
     "data": {
      "text/html": [
       "'Mon Sep 22 17:29:10 2025'"
      ],
      "text/latex": [
       "'Mon Sep 22 17:29:10 2025'"
      ],
      "text/markdown": [
       "'Mon Sep 22 17:29:10 2025'"
      ],
      "text/plain": [
       "[1] \"Mon Sep 22 17:29:10 2025\""
      ]
     },
     "metadata": {},
     "output_type": "display_data"
    }
   ],
   "source": [
    "format(Sys.time(), \"%a %b %d %X %Y\")"
   ]
  },
  {
   "cell_type": "code",
   "execution_count": 2,
   "id": "1iE0U4_WCPRT",
   "metadata": {
    "id": "1iE0U4_WCPRT"
   },
   "outputs": [
    {
     "data": {
      "text/html": [
       "<table class=\"dataframe\">\n",
       "<caption>A matrix: 2 × 6 of type dbl</caption>\n",
       "<thead>\n",
       "\t<tr><th></th><th scope=col>used</th><th scope=col>(Mb)</th><th scope=col>gc trigger</th><th scope=col>(Mb)</th><th scope=col>max used</th><th scope=col>(Mb)</th></tr>\n",
       "</thead>\n",
       "<tbody>\n",
       "\t<tr><th scope=row>Ncells</th><td> 656913</td><td>35.1</td><td>1439377</td><td>76.9</td><td>1439377</td><td>76.9</td></tr>\n",
       "\t<tr><th scope=row>Vcells</th><td>1224940</td><td> 9.4</td><td>8388608</td><td>64.0</td><td>1924955</td><td>14.7</td></tr>\n",
       "</tbody>\n",
       "</table>\n"
      ],
      "text/latex": [
       "A matrix: 2 × 6 of type dbl\n",
       "\\begin{tabular}{r|llllll}\n",
       "  & used & (Mb) & gc trigger & (Mb) & max used & (Mb)\\\\\n",
       "\\hline\n",
       "\tNcells &  656913 & 35.1 & 1439377 & 76.9 & 1439377 & 76.9\\\\\n",
       "\tVcells & 1224940 &  9.4 & 8388608 & 64.0 & 1924955 & 14.7\\\\\n",
       "\\end{tabular}\n"
      ],
      "text/markdown": [
       "\n",
       "A matrix: 2 × 6 of type dbl\n",
       "\n",
       "| <!--/--> | used | (Mb) | gc trigger | (Mb) | max used | (Mb) |\n",
       "|---|---|---|---|---|---|---|\n",
       "| Ncells |  656913 | 35.1 | 1439377 | 76.9 | 1439377 | 76.9 |\n",
       "| Vcells | 1224940 |  9.4 | 8388608 | 64.0 | 1924955 | 14.7 |\n",
       "\n"
      ],
      "text/plain": [
       "       used    (Mb) gc trigger (Mb) max used (Mb)\n",
       "Ncells  656913 35.1 1439377    76.9 1439377  76.9\n",
       "Vcells 1224940  9.4 8388608    64.0 1924955  14.7"
      ]
     },
     "metadata": {},
     "output_type": "display_data"
    }
   ],
   "source": [
    "# limpio la memoria\n",
    "rm(list=ls(all.names=TRUE)) # remove all objects\n",
    "gc(full=TRUE, verbose=FALSE) # garbage collection"
   ]
  },
  {
   "cell_type": "code",
   "execution_count": 3,
   "id": "atmIUEUNUrK5",
   "metadata": {
    "id": "atmIUEUNUrK5"
   },
   "outputs": [
    {
     "name": "stderr",
     "output_type": "stream",
     "text": [
      "Loading required package: data.table\n",
      "\n",
      "Loading required package: R.utils\n",
      "\n",
      "Loading required package: R.oo\n",
      "\n",
      "Loading required package: R.methodsS3\n",
      "\n",
      "R.methodsS3 v1.8.2 (2022-06-13 22:00:14 UTC) successfully loaded. See ?R.methodsS3 for help.\n",
      "\n",
      "R.oo v1.27.1 (2025-05-02 21:00:05 UTC) successfully loaded. See ?R.oo for help.\n",
      "\n",
      "\n",
      "Attaching package: ‘R.oo’\n",
      "\n",
      "\n",
      "The following object is masked from ‘package:R.methodsS3’:\n",
      "\n",
      "    throw\n",
      "\n",
      "\n",
      "The following objects are masked from ‘package:methods’:\n",
      "\n",
      "    getClasses, getMethods\n",
      "\n",
      "\n",
      "The following objects are masked from ‘package:base’:\n",
      "\n",
      "    attach, detach, load, save\n",
      "\n",
      "\n",
      "R.utils v2.13.0 (2025-02-24 21:20:02 UTC) successfully loaded. See ?R.utils for help.\n",
      "\n",
      "\n",
      "Attaching package: ‘R.utils’\n",
      "\n",
      "\n",
      "The following object is masked from ‘package:utils’:\n",
      "\n",
      "    timestamp\n",
      "\n",
      "\n",
      "The following objects are masked from ‘package:base’:\n",
      "\n",
      "    cat, commandArgs, getOption, isOpen, nullfile, parse, use, warnings\n",
      "\n",
      "\n"
     ]
    }
   ],
   "source": [
    "require(\"data.table\")\n",
    "\n",
    "if( !require(\"R.utils\")) install.packages(\"R.utils\")\n",
    "require(\"R.utils\")"
   ]
  },
  {
   "cell_type": "markdown",
   "id": "BsxZ_ONyj9L_",
   "metadata": {
    "id": "BsxZ_ONyj9L_"
   },
   "source": [
    "#### Parametros"
   ]
  },
  {
   "cell_type": "code",
   "execution_count": 4,
   "id": "peRH7ySLCPRV",
   "metadata": {
    "id": "peRH7ySLCPRV"
   },
   "outputs": [],
   "source": [
    "PARAM <- list()\n",
    "PARAM$semilla_primigenia <- 250007\n",
    "\n",
    "PARAM$experimento <- 3003\n",
    "PARAM$dataset <- \"analistajr_competencia_2025.csv.gz\""
   ]
  },
  {
   "cell_type": "markdown",
   "id": "NoJbKo_4NG8A",
   "metadata": {
    "id": "NoJbKo_4NG8A"
   },
   "source": [
    "#### Carpeta del Experimento"
   ]
  },
  {
   "cell_type": "code",
   "execution_count": 5,
   "id": "1gZD6ZMvCPRV",
   "metadata": {
    "id": "1gZD6ZMvCPRV"
   },
   "outputs": [],
   "source": [
    "# carpeta de trabajo\n",
    "\n",
    "setwd(\"/content/buckets/b1/exp\")\n",
    "experimento_folder <- paste0(\"WF\", PARAM$experimento)\n",
    "dir.create(experimento_folder, showWarnings=FALSE)\n",
    "setwd( paste0(\"/content/buckets/b1/exp/\", experimento_folder ))"
   ]
  },
  {
   "cell_type": "markdown",
   "id": "YVKBfLtkR8SO",
   "metadata": {
    "id": "YVKBfLtkR8SO"
   },
   "source": [
    "### 9.3.1   Preprocesamiento del dataset"
   ]
  },
  {
   "cell_type": "markdown",
   "id": "cr3K0RPVRjq6",
   "metadata": {
    "id": "cr3K0RPVRjq6"
   },
   "source": [
    "#### 9.3.1.1  DT incorporar dataset"
   ]
  },
  {
   "cell_type": "code",
   "execution_count": 6,
   "id": "Xi0emX2ECPRV",
   "metadata": {
    "id": "Xi0emX2ECPRV"
   },
   "outputs": [],
   "source": [
    "# lectura del dataset\n",
    "dataset <- fread(paste0(\"/content/datasets/\", PARAM$dataset))"
   ]
  },
  {
   "cell_type": "markdown",
   "id": "MWuPzK3nSLY3",
   "metadata": {
    "id": "MWuPzK3nSLY3"
   },
   "source": [
    "#### 9.3.1.2  CA  Catastrophe Analysis\n",
    "Se intentan reparar las variables que para un mes están con todos los valores en cero."
   ]
  },
  {
   "cell_type": "markdown",
   "id": "UAI16-yCVcBS",
   "metadata": {
    "id": "UAI16-yCVcBS"
   },
   "source": [
    "El método que se utiliza es **Machine Learning** se asigna NA also valores, si ha leido bien, es la \"anti imputación de valores faltantes\"\n",
    "<br> Usted podrá aplicar aquí otros métodos"
   ]
  },
  {
   "cell_type": "code",
   "execution_count": 7,
   "id": "JB9nRyNKNBzy",
   "metadata": {
    "id": "JB9nRyNKNBzy"
   },
   "outputs": [
    {
     "name": "stderr",
     "output_type": "stream",
     "text": [
      "Loading required package: mice\n",
      "\n",
      "\n",
      "Attaching package: ‘mice’\n",
      "\n",
      "\n",
      "The following object is masked from ‘package:stats’:\n",
      "\n",
      "    filter\n",
      "\n",
      "\n",
      "The following objects are masked from ‘package:base’:\n",
      "\n",
      "    cbind, rbind\n",
      "\n",
      "\n"
     ]
    }
   ],
   "source": [
    "if( !require(\"mice\")) install.packages(\"mice\", repos = \"http://cran.us.r-project.org\")\n",
    "require(\"mice\")"
   ]
  },
  {
   "cell_type": "code",
   "execution_count": 8,
   "id": "QuraTbvTMmpf",
   "metadata": {
    "id": "QuraTbvTMmpf"
   },
   "outputs": [],
   "source": [
    "# Escrito por alumnos de  Universidad Austral  Rosario\n",
    "\n",
    "Corregir_MICE <- function(pcampo, pmeses) {\n",
    "\n",
    "  meth <- rep(\"\", ncol(dataset))\n",
    "  names(meth) <- colnames(dataset)\n",
    "  meth[names(meth) == pcampo] <- \"sample\"\n",
    "\n",
    "  # llamada a mice  !\n",
    "  imputacion <- mice(dataset,\n",
    "    method = meth,\n",
    "    maxit = 5,\n",
    "    m = 1,\n",
    "    seed = 7)\n",
    "\n",
    "  tbl <- mice::complete(dataset)\n",
    "\n",
    "  dataset[, paste0(pcampo) := ifelse(foto_mes %in% pmeses, tbl[, get(pcampo)], get(pcampo))]\n",
    "\n",
    "}\n"
   ]
  },
  {
   "cell_type": "code",
   "execution_count": 9,
   "id": "mUDX04VTJz3M",
   "metadata": {
    "id": "mUDX04VTJz3M"
   },
   "outputs": [],
   "source": [
    "Corregir_interpolar <- function(pcampo, pmeses) {\n",
    "\n",
    "  tbl <- dataset[, list(\n",
    "    \"v1\" = shift(get(pcampo), 1, type = \"lag\"),\n",
    "    \"v2\" = shift(get(pcampo), 1, type = \"lead\")\n",
    "  ),\n",
    "  by = eval(envg$PARAM$dataset_metadata$entity_id)\n",
    "  ]\n",
    "\n",
    "  tbl[, paste0(envg$PARAM$dataset_metadata$entity_id) := NULL]\n",
    "  tbl[, promedio := rowMeans(tbl, na.rm = TRUE)]\n",
    "\n",
    "  dataset[\n",
    "    ,\n",
    "    paste0(pcampo) := ifelse(!(foto_mes %in% pmeses),\n",
    "      get(pcampo),\n",
    "      tbl$promedio\n",
    "    )\n",
    "  ]\n",
    "}"
   ]
  },
  {
   "cell_type": "code",
   "execution_count": 10,
   "id": "Yyt2YmrbJ1zf",
   "metadata": {
    "id": "Yyt2YmrbJ1zf"
   },
   "outputs": [],
   "source": [
    "AsignarNA_campomeses <- function(pcampo, pmeses) {\n",
    "\n",
    "  if( pcampo %in% colnames( dataset ) ) {\n",
    "\n",
    "    dataset[ foto_mes %in% pmeses, paste0(pcampo) := NA ]\n",
    "  }\n",
    "}"
   ]
  },
  {
   "cell_type": "code",
   "execution_count": 11,
   "id": "aFBlFw7hJ4EW",
   "metadata": {
    "id": "aFBlFw7hJ4EW"
   },
   "outputs": [],
   "source": [
    "\n",
    "Corregir_atributo <- function(pcampo, pmeses, pmetodo)\n",
    "{\n",
    "  # si el campo no existe en el dataset, Afuera !\n",
    "  if( !(pcampo %in% colnames( dataset )) )\n",
    "    return( 1 )\n",
    "\n",
    "  # llamo a la funcion especializada que corresponde\n",
    "  switch( pmetodo,\n",
    "    \"MachineLearning\"     = AsignarNA_campomeses(pcampo, pmeses),\n",
    "    \"EstadisticaClasica\"  = Corregir_interpolar(pcampo, pmeses),\n",
    "    \"MICE\"                = Corregir_MICE(pcampo, pmeses),\n",
    "  )\n",
    "\n",
    "  return( 0 )\n",
    "}"
   ]
  },
  {
   "cell_type": "code",
   "execution_count": 12,
   "id": "krkr3JCxJ9Px",
   "metadata": {
    "id": "krkr3JCxJ9Px"
   },
   "outputs": [],
   "source": [
    "\n",
    "Corregir_Rotas <- function(dataset, pmetodo) {\n",
    "  gc(verbose= FALSE)\n",
    "  cat( \"inicio Corregir_Rotas()\\n\")\n",
    "  # acomodo los errores del dataset\n",
    "\n",
    "  Corregir_atributo(\"active_quarter\", c(202006), pmetodo) # 1\n",
    "  Corregir_atributo(\"internet\", c(202006), pmetodo) # 2\n",
    "\n",
    "  Corregir_atributo(\"mrentabilidad\", c(201905, 201910, 202006), pmetodo) # 3\n",
    "  Corregir_atributo(\"mrentabilidad_annual\", c(201905, 201910, 202006), pmetodo) # 4\n",
    "\n",
    "  Corregir_atributo(\"mcomisiones\", c(201905, 201910, 202006), pmetodo) # 5\n",
    "\n",
    "  Corregir_atributo(\"mactivos_margen\", c(201905, 201910, 202006), pmetodo) # 6\n",
    "  Corregir_atributo(\"mpasivos_margen\", c(201905, 201910, 202006), pmetodo) # 7\n",
    "\n",
    "  Corregir_atributo(\"mcuentas_saldo\", c(202006), pmetodo) # 8\n",
    "\n",
    "  Corregir_atributo(\"ctarjeta_debito_transacciones\", c(202006), pmetodo) # 9\n",
    "\n",
    "  Corregir_atributo(\"mautoservicio\", c(202006), pmetodo) # 10\n",
    "\n",
    "  Corregir_atributo(\"ctarjeta_visa_transacciones\", c(202006), pmetodo) # 11\n",
    "  Corregir_atributo(\"mtarjeta_visa_consumo\", c(202006), pmetodo) # 12\n",
    "\n",
    "  Corregir_atributo(\"ctarjeta_master_transacciones\", c(202006), pmetodo) # 13\n",
    "  Corregir_atributo(\"mtarjeta_master_consumo\", c(202006), pmetodo) # 14\n",
    "\n",
    "  Corregir_atributo(\"ctarjeta_visa_debitos_automaticos\", c(201904), pmetodo) # 15\n",
    "  Corregir_atributo(\"mttarjeta_visa_debitos_automaticos\", c(201904), pmetodo) # 16\n",
    "\n",
    "  Corregir_atributo(\"ccajeros_propios_descuentos\",\n",
    "    c(201910, 202002, 202006, 202009, 202010, 202102), pmetodo) # 17\n",
    "\n",
    "  Corregir_atributo(\"mcajeros_propios_descuentos\",\n",
    "    c(201910, 202002, 202006, 202009, 202010, 202102), pmetodo) # 18\n",
    "\n",
    "  Corregir_atributo(\"ctarjeta_visa_descuentos\",\n",
    "    c(201910, 202002, 202006, 202009, 202010, 202102), pmetodo) # 19\n",
    "\n",
    "  Corregir_atributo(\"mtarjeta_visa_descuentos\",\n",
    "    c(201910, 202002, 202006, 202009, 202010, 202102), pmetodo) # 20\n",
    "\n",
    "  Corregir_atributo(\"ctarjeta_master_descuentos\",\n",
    "    c(201910, 202002, 202006, 202009, 202010, 202102), pmetodo) # 21\n",
    "\n",
    "  Corregir_atributo(\"mtarjeta_master_descuentos\",\n",
    "    c(201910, 202002, 202006, 202009, 202010, 202102), pmetodo) # 22\n",
    "\n",
    "  Corregir_atributo(\"ccomisiones_otras\", c(201905, 201910, 202006), pmetodo) # 23\n",
    "  Corregir_atributo(\"mcomisiones_otras\", c(201905, 201910, 202006), pmetodo) # 24\n",
    "\n",
    "  Corregir_atributo(\"cextraccion_autoservicio\", c(202006), pmetodo) # 25\n",
    "  Corregir_atributo(\"mextraccion_autoservicio\", c(202006), pmetodo) # 26\n",
    "\n",
    "  Corregir_atributo(\"ccheques_depositados\", c(202006), pmetodo) # 27\n",
    "  Corregir_atributo(\"mcheques_depositados\", c(202006), pmetodo) # 28\n",
    "  Corregir_atributo(\"ccheques_emitidos\", c(202006), pmetodo) # 29\n",
    "  Corregir_atributo(\"mcheques_emitidos\", c(202006), pmetodo) # 30\n",
    "  Corregir_atributo(\"ccheques_depositados_rechazados\", c(202006), pmetodo) # 31\n",
    "  Corregir_atributo(\"mcheques_depositados_rechazados\", c(202006), pmetodo) # 32\n",
    "  Corregir_atributo(\"ccheques_emitidos_rechazados\", c(202006), pmetodo) # 33\n",
    "  Corregir_atributo(\"mcheques_emitidos_rechazados\", c(202006), pmetodo) # 34\n",
    "\n",
    "  Corregir_atributo(\"tcallcenter\", c(202006), pmetodo) # 35\n",
    "  Corregir_atributo(\"ccallcenter_transacciones\", c(202006), pmetodo) # 36\n",
    "\n",
    "  Corregir_atributo(\"thomebanking\", c(202006), pmetodo) # 37\n",
    "  Corregir_atributo(\"chomebanking_transacciones\", c(201910, 202006), pmetodo) # 38\n",
    "\n",
    "  Corregir_atributo(\"ccajas_transacciones\", c(202006), pmetodo) # 39\n",
    "  Corregir_atributo(\"ccajas_consultas\", c(202006), pmetodo) # 40\n",
    "\n",
    "  Corregir_atributo(\"ccajas_depositos\", c(202006, 202105), pmetodo) # 41\n",
    "\n",
    "  Corregir_atributo(\"ccajas_extracciones\", c(202006), pmetodo) # 41\n",
    "  Corregir_atributo(\"ccajas_otras\", c(202006), pmetodo) # 43\n",
    "\n",
    "  Corregir_atributo(\"catm_trx\", c(202006), pmetodo) # 44\n",
    "  Corregir_atributo(\"matm\", c(202006), pmetodo) # 45\n",
    "  Corregir_atributo(\"catm_trx_other\", c(202006), pmetodo) # 46\n",
    "  Corregir_atributo(\"matm_other\", c(202006), pmetodo) # 47\n",
    "\n",
    "  cat( \"fin Corregir_rotas()\\n\")\n",
    "}\n"
   ]
  },
  {
   "cell_type": "code",
   "execution_count": 13,
   "id": "HaW4TeBIMxTn",
   "metadata": {
    "id": "HaW4TeBIMxTn"
   },
   "outputs": [
    {
     "name": "stdout",
     "output_type": "stream",
     "text": [
      "inicio Corregir_Rotas()\n",
      "fin Corregir_rotas()\n"
     ]
    }
   ],
   "source": [
    "# resuelvo el Catastrophe Analysis\n",
    "\n",
    "setorder( dataset, numero_de_cliente, foto_mes )\n",
    "\n",
    "PARAM$CA$metodo= \"MachineLearning\"\n",
    "\n",
    "if( PARAM$CA$metodo %in% c(\"MachineLearning\", \"EstadisticaClasica\", \"MICE\") )\n",
    "  Corregir_Rotas(dataset, PARAM$CA$metodo)"
   ]
  },
  {
   "cell_type": "markdown",
   "id": "-4NiANYFSYHG",
   "metadata": {
    "id": "-4NiANYFSYHG"
   },
   "source": [
    "#### 9.3.1.3  DR  Data Drifting\n",
    "Se intenta corregir el data drifting, ajustando por algunos indices financieros"
   ]
  },
  {
   "cell_type": "code",
   "execution_count": 14,
   "id": "a7bec5d4-a666-44fe-baee-97bbca4a6861",
   "metadata": {
    "id": "XXPLxqc1ShLN"
   },
   "outputs": [],
   "source": [
    "# meses que me interesan para el ajuste de variables monetarias\n",
    "vfoto_mes <- c(\n",
    "  201901, 201902, 201903, 201904, 201905, 201906,\n",
    "  201907, 201908, 201909, 201910, 201911, 201912,\n",
    "  202001, 202002, 202003, 202004, 202005, 202006,\n",
    "  202007, 202008, 202009, 202010, 202011, 202012,\n",
    "  202101, 202102, 202103, 202104, 202105, 202106,\n",
    "  202107, 202108, 202109\n",
    ")\n"
   ]
  },
  {
   "cell_type": "code",
   "execution_count": 15,
   "id": "f4c99f76-e76c-4acf-8253-29dd23151ea8",
   "metadata": {
    "id": "sjjUe3waSh8D"
   },
   "outputs": [],
   "source": [
    "# los valores que siguen fueron calculados por alumnos\n",
    "\n",
    "# momento 1.0  Sep-2021\n",
    "vIPC <- c(2.787281901122360, 2.686132306921320, 2.566052833332770,\n",
    "  2.480603534259520, 2.406972565811860, 2.343282033546600,\n",
    "  2.292887450432550, 2.205675360182500, 2.083072734166780,\n",
    "  2.016654576841490, 1.934356651408890, 1.864553234816590,\n",
    "  1.823472319453580, 1.787479114947270, 1.729648848066530,\n",
    "  1.704145079892160, 1.678254046331520, 1.641427967120310,\n",
    "  1.610281979296860, 1.567945714631560, 1.524712170969590,\n",
    "  1.469446722849830, 1.424438664000510, 1.369579245086460,\n",
    "  1.316282576323060, 1.270854218792650, 1.212522114036500,\n",
    "  1.164987215923810, 1.127519974398630, 1.092827636775390,\n",
    "  1.061028266084610, 1.035467879533110, 1.000000000000000)\n",
    "\n",
    "vdolar_blue <- c(\n",
    "   39.045455,  38.402500,  41.639474,\n",
    "   44.274737,  46.095455,  45.063333,\n",
    "   43.983333,  54.842857,  61.059524,\n",
    "   65.545455,  66.750000,  72.368421,\n",
    "   77.477273,  78.191667,  82.434211,\n",
    "  101.087500, 126.236842, 125.857143,\n",
    "  130.782609, 133.400000, 137.954545,\n",
    "  170.619048, 160.400000, 153.052632,\n",
    "  157.900000, 149.380952, 143.615385,\n",
    "  146.250000, 153.550000, 162.000000,\n",
    "  178.478261, 180.878788, 184.357143\n",
    ")\n",
    "\n",
    "vNucleo <- c(2.9509401776, 2.8413904076, 2.7169681247,\n",
    "  2.6183338075, 2.5376976850, 2.4702213038,\n",
    "  2.4182843036, 2.3110987598, 2.1713146424,\n",
    "  2.0917312214, 2.0117031138, 1.9402570077,\n",
    "  1.8940250995, 1.8499633664, 1.7939805354,\n",
    "  1.7637193990, 1.7358472741, 1.6965692402,\n",
    "  1.6546523624, 1.6059398018, 1.5695744147,\n",
    "  1.5170891738, 1.4596143906, 1.3918188786,\n",
    "  1.3393707547, 1.2869937330, 1.2312659603,\n",
    "  1.1775806320, 1.1379817057, 1.0983355780,\n",
    "  1.0649648892, 1.0326212556, 1.0000000000)\n"
   ]
  },
  {
   "cell_type": "code",
   "execution_count": 16,
   "id": "1e7a024c-3944-4351-a277-b014ac691c55",
   "metadata": {
    "id": "RSF9i9nyWwKs"
   },
   "outputs": [
    {
     "data": {
      "text/html": [
       "<table class=\"dataframe\">\n",
       "<caption>A data.table: 33 × 4</caption>\n",
       "<thead>\n",
       "\t<tr><th scope=col>IPC</th><th scope=col>dolar_blue</th><th scope=col>Nucleo</th><th scope=col>foto_mes</th></tr>\n",
       "\t<tr><th scope=col>&lt;dbl&gt;</th><th scope=col>&lt;dbl&gt;</th><th scope=col>&lt;dbl&gt;</th><th scope=col>&lt;dbl&gt;</th></tr>\n",
       "</thead>\n",
       "<tbody>\n",
       "\t<tr><td>2.787282</td><td> 39.04545</td><td>2.950940</td><td>201901</td></tr>\n",
       "\t<tr><td>2.686132</td><td> 38.40250</td><td>2.841390</td><td>201902</td></tr>\n",
       "\t<tr><td>2.566053</td><td> 41.63947</td><td>2.716968</td><td>201903</td></tr>\n",
       "\t<tr><td>2.480604</td><td> 44.27474</td><td>2.618334</td><td>201904</td></tr>\n",
       "\t<tr><td>2.406973</td><td> 46.09546</td><td>2.537698</td><td>201905</td></tr>\n",
       "\t<tr><td>2.343282</td><td> 45.06333</td><td>2.470221</td><td>201906</td></tr>\n",
       "\t<tr><td>2.292887</td><td> 43.98333</td><td>2.418284</td><td>201907</td></tr>\n",
       "\t<tr><td>2.205675</td><td> 54.84286</td><td>2.311099</td><td>201908</td></tr>\n",
       "\t<tr><td>2.083073</td><td> 61.05952</td><td>2.171315</td><td>201909</td></tr>\n",
       "\t<tr><td>2.016655</td><td> 65.54546</td><td>2.091731</td><td>201910</td></tr>\n",
       "\t<tr><td>1.934357</td><td> 66.75000</td><td>2.011703</td><td>201911</td></tr>\n",
       "\t<tr><td>1.864553</td><td> 72.36842</td><td>1.940257</td><td>201912</td></tr>\n",
       "\t<tr><td>1.823472</td><td> 77.47727</td><td>1.894025</td><td>202001</td></tr>\n",
       "\t<tr><td>1.787479</td><td> 78.19167</td><td>1.849963</td><td>202002</td></tr>\n",
       "\t<tr><td>1.729649</td><td> 82.43421</td><td>1.793981</td><td>202003</td></tr>\n",
       "\t<tr><td>1.704145</td><td>101.08750</td><td>1.763719</td><td>202004</td></tr>\n",
       "\t<tr><td>1.678254</td><td>126.23684</td><td>1.735847</td><td>202005</td></tr>\n",
       "\t<tr><td>1.641428</td><td>125.85714</td><td>1.696569</td><td>202006</td></tr>\n",
       "\t<tr><td>1.610282</td><td>130.78261</td><td>1.654652</td><td>202007</td></tr>\n",
       "\t<tr><td>1.567946</td><td>133.40000</td><td>1.605940</td><td>202008</td></tr>\n",
       "\t<tr><td>1.524712</td><td>137.95454</td><td>1.569574</td><td>202009</td></tr>\n",
       "\t<tr><td>1.469447</td><td>170.61905</td><td>1.517089</td><td>202010</td></tr>\n",
       "\t<tr><td>1.424439</td><td>160.40000</td><td>1.459614</td><td>202011</td></tr>\n",
       "\t<tr><td>1.369579</td><td>153.05263</td><td>1.391819</td><td>202012</td></tr>\n",
       "\t<tr><td>1.316283</td><td>157.90000</td><td>1.339371</td><td>202101</td></tr>\n",
       "\t<tr><td>1.270854</td><td>149.38095</td><td>1.286994</td><td>202102</td></tr>\n",
       "\t<tr><td>1.212522</td><td>143.61539</td><td>1.231266</td><td>202103</td></tr>\n",
       "\t<tr><td>1.164987</td><td>146.25000</td><td>1.177581</td><td>202104</td></tr>\n",
       "\t<tr><td>1.127520</td><td>153.55000</td><td>1.137982</td><td>202105</td></tr>\n",
       "\t<tr><td>1.092828</td><td>162.00000</td><td>1.098336</td><td>202106</td></tr>\n",
       "\t<tr><td>1.061028</td><td>178.47826</td><td>1.064965</td><td>202107</td></tr>\n",
       "\t<tr><td>1.035468</td><td>180.87879</td><td>1.032621</td><td>202108</td></tr>\n",
       "\t<tr><td>1.000000</td><td>184.35714</td><td>1.000000</td><td>202109</td></tr>\n",
       "</tbody>\n",
       "</table>\n"
      ],
      "text/latex": [
       "A data.table: 33 × 4\n",
       "\\begin{tabular}{llll}\n",
       " IPC & dolar\\_blue & Nucleo & foto\\_mes\\\\\n",
       " <dbl> & <dbl> & <dbl> & <dbl>\\\\\n",
       "\\hline\n",
       "\t 2.787282 &  39.04545 & 2.950940 & 201901\\\\\n",
       "\t 2.686132 &  38.40250 & 2.841390 & 201902\\\\\n",
       "\t 2.566053 &  41.63947 & 2.716968 & 201903\\\\\n",
       "\t 2.480604 &  44.27474 & 2.618334 & 201904\\\\\n",
       "\t 2.406973 &  46.09546 & 2.537698 & 201905\\\\\n",
       "\t 2.343282 &  45.06333 & 2.470221 & 201906\\\\\n",
       "\t 2.292887 &  43.98333 & 2.418284 & 201907\\\\\n",
       "\t 2.205675 &  54.84286 & 2.311099 & 201908\\\\\n",
       "\t 2.083073 &  61.05952 & 2.171315 & 201909\\\\\n",
       "\t 2.016655 &  65.54546 & 2.091731 & 201910\\\\\n",
       "\t 1.934357 &  66.75000 & 2.011703 & 201911\\\\\n",
       "\t 1.864553 &  72.36842 & 1.940257 & 201912\\\\\n",
       "\t 1.823472 &  77.47727 & 1.894025 & 202001\\\\\n",
       "\t 1.787479 &  78.19167 & 1.849963 & 202002\\\\\n",
       "\t 1.729649 &  82.43421 & 1.793981 & 202003\\\\\n",
       "\t 1.704145 & 101.08750 & 1.763719 & 202004\\\\\n",
       "\t 1.678254 & 126.23684 & 1.735847 & 202005\\\\\n",
       "\t 1.641428 & 125.85714 & 1.696569 & 202006\\\\\n",
       "\t 1.610282 & 130.78261 & 1.654652 & 202007\\\\\n",
       "\t 1.567946 & 133.40000 & 1.605940 & 202008\\\\\n",
       "\t 1.524712 & 137.95454 & 1.569574 & 202009\\\\\n",
       "\t 1.469447 & 170.61905 & 1.517089 & 202010\\\\\n",
       "\t 1.424439 & 160.40000 & 1.459614 & 202011\\\\\n",
       "\t 1.369579 & 153.05263 & 1.391819 & 202012\\\\\n",
       "\t 1.316283 & 157.90000 & 1.339371 & 202101\\\\\n",
       "\t 1.270854 & 149.38095 & 1.286994 & 202102\\\\\n",
       "\t 1.212522 & 143.61539 & 1.231266 & 202103\\\\\n",
       "\t 1.164987 & 146.25000 & 1.177581 & 202104\\\\\n",
       "\t 1.127520 & 153.55000 & 1.137982 & 202105\\\\\n",
       "\t 1.092828 & 162.00000 & 1.098336 & 202106\\\\\n",
       "\t 1.061028 & 178.47826 & 1.064965 & 202107\\\\\n",
       "\t 1.035468 & 180.87879 & 1.032621 & 202108\\\\\n",
       "\t 1.000000 & 184.35714 & 1.000000 & 202109\\\\\n",
       "\\end{tabular}\n"
      ],
      "text/markdown": [
       "\n",
       "A data.table: 33 × 4\n",
       "\n",
       "| IPC &lt;dbl&gt; | dolar_blue &lt;dbl&gt; | Nucleo &lt;dbl&gt; | foto_mes &lt;dbl&gt; |\n",
       "|---|---|---|---|\n",
       "| 2.787282 |  39.04545 | 2.950940 | 201901 |\n",
       "| 2.686132 |  38.40250 | 2.841390 | 201902 |\n",
       "| 2.566053 |  41.63947 | 2.716968 | 201903 |\n",
       "| 2.480604 |  44.27474 | 2.618334 | 201904 |\n",
       "| 2.406973 |  46.09546 | 2.537698 | 201905 |\n",
       "| 2.343282 |  45.06333 | 2.470221 | 201906 |\n",
       "| 2.292887 |  43.98333 | 2.418284 | 201907 |\n",
       "| 2.205675 |  54.84286 | 2.311099 | 201908 |\n",
       "| 2.083073 |  61.05952 | 2.171315 | 201909 |\n",
       "| 2.016655 |  65.54546 | 2.091731 | 201910 |\n",
       "| 1.934357 |  66.75000 | 2.011703 | 201911 |\n",
       "| 1.864553 |  72.36842 | 1.940257 | 201912 |\n",
       "| 1.823472 |  77.47727 | 1.894025 | 202001 |\n",
       "| 1.787479 |  78.19167 | 1.849963 | 202002 |\n",
       "| 1.729649 |  82.43421 | 1.793981 | 202003 |\n",
       "| 1.704145 | 101.08750 | 1.763719 | 202004 |\n",
       "| 1.678254 | 126.23684 | 1.735847 | 202005 |\n",
       "| 1.641428 | 125.85714 | 1.696569 | 202006 |\n",
       "| 1.610282 | 130.78261 | 1.654652 | 202007 |\n",
       "| 1.567946 | 133.40000 | 1.605940 | 202008 |\n",
       "| 1.524712 | 137.95454 | 1.569574 | 202009 |\n",
       "| 1.469447 | 170.61905 | 1.517089 | 202010 |\n",
       "| 1.424439 | 160.40000 | 1.459614 | 202011 |\n",
       "| 1.369579 | 153.05263 | 1.391819 | 202012 |\n",
       "| 1.316283 | 157.90000 | 1.339371 | 202101 |\n",
       "| 1.270854 | 149.38095 | 1.286994 | 202102 |\n",
       "| 1.212522 | 143.61539 | 1.231266 | 202103 |\n",
       "| 1.164987 | 146.25000 | 1.177581 | 202104 |\n",
       "| 1.127520 | 153.55000 | 1.137982 | 202105 |\n",
       "| 1.092828 | 162.00000 | 1.098336 | 202106 |\n",
       "| 1.061028 | 178.47826 | 1.064965 | 202107 |\n",
       "| 1.035468 | 180.87879 | 1.032621 | 202108 |\n",
       "| 1.000000 | 184.35714 | 1.000000 | 202109 |\n",
       "\n"
      ],
      "text/plain": [
       "   IPC      dolar_blue Nucleo   foto_mes\n",
       "1  2.787282  39.04545  2.950940 201901  \n",
       "2  2.686132  38.40250  2.841390 201902  \n",
       "3  2.566053  41.63947  2.716968 201903  \n",
       "4  2.480604  44.27474  2.618334 201904  \n",
       "5  2.406973  46.09546  2.537698 201905  \n",
       "6  2.343282  45.06333  2.470221 201906  \n",
       "7  2.292887  43.98333  2.418284 201907  \n",
       "8  2.205675  54.84286  2.311099 201908  \n",
       "9  2.083073  61.05952  2.171315 201909  \n",
       "10 2.016655  65.54546  2.091731 201910  \n",
       "11 1.934357  66.75000  2.011703 201911  \n",
       "12 1.864553  72.36842  1.940257 201912  \n",
       "13 1.823472  77.47727  1.894025 202001  \n",
       "14 1.787479  78.19167  1.849963 202002  \n",
       "15 1.729649  82.43421  1.793981 202003  \n",
       "16 1.704145 101.08750  1.763719 202004  \n",
       "17 1.678254 126.23684  1.735847 202005  \n",
       "18 1.641428 125.85714  1.696569 202006  \n",
       "19 1.610282 130.78261  1.654652 202007  \n",
       "20 1.567946 133.40000  1.605940 202008  \n",
       "21 1.524712 137.95454  1.569574 202009  \n",
       "22 1.469447 170.61905  1.517089 202010  \n",
       "23 1.424439 160.40000  1.459614 202011  \n",
       "24 1.369579 153.05263  1.391819 202012  \n",
       "25 1.316283 157.90000  1.339371 202101  \n",
       "26 1.270854 149.38095  1.286994 202102  \n",
       "27 1.212522 143.61539  1.231266 202103  \n",
       "28 1.164987 146.25000  1.177581 202104  \n",
       "29 1.127520 153.55000  1.137982 202105  \n",
       "30 1.092828 162.00000  1.098336 202106  \n",
       "31 1.061028 178.47826  1.064965 202107  \n",
       "32 1.035468 180.87879  1.032621 202108  \n",
       "33 1.000000 184.35714  1.000000 202109  "
      ]
     },
     "metadata": {},
     "output_type": "display_data"
    }
   ],
   "source": [
    "tb_indices <- as.data.table( list(\n",
    "  \"IPC\" = vIPC,\n",
    "  \"dolar_blue\" = vdolar_blue,\n",
    "  \"Nucleo\" = vNucleo\n",
    "  )\n",
    ")\n",
    "\n",
    "tb_indices[[ 'foto_mes' ]] <- vfoto_mes\n",
    "\n",
    "tb_indices"
   ]
  },
  {
   "cell_type": "code",
   "execution_count": 17,
   "id": "e4fefb3e-6def-4d51-9bc3-8cf1f8f211dc",
   "metadata": {
    "id": "oq2zlvpkSmAU"
   },
   "outputs": [],
   "source": [
    "drift_Nucleo <- function(campos_monetarios) {\n",
    "  cat( \"inicio drift_Nucleo()\\n\")\n",
    "\n",
    "  dataset[tb_indices,\n",
    "    on = c(\"foto_mes\"),\n",
    "    (campos_monetarios) := .SD * i.Nucleo,\n",
    "    .SDcols = campos_monetarios\n",
    "  ]\n",
    "\n",
    "  cat( \"fin drift_Nucleo()\\n\")\n",
    "}\n"
   ]
  },
  {
   "cell_type": "code",
   "execution_count": 18,
   "id": "b1ade6df-8193-4eed-925c-daa482b64c74",
   "metadata": {
    "id": "DMTgpq9VSqqM"
   },
   "outputs": [],
   "source": [
    "drift_dolar_blue <- function(campos_monetarios) {\n",
    "  cat( \"inicio drift_dolar_blue()\\n\")\n",
    "\n",
    "  dataset[tb_indices,\n",
    "    on = c(\"foto_mes\"),\n",
    "    (campos_monetarios) := .SD / i.dolar_blue,\n",
    "    .SDcols = campos_monetarios\n",
    "  ]\n",
    "\n",
    "  cat( \"fin drift_dolar_blue()\\n\")\n",
    "}\n"
   ]
  },
  {
   "cell_type": "code",
   "execution_count": 19,
   "id": "b39bafbe-82f3-4f7a-8146-3e56a39fe3f0",
   "metadata": {
    "id": "7n171_BoStAj"
   },
   "outputs": [],
   "source": [
    "drift_IPC <- function(campos_monetarios) {\n",
    "  cat( \"inicio drift_IPC()\\n\")\n",
    "\n",
    "  dataset[tb_indices,\n",
    "    on = c(\"foto_mes\"),\n",
    "    (campos_monetarios) := .SD * i.IPC,\n",
    "    .SDcols = campos_monetarios\n",
    "  ]\n",
    "\n",
    "  cat( \"fin drift_IPC()\\n\")\n",
    "}\n"
   ]
  },
  {
   "cell_type": "code",
   "execution_count": 20,
   "id": "3240c23e-3e2e-42bd-a794-1952a0033807",
   "metadata": {
    "id": "Z94UizNySv0m"
   },
   "outputs": [],
   "source": [
    "drift_rank_simple <- function(campos_drift) {\n",
    "\n",
    "  cat( \"inicio drift_rank_simple()\\n\")\n",
    "  for (campo in campos_drift)\n",
    "  {\n",
    "    cat(campo, \" \")\n",
    "    dataset[, paste0(campo, \"_rank\") :=\n",
    "      (frank(get(campo), ties.method = \"random\") - 1) / (.N - 1), by = list(foto_mes)]\n",
    "    dataset[, (campo) := NULL]\n",
    "  }\n",
    "  cat( \"fin drift_rank_simple()\\n\")\n",
    "}\n"
   ]
  },
  {
   "cell_type": "code",
   "execution_count": 21,
   "id": "c4981872-f141-4d7f-86b5-fb1c93990b74",
   "metadata": {
    "id": "GnbUIXeWSyQm"
   },
   "outputs": [],
   "source": [
    "# El cero se transforma en cero\n",
    "# los positivos se rankean por su lado\n",
    "# los negativos se rankean por su lado\n",
    "\n",
    "drift_rank_cero_fijo <- function(campos_drift) {\n",
    "\n",
    "  cat( \"inicio drift_rank_cero_fijo()\\n\")\n",
    "  for (campo in campos_drift)\n",
    "  {\n",
    "    cat(campo, \" \")\n",
    "    dataset[get(campo) == 0, paste0(campo, \"_rank\") := 0]\n",
    "    dataset[get(campo) > 0, paste0(campo, \"_rank\") :=\n",
    "      frank(get(campo), ties.method = \"random\") / .N, by = list(foto_mes)]\n",
    "\n",
    "    dataset[get(campo) < 0, paste0(campo, \"_rank\") :=\n",
    "      -frank(-get(campo), ties.method = \"random\") / .N, by = list(foto_mes)]\n",
    "    dataset[, (campo) := NULL]\n",
    "  }\n",
    "  cat(\"\\n\")\n",
    "  cat( \"fin drift_rank_cero_fijo()\\n\")\n",
    "}\n"
   ]
  },
  {
   "cell_type": "code",
   "execution_count": 22,
   "id": "63f1f56a-a84c-41a6-9b59-6ebf0f00ecdd",
   "metadata": {
    "id": "dhlyk-WxS040"
   },
   "outputs": [],
   "source": [
    "drift_estandarizar <- function(campos_drift) {\n",
    "  cat(\"inicio drift_estandarizar()\\n\")\n",
    "  for (campo in campos_drift) {\n",
    "    cat(campo, \" \")\n",
    "    \n",
    "    # Check if column exists\n",
    "    if (!campo %in% names(dataset)) {\n",
    "      warning(paste(\"Column\", campo, \"not found in dataset\"))\n",
    "      next\n",
    "    }\n",
    "    \n",
    "    # Standardize by foto_mes groups\n",
    "    dataset[, paste0(campo, \"_normal\") := {\n",
    "      valores <- get(campo)\n",
    "      media <- mean(valores, na.rm = TRUE)\n",
    "      desv <- sd(valores, na.rm = TRUE)\n",
    "      \n",
    "      # Handle cases where sd = 0 (constant values)\n",
    "      # HAY QUE ELEGIR ENTRE =O o = NA !!\n",
    "      if (is.na(desv) || desv == 0) {\n",
    "        rep(0, length(valores))  # or rep(NA, length(valores))\n",
    "      } else {\n",
    "        (valores - media) / desv\n",
    "      }\n",
    "    }, by = foto_mes]\n",
    "    \n",
    "    # Remove original column\n",
    "    dataset[, (campo) := NULL]\n",
    "  }\n",
    "  cat(\"fin drift_estandarizar()\\n\")\n",
    "}"
   ]
  },
  {
   "cell_type": "code",
   "execution_count": 23,
   "id": "8e1fff4d-67cb-4dfb-9e79-3e12ebfe3c05",
   "metadata": {
    "id": "tlJjlN6PVanz"
   },
   "outputs": [
    {
     "data": {
      "text/html": [
       "<style>\n",
       ".list-inline {list-style: none; margin:0; padding: 0}\n",
       ".list-inline>li {display: inline-block}\n",
       ".list-inline>li:not(:last-child)::after {content: \"\\00b7\"; padding: 0 .5ex}\n",
       "</style>\n",
       "<ol class=list-inline><li>'mrentabilidad'</li><li>'mrentabilidad_annual'</li><li>'mcomisiones'</li><li>'mactivos_margen'</li><li>'mpasivos_margen'</li><li>'mcuenta_corriente'</li><li>'mcaja_ahorro'</li><li>'mcuentas_saldo'</li><li>'mtarjeta_visa_consumo'</li><li>'mtarjeta_master_consumo'</li><li>'mprestamos_personales'</li><li>'mpayroll'</li><li>'mttarjeta_visa_debitos_automaticos'</li><li>'mcomisiones_mantenimiento'</li><li>'mtransferencias_recibidas'</li><li>'Master_mfinanciacion_limite'</li><li>'Master_msaldototal'</li><li>'Master_mlimitecompra'</li><li>'Master_mconsumototal'</li><li>'Master_mpagominimo'</li><li>'Visa_mfinanciacion_limite'</li><li>'Visa_msaldototal'</li><li>'Visa_mlimitecompra'</li><li>'Visa_mconsumototal'</li><li>'Visa_mpagominimo'</li></ol>\n"
      ],
      "text/latex": [
       "\\begin{enumerate*}\n",
       "\\item 'mrentabilidad'\n",
       "\\item 'mrentabilidad\\_annual'\n",
       "\\item 'mcomisiones'\n",
       "\\item 'mactivos\\_margen'\n",
       "\\item 'mpasivos\\_margen'\n",
       "\\item 'mcuenta\\_corriente'\n",
       "\\item 'mcaja\\_ahorro'\n",
       "\\item 'mcuentas\\_saldo'\n",
       "\\item 'mtarjeta\\_visa\\_consumo'\n",
       "\\item 'mtarjeta\\_master\\_consumo'\n",
       "\\item 'mprestamos\\_personales'\n",
       "\\item 'mpayroll'\n",
       "\\item 'mttarjeta\\_visa\\_debitos\\_automaticos'\n",
       "\\item 'mcomisiones\\_mantenimiento'\n",
       "\\item 'mtransferencias\\_recibidas'\n",
       "\\item 'Master\\_mfinanciacion\\_limite'\n",
       "\\item 'Master\\_msaldototal'\n",
       "\\item 'Master\\_mlimitecompra'\n",
       "\\item 'Master\\_mconsumototal'\n",
       "\\item 'Master\\_mpagominimo'\n",
       "\\item 'Visa\\_mfinanciacion\\_limite'\n",
       "\\item 'Visa\\_msaldototal'\n",
       "\\item 'Visa\\_mlimitecompra'\n",
       "\\item 'Visa\\_mconsumototal'\n",
       "\\item 'Visa\\_mpagominimo'\n",
       "\\end{enumerate*}\n"
      ],
      "text/markdown": [
       "1. 'mrentabilidad'\n",
       "2. 'mrentabilidad_annual'\n",
       "3. 'mcomisiones'\n",
       "4. 'mactivos_margen'\n",
       "5. 'mpasivos_margen'\n",
       "6. 'mcuenta_corriente'\n",
       "7. 'mcaja_ahorro'\n",
       "8. 'mcuentas_saldo'\n",
       "9. 'mtarjeta_visa_consumo'\n",
       "10. 'mtarjeta_master_consumo'\n",
       "11. 'mprestamos_personales'\n",
       "12. 'mpayroll'\n",
       "13. 'mttarjeta_visa_debitos_automaticos'\n",
       "14. 'mcomisiones_mantenimiento'\n",
       "15. 'mtransferencias_recibidas'\n",
       "16. 'Master_mfinanciacion_limite'\n",
       "17. 'Master_msaldototal'\n",
       "18. 'Master_mlimitecompra'\n",
       "19. 'Master_mconsumototal'\n",
       "20. 'Master_mpagominimo'\n",
       "21. 'Visa_mfinanciacion_limite'\n",
       "22. 'Visa_msaldototal'\n",
       "23. 'Visa_mlimitecompra'\n",
       "24. 'Visa_mconsumototal'\n",
       "25. 'Visa_mpagominimo'\n",
       "\n",
       "\n"
      ],
      "text/plain": [
       " [1] \"mrentabilidad\"                      \"mrentabilidad_annual\"              \n",
       " [3] \"mcomisiones\"                        \"mactivos_margen\"                   \n",
       " [5] \"mpasivos_margen\"                    \"mcuenta_corriente\"                 \n",
       " [7] \"mcaja_ahorro\"                       \"mcuentas_saldo\"                    \n",
       " [9] \"mtarjeta_visa_consumo\"              \"mtarjeta_master_consumo\"           \n",
       "[11] \"mprestamos_personales\"              \"mpayroll\"                          \n",
       "[13] \"mttarjeta_visa_debitos_automaticos\" \"mcomisiones_mantenimiento\"         \n",
       "[15] \"mtransferencias_recibidas\"          \"Master_mfinanciacion_limite\"       \n",
       "[17] \"Master_msaldototal\"                 \"Master_mlimitecompra\"              \n",
       "[19] \"Master_mconsumototal\"               \"Master_mpagominimo\"                \n",
       "[21] \"Visa_mfinanciacion_limite\"          \"Visa_msaldototal\"                  \n",
       "[23] \"Visa_mlimitecompra\"                 \"Visa_mconsumototal\"                \n",
       "[25] \"Visa_mpagominimo\"                  "
      ]
     },
     "metadata": {},
     "output_type": "display_data"
    }
   ],
   "source": [
    "# por como armé los nombres de campos,\n",
    "#  estos son los campos que expresan variables monetarias\n",
    "campos_monetarios <- colnames(dataset)\n",
    "campos_monetarios <- campos_monetarios[campos_monetarios %like%\n",
    "  \"^(m|Visa_m|Master_m|vm_m)\"]\n",
    "\n",
    "campos_monetarios"
   ]
  },
  {
   "cell_type": "code",
   "execution_count": 24,
   "id": "3b5ddd06-d9a2-4db2-ba6c-b899a676647a",
   "metadata": {
    "id": "G_8BH82XS3uV"
   },
   "outputs": [
    {
     "name": "stdout",
     "output_type": "stream",
     "text": [
      "inicio drift_IPC()\n",
      "fin drift_IPC()\n"
     ]
    }
   ],
   "source": [
    "# ejecuto el Data Drifting\n",
    "setorder( dataset, numero_de_cliente, foto_mes )\n",
    "\n",
    "\n",
    "PARAM$DR$metodo <- \"IPC\"\n",
    "\n",
    "switch(PARAM$DR$metodo,\n",
    "  \"ninguno\"        = cat(\"No hay correccion del data drifting\"),\n",
    "  \"rank_simple\"    = drift_rank_simple(campos_monetarios),\n",
    "  \"rank_cero_fijo\" = drift_rank_cero_fijo(campos_monetarios),\n",
    "  \"IPC\"      = drift_IPC(campos_monetarios),\n",
    "  \"dolar_blue\"     = drift_dolar_blue(campos_monetarios),\n",
    "  \"Nucleo\"            = drift_Nucleo(campos_monetarios),\n",
    "  \"estandarizar\"   = drift_estandarizar(campos_monetarios)\n",
    ")\n"
   ]
  },
  {
   "cell_type": "code",
   "execution_count": 25,
   "id": "c827031f-d3a6-40ca-aca6-fce1e672b913",
   "metadata": {
    "id": "-efBawbTWPKc",
    "scrolled": true
   },
   "outputs": [
    {
     "data": {
      "text/html": [
       "55"
      ],
      "text/latex": [
       "55"
      ],
      "text/markdown": [
       "55"
      ],
      "text/plain": [
       "[1] 55"
      ]
     },
     "metadata": {},
     "output_type": "display_data"
    },
    {
     "data": {
      "text/html": [
       "<style>\n",
       ".list-inline {list-style: none; margin:0; padding: 0}\n",
       ".list-inline>li {display: inline-block}\n",
       ".list-inline>li:not(:last-child)::after {content: \"\\00b7\"; padding: 0 .5ex}\n",
       "</style>\n",
       "<ol class=list-inline><li>'numero_de_cliente'</li><li>'foto_mes'</li><li>'internet'</li><li>'cliente_edad'</li><li>'cliente_antiguedad'</li><li>'mrentabilidad'</li><li>'mrentabilidad_annual'</li><li>'mcomisiones'</li><li>'mactivos_margen'</li><li>'mpasivos_margen'</li><li>'cproductos'</li><li>'mcuenta_corriente'</li><li>'mcaja_ahorro'</li><li>'cdescubierto_preacordado'</li><li>'mcuentas_saldo'</li><li>'ctarjeta_visa'</li><li>'ctarjeta_visa_transacciones'</li><li>'mtarjeta_visa_consumo'</li><li>'ctarjeta_master'</li><li>'ctarjeta_master_transacciones'</li><li>'mtarjeta_master_consumo'</li><li>'cprestamos_personales'</li><li>'mprestamos_personales'</li><li>'cpayroll_trx'</li><li>'mpayroll'</li><li>'mttarjeta_visa_debitos_automaticos'</li><li>'ccomisiones_mantenimiento'</li><li>'mcomisiones_mantenimiento'</li><li>'ccomisiones_otras'</li><li>'mtransferencias_recibidas'</li><li>'ccallcenter_transacciones'</li><li>'thomebanking'</li><li>'chomebanking_transacciones'</li><li>'ctrx_quarter'</li><li>'Master_status'</li><li>'Master_mfinanciacion_limite'</li><li>'Master_Fvencimiento'</li><li>'Master_msaldototal'</li><li>'Master_mlimitecompra'</li><li>'Master_fultimo_cierre'</li><li>'Master_fechaalta'</li><li>'Master_mconsumototal'</li><li>'Master_cconsumos'</li><li>'Master_mpagominimo'</li><li>'Visa_status'</li><li>'Visa_mfinanciacion_limite'</li><li>'Visa_Fvencimiento'</li><li>'Visa_msaldototal'</li><li>'Visa_mlimitecompra'</li><li>'Visa_fultimo_cierre'</li><li>'Visa_fechaalta'</li><li>'Visa_mconsumototal'</li><li>'Visa_cconsumos'</li><li>'Visa_mpagominimo'</li><li>'clase_ternaria'</li></ol>\n"
      ],
      "text/latex": [
       "\\begin{enumerate*}\n",
       "\\item 'numero\\_de\\_cliente'\n",
       "\\item 'foto\\_mes'\n",
       "\\item 'internet'\n",
       "\\item 'cliente\\_edad'\n",
       "\\item 'cliente\\_antiguedad'\n",
       "\\item 'mrentabilidad'\n",
       "\\item 'mrentabilidad\\_annual'\n",
       "\\item 'mcomisiones'\n",
       "\\item 'mactivos\\_margen'\n",
       "\\item 'mpasivos\\_margen'\n",
       "\\item 'cproductos'\n",
       "\\item 'mcuenta\\_corriente'\n",
       "\\item 'mcaja\\_ahorro'\n",
       "\\item 'cdescubierto\\_preacordado'\n",
       "\\item 'mcuentas\\_saldo'\n",
       "\\item 'ctarjeta\\_visa'\n",
       "\\item 'ctarjeta\\_visa\\_transacciones'\n",
       "\\item 'mtarjeta\\_visa\\_consumo'\n",
       "\\item 'ctarjeta\\_master'\n",
       "\\item 'ctarjeta\\_master\\_transacciones'\n",
       "\\item 'mtarjeta\\_master\\_consumo'\n",
       "\\item 'cprestamos\\_personales'\n",
       "\\item 'mprestamos\\_personales'\n",
       "\\item 'cpayroll\\_trx'\n",
       "\\item 'mpayroll'\n",
       "\\item 'mttarjeta\\_visa\\_debitos\\_automaticos'\n",
       "\\item 'ccomisiones\\_mantenimiento'\n",
       "\\item 'mcomisiones\\_mantenimiento'\n",
       "\\item 'ccomisiones\\_otras'\n",
       "\\item 'mtransferencias\\_recibidas'\n",
       "\\item 'ccallcenter\\_transacciones'\n",
       "\\item 'thomebanking'\n",
       "\\item 'chomebanking\\_transacciones'\n",
       "\\item 'ctrx\\_quarter'\n",
       "\\item 'Master\\_status'\n",
       "\\item 'Master\\_mfinanciacion\\_limite'\n",
       "\\item 'Master\\_Fvencimiento'\n",
       "\\item 'Master\\_msaldototal'\n",
       "\\item 'Master\\_mlimitecompra'\n",
       "\\item 'Master\\_fultimo\\_cierre'\n",
       "\\item 'Master\\_fechaalta'\n",
       "\\item 'Master\\_mconsumototal'\n",
       "\\item 'Master\\_cconsumos'\n",
       "\\item 'Master\\_mpagominimo'\n",
       "\\item 'Visa\\_status'\n",
       "\\item 'Visa\\_mfinanciacion\\_limite'\n",
       "\\item 'Visa\\_Fvencimiento'\n",
       "\\item 'Visa\\_msaldototal'\n",
       "\\item 'Visa\\_mlimitecompra'\n",
       "\\item 'Visa\\_fultimo\\_cierre'\n",
       "\\item 'Visa\\_fechaalta'\n",
       "\\item 'Visa\\_mconsumototal'\n",
       "\\item 'Visa\\_cconsumos'\n",
       "\\item 'Visa\\_mpagominimo'\n",
       "\\item 'clase\\_ternaria'\n",
       "\\end{enumerate*}\n"
      ],
      "text/markdown": [
       "1. 'numero_de_cliente'\n",
       "2. 'foto_mes'\n",
       "3. 'internet'\n",
       "4. 'cliente_edad'\n",
       "5. 'cliente_antiguedad'\n",
       "6. 'mrentabilidad'\n",
       "7. 'mrentabilidad_annual'\n",
       "8. 'mcomisiones'\n",
       "9. 'mactivos_margen'\n",
       "10. 'mpasivos_margen'\n",
       "11. 'cproductos'\n",
       "12. 'mcuenta_corriente'\n",
       "13. 'mcaja_ahorro'\n",
       "14. 'cdescubierto_preacordado'\n",
       "15. 'mcuentas_saldo'\n",
       "16. 'ctarjeta_visa'\n",
       "17. 'ctarjeta_visa_transacciones'\n",
       "18. 'mtarjeta_visa_consumo'\n",
       "19. 'ctarjeta_master'\n",
       "20. 'ctarjeta_master_transacciones'\n",
       "21. 'mtarjeta_master_consumo'\n",
       "22. 'cprestamos_personales'\n",
       "23. 'mprestamos_personales'\n",
       "24. 'cpayroll_trx'\n",
       "25. 'mpayroll'\n",
       "26. 'mttarjeta_visa_debitos_automaticos'\n",
       "27. 'ccomisiones_mantenimiento'\n",
       "28. 'mcomisiones_mantenimiento'\n",
       "29. 'ccomisiones_otras'\n",
       "30. 'mtransferencias_recibidas'\n",
       "31. 'ccallcenter_transacciones'\n",
       "32. 'thomebanking'\n",
       "33. 'chomebanking_transacciones'\n",
       "34. 'ctrx_quarter'\n",
       "35. 'Master_status'\n",
       "36. 'Master_mfinanciacion_limite'\n",
       "37. 'Master_Fvencimiento'\n",
       "38. 'Master_msaldototal'\n",
       "39. 'Master_mlimitecompra'\n",
       "40. 'Master_fultimo_cierre'\n",
       "41. 'Master_fechaalta'\n",
       "42. 'Master_mconsumototal'\n",
       "43. 'Master_cconsumos'\n",
       "44. 'Master_mpagominimo'\n",
       "45. 'Visa_status'\n",
       "46. 'Visa_mfinanciacion_limite'\n",
       "47. 'Visa_Fvencimiento'\n",
       "48. 'Visa_msaldototal'\n",
       "49. 'Visa_mlimitecompra'\n",
       "50. 'Visa_fultimo_cierre'\n",
       "51. 'Visa_fechaalta'\n",
       "52. 'Visa_mconsumototal'\n",
       "53. 'Visa_cconsumos'\n",
       "54. 'Visa_mpagominimo'\n",
       "55. 'clase_ternaria'\n",
       "\n",
       "\n"
      ],
      "text/plain": [
       " [1] \"numero_de_cliente\"                  \"foto_mes\"                          \n",
       " [3] \"internet\"                           \"cliente_edad\"                      \n",
       " [5] \"cliente_antiguedad\"                 \"mrentabilidad\"                     \n",
       " [7] \"mrentabilidad_annual\"               \"mcomisiones\"                       \n",
       " [9] \"mactivos_margen\"                    \"mpasivos_margen\"                   \n",
       "[11] \"cproductos\"                         \"mcuenta_corriente\"                 \n",
       "[13] \"mcaja_ahorro\"                       \"cdescubierto_preacordado\"          \n",
       "[15] \"mcuentas_saldo\"                     \"ctarjeta_visa\"                     \n",
       "[17] \"ctarjeta_visa_transacciones\"        \"mtarjeta_visa_consumo\"             \n",
       "[19] \"ctarjeta_master\"                    \"ctarjeta_master_transacciones\"     \n",
       "[21] \"mtarjeta_master_consumo\"            \"cprestamos_personales\"             \n",
       "[23] \"mprestamos_personales\"              \"cpayroll_trx\"                      \n",
       "[25] \"mpayroll\"                           \"mttarjeta_visa_debitos_automaticos\"\n",
       "[27] \"ccomisiones_mantenimiento\"          \"mcomisiones_mantenimiento\"         \n",
       "[29] \"ccomisiones_otras\"                  \"mtransferencias_recibidas\"         \n",
       "[31] \"ccallcenter_transacciones\"          \"thomebanking\"                      \n",
       "[33] \"chomebanking_transacciones\"         \"ctrx_quarter\"                      \n",
       "[35] \"Master_status\"                      \"Master_mfinanciacion_limite\"       \n",
       "[37] \"Master_Fvencimiento\"                \"Master_msaldototal\"                \n",
       "[39] \"Master_mlimitecompra\"               \"Master_fultimo_cierre\"             \n",
       "[41] \"Master_fechaalta\"                   \"Master_mconsumototal\"              \n",
       "[43] \"Master_cconsumos\"                   \"Master_mpagominimo\"                \n",
       "[45] \"Visa_status\"                        \"Visa_mfinanciacion_limite\"         \n",
       "[47] \"Visa_Fvencimiento\"                  \"Visa_msaldototal\"                  \n",
       "[49] \"Visa_mlimitecompra\"                 \"Visa_fultimo_cierre\"               \n",
       "[51] \"Visa_fechaalta\"                     \"Visa_mconsumototal\"                \n",
       "[53] \"Visa_cconsumos\"                     \"Visa_mpagominimo\"                  \n",
       "[55] \"clase_ternaria\"                    "
      ]
     },
     "metadata": {},
     "output_type": "display_data"
    }
   ],
   "source": [
    "ncol(dataset)\n",
    "colnames(dataset)"
   ]
  },
  {
   "cell_type": "code",
   "execution_count": 26,
   "id": "L85A2lwKSe3k",
   "metadata": {
    "id": "L85A2lwKSe3k"
   },
   "outputs": [],
   "source": [
    "# se intenta corregir el data drifting utilizando algunos indices financieros"
   ]
  },
  {
   "cell_type": "markdown",
   "id": "7sppIDYeSn5X",
   "metadata": {
    "id": "7sppIDYeSn5X"
   },
   "source": [
    "#### 9.3.1.3  FE_intra_manual Feature Engineering intra-mes\n",
    "\n",
    "Agrego campos nuevos dentro del mismo mes, SIN considerar la historia."
   ]
  },
  {
   "cell_type": "code",
   "execution_count": 27,
   "id": "qrqf3j3_St3p",
   "metadata": {
    "id": "qrqf3j3_St3p"
   },
   "outputs": [],
   "source": [
    "# esta funcion atributos presentes existe debido a que las modalidades poseen datasets con distinta cantidad de campos\n",
    "atributos_presentes <- function( patributos )\n",
    "{\n",
    "  atributos <- unique( patributos )\n",
    "  comun <- intersect( atributos, colnames(dataset) )\n",
    "\n",
    "  return(  length( atributos ) == length( comun ) )\n",
    "}\n",
    "\n",
    "# el mes 1,2, ..12\n",
    "if( atributos_presentes( c(\"foto_mes\") ))\n",
    "  dataset[, kmes := foto_mes %% 100]\n",
    "\n",
    "# variable extraida de una tesis de maestria de Irlanda\n",
    "if( atributos_presentes( c(\"mpayroll\", \"cliente_edad\") ))\n",
    "  dataset[, mpayroll_sobre_edad := mpayroll / cliente_edad]\n"
   ]
  },
  {
   "cell_type": "code",
   "execution_count": 28,
   "id": "iC4viwOdY5Kp",
   "metadata": {
    "id": "iC4viwOdY5Kp"
   },
   "outputs": [
    {
     "data": {
      "text/html": [
       "57"
      ],
      "text/latex": [
       "57"
      ],
      "text/markdown": [
       "57"
      ],
      "text/plain": [
       "[1] 57"
      ]
     },
     "metadata": {},
     "output_type": "display_data"
    },
    {
     "data": {
      "text/html": [
       "<style>\n",
       ".list-inline {list-style: none; margin:0; padding: 0}\n",
       ".list-inline>li {display: inline-block}\n",
       ".list-inline>li:not(:last-child)::after {content: \"\\00b7\"; padding: 0 .5ex}\n",
       "</style>\n",
       "<ol class=list-inline><li>'numero_de_cliente'</li><li>'foto_mes'</li><li>'internet'</li><li>'cliente_edad'</li><li>'cliente_antiguedad'</li><li>'mrentabilidad'</li><li>'mrentabilidad_annual'</li><li>'mcomisiones'</li><li>'mactivos_margen'</li><li>'mpasivos_margen'</li><li>'cproductos'</li><li>'mcuenta_corriente'</li><li>'mcaja_ahorro'</li><li>'cdescubierto_preacordado'</li><li>'mcuentas_saldo'</li><li>'ctarjeta_visa'</li><li>'ctarjeta_visa_transacciones'</li><li>'mtarjeta_visa_consumo'</li><li>'ctarjeta_master'</li><li>'ctarjeta_master_transacciones'</li><li>'mtarjeta_master_consumo'</li><li>'cprestamos_personales'</li><li>'mprestamos_personales'</li><li>'cpayroll_trx'</li><li>'mpayroll'</li><li>'mttarjeta_visa_debitos_automaticos'</li><li>'ccomisiones_mantenimiento'</li><li>'mcomisiones_mantenimiento'</li><li>'ccomisiones_otras'</li><li>'mtransferencias_recibidas'</li><li>'ccallcenter_transacciones'</li><li>'thomebanking'</li><li>'chomebanking_transacciones'</li><li>'ctrx_quarter'</li><li>'Master_status'</li><li>'Master_mfinanciacion_limite'</li><li>'Master_Fvencimiento'</li><li>'Master_msaldototal'</li><li>'Master_mlimitecompra'</li><li>'Master_fultimo_cierre'</li><li>'Master_fechaalta'</li><li>'Master_mconsumototal'</li><li>'Master_cconsumos'</li><li>'Master_mpagominimo'</li><li>'Visa_status'</li><li>'Visa_mfinanciacion_limite'</li><li>'Visa_Fvencimiento'</li><li>'Visa_msaldototal'</li><li>'Visa_mlimitecompra'</li><li>'Visa_fultimo_cierre'</li><li>'Visa_fechaalta'</li><li>'Visa_mconsumototal'</li><li>'Visa_cconsumos'</li><li>'Visa_mpagominimo'</li><li>'clase_ternaria'</li><li>'kmes'</li><li>'mpayroll_sobre_edad'</li></ol>\n"
      ],
      "text/latex": [
       "\\begin{enumerate*}\n",
       "\\item 'numero\\_de\\_cliente'\n",
       "\\item 'foto\\_mes'\n",
       "\\item 'internet'\n",
       "\\item 'cliente\\_edad'\n",
       "\\item 'cliente\\_antiguedad'\n",
       "\\item 'mrentabilidad'\n",
       "\\item 'mrentabilidad\\_annual'\n",
       "\\item 'mcomisiones'\n",
       "\\item 'mactivos\\_margen'\n",
       "\\item 'mpasivos\\_margen'\n",
       "\\item 'cproductos'\n",
       "\\item 'mcuenta\\_corriente'\n",
       "\\item 'mcaja\\_ahorro'\n",
       "\\item 'cdescubierto\\_preacordado'\n",
       "\\item 'mcuentas\\_saldo'\n",
       "\\item 'ctarjeta\\_visa'\n",
       "\\item 'ctarjeta\\_visa\\_transacciones'\n",
       "\\item 'mtarjeta\\_visa\\_consumo'\n",
       "\\item 'ctarjeta\\_master'\n",
       "\\item 'ctarjeta\\_master\\_transacciones'\n",
       "\\item 'mtarjeta\\_master\\_consumo'\n",
       "\\item 'cprestamos\\_personales'\n",
       "\\item 'mprestamos\\_personales'\n",
       "\\item 'cpayroll\\_trx'\n",
       "\\item 'mpayroll'\n",
       "\\item 'mttarjeta\\_visa\\_debitos\\_automaticos'\n",
       "\\item 'ccomisiones\\_mantenimiento'\n",
       "\\item 'mcomisiones\\_mantenimiento'\n",
       "\\item 'ccomisiones\\_otras'\n",
       "\\item 'mtransferencias\\_recibidas'\n",
       "\\item 'ccallcenter\\_transacciones'\n",
       "\\item 'thomebanking'\n",
       "\\item 'chomebanking\\_transacciones'\n",
       "\\item 'ctrx\\_quarter'\n",
       "\\item 'Master\\_status'\n",
       "\\item 'Master\\_mfinanciacion\\_limite'\n",
       "\\item 'Master\\_Fvencimiento'\n",
       "\\item 'Master\\_msaldototal'\n",
       "\\item 'Master\\_mlimitecompra'\n",
       "\\item 'Master\\_fultimo\\_cierre'\n",
       "\\item 'Master\\_fechaalta'\n",
       "\\item 'Master\\_mconsumototal'\n",
       "\\item 'Master\\_cconsumos'\n",
       "\\item 'Master\\_mpagominimo'\n",
       "\\item 'Visa\\_status'\n",
       "\\item 'Visa\\_mfinanciacion\\_limite'\n",
       "\\item 'Visa\\_Fvencimiento'\n",
       "\\item 'Visa\\_msaldototal'\n",
       "\\item 'Visa\\_mlimitecompra'\n",
       "\\item 'Visa\\_fultimo\\_cierre'\n",
       "\\item 'Visa\\_fechaalta'\n",
       "\\item 'Visa\\_mconsumototal'\n",
       "\\item 'Visa\\_cconsumos'\n",
       "\\item 'Visa\\_mpagominimo'\n",
       "\\item 'clase\\_ternaria'\n",
       "\\item 'kmes'\n",
       "\\item 'mpayroll\\_sobre\\_edad'\n",
       "\\end{enumerate*}\n"
      ],
      "text/markdown": [
       "1. 'numero_de_cliente'\n",
       "2. 'foto_mes'\n",
       "3. 'internet'\n",
       "4. 'cliente_edad'\n",
       "5. 'cliente_antiguedad'\n",
       "6. 'mrentabilidad'\n",
       "7. 'mrentabilidad_annual'\n",
       "8. 'mcomisiones'\n",
       "9. 'mactivos_margen'\n",
       "10. 'mpasivos_margen'\n",
       "11. 'cproductos'\n",
       "12. 'mcuenta_corriente'\n",
       "13. 'mcaja_ahorro'\n",
       "14. 'cdescubierto_preacordado'\n",
       "15. 'mcuentas_saldo'\n",
       "16. 'ctarjeta_visa'\n",
       "17. 'ctarjeta_visa_transacciones'\n",
       "18. 'mtarjeta_visa_consumo'\n",
       "19. 'ctarjeta_master'\n",
       "20. 'ctarjeta_master_transacciones'\n",
       "21. 'mtarjeta_master_consumo'\n",
       "22. 'cprestamos_personales'\n",
       "23. 'mprestamos_personales'\n",
       "24. 'cpayroll_trx'\n",
       "25. 'mpayroll'\n",
       "26. 'mttarjeta_visa_debitos_automaticos'\n",
       "27. 'ccomisiones_mantenimiento'\n",
       "28. 'mcomisiones_mantenimiento'\n",
       "29. 'ccomisiones_otras'\n",
       "30. 'mtransferencias_recibidas'\n",
       "31. 'ccallcenter_transacciones'\n",
       "32. 'thomebanking'\n",
       "33. 'chomebanking_transacciones'\n",
       "34. 'ctrx_quarter'\n",
       "35. 'Master_status'\n",
       "36. 'Master_mfinanciacion_limite'\n",
       "37. 'Master_Fvencimiento'\n",
       "38. 'Master_msaldototal'\n",
       "39. 'Master_mlimitecompra'\n",
       "40. 'Master_fultimo_cierre'\n",
       "41. 'Master_fechaalta'\n",
       "42. 'Master_mconsumototal'\n",
       "43. 'Master_cconsumos'\n",
       "44. 'Master_mpagominimo'\n",
       "45. 'Visa_status'\n",
       "46. 'Visa_mfinanciacion_limite'\n",
       "47. 'Visa_Fvencimiento'\n",
       "48. 'Visa_msaldototal'\n",
       "49. 'Visa_mlimitecompra'\n",
       "50. 'Visa_fultimo_cierre'\n",
       "51. 'Visa_fechaalta'\n",
       "52. 'Visa_mconsumototal'\n",
       "53. 'Visa_cconsumos'\n",
       "54. 'Visa_mpagominimo'\n",
       "55. 'clase_ternaria'\n",
       "56. 'kmes'\n",
       "57. 'mpayroll_sobre_edad'\n",
       "\n",
       "\n"
      ],
      "text/plain": [
       " [1] \"numero_de_cliente\"                  \"foto_mes\"                          \n",
       " [3] \"internet\"                           \"cliente_edad\"                      \n",
       " [5] \"cliente_antiguedad\"                 \"mrentabilidad\"                     \n",
       " [7] \"mrentabilidad_annual\"               \"mcomisiones\"                       \n",
       " [9] \"mactivos_margen\"                    \"mpasivos_margen\"                   \n",
       "[11] \"cproductos\"                         \"mcuenta_corriente\"                 \n",
       "[13] \"mcaja_ahorro\"                       \"cdescubierto_preacordado\"          \n",
       "[15] \"mcuentas_saldo\"                     \"ctarjeta_visa\"                     \n",
       "[17] \"ctarjeta_visa_transacciones\"        \"mtarjeta_visa_consumo\"             \n",
       "[19] \"ctarjeta_master\"                    \"ctarjeta_master_transacciones\"     \n",
       "[21] \"mtarjeta_master_consumo\"            \"cprestamos_personales\"             \n",
       "[23] \"mprestamos_personales\"              \"cpayroll_trx\"                      \n",
       "[25] \"mpayroll\"                           \"mttarjeta_visa_debitos_automaticos\"\n",
       "[27] \"ccomisiones_mantenimiento\"          \"mcomisiones_mantenimiento\"         \n",
       "[29] \"ccomisiones_otras\"                  \"mtransferencias_recibidas\"         \n",
       "[31] \"ccallcenter_transacciones\"          \"thomebanking\"                      \n",
       "[33] \"chomebanking_transacciones\"         \"ctrx_quarter\"                      \n",
       "[35] \"Master_status\"                      \"Master_mfinanciacion_limite\"       \n",
       "[37] \"Master_Fvencimiento\"                \"Master_msaldototal\"                \n",
       "[39] \"Master_mlimitecompra\"               \"Master_fultimo_cierre\"             \n",
       "[41] \"Master_fechaalta\"                   \"Master_mconsumototal\"              \n",
       "[43] \"Master_cconsumos\"                   \"Master_mpagominimo\"                \n",
       "[45] \"Visa_status\"                        \"Visa_mfinanciacion_limite\"         \n",
       "[47] \"Visa_Fvencimiento\"                  \"Visa_msaldototal\"                  \n",
       "[49] \"Visa_mlimitecompra\"                 \"Visa_fultimo_cierre\"               \n",
       "[51] \"Visa_fechaalta\"                     \"Visa_mconsumototal\"                \n",
       "[53] \"Visa_cconsumos\"                     \"Visa_mpagominimo\"                  \n",
       "[55] \"clase_ternaria\"                     \"kmes\"                              \n",
       "[57] \"mpayroll_sobre_edad\"               "
      ]
     },
     "metadata": {},
     "output_type": "display_data"
    }
   ],
   "source": [
    "# visualizo las columas del dataset a esta etapa\n",
    "ncol(dataset)\n",
    "colnames(dataset)"
   ]
  },
  {
   "cell_type": "markdown",
   "id": "9682b4ca-3ab3-4bbc-a36a-b185361e6b6b",
   "metadata": {
    "id": "9682b4ca-3ab3-4bbc-a36a-b185361e6b6b"
   },
   "source": [
    "#### 9.3.1.4  FE_rf Feature Engineering de nuevas variables a partir de hojas de Random Forest"
   ]
  },
  {
   "cell_type": "code",
   "execution_count": 29,
   "id": "Vd09ZaybfUeK",
   "metadata": {
    "id": "Vd09ZaybfUeK"
   },
   "outputs": [
    {
     "name": "stderr",
     "output_type": "stream",
     "text": [
      "Loading required package: lightgbm\n",
      "\n"
     ]
    }
   ],
   "source": [
    "if( !require(\"lightgbm\")) install.packages(\"lightgbm\")\n",
    "require(\"lightgbm\")"
   ]
  },
  {
   "cell_type": "code",
   "execution_count": 30,
   "id": "JrsaXcQqcefM",
   "metadata": {
    "id": "JrsaXcQqcefM"
   },
   "outputs": [],
   "source": [
    "AgregaVarRandomForest <- function() {\n",
    "\n",
    "  cat( \"inicio AgregaVarRandomForest()\\n\")\n",
    "  gc(verbose= FALSE)\n",
    "  dataset[, clase01 := 0L ]\n",
    "  dataset[ clase_ternaria %in% PARAM$FE_rf$train$clase01_valor1,\n",
    "      clase01 := 1L ]\n",
    "\n",
    "  campos_buenos <- setdiff(\n",
    "    colnames(dataset),\n",
    "    c( \"clase_ternaria\", \"clase01\")\n",
    "  )\n",
    "\n",
    "  dataset[, entrenamiento :=\n",
    "    as.integer( foto_mes %in% PARAM$FE_rf$train$training )]\n",
    "\n",
    "  dtrain <- lgb.Dataset(\n",
    "    data = data.matrix(dataset[entrenamiento == TRUE, campos_buenos, with = FALSE]),\n",
    "    label = dataset[entrenamiento == TRUE, clase01],\n",
    "    free_raw_data = FALSE\n",
    "  )\n",
    "\n",
    "  modelo <- lgb.train(\n",
    "     data = dtrain,\n",
    "     param = PARAM$FE_rf$lgb_param,\n",
    "     verbose = -100\n",
    "  )\n",
    "\n",
    "  cat( \"Fin construccion RandomForest\\n\" )\n",
    "  # grabo el modelo, achivo .model\n",
    "  lgb.save(modelo, file=\"modelo.model\" )\n",
    "\n",
    "  qarbolitos <- copy(PARAM$FE_rf$lgb_param$num_iterations)\n",
    "\n",
    "  periodos <- dataset[ , unique( foto_mes ) ]\n",
    "\n",
    "  for( periodo in  periodos )\n",
    "  {\n",
    "    cat( \"periodo = \", periodo, \"\\n\" )\n",
    "    datamatrix <- data.matrix(dataset[ foto_mes== periodo, campos_buenos, with = FALSE])\n",
    "\n",
    "    cat( \"Inicio prediccion\\n\" )\n",
    "    prediccion <- predict(\n",
    "        modelo,\n",
    "        datamatrix,\n",
    "        type = \"leaf\"\n",
    "    )\n",
    "    cat( \"Fin prediccion\\n\" )\n",
    "\n",
    "    for( arbolito in 1:qarbolitos )\n",
    "    {\n",
    "       cat( arbolito, \" \" )\n",
    "       hojas_arbol <- unique(prediccion[ , arbolito])\n",
    "\n",
    "       for (pos in 1:length(hojas_arbol)) {\n",
    "         # el numero de nodo de la hoja, estan salteados\n",
    "         nodo_id <- hojas_arbol[pos]\n",
    "         dataset[ foto_mes== periodo, paste0(\n",
    "            \"rf_\", sprintf(\"%03d\", arbolito),\n",
    "             \"_\", sprintf(\"%03d\", nodo_id)\n",
    "          ) :=  as.integer( nodo_id == prediccion[ , arbolito]) ]\n",
    "\n",
    "       }\n",
    "\n",
    "       rm( hojas_arbol )\n",
    "    }\n",
    "    cat( \"\\n\" )\n",
    "\n",
    "    rm( prediccion )\n",
    "    rm( datamatrix )\n",
    "    gc(verbose= FALSE)\n",
    "  }\n",
    "\n",
    "  gc(verbose= FALSE)\n",
    "\n",
    "  # borro clase01 , no debe ensuciar el dataset\n",
    "  dataset[ , clase01 := NULL ]\n",
    "\n",
    "}\n"
   ]
  },
  {
   "cell_type": "code",
   "execution_count": 31,
   "id": "i6vcLtXldMpz",
   "metadata": {
    "id": "i6vcLtXldMpz"
   },
   "outputs": [],
   "source": [
    "# Parametros de Feature Engineering  a partir de hojas de Random Forest\n",
    "\n",
    "# Estos CUATRO parametros son los que se deben modificar\n",
    "PARAM$FE_rf$arbolitos= 20\n",
    "PARAM$FE_rf$hojas_por_arbol= 16\n",
    "PARAM$FE_rf$datos_por_hoja= 100\n",
    "PARAM$FE_rf$mtry_ratio= 0.2\n",
    "\n",
    "# Estos son quasi fijos\n",
    "PARAM$FE_rf$train$clase01_valor1 <- c( \"BAJA+2\", \"BAJA+1\")\n",
    "PARAM$FE_rf$train$training <- c( 202101, 202102, 202103)\n",
    "\n",
    "# Estos TAMBIEN son quasi fijos\n",
    "PARAM$FE_rf$lgb_param <-list(\n",
    "    # parametros que se pueden cambiar\n",
    "    num_iterations = PARAM$FE_rf$arbolitos,\n",
    "    num_leaves  = PARAM$FE_rf$hojas_por_arbol,\n",
    "    min_data_in_leaf = PARAM$FE_rf$datos_por_hoja,\n",
    "    feature_fraction_bynode  = PARAM$FE_rf$mtry_ratio,\n",
    "\n",
    "    # para que LightGBM emule Random Forest\n",
    "    boosting = \"rf\",\n",
    "    bagging_fraction = ( 1.0 - 1.0/exp(1.0) ),\n",
    "    bagging_freq = 1.0,\n",
    "    feature_fraction = 1.0,\n",
    "\n",
    "    # genericos de LightGBM\n",
    "    max_bin = 31L,\n",
    "    objective = \"binary\",\n",
    "    first_metric_only = TRUE,\n",
    "    boost_from_average = TRUE,\n",
    "    feature_pre_filter = FALSE,\n",
    "    force_row_wise = TRUE,\n",
    "    verbosity = -100,\n",
    "    max_depth = -1L,\n",
    "    min_gain_to_split = 0.0,\n",
    "    min_sum_hessian_in_leaf = 0.001,\n",
    "    lambda_l1 = 0.0,\n",
    "    lambda_l2 = 0.0,\n",
    "\n",
    "    pos_bagging_fraction = 1.0,\n",
    "    neg_bagging_fraction = 1.0,\n",
    "    is_unbalance = FALSE,\n",
    "    scale_pos_weight = 1.0,\n",
    "\n",
    "    drop_rate = 0.1,\n",
    "    max_drop = 50,\n",
    "    skip_drop = 0.5,\n",
    "\n",
    "    extra_trees = FALSE\n",
    "  )"
   ]
  },
  {
   "cell_type": "code",
   "execution_count": null,
   "id": "GTTj4VdBezcE",
   "metadata": {
    "id": "GTTj4VdBezcE"
   },
   "outputs": [],
   "source": [
    "# Feature Engineering agregando variables de Random Forest\n",
    "AgregaVarRandomForest()"
   ]
  },
  {
   "cell_type": "code",
   "execution_count": null,
   "id": "bs2vXYFuiXGu",
   "metadata": {
    "id": "bs2vXYFuiXGu"
   },
   "outputs": [],
   "source": [
    "ncol(dataset)\n",
    "colnames(dataset)"
   ]
  },
  {
   "cell_type": "code",
   "execution_count": null,
   "id": "ljA3h0jOcciP",
   "metadata": {
    "id": "ljA3h0jOcciP"
   },
   "outputs": [],
   "source": [
    "# No se implementa Feature Engineering a partir de Random Forest"
   ]
  },
  {
   "cell_type": "markdown",
   "id": "XaRBjQj8ZRUZ",
   "metadata": {
    "id": "XaRBjQj8ZRUZ"
   },
   "source": [
    "#### 9.3.1.5  FEhist Feature Engineering historico\n",
    "\n",
    "El Fature Engineering Histórico es la etapa que más aporta a la ganancia final, ya que enriquece cada registro del dataset con su historia."
   ]
  },
  {
   "cell_type": "markdown",
   "id": "cfe3b8cf-0707-4512-92e7-c1407bb3f73b",
   "metadata": {
    "id": "cfe3b8cf-0707-4512-92e7-c1407bb3f73b"
   },
   "source": [
    "Para cada campo del dataset original (*)\n",
    "se crean lo siguientes campos de a partir de la historia\n",
    "* lag1  lags de orden 1\n",
    "* delta1  =  valor actual - lag1\n",
    "* lag2  lags de orden 2\n",
    "* delta2  = valor actual - lag2\n",
    "\n",
    "\n",
    "(*) Excepto para los campos  <numero_de_cliente,  foto_mes,  clase_ternaria>"
   ]
  },
  {
   "cell_type": "code",
   "execution_count": null,
   "id": "7850b948-827d-4a2a-b4d3-a5e459b47c11",
   "metadata": {
    "id": "7850b948-827d-4a2a-b4d3-a5e459b47c11"
   },
   "outputs": [],
   "source": [
    "# Feature Engineering Historico\n",
    "\n",
    "# todo es lagueable, menos la primary key y la clase\n",
    "cols_lagueables <- copy( setdiff(\n",
    "    colnames(dataset),\n",
    "    c(\"numero_de_cliente\", \"foto_mes\", \"clase_ternaria\")\n",
    ") )\n",
    "\n",
    "# https://rdrr.io/cran/data.table/man/shift.html\n",
    "\n",
    "# lags de orden 1\n",
    "dataset[,\n",
    "    paste0(cols_lagueables, \"_lag1\") := shift(.SD, 1, NA, \"lag\"),\n",
    "    by = numero_de_cliente,\n",
    "    .SDcols = cols_lagueables\n",
    "]\n",
    "\n",
    "\n",
    "# agrego los delta lags\n",
    "for (vcol in cols_lagueables)\n",
    "{\n",
    "    dataset[, paste0(vcol, \"_delta1\") := get(vcol) - get(paste0(vcol, \"_lag1\"))]\n",
    "}\n"
   ]
  },
  {
   "cell_type": "markdown",
   "id": "cea690d9-ece9-4852-a5e2-f337c31b6721",
   "metadata": {
    "id": "cea690d9-ece9-4852-a5e2-f337c31b6721"
   },
   "source": [
    "Verificacion de los campos recien creados"
   ]
  },
  {
   "cell_type": "code",
   "execution_count": null,
   "id": "f772896b-595a-47d4-8905-c15304ac9452",
   "metadata": {
    "id": "f772896b-595a-47d4-8905-c15304ac9452"
   },
   "outputs": [],
   "source": [
    "ncol(dataset)\n",
    "colnames(dataset)"
   ]
  },
  {
   "cell_type": "markdown",
   "id": "l8mKij0XaDY0",
   "metadata": {
    "id": "l8mKij0XaDY0"
   },
   "source": [
    "#### 9.3.1.6  FEhist Reduccion dimensionalidad con canaritos\n",
    "\n",
    "Esta etapa solo se mostrará a la *modalidad Anlista Sr* por algun canal secreto de forma de no confundir a los *Analista Jr*  nni distraer con detalles operativos a la estratégica *Modalidad Gerencial*"
   ]
  },
  {
   "cell_type": "markdown",
   "id": "16eb048c-f10b-49e1-8c4e-4c9f8dfe71da",
   "metadata": {
    "id": "l8mKij0XaDY0"
   },
   "source": [
    "#### 9.3.1.6  FEhist Reduccion dimensionalidad con canaritos\n",
    "\n",
    "Esta etapa solo se mostrará a la *modalidad Anlista Sr* por algun canal secreto de forma de no confundir a los *Analista Jr*  nni distraer con detalles operativos a la estratégica *Modalidad Gerencial*"
   ]
  },
  {
   "cell_type": "code",
   "execution_count": null,
   "id": "bd40ca6b-f2d2-4ce2-8e82-a3009ef18444",
   "metadata": {
    "id": "QrmnPtlBcEgx"
   },
   "outputs": [],
   "source": [
    "VPOS_CORTE <- c()\n",
    "\n",
    "fganancia_lgbm_meseta <- function(probs, datos) {\n",
    "  vlabels <- get_field(datos, \"label\")\n",
    "  vpesos <- get_field(datos, \"weight\")\n",
    "\n",
    "  tbl <- as.data.table(list(\n",
    "    \"prob\" = probs,\n",
    "    \"gan\" = ifelse(vlabels == 1 & vpesos > 1, PARAM$CN$train$gan1, PARAM$CN$train$gan0)\n",
    "  ))\n",
    "\n",
    "  setorder(tbl, -prob)\n",
    "  tbl[, posicion := .I]\n",
    "  tbl[, gan_acum := cumsum(gan)]\n",
    "  setorder(tbl, -gan_acum) # voy por la meseta\n",
    "\n",
    "  gan <- mean(tbl[1:500, gan_acum]) # meseta de tamaño 500\n",
    "\n",
    "  pos_meseta <- tbl[1:500, median(posicion)]\n",
    "  VPOS_CORTE <<- c(VPOS_CORTE, pos_meseta)\n",
    "\n",
    "  return(list(\n",
    "    \"name\" = \"ganancia\",\n",
    "    \"value\" = gan,\n",
    "    \"higher_better\" = TRUE\n",
    "  ))\n",
    "}"
   ]
  },
  {
   "cell_type": "code",
   "execution_count": null,
   "id": "5c8a3f21-08d4-472b-965d-157680299645",
   "metadata": {
    "id": "7d62a161-22a0-49e3-8ef7-4f3ee28b1591"
   },
   "outputs": [],
   "source": [
    "# Elimina del dataset las variables que estan por debajo\n",
    "#  de la capa geologica de canaritos\n",
    "# se llama varias veces, luego de agregar muchas variables nuevas,\n",
    "#  para ir reduciendo la cantidad de variables\n",
    "# y así hacer lugar a nuevas variables importantes\n",
    "\n",
    "GVEZ <- 1\n",
    "\n",
    "campitos <- c( \"numero_de_cliente\", \"foto_mes\", \"clase_ternaria\" )\n",
    "\n",
    "CanaritosAsesinos <- function(\n",
    "  canaritos_ratio,\n",
    "  canaritos_desvios,\n",
    "  canaritos_semilla) {\n",
    "\n",
    "  cat( \"inicio CanaritosAsesinos()\\n\")\n",
    "  gc(verbose= FALSE)\n",
    "  dataset[, clase01 := 0L ]\n",
    "  dataset[ clase_ternaria %in% PARAM$CN$train$clase01_valor1,\n",
    "      clase01 := 1L ]\n",
    "\n",
    "  set.seed(canaritos_semilla, kind = \"L'Ecuyer-CMRG\")\n",
    "  for (i in 1:(ncol(dataset) * canaritos_ratio)) {\n",
    "    dataset[, paste0(\"canarito\", i) := runif(nrow(dataset))]\n",
    "  }\n",
    "\n",
    "  campos_buenos <- setdiff(\n",
    "    colnames(dataset),\n",
    "    c( campitos, \"clase01\")\n",
    "  )\n",
    "\n",
    "  azar <- runif(nrow(dataset))\n",
    "\n",
    "  dataset[, entrenamiento :=\n",
    "    as.integer( foto_mes %in% PARAM$CN$train$training &\n",
    "      (clase01 == 1 | azar < PARAM$CN$train$undersampling))]\n",
    "\n",
    "  dtrain <- lgb.Dataset(\n",
    "    data = data.matrix(dataset[entrenamiento == TRUE, campos_buenos, with = FALSE]),\n",
    "    label = dataset[entrenamiento == TRUE, clase01],\n",
    "    weight = dataset[\n",
    "      entrenamiento == TRUE,\n",
    "      ifelse(clase_ternaria %in% PARAM$CN$train$positivos, 1.0000001, 1.0)\n",
    "    ],\n",
    "    free_raw_data = FALSE\n",
    "  )\n",
    "\n",
    "  dvalid <- lgb.Dataset(\n",
    "    data = data.matrix(dataset[foto_mes %in% PARAM$CN$train$validation, campos_buenos, with = FALSE]),\n",
    "    label = dataset[foto_mes %in% PARAM$CN$train$validation, clase01],\n",
    "    weight = dataset[\n",
    "      foto_mes %in% PARAM$CN$train$validation,\n",
    "      ifelse( clase_ternaria %in% PARAM$CN$train$positivos, 1.0000001, 1.0)\n",
    "    ],\n",
    "    free_raw_data = FALSE\n",
    "  )\n",
    "\n",
    "  param <- list(\n",
    "    objective = \"binary\",\n",
    "    metric = \"custom\",\n",
    "    first_metric_only = TRUE,\n",
    "    boost_from_average = TRUE,\n",
    "    feature_pre_filter = FALSE,\n",
    "    verbosity = -100,\n",
    "    seed = canaritos_semilla,\n",
    "    max_depth = -1, # -1 significa no limitar,  por ahora lo dejo fijo\n",
    "    min_gain_to_split = 0.0, # por ahora, lo dejo fijo\n",
    "    lambda_l1 = 0.0, # por ahora, lo dejo fijo\n",
    "    lambda_l2 = 0.0, # por ahora, lo dejo fijo\n",
    "    max_bin = 31, # por ahora, lo dejo fijo\n",
    "    num_iterations = 9999, # un numero grande, lo limita early_stopping_rounds\n",
    "    force_row_wise = TRUE, # para que los alumnos no se atemoricen con  warning\n",
    "    learning_rate = 0.065,\n",
    "    feature_fraction = 1.0, # lo seteo en 1\n",
    "    min_data_in_leaf = 260,\n",
    "    num_leaves = 60,\n",
    "    early_stopping_rounds = 200,\n",
    "    num_threads = 1\n",
    "  )\n",
    "\n",
    "  set.seed(canaritos_semilla, kind = \"L'Ecuyer-CMRG\")\n",
    "  modelo <- lgb.train(\n",
    "    data = dtrain,\n",
    "    valids = list(valid = dvalid),\n",
    "    eval = fganancia_lgbm_meseta,\n",
    "    param = param,\n",
    "    verbose = -100\n",
    "  )\n",
    "  tb_importancia <- lgb.importance(model = modelo)\n",
    "  tb_importancia[, pos := .I]\n",
    "\n",
    "  fwrite(tb_importancia,\n",
    "    file = paste0(\"impo_\", GVEZ, \".txt\"),\n",
    "    sep = \"\\t\"\n",
    "  )\n",
    "\n",
    "  GVEZ <<- GVEZ + 1\n",
    "\n",
    "  umbral <- tb_importancia[\n",
    "    Feature %like% \"canarito\",\n",
    "    median(pos) + canaritos_desvios * sd(pos)\n",
    "  ]  # Atencion corto en la mediana mas desvios!!\n",
    "\n",
    "  col_utiles <- tb_importancia[\n",
    "    pos < umbral & !(Feature %like% \"canarito\"),\n",
    "    Feature\n",
    "  ]\n",
    "\n",
    "  col_utiles <- unique(c(\n",
    "    col_utiles,\n",
    "    c(campitos, \"mes\")\n",
    "  ))\n",
    "\n",
    "  col_inutiles <- setdiff(colnames(dataset), col_utiles)\n",
    "\n",
    "  dataset[, (col_inutiles) := NULL]\n",
    "\n",
    "  cat( \"fin CanaritosAsesinos()\\n\")\n",
    "\n",
    "  return( tb_importancia )\n",
    "}\n"
   ]
  },
  {
   "cell_type": "code",
   "execution_count": null,
   "id": "5a807e12-a390-4de2-b7c0-7c6522419cf0",
   "metadata": {
    "id": "d440f914-8acd-4b6b-bb84-0eec44686848"
   },
   "outputs": [],
   "source": [
    "# Estos DOS parametros son los que se deben modificar\n",
    "PARAM$CN$ratio <- 0.2\n",
    "PARAM$CN$desvios <- 2\n",
    "\n",
    "\n",
    "# Parametros quasi fijos\n",
    "# Parametros de un LightGBM que se genera para estimar la column importance\n",
    "PARAM$CN$train$clase01_valor1 <- c( \"BAJA+2\", \"BAJA+1\")\n",
    "PARAM$CN$train$positivos <- c( \"BAJA+2\")\n",
    "PARAM$CN$train$training <- c( 202101, 202102, 202103)\n",
    "PARAM$CN$train$validation <- c( 202105 )\n",
    "PARAM$CN$train$undersampling <- 0.1\n",
    "PARAM$CN$train$gan1 <- 117000\n",
    "PARAM$CN$train$gan0 <-  -3000"
   ]
  },
  {
   "cell_type": "code",
   "execution_count": 40,
   "id": "669c2b5b-9fd0-4b16-8bf1-0106e59c1441",
   "metadata": {
    "id": "63b0af5d-1286-4735-bb66-06d9b2b37ff6",
    "outputId": "8ac20043-fd9d-4066-8cd9-7bf3316eae15"
   },
   "outputs": [
    {
     "name": "stdout",
     "output_type": "stream",
     "text": [
      "inicio CanaritosAsesinos()\n",
      "fin CanaritosAsesinos()\n"
     ]
    }
   ],
   "source": [
    "# la llamada a Canaritos Asesinos\n",
    "tb_importancia <- CanaritosAsesinos(\n",
    "  canaritos_ratio = PARAM$CN$ratio,\n",
    "  canaritos_desvios = PARAM$CN$desvios,\n",
    "  canaritos_semilla = PARAM$semilla_primigenia\n",
    ")"
   ]
  },
  {
   "cell_type": "code",
   "execution_count": 41,
   "id": "e43d12b2-b5f8-48c7-996e-d6bf50a3e7d3",
   "metadata": {
    "id": "2aef2a75-2113-4435-830b-bf94518be11e"
   },
   "outputs": [],
   "source": [
    "# grabo la importancia, ver el archivo directamente en la carpeta\n",
    "\n",
    "fwrite( tb_importancia,\n",
    "  file=\"canaritos.txt\",\n",
    "  sep=\"\\t\"\n",
    ")"
   ]
  },
  {
   "cell_type": "code",
   "execution_count": 42,
   "id": "17e625ac-a004-4423-b053-9a8e7effa650",
   "metadata": {
    "id": "6aaa4d9c-4a0c-46f8-88b1-9b48022a1814"
   },
   "outputs": [
    {
     "data": {
      "text/html": [
       "136"
      ],
      "text/latex": [
       "136"
      ],
      "text/markdown": [
       "136"
      ],
      "text/plain": [
       "[1] 136"
      ]
     },
     "metadata": {},
     "output_type": "display_data"
    },
    {
     "data": {
      "text/html": [
       "<style>\n",
       ".list-inline {list-style: none; margin:0; padding: 0}\n",
       ".list-inline>li {display: inline-block}\n",
       ".list-inline>li:not(:last-child)::after {content: \"\\00b7\"; padding: 0 .5ex}\n",
       "</style>\n",
       "<ol class=list-inline><li>'numero_de_cliente'</li><li>'foto_mes'</li><li>'cliente_edad'</li><li>'cliente_antiguedad'</li><li>'mrentabilidad'</li><li>'mrentabilidad_annual'</li><li>'mcomisiones'</li><li>'mactivos_margen'</li><li>'mpasivos_margen'</li><li>'cproductos'</li><li>'mcuenta_corriente'</li><li>'mcaja_ahorro'</li><li>'cdescubierto_preacordado'</li><li>'mcuentas_saldo'</li><li>'mtarjeta_visa_consumo'</li><li>'ctarjeta_master'</li><li>'mtarjeta_master_consumo'</li><li>'cprestamos_personales'</li><li>'mprestamos_personales'</li><li>'cpayroll_trx'</li><li>'mttarjeta_visa_debitos_automaticos'</li><li>'ccomisiones_mantenimiento'</li><li>'mcomisiones_mantenimiento'</li><li>'mtransferencias_recibidas'</li><li>'ccallcenter_transacciones'</li><li>'chomebanking_transacciones'</li><li>'ctrx_quarter'</li><li>'Master_status'</li><li>'Master_mfinanciacion_limite'</li><li>'Master_Fvencimiento'</li><li>'Master_msaldototal'</li><li>'Master_fechaalta'</li><li>'Master_mpagominimo'</li><li>'Visa_status'</li><li>'Visa_mfinanciacion_limite'</li><li>'Visa_Fvencimiento'</li><li>'Visa_msaldototal'</li><li>'Visa_fultimo_cierre'</li><li>'Visa_fechaalta'</li><li>'Visa_mconsumototal'</li><li>'Visa_cconsumos'</li><li>'Visa_mpagominimo'</li><li>'clase_ternaria'</li><li>'mpayroll_sobre_edad'</li><li>'rf_001_002'</li><li>'rf_002_009'</li><li>'rf_002_010'</li><li>'rf_003_007'</li><li>'rf_003_004'</li><li>'rf_004_004'</li><li>'rf_005_000'</li><li>'rf_008_001'</li><li>'rf_009_003'</li><li>'rf_009_014'</li><li>'rf_009_000'</li><li>'rf_010_013'</li><li>'rf_011_005'</li><li>'rf_011_003'</li><li>'rf_011_014'</li><li>'rf_013_015'</li><li>'rf_013_012'</li><li>'rf_013_000'</li><li>'rf_014_014'</li><li>'rf_014_013'</li><li>'rf_015_011'</li><li>'rf_017_005'</li><li>'rf_018_006'</li><li>'rf_019_002'</li><li>'rf_020_007'</li><li>'rf_020_005'</li><li>'cliente_edad_lag1'</li><li>'cliente_antiguedad_lag1'</li><li>'mrentabilidad_lag1'</li><li>'mrentabilidad_annual_lag1'</li><li>'mcomisiones_lag1'</li><li>'mactivos_margen_lag1'</li><li>'mpasivos_margen_lag1'</li><li>'cproductos_lag1'</li><li>'mcuenta_corriente_lag1'</li><li>'mcaja_ahorro_lag1'</li><li>'mcuentas_saldo_lag1'</li><li>'mtarjeta_visa_consumo_lag1'</li><li>'mprestamos_personales_lag1'</li><li>'mttarjeta_visa_debitos_automaticos_lag1'</li><li>'mcomisiones_mantenimiento_lag1'</li><li>'ccomisiones_otras_lag1'</li><li>'mtransferencias_recibidas_lag1'</li><li>'chomebanking_transacciones_lag1'</li><li>'ctrx_quarter_lag1'</li><li>'Master_mfinanciacion_limite_lag1'</li><li>'Master_Fvencimiento_lag1'</li><li>'Master_fultimo_cierre_lag1'</li><li>'Master_fechaalta_lag1'</li><li>'Master_mpagominimo_lag1'</li><li>'Visa_mfinanciacion_limite_lag1'</li><li>'Visa_Fvencimiento_lag1'</li><li>'Visa_msaldototal_lag1'</li><li>'Visa_fultimo_cierre_lag1'</li><li>'Visa_fechaalta_lag1'</li><li>'Visa_mconsumototal_lag1'</li><li>'Visa_cconsumos_lag1'</li><li>'Visa_mpagominimo_lag1'</li><li>'kmes_lag1'</li><li>'mpayroll_sobre_edad_lag1'</li><li>'rf_008_011_lag1'</li><li>'rf_008_005_lag1'</li><li>'rf_011_014_lag1'</li><li>'mrentabilidad_delta1'</li><li>'mrentabilidad_annual_delta1'</li><li>'mcomisiones_delta1'</li><li>'mactivos_margen_delta1'</li><li>'mpasivos_margen_delta1'</li><li>'cproductos_delta1'</li><li>'mcuenta_corriente_delta1'</li><li>'mcaja_ahorro_delta1'</li><li>'mcuentas_saldo_delta1'</li><li>'ctarjeta_visa_transacciones_delta1'</li><li>'mtarjeta_visa_consumo_delta1'</li><li>'cprestamos_personales_delta1'</li><li>'mprestamos_personales_delta1'</li><li>'cpayroll_trx_delta1'</li><li>'mpayroll_delta1'</li><li>'mttarjeta_visa_debitos_automaticos_delta1'</li><li>'ccomisiones_mantenimiento_delta1'</li><li>'mcomisiones_mantenimiento_delta1'</li><li>'ccallcenter_transacciones_delta1'</li><li>'chomebanking_transacciones_delta1'</li><li>'ctrx_quarter_delta1'</li><li>'Master_mfinanciacion_limite_delta1'</li><li>'Master_msaldototal_delta1'</li><li>'Master_mconsumototal_delta1'</li><li>'Visa_mfinanciacion_limite_delta1'</li><li>'Visa_msaldototal_delta1'</li><li>'Visa_mconsumototal_delta1'</li><li>'rf_002_010_delta1'</li><li>'rf_013_012_delta1'</li></ol>\n"
      ],
      "text/latex": [
       "\\begin{enumerate*}\n",
       "\\item 'numero\\_de\\_cliente'\n",
       "\\item 'foto\\_mes'\n",
       "\\item 'cliente\\_edad'\n",
       "\\item 'cliente\\_antiguedad'\n",
       "\\item 'mrentabilidad'\n",
       "\\item 'mrentabilidad\\_annual'\n",
       "\\item 'mcomisiones'\n",
       "\\item 'mactivos\\_margen'\n",
       "\\item 'mpasivos\\_margen'\n",
       "\\item 'cproductos'\n",
       "\\item 'mcuenta\\_corriente'\n",
       "\\item 'mcaja\\_ahorro'\n",
       "\\item 'cdescubierto\\_preacordado'\n",
       "\\item 'mcuentas\\_saldo'\n",
       "\\item 'mtarjeta\\_visa\\_consumo'\n",
       "\\item 'ctarjeta\\_master'\n",
       "\\item 'mtarjeta\\_master\\_consumo'\n",
       "\\item 'cprestamos\\_personales'\n",
       "\\item 'mprestamos\\_personales'\n",
       "\\item 'cpayroll\\_trx'\n",
       "\\item 'mttarjeta\\_visa\\_debitos\\_automaticos'\n",
       "\\item 'ccomisiones\\_mantenimiento'\n",
       "\\item 'mcomisiones\\_mantenimiento'\n",
       "\\item 'mtransferencias\\_recibidas'\n",
       "\\item 'ccallcenter\\_transacciones'\n",
       "\\item 'chomebanking\\_transacciones'\n",
       "\\item 'ctrx\\_quarter'\n",
       "\\item 'Master\\_status'\n",
       "\\item 'Master\\_mfinanciacion\\_limite'\n",
       "\\item 'Master\\_Fvencimiento'\n",
       "\\item 'Master\\_msaldototal'\n",
       "\\item 'Master\\_fechaalta'\n",
       "\\item 'Master\\_mpagominimo'\n",
       "\\item 'Visa\\_status'\n",
       "\\item 'Visa\\_mfinanciacion\\_limite'\n",
       "\\item 'Visa\\_Fvencimiento'\n",
       "\\item 'Visa\\_msaldototal'\n",
       "\\item 'Visa\\_fultimo\\_cierre'\n",
       "\\item 'Visa\\_fechaalta'\n",
       "\\item 'Visa\\_mconsumototal'\n",
       "\\item 'Visa\\_cconsumos'\n",
       "\\item 'Visa\\_mpagominimo'\n",
       "\\item 'clase\\_ternaria'\n",
       "\\item 'mpayroll\\_sobre\\_edad'\n",
       "\\item 'rf\\_001\\_002'\n",
       "\\item 'rf\\_002\\_009'\n",
       "\\item 'rf\\_002\\_010'\n",
       "\\item 'rf\\_003\\_007'\n",
       "\\item 'rf\\_003\\_004'\n",
       "\\item 'rf\\_004\\_004'\n",
       "\\item 'rf\\_005\\_000'\n",
       "\\item 'rf\\_008\\_001'\n",
       "\\item 'rf\\_009\\_003'\n",
       "\\item 'rf\\_009\\_014'\n",
       "\\item 'rf\\_009\\_000'\n",
       "\\item 'rf\\_010\\_013'\n",
       "\\item 'rf\\_011\\_005'\n",
       "\\item 'rf\\_011\\_003'\n",
       "\\item 'rf\\_011\\_014'\n",
       "\\item 'rf\\_013\\_015'\n",
       "\\item 'rf\\_013\\_012'\n",
       "\\item 'rf\\_013\\_000'\n",
       "\\item 'rf\\_014\\_014'\n",
       "\\item 'rf\\_014\\_013'\n",
       "\\item 'rf\\_015\\_011'\n",
       "\\item 'rf\\_017\\_005'\n",
       "\\item 'rf\\_018\\_006'\n",
       "\\item 'rf\\_019\\_002'\n",
       "\\item 'rf\\_020\\_007'\n",
       "\\item 'rf\\_020\\_005'\n",
       "\\item 'cliente\\_edad\\_lag1'\n",
       "\\item 'cliente\\_antiguedad\\_lag1'\n",
       "\\item 'mrentabilidad\\_lag1'\n",
       "\\item 'mrentabilidad\\_annual\\_lag1'\n",
       "\\item 'mcomisiones\\_lag1'\n",
       "\\item 'mactivos\\_margen\\_lag1'\n",
       "\\item 'mpasivos\\_margen\\_lag1'\n",
       "\\item 'cproductos\\_lag1'\n",
       "\\item 'mcuenta\\_corriente\\_lag1'\n",
       "\\item 'mcaja\\_ahorro\\_lag1'\n",
       "\\item 'mcuentas\\_saldo\\_lag1'\n",
       "\\item 'mtarjeta\\_visa\\_consumo\\_lag1'\n",
       "\\item 'mprestamos\\_personales\\_lag1'\n",
       "\\item 'mttarjeta\\_visa\\_debitos\\_automaticos\\_lag1'\n",
       "\\item 'mcomisiones\\_mantenimiento\\_lag1'\n",
       "\\item 'ccomisiones\\_otras\\_lag1'\n",
       "\\item 'mtransferencias\\_recibidas\\_lag1'\n",
       "\\item 'chomebanking\\_transacciones\\_lag1'\n",
       "\\item 'ctrx\\_quarter\\_lag1'\n",
       "\\item 'Master\\_mfinanciacion\\_limite\\_lag1'\n",
       "\\item 'Master\\_Fvencimiento\\_lag1'\n",
       "\\item 'Master\\_fultimo\\_cierre\\_lag1'\n",
       "\\item 'Master\\_fechaalta\\_lag1'\n",
       "\\item 'Master\\_mpagominimo\\_lag1'\n",
       "\\item 'Visa\\_mfinanciacion\\_limite\\_lag1'\n",
       "\\item 'Visa\\_Fvencimiento\\_lag1'\n",
       "\\item 'Visa\\_msaldototal\\_lag1'\n",
       "\\item 'Visa\\_fultimo\\_cierre\\_lag1'\n",
       "\\item 'Visa\\_fechaalta\\_lag1'\n",
       "\\item 'Visa\\_mconsumototal\\_lag1'\n",
       "\\item 'Visa\\_cconsumos\\_lag1'\n",
       "\\item 'Visa\\_mpagominimo\\_lag1'\n",
       "\\item 'kmes\\_lag1'\n",
       "\\item 'mpayroll\\_sobre\\_edad\\_lag1'\n",
       "\\item 'rf\\_008\\_011\\_lag1'\n",
       "\\item 'rf\\_008\\_005\\_lag1'\n",
       "\\item 'rf\\_011\\_014\\_lag1'\n",
       "\\item 'mrentabilidad\\_delta1'\n",
       "\\item 'mrentabilidad\\_annual\\_delta1'\n",
       "\\item 'mcomisiones\\_delta1'\n",
       "\\item 'mactivos\\_margen\\_delta1'\n",
       "\\item 'mpasivos\\_margen\\_delta1'\n",
       "\\item 'cproductos\\_delta1'\n",
       "\\item 'mcuenta\\_corriente\\_delta1'\n",
       "\\item 'mcaja\\_ahorro\\_delta1'\n",
       "\\item 'mcuentas\\_saldo\\_delta1'\n",
       "\\item 'ctarjeta\\_visa\\_transacciones\\_delta1'\n",
       "\\item 'mtarjeta\\_visa\\_consumo\\_delta1'\n",
       "\\item 'cprestamos\\_personales\\_delta1'\n",
       "\\item 'mprestamos\\_personales\\_delta1'\n",
       "\\item 'cpayroll\\_trx\\_delta1'\n",
       "\\item 'mpayroll\\_delta1'\n",
       "\\item 'mttarjeta\\_visa\\_debitos\\_automaticos\\_delta1'\n",
       "\\item 'ccomisiones\\_mantenimiento\\_delta1'\n",
       "\\item 'mcomisiones\\_mantenimiento\\_delta1'\n",
       "\\item 'ccallcenter\\_transacciones\\_delta1'\n",
       "\\item 'chomebanking\\_transacciones\\_delta1'\n",
       "\\item 'ctrx\\_quarter\\_delta1'\n",
       "\\item 'Master\\_mfinanciacion\\_limite\\_delta1'\n",
       "\\item 'Master\\_msaldototal\\_delta1'\n",
       "\\item 'Master\\_mconsumototal\\_delta1'\n",
       "\\item 'Visa\\_mfinanciacion\\_limite\\_delta1'\n",
       "\\item 'Visa\\_msaldototal\\_delta1'\n",
       "\\item 'Visa\\_mconsumototal\\_delta1'\n",
       "\\item 'rf\\_002\\_010\\_delta1'\n",
       "\\item 'rf\\_013\\_012\\_delta1'\n",
       "\\end{enumerate*}\n"
      ],
      "text/markdown": [
       "1. 'numero_de_cliente'\n",
       "2. 'foto_mes'\n",
       "3. 'cliente_edad'\n",
       "4. 'cliente_antiguedad'\n",
       "5. 'mrentabilidad'\n",
       "6. 'mrentabilidad_annual'\n",
       "7. 'mcomisiones'\n",
       "8. 'mactivos_margen'\n",
       "9. 'mpasivos_margen'\n",
       "10. 'cproductos'\n",
       "11. 'mcuenta_corriente'\n",
       "12. 'mcaja_ahorro'\n",
       "13. 'cdescubierto_preacordado'\n",
       "14. 'mcuentas_saldo'\n",
       "15. 'mtarjeta_visa_consumo'\n",
       "16. 'ctarjeta_master'\n",
       "17. 'mtarjeta_master_consumo'\n",
       "18. 'cprestamos_personales'\n",
       "19. 'mprestamos_personales'\n",
       "20. 'cpayroll_trx'\n",
       "21. 'mttarjeta_visa_debitos_automaticos'\n",
       "22. 'ccomisiones_mantenimiento'\n",
       "23. 'mcomisiones_mantenimiento'\n",
       "24. 'mtransferencias_recibidas'\n",
       "25. 'ccallcenter_transacciones'\n",
       "26. 'chomebanking_transacciones'\n",
       "27. 'ctrx_quarter'\n",
       "28. 'Master_status'\n",
       "29. 'Master_mfinanciacion_limite'\n",
       "30. 'Master_Fvencimiento'\n",
       "31. 'Master_msaldototal'\n",
       "32. 'Master_fechaalta'\n",
       "33. 'Master_mpagominimo'\n",
       "34. 'Visa_status'\n",
       "35. 'Visa_mfinanciacion_limite'\n",
       "36. 'Visa_Fvencimiento'\n",
       "37. 'Visa_msaldototal'\n",
       "38. 'Visa_fultimo_cierre'\n",
       "39. 'Visa_fechaalta'\n",
       "40. 'Visa_mconsumototal'\n",
       "41. 'Visa_cconsumos'\n",
       "42. 'Visa_mpagominimo'\n",
       "43. 'clase_ternaria'\n",
       "44. 'mpayroll_sobre_edad'\n",
       "45. 'rf_001_002'\n",
       "46. 'rf_002_009'\n",
       "47. 'rf_002_010'\n",
       "48. 'rf_003_007'\n",
       "49. 'rf_003_004'\n",
       "50. 'rf_004_004'\n",
       "51. 'rf_005_000'\n",
       "52. 'rf_008_001'\n",
       "53. 'rf_009_003'\n",
       "54. 'rf_009_014'\n",
       "55. 'rf_009_000'\n",
       "56. 'rf_010_013'\n",
       "57. 'rf_011_005'\n",
       "58. 'rf_011_003'\n",
       "59. 'rf_011_014'\n",
       "60. 'rf_013_015'\n",
       "61. 'rf_013_012'\n",
       "62. 'rf_013_000'\n",
       "63. 'rf_014_014'\n",
       "64. 'rf_014_013'\n",
       "65. 'rf_015_011'\n",
       "66. 'rf_017_005'\n",
       "67. 'rf_018_006'\n",
       "68. 'rf_019_002'\n",
       "69. 'rf_020_007'\n",
       "70. 'rf_020_005'\n",
       "71. 'cliente_edad_lag1'\n",
       "72. 'cliente_antiguedad_lag1'\n",
       "73. 'mrentabilidad_lag1'\n",
       "74. 'mrentabilidad_annual_lag1'\n",
       "75. 'mcomisiones_lag1'\n",
       "76. 'mactivos_margen_lag1'\n",
       "77. 'mpasivos_margen_lag1'\n",
       "78. 'cproductos_lag1'\n",
       "79. 'mcuenta_corriente_lag1'\n",
       "80. 'mcaja_ahorro_lag1'\n",
       "81. 'mcuentas_saldo_lag1'\n",
       "82. 'mtarjeta_visa_consumo_lag1'\n",
       "83. 'mprestamos_personales_lag1'\n",
       "84. 'mttarjeta_visa_debitos_automaticos_lag1'\n",
       "85. 'mcomisiones_mantenimiento_lag1'\n",
       "86. 'ccomisiones_otras_lag1'\n",
       "87. 'mtransferencias_recibidas_lag1'\n",
       "88. 'chomebanking_transacciones_lag1'\n",
       "89. 'ctrx_quarter_lag1'\n",
       "90. 'Master_mfinanciacion_limite_lag1'\n",
       "91. 'Master_Fvencimiento_lag1'\n",
       "92. 'Master_fultimo_cierre_lag1'\n",
       "93. 'Master_fechaalta_lag1'\n",
       "94. 'Master_mpagominimo_lag1'\n",
       "95. 'Visa_mfinanciacion_limite_lag1'\n",
       "96. 'Visa_Fvencimiento_lag1'\n",
       "97. 'Visa_msaldototal_lag1'\n",
       "98. 'Visa_fultimo_cierre_lag1'\n",
       "99. 'Visa_fechaalta_lag1'\n",
       "100. 'Visa_mconsumototal_lag1'\n",
       "101. 'Visa_cconsumos_lag1'\n",
       "102. 'Visa_mpagominimo_lag1'\n",
       "103. 'kmes_lag1'\n",
       "104. 'mpayroll_sobre_edad_lag1'\n",
       "105. 'rf_008_011_lag1'\n",
       "106. 'rf_008_005_lag1'\n",
       "107. 'rf_011_014_lag1'\n",
       "108. 'mrentabilidad_delta1'\n",
       "109. 'mrentabilidad_annual_delta1'\n",
       "110. 'mcomisiones_delta1'\n",
       "111. 'mactivos_margen_delta1'\n",
       "112. 'mpasivos_margen_delta1'\n",
       "113. 'cproductos_delta1'\n",
       "114. 'mcuenta_corriente_delta1'\n",
       "115. 'mcaja_ahorro_delta1'\n",
       "116. 'mcuentas_saldo_delta1'\n",
       "117. 'ctarjeta_visa_transacciones_delta1'\n",
       "118. 'mtarjeta_visa_consumo_delta1'\n",
       "119. 'cprestamos_personales_delta1'\n",
       "120. 'mprestamos_personales_delta1'\n",
       "121. 'cpayroll_trx_delta1'\n",
       "122. 'mpayroll_delta1'\n",
       "123. 'mttarjeta_visa_debitos_automaticos_delta1'\n",
       "124. 'ccomisiones_mantenimiento_delta1'\n",
       "125. 'mcomisiones_mantenimiento_delta1'\n",
       "126. 'ccallcenter_transacciones_delta1'\n",
       "127. 'chomebanking_transacciones_delta1'\n",
       "128. 'ctrx_quarter_delta1'\n",
       "129. 'Master_mfinanciacion_limite_delta1'\n",
       "130. 'Master_msaldototal_delta1'\n",
       "131. 'Master_mconsumototal_delta1'\n",
       "132. 'Visa_mfinanciacion_limite_delta1'\n",
       "133. 'Visa_msaldototal_delta1'\n",
       "134. 'Visa_mconsumototal_delta1'\n",
       "135. 'rf_002_010_delta1'\n",
       "136. 'rf_013_012_delta1'\n",
       "\n",
       "\n"
      ],
      "text/plain": [
       "  [1] \"numero_de_cliente\"                        \n",
       "  [2] \"foto_mes\"                                 \n",
       "  [3] \"cliente_edad\"                             \n",
       "  [4] \"cliente_antiguedad\"                       \n",
       "  [5] \"mrentabilidad\"                            \n",
       "  [6] \"mrentabilidad_annual\"                     \n",
       "  [7] \"mcomisiones\"                              \n",
       "  [8] \"mactivos_margen\"                          \n",
       "  [9] \"mpasivos_margen\"                          \n",
       " [10] \"cproductos\"                               \n",
       " [11] \"mcuenta_corriente\"                        \n",
       " [12] \"mcaja_ahorro\"                             \n",
       " [13] \"cdescubierto_preacordado\"                 \n",
       " [14] \"mcuentas_saldo\"                           \n",
       " [15] \"mtarjeta_visa_consumo\"                    \n",
       " [16] \"ctarjeta_master\"                          \n",
       " [17] \"mtarjeta_master_consumo\"                  \n",
       " [18] \"cprestamos_personales\"                    \n",
       " [19] \"mprestamos_personales\"                    \n",
       " [20] \"cpayroll_trx\"                             \n",
       " [21] \"mttarjeta_visa_debitos_automaticos\"       \n",
       " [22] \"ccomisiones_mantenimiento\"                \n",
       " [23] \"mcomisiones_mantenimiento\"                \n",
       " [24] \"mtransferencias_recibidas\"                \n",
       " [25] \"ccallcenter_transacciones\"                \n",
       " [26] \"chomebanking_transacciones\"               \n",
       " [27] \"ctrx_quarter\"                             \n",
       " [28] \"Master_status\"                            \n",
       " [29] \"Master_mfinanciacion_limite\"              \n",
       " [30] \"Master_Fvencimiento\"                      \n",
       " [31] \"Master_msaldototal\"                       \n",
       " [32] \"Master_fechaalta\"                         \n",
       " [33] \"Master_mpagominimo\"                       \n",
       " [34] \"Visa_status\"                              \n",
       " [35] \"Visa_mfinanciacion_limite\"                \n",
       " [36] \"Visa_Fvencimiento\"                        \n",
       " [37] \"Visa_msaldototal\"                         \n",
       " [38] \"Visa_fultimo_cierre\"                      \n",
       " [39] \"Visa_fechaalta\"                           \n",
       " [40] \"Visa_mconsumototal\"                       \n",
       " [41] \"Visa_cconsumos\"                           \n",
       " [42] \"Visa_mpagominimo\"                         \n",
       " [43] \"clase_ternaria\"                           \n",
       " [44] \"mpayroll_sobre_edad\"                      \n",
       " [45] \"rf_001_002\"                               \n",
       " [46] \"rf_002_009\"                               \n",
       " [47] \"rf_002_010\"                               \n",
       " [48] \"rf_003_007\"                               \n",
       " [49] \"rf_003_004\"                               \n",
       " [50] \"rf_004_004\"                               \n",
       " [51] \"rf_005_000\"                               \n",
       " [52] \"rf_008_001\"                               \n",
       " [53] \"rf_009_003\"                               \n",
       " [54] \"rf_009_014\"                               \n",
       " [55] \"rf_009_000\"                               \n",
       " [56] \"rf_010_013\"                               \n",
       " [57] \"rf_011_005\"                               \n",
       " [58] \"rf_011_003\"                               \n",
       " [59] \"rf_011_014\"                               \n",
       " [60] \"rf_013_015\"                               \n",
       " [61] \"rf_013_012\"                               \n",
       " [62] \"rf_013_000\"                               \n",
       " [63] \"rf_014_014\"                               \n",
       " [64] \"rf_014_013\"                               \n",
       " [65] \"rf_015_011\"                               \n",
       " [66] \"rf_017_005\"                               \n",
       " [67] \"rf_018_006\"                               \n",
       " [68] \"rf_019_002\"                               \n",
       " [69] \"rf_020_007\"                               \n",
       " [70] \"rf_020_005\"                               \n",
       " [71] \"cliente_edad_lag1\"                        \n",
       " [72] \"cliente_antiguedad_lag1\"                  \n",
       " [73] \"mrentabilidad_lag1\"                       \n",
       " [74] \"mrentabilidad_annual_lag1\"                \n",
       " [75] \"mcomisiones_lag1\"                         \n",
       " [76] \"mactivos_margen_lag1\"                     \n",
       " [77] \"mpasivos_margen_lag1\"                     \n",
       " [78] \"cproductos_lag1\"                          \n",
       " [79] \"mcuenta_corriente_lag1\"                   \n",
       " [80] \"mcaja_ahorro_lag1\"                        \n",
       " [81] \"mcuentas_saldo_lag1\"                      \n",
       " [82] \"mtarjeta_visa_consumo_lag1\"               \n",
       " [83] \"mprestamos_personales_lag1\"               \n",
       " [84] \"mttarjeta_visa_debitos_automaticos_lag1\"  \n",
       " [85] \"mcomisiones_mantenimiento_lag1\"           \n",
       " [86] \"ccomisiones_otras_lag1\"                   \n",
       " [87] \"mtransferencias_recibidas_lag1\"           \n",
       " [88] \"chomebanking_transacciones_lag1\"          \n",
       " [89] \"ctrx_quarter_lag1\"                        \n",
       " [90] \"Master_mfinanciacion_limite_lag1\"         \n",
       " [91] \"Master_Fvencimiento_lag1\"                 \n",
       " [92] \"Master_fultimo_cierre_lag1\"               \n",
       " [93] \"Master_fechaalta_lag1\"                    \n",
       " [94] \"Master_mpagominimo_lag1\"                  \n",
       " [95] \"Visa_mfinanciacion_limite_lag1\"           \n",
       " [96] \"Visa_Fvencimiento_lag1\"                   \n",
       " [97] \"Visa_msaldototal_lag1\"                    \n",
       " [98] \"Visa_fultimo_cierre_lag1\"                 \n",
       " [99] \"Visa_fechaalta_lag1\"                      \n",
       "[100] \"Visa_mconsumototal_lag1\"                  \n",
       "[101] \"Visa_cconsumos_lag1\"                      \n",
       "[102] \"Visa_mpagominimo_lag1\"                    \n",
       "[103] \"kmes_lag1\"                                \n",
       "[104] \"mpayroll_sobre_edad_lag1\"                 \n",
       "[105] \"rf_008_011_lag1\"                          \n",
       "[106] \"rf_008_005_lag1\"                          \n",
       "[107] \"rf_011_014_lag1\"                          \n",
       "[108] \"mrentabilidad_delta1\"                     \n",
       "[109] \"mrentabilidad_annual_delta1\"              \n",
       "[110] \"mcomisiones_delta1\"                       \n",
       "[111] \"mactivos_margen_delta1\"                   \n",
       "[112] \"mpasivos_margen_delta1\"                   \n",
       "[113] \"cproductos_delta1\"                        \n",
       "[114] \"mcuenta_corriente_delta1\"                 \n",
       "[115] \"mcaja_ahorro_delta1\"                      \n",
       "[116] \"mcuentas_saldo_delta1\"                    \n",
       "[117] \"ctarjeta_visa_transacciones_delta1\"       \n",
       "[118] \"mtarjeta_visa_consumo_delta1\"             \n",
       "[119] \"cprestamos_personales_delta1\"             \n",
       "[120] \"mprestamos_personales_delta1\"             \n",
       "[121] \"cpayroll_trx_delta1\"                      \n",
       "[122] \"mpayroll_delta1\"                          \n",
       "[123] \"mttarjeta_visa_debitos_automaticos_delta1\"\n",
       "[124] \"ccomisiones_mantenimiento_delta1\"         \n",
       "[125] \"mcomisiones_mantenimiento_delta1\"         \n",
       "[126] \"ccallcenter_transacciones_delta1\"         \n",
       "[127] \"chomebanking_transacciones_delta1\"        \n",
       "[128] \"ctrx_quarter_delta1\"                      \n",
       "[129] \"Master_mfinanciacion_limite_delta1\"       \n",
       "[130] \"Master_msaldototal_delta1\"                \n",
       "[131] \"Master_mconsumototal_delta1\"              \n",
       "[132] \"Visa_mfinanciacion_limite_delta1\"         \n",
       "[133] \"Visa_msaldototal_delta1\"                  \n",
       "[134] \"Visa_mconsumototal_delta1\"                \n",
       "[135] \"rf_002_010_delta1\"                        \n",
       "[136] \"rf_013_012_delta1\"                        "
      ]
     },
     "metadata": {},
     "output_type": "display_data"
    }
   ],
   "source": [
    "# verifico\n",
    "ncol(dataset)\n",
    "colnames(dataset)"
   ]
  },
  {
   "cell_type": "code",
   "execution_count": 43,
   "id": "ee2bd1cb-72e2-4f08-8454-8f63fb92cac9",
   "metadata": {
    "id": "6aaa4d9c-4a0c-46f8-88b1-9b48022a1814"
   },
   "outputs": [
    {
     "data": {
      "text/html": [
       "<table class=\"dataframe\">\n",
       "<caption>A data.table: 6 × 136</caption>\n",
       "<thead>\n",
       "\t<tr><th scope=col>numero_de_cliente</th><th scope=col>foto_mes</th><th scope=col>cliente_edad</th><th scope=col>cliente_antiguedad</th><th scope=col>mrentabilidad</th><th scope=col>mrentabilidad_annual</th><th scope=col>mcomisiones</th><th scope=col>mactivos_margen</th><th scope=col>mpasivos_margen</th><th scope=col>cproductos</th><th scope=col>⋯</th><th scope=col>chomebanking_transacciones_delta1</th><th scope=col>ctrx_quarter_delta1</th><th scope=col>Master_mfinanciacion_limite_delta1</th><th scope=col>Master_msaldototal_delta1</th><th scope=col>Master_mconsumototal_delta1</th><th scope=col>Visa_mfinanciacion_limite_delta1</th><th scope=col>Visa_msaldototal_delta1</th><th scope=col>Visa_mconsumototal_delta1</th><th scope=col>rf_002_010_delta1</th><th scope=col>rf_013_012_delta1</th></tr>\n",
       "\t<tr><th scope=col>&lt;int&gt;</th><th scope=col>&lt;int&gt;</th><th scope=col>&lt;int&gt;</th><th scope=col>&lt;int&gt;</th><th scope=col>&lt;dbl&gt;</th><th scope=col>&lt;dbl&gt;</th><th scope=col>&lt;dbl&gt;</th><th scope=col>&lt;dbl&gt;</th><th scope=col>&lt;dbl&gt;</th><th scope=col>&lt;int&gt;</th><th scope=col>⋯</th><th scope=col>&lt;int&gt;</th><th scope=col>&lt;int&gt;</th><th scope=col>&lt;dbl&gt;</th><th scope=col>&lt;dbl&gt;</th><th scope=col>&lt;dbl&gt;</th><th scope=col>&lt;dbl&gt;</th><th scope=col>&lt;dbl&gt;</th><th scope=col>&lt;dbl&gt;</th><th scope=col>&lt;int&gt;</th><th scope=col>&lt;int&gt;</th></tr>\n",
       "</thead>\n",
       "<tbody>\n",
       "\t<tr><td>29186441</td><td>202003</td><td>61</td><td>280</td><td>3621.556</td><td>72408.00</td><td>2839.772</td><td>-260.1392</td><td> 926.6248</td><td>7</td><td>⋯</td><td> NA</td><td> NA</td><td>       NA</td><td>NA</td><td>NA</td><td>       NA</td><td>         NA</td><td>        NA</td><td>NA</td><td>NA</td></tr>\n",
       "\t<tr><td>29186441</td><td>202004</td><td>61</td><td>281</td><td>3821.988</td><td>72646.99</td><td>2801.989</td><td>-362.1820</td><td>1231.7390</td><td>7</td><td>⋯</td><td>-56</td><td> -7</td><td>-1938.552</td><td> 0</td><td>NA</td><td>-1938.552</td><td> 1172.18794</td><td> 1364.3122</td><td> 0</td><td> 0</td></tr>\n",
       "\t<tr><td>29186441</td><td>202005</td><td>61</td><td>282</td><td>3952.188</td><td>73443.07</td><td>2823.058</td><td>-233.3109</td><td>1195.9238</td><td>7</td><td>⋯</td><td> -4</td><td> -2</td><td>-1967.988</td><td> 0</td><td>NA</td><td>-1967.988</td><td> 3920.13546</td><td> 4531.0714</td><td> 0</td><td> 0</td></tr>\n",
       "\t<tr><td>29186441</td><td>202006</td><td>61</td><td>283</td><td>      NA</td><td>      NA</td><td>      NA</td><td>       NA</td><td>       NA</td><td>7</td><td>⋯</td><td> NA</td><td>-15</td><td>-2799.165</td><td> 0</td><td>NA</td><td>-2799.165</td><td>-4918.60092</td><td>-5649.3514</td><td>NA</td><td> 1</td></tr>\n",
       "\t<tr><td>29186441</td><td>202007</td><td>61</td><td>284</td><td>4203.126</td><td>74127.01</td><td>2712.778</td><td>-298.9972</td><td>1569.5418</td><td>7</td><td>⋯</td><td> NA</td><td> 18</td><td>-2367.419</td><td> 0</td><td>NA</td><td>-2367.419</td><td> 3866.62483</td><td> 4504.1222</td><td>NA</td><td>-1</td></tr>\n",
       "\t<tr><td>29186441</td><td>202008</td><td>61</td><td>285</td><td>5679.209</td><td>75838.02</td><td>2648.778</td><td>-314.7337</td><td>2898.2222</td><td>7</td><td>⋯</td><td>-23</td><td>  2</td><td>-3217.996</td><td> 0</td><td>NA</td><td>-3217.996</td><td>   87.46767</td><td>  125.6152</td><td> 0</td><td> 0</td></tr>\n",
       "</tbody>\n",
       "</table>\n"
      ],
      "text/latex": [
       "A data.table: 6 × 136\n",
       "\\begin{tabular}{lllllllllllllllllllll}\n",
       " numero\\_de\\_cliente & foto\\_mes & cliente\\_edad & cliente\\_antiguedad & mrentabilidad & mrentabilidad\\_annual & mcomisiones & mactivos\\_margen & mpasivos\\_margen & cproductos & ⋯ & chomebanking\\_transacciones\\_delta1 & ctrx\\_quarter\\_delta1 & Master\\_mfinanciacion\\_limite\\_delta1 & Master\\_msaldototal\\_delta1 & Master\\_mconsumototal\\_delta1 & Visa\\_mfinanciacion\\_limite\\_delta1 & Visa\\_msaldototal\\_delta1 & Visa\\_mconsumototal\\_delta1 & rf\\_002\\_010\\_delta1 & rf\\_013\\_012\\_delta1\\\\\n",
       " <int> & <int> & <int> & <int> & <dbl> & <dbl> & <dbl> & <dbl> & <dbl> & <int> & ⋯ & <int> & <int> & <dbl> & <dbl> & <dbl> & <dbl> & <dbl> & <dbl> & <int> & <int>\\\\\n",
       "\\hline\n",
       "\t 29186441 & 202003 & 61 & 280 & 3621.556 & 72408.00 & 2839.772 & -260.1392 &  926.6248 & 7 & ⋯ &  NA &  NA &        NA & NA & NA &        NA &          NA &         NA & NA & NA\\\\\n",
       "\t 29186441 & 202004 & 61 & 281 & 3821.988 & 72646.99 & 2801.989 & -362.1820 & 1231.7390 & 7 & ⋯ & -56 &  -7 & -1938.552 &  0 & NA & -1938.552 &  1172.18794 &  1364.3122 &  0 &  0\\\\\n",
       "\t 29186441 & 202005 & 61 & 282 & 3952.188 & 73443.07 & 2823.058 & -233.3109 & 1195.9238 & 7 & ⋯ &  -4 &  -2 & -1967.988 &  0 & NA & -1967.988 &  3920.13546 &  4531.0714 &  0 &  0\\\\\n",
       "\t 29186441 & 202006 & 61 & 283 &       NA &       NA &       NA &        NA &        NA & 7 & ⋯ &  NA & -15 & -2799.165 &  0 & NA & -2799.165 & -4918.60092 & -5649.3514 & NA &  1\\\\\n",
       "\t 29186441 & 202007 & 61 & 284 & 4203.126 & 74127.01 & 2712.778 & -298.9972 & 1569.5418 & 7 & ⋯ &  NA &  18 & -2367.419 &  0 & NA & -2367.419 &  3866.62483 &  4504.1222 & NA & -1\\\\\n",
       "\t 29186441 & 202008 & 61 & 285 & 5679.209 & 75838.02 & 2648.778 & -314.7337 & 2898.2222 & 7 & ⋯ & -23 &   2 & -3217.996 &  0 & NA & -3217.996 &    87.46767 &   125.6152 &  0 &  0\\\\\n",
       "\\end{tabular}\n"
      ],
      "text/markdown": [
       "\n",
       "A data.table: 6 × 136\n",
       "\n",
       "| numero_de_cliente &lt;int&gt; | foto_mes &lt;int&gt; | cliente_edad &lt;int&gt; | cliente_antiguedad &lt;int&gt; | mrentabilidad &lt;dbl&gt; | mrentabilidad_annual &lt;dbl&gt; | mcomisiones &lt;dbl&gt; | mactivos_margen &lt;dbl&gt; | mpasivos_margen &lt;dbl&gt; | cproductos &lt;int&gt; | ⋯ ⋯ | chomebanking_transacciones_delta1 &lt;int&gt; | ctrx_quarter_delta1 &lt;int&gt; | Master_mfinanciacion_limite_delta1 &lt;dbl&gt; | Master_msaldototal_delta1 &lt;dbl&gt; | Master_mconsumototal_delta1 &lt;dbl&gt; | Visa_mfinanciacion_limite_delta1 &lt;dbl&gt; | Visa_msaldototal_delta1 &lt;dbl&gt; | Visa_mconsumototal_delta1 &lt;dbl&gt; | rf_002_010_delta1 &lt;int&gt; | rf_013_012_delta1 &lt;int&gt; |\n",
       "|---|---|---|---|---|---|---|---|---|---|---|---|---|---|---|---|---|---|---|---|---|\n",
       "| 29186441 | 202003 | 61 | 280 | 3621.556 | 72408.00 | 2839.772 | -260.1392 |  926.6248 | 7 | ⋯ |  NA |  NA |        NA | NA | NA |        NA |          NA |         NA | NA | NA |\n",
       "| 29186441 | 202004 | 61 | 281 | 3821.988 | 72646.99 | 2801.989 | -362.1820 | 1231.7390 | 7 | ⋯ | -56 |  -7 | -1938.552 |  0 | NA | -1938.552 |  1172.18794 |  1364.3122 |  0 |  0 |\n",
       "| 29186441 | 202005 | 61 | 282 | 3952.188 | 73443.07 | 2823.058 | -233.3109 | 1195.9238 | 7 | ⋯ |  -4 |  -2 | -1967.988 |  0 | NA | -1967.988 |  3920.13546 |  4531.0714 |  0 |  0 |\n",
       "| 29186441 | 202006 | 61 | 283 |       NA |       NA |       NA |        NA |        NA | 7 | ⋯ |  NA | -15 | -2799.165 |  0 | NA | -2799.165 | -4918.60092 | -5649.3514 | NA |  1 |\n",
       "| 29186441 | 202007 | 61 | 284 | 4203.126 | 74127.01 | 2712.778 | -298.9972 | 1569.5418 | 7 | ⋯ |  NA |  18 | -2367.419 |  0 | NA | -2367.419 |  3866.62483 |  4504.1222 | NA | -1 |\n",
       "| 29186441 | 202008 | 61 | 285 | 5679.209 | 75838.02 | 2648.778 | -314.7337 | 2898.2222 | 7 | ⋯ | -23 |   2 | -3217.996 |  0 | NA | -3217.996 |    87.46767 |   125.6152 |  0 |  0 |\n",
       "\n"
      ],
      "text/plain": [
       "  numero_de_cliente foto_mes cliente_edad cliente_antiguedad mrentabilidad\n",
       "1 29186441          202003   61           280                3621.556     \n",
       "2 29186441          202004   61           281                3821.988     \n",
       "3 29186441          202005   61           282                3952.188     \n",
       "4 29186441          202006   61           283                      NA     \n",
       "5 29186441          202007   61           284                4203.126     \n",
       "6 29186441          202008   61           285                5679.209     \n",
       "  mrentabilidad_annual mcomisiones mactivos_margen mpasivos_margen cproductos ⋯\n",
       "1 72408.00             2839.772    -260.1392        926.6248       7          ⋯\n",
       "2 72646.99             2801.989    -362.1820       1231.7390       7          ⋯\n",
       "3 73443.07             2823.058    -233.3109       1195.9238       7          ⋯\n",
       "4       NA                   NA           NA              NA       7          ⋯\n",
       "5 74127.01             2712.778    -298.9972       1569.5418       7          ⋯\n",
       "6 75838.02             2648.778    -314.7337       2898.2222       7          ⋯\n",
       "  chomebanking_transacciones_delta1 ctrx_quarter_delta1\n",
       "1  NA                                NA                \n",
       "2 -56                                -7                \n",
       "3  -4                                -2                \n",
       "4  NA                               -15                \n",
       "5  NA                                18                \n",
       "6 -23                                 2                \n",
       "  Master_mfinanciacion_limite_delta1 Master_msaldototal_delta1\n",
       "1        NA                          NA                       \n",
       "2 -1938.552                           0                       \n",
       "3 -1967.988                           0                       \n",
       "4 -2799.165                           0                       \n",
       "5 -2367.419                           0                       \n",
       "6 -3217.996                           0                       \n",
       "  Master_mconsumototal_delta1 Visa_mfinanciacion_limite_delta1\n",
       "1 NA                                 NA                       \n",
       "2 NA                          -1938.552                       \n",
       "3 NA                          -1967.988                       \n",
       "4 NA                          -2799.165                       \n",
       "5 NA                          -2367.419                       \n",
       "6 NA                          -3217.996                       \n",
       "  Visa_msaldototal_delta1 Visa_mconsumototal_delta1 rf_002_010_delta1\n",
       "1          NA                     NA                NA               \n",
       "2  1172.18794              1364.3122                 0               \n",
       "3  3920.13546              4531.0714                 0               \n",
       "4 -4918.60092             -5649.3514                NA               \n",
       "5  3866.62483              4504.1222                NA               \n",
       "6    87.46767               125.6152                 0               \n",
       "  rf_013_012_delta1\n",
       "1 NA               \n",
       "2  0               \n",
       "3  0               \n",
       "4  1               \n",
       "5 -1               \n",
       "6  0               "
      ]
     },
     "metadata": {},
     "output_type": "display_data"
    }
   ],
   "source": [
    "# verifico\n",
    "head(dataset)"
   ]
  },
  {
   "cell_type": "markdown",
   "id": "20bcfc12-ee47-4639-9121-7daa636e6c1d",
   "metadata": {
    "id": "71RWF8n_yVJE"
   },
   "source": [
    "El objetivo de esta etapa NO es mejorar el modelo predictivo"
   ]
  },
  {
   "cell_type": "code",
   "execution_count": 44,
   "id": "QrmnPtlBcEgx",
   "metadata": {
    "id": "QrmnPtlBcEgx"
   },
   "outputs": [],
   "source": [
    "# No se implementa la reduccion de la dimensionalidad con canaritos"
   ]
  },
  {
   "cell_type": "markdown",
   "id": "cf91ea5e-3341-4afb-8d05-cc4923d3d1e1",
   "metadata": {
    "id": "cf91ea5e-3341-4afb-8d05-cc4923d3d1e1"
   },
   "source": [
    "### 9.3.2 Modelado"
   ]
  },
  {
   "cell_type": "markdown",
   "id": "526048e4-8cf2-4023-bd2d-a70e4e9ff157",
   "metadata": {
    "id": "526048e4-8cf2-4023-bd2d-a70e4e9ff157"
   },
   "source": [
    "#### 9.3.2.1 Training Strategy"
   ]
  },
  {
   "cell_type": "markdown",
   "id": "f16bc1c1-b3ea-43ca-9d3c-53f8f9ab8ec1",
   "metadata": {
    "id": "f16bc1c1-b3ea-43ca-9d3c-53f8f9ab8ec1"
   },
   "source": [
    "Se hace una estrategia de entrenamiento muy sencilla, tomando todos los meses posibles, SIN eliminar nada x pandemia ni por ningun otro motivo\n",
    "\n",
    "* future = 202109  obviamente completo\n",
    "\n",
    "* final_train =  [ 201901, 202107 ]  SIN undersampling\n",
    "\n",
    "* training\n",
    "   * testing = NO HAY\n",
    "   * validation =  202107   completo, sin undersampling\n",
    "   * training = [ 201901, 202105 ]  donde se consideran el 100% de los CONTINUA"
   ]
  },
  {
   "cell_type": "code",
   "execution_count": 45,
   "id": "2c9c0a42-ba58-4264-8566-091a6161716f",
   "metadata": {
    "id": "2c9c0a42-ba58-4264-8566-091a6161716f"
   },
   "outputs": [],
   "source": [
    "PARAM$trainingstrategy$validate <- c(202107)\n",
    "\n",
    "PARAM$trainingstrategy$training <- c(\n",
    "  201901, 201902, 201903, 201904, 201905, 201906,\n",
    "  201907, 201908, 201909, 201910, 201911, 201912,\n",
    "  202001, 202002, 202003, 202004, 202005, 202006,\n",
    "  202007, 202008, 202009, 202010, 202011, 202012,\n",
    "  202101, 202102, 202103, 202104, 202105\n",
    ")\n",
    "\n",
    "\n",
    "PARAM$trainingstrategy$training_pct <- 1.0\n",
    "\n",
    "\n",
    "PARAM$trainingstrategy$positivos <- c( \"BAJA+1\", \"BAJA+2\")"
   ]
  },
  {
   "cell_type": "code",
   "execution_count": 46,
   "id": "tv_trHWAj4a8",
   "metadata": {
    "id": "tv_trHWAj4a8"
   },
   "outputs": [],
   "source": [
    "# seteo la clase01   1={BAJA+1, BAJA+2}   0={CONTINUA}\n",
    "dataset[, clase01 := ifelse( clase_ternaria %in% PARAM$trainingstrategy$positivos, 1, 0 )]"
   ]
  },
  {
   "cell_type": "code",
   "execution_count": 47,
   "id": "Ud_XDKSIj8f_",
   "metadata": {
    "id": "Ud_XDKSIj8f_"
   },
   "outputs": [],
   "source": [
    "# los campos en los que se entrena\n",
    "campos_buenos <- copy( setdiff(\n",
    "    colnames(dataset), c(\"clase_ternaria\",\"clase01\",\"azar\"))\n",
    ")"
   ]
  },
  {
   "cell_type": "code",
   "execution_count": 48,
   "id": "rFKgZZPSj_Pa",
   "metadata": {
    "id": "rFKgZZPSj_Pa"
   },
   "outputs": [],
   "source": [
    "# preparo para que se puede hacer undersampling de los CONTINUA\n",
    "#  solamente por un tema de VELOCIDAD\n",
    "set.seed(PARAM$semilla_primigenia, kind = \"L'Ecuyer-CMRG\")\n",
    "dataset[, azar:=runif(nrow(dataset))]\n",
    "\n",
    "# undersampling de los CONTINUA\n",
    "dataset[, fold_train :=  foto_mes %in%  PARAM$trainingstrategy$training &\n",
    "    (clase_ternaria %in% c(\"BAJA+1\", \"BAJA+2\") |\n",
    "     azar < PARAM$trainingstrategy$training_pct ) ]\n",
    "\n",
    "\n",
    "if( !require(\"lightgbm\")) install.packages(\"lightgbm\")\n",
    "require(\"lightgbm\")\n",
    "\n",
    "dtrain <- lgb.Dataset(\n",
    "  data= data.matrix(dataset[fold_train == TRUE, campos_buenos, with = FALSE]),\n",
    "  label= dataset[fold_train == TRUE, clase01],\n",
    "  free_raw_data= TRUE\n",
    ")"
   ]
  },
  {
   "cell_type": "code",
   "execution_count": 49,
   "id": "B3yo98kQkHcP",
   "metadata": {
    "id": "B3yo98kQkHcP"
   },
   "outputs": [
    {
     "data": {
      "text/html": [
       "33053"
      ],
      "text/latex": [
       "33053"
      ],
      "text/markdown": [
       "33053"
      ],
      "text/plain": [
       "[1] 33053"
      ]
     },
     "metadata": {},
     "output_type": "display_data"
    }
   ],
   "source": [
    "# datos de validation\n",
    "dvalidate <- lgb.Dataset(\n",
    "  data= data.matrix(dataset[foto_mes %in% PARAM$trainingstrategy$validate, campos_buenos, with = FALSE]),\n",
    "  label= dataset[foto_mes %in% PARAM$trainingstrategy$validate, clase01],\n",
    "  free_raw_data= TRUE\n",
    ")\n",
    "\n",
    "nrow(dvalidate)"
   ]
  },
  {
   "cell_type": "markdown",
   "id": "28e8f788-551c-4e50-9029-302ac0834287",
   "metadata": {
    "id": "28e8f788-551c-4e50-9029-302ac0834287"
   },
   "source": [
    "####  9.3.2.2. Hyperparameter Tuning"
   ]
  },
  {
   "cell_type": "markdown",
   "id": "bf5fc836-e222-4aeb-a6a8-157346895ef7",
   "metadata": {
    "id": "bf5fc836-e222-4aeb-a6a8-157346895ef7"
   },
   "source": [
    "* Clase binaria que se optimiza :  positivos = [ BAJA+1, BAJA+2 ]"
   ]
  },
  {
   "cell_type": "markdown",
   "id": "885c03b5-77bc-4510-a930-0d1f14b52ffb",
   "metadata": {
    "id": "885c03b5-77bc-4510-a930-0d1f14b52ffb"
   },
   "source": [
    "* Metrica que se optimiza **AUC** Area Under Curve de la  ROC Curve\n",
    "\n",
    "es muy importante notar que intencionalmente  **NO** se está optimizando la funcion de ganancia del problema"
   ]
  },
  {
   "cell_type": "markdown",
   "id": "b7e6f95c-66ef-4ab9-9ba3-fcc099816704",
   "metadata": {
    "id": "b7e6f95c-66ef-4ab9-9ba3-fcc099816704"
   },
   "source": [
    "* Cantidad de iteraciones inteligentes de la Optimizacion Bayesiana = **10**"
   ]
  },
  {
   "cell_type": "markdown",
   "id": "fe047a87-e2d0-4418-97dd-0a881e66d73a",
   "metadata": {
    "id": "fe047a87-e2d0-4418-97dd-0a881e66d73a"
   },
   "source": [
    "* Parametros no default, fijos de LightGBM que no se optimizan\n",
    "  * max_bin = 31 , Alienigenas Ancestrales contruyeron las pirámides y dejaron a la humanidad en un jeroglifico  *max_bin=31*\n",
    "  * feature_fraction = 0.5  para poner algo que generalmente no falla\n",
    "  * learning_rate = 0.03  para que aprenda lento\n"
   ]
  },
  {
   "cell_type": "markdown",
   "id": "1e7da08e-fe57-4681-beff-11fe963116bd",
   "metadata": {
    "id": "1e7da08e-fe57-4681-beff-11fe963116bd"
   },
   "source": [
    "* Parametros que se optimizan en la Bayesian Optimization\n",
    "  * num_leaves  [8, 256]\n",
    "  * min_data_in_leaf  [8, 8192]"
   ]
  },
  {
   "cell_type": "code",
   "execution_count": 50,
   "id": "34V6y4GetKq_",
   "metadata": {
    "id": "34V6y4GetKq_"
   },
   "outputs": [
    {
     "name": "stderr",
     "output_type": "stream",
     "text": [
      "Loading required package: DiceKriging\n",
      "\n",
      "Loading required package: mlrMBO\n",
      "\n",
      "Loading required package: mlr\n",
      "\n",
      "Loading required package: ParamHelpers\n",
      "\n",
      "\n",
      "Attaching package: ‘ParamHelpers’\n",
      "\n",
      "\n",
      "The following object is masked from ‘package:R.utils’:\n",
      "\n",
      "    isVector\n",
      "\n",
      "\n",
      "\n",
      "Attaching package: ‘mlr’\n",
      "\n",
      "\n",
      "The following objects are masked from ‘package:R.utils’:\n",
      "\n",
      "    resample, setThreshold\n",
      "\n",
      "\n",
      "Loading required package: smoof\n",
      "\n",
      "Loading required package: checkmate\n",
      "\n",
      "\n",
      "Attaching package: ‘checkmate’\n",
      "\n",
      "\n",
      "The following object is masked from ‘package:DiceKriging’:\n",
      "\n",
      "    checkNames\n",
      "\n",
      "\n",
      "The following object is masked from ‘package:R.utils’:\n",
      "\n",
      "    asInt\n",
      "\n",
      "\n",
      "\n",
      "Attaching package: ‘smoof’\n",
      "\n",
      "\n",
      "The following objects are masked from ‘package:R.oo’:\n",
      "\n",
      "    getDescription, getName\n",
      "\n",
      "\n"
     ]
    }
   ],
   "source": [
    "# paquetes necesarios para la Bayesian Optimization\n",
    "if(!require(\"DiceKriging\")) install.packages(\"DiceKriging\")\n",
    "require(\"DiceKriging\")\n",
    "\n",
    "if(!require(\"mlrMBO\")) install.packages(\"mlrMBO\")\n",
    "require(\"mlrMBO\")"
   ]
  },
  {
   "cell_type": "markdown",
   "id": "UFbDSYtH0TTT",
   "metadata": {
    "id": "UFbDSYtH0TTT"
   },
   "source": [
    "Definición de la Bayesian Optimization\n",
    "<br> Si se desea optimizar un hiperparámetro que esta como fijo, debe QUITARSE de param_fijos y agregarse a PARAM$hipeparametertuning$hs"
   ]
  },
  {
   "cell_type": "code",
   "execution_count": 51,
   "id": "5Uag3XGHqrfZ",
   "metadata": {
    "id": "5Uag3XGHqrfZ"
   },
   "outputs": [],
   "source": [
    "# un Analista Jr  debe poder animarse a hacer 100 iteraciones\n",
    "PARAM$hipeparametertuning$num_interations <- 150\n",
    "\n",
    "# parametros fijos del LightGBM\n",
    "PARAM$lgbm$param_fijos <- list(\n",
    "  objective= \"binary\",\n",
    "  metric= \"auc\",\n",
    "  first_metric_only= TRUE,\n",
    "  boost_from_average= TRUE,\n",
    "  feature_pre_filter= FALSE,\n",
    "  verbosity= -100,\n",
    "  force_row_wise= TRUE, # para evitar warning\n",
    "  seed= PARAM$semilla_primigenia,\n",
    "  max_bin= 31,\n",
    "\n",
    "  num_iterations= 9999,  # valor grande, lo limita early_stopping_rounds\n",
    "  early_stopping_rounds= 400\n",
    ")\n",
    "\n",
    "PARAM$hipeparametertuning$hs <- makeParamSet(\n",
    "  makeIntegerParam(\"num_leaves\", lower= 2L, upper= 256L),\n",
    "  makeIntegerParam(\"min_data_in_leaf\", lower= 2L, upper= 8192L),\n",
    "  makeNumericParam(\"feature_fraction\", lower= 0.1, upper= 0.9),\n",
    "  makeNumericParam(\"learning_rate\", lower= 0.01, upper= 0.5)\n",
    ")"
   ]
  },
  {
   "cell_type": "markdown",
   "id": "FEa1UuuAz4yj",
   "metadata": {
    "id": "FEa1UuuAz4yj"
   },
   "source": [
    "Función \"señora caja negra\"  que es llamada para verificar la realidad por la Bayesian Optimization"
   ]
  },
  {
   "cell_type": "code",
   "execution_count": 52,
   "id": "2c10f535-8d90-47d1-ac3d-9b4c24ec21d2",
   "metadata": {
    "id": "2c10f535-8d90-47d1-ac3d-9b4c24ec21d2"
   },
   "outputs": [],
   "source": [
    "# En  x llegan los parmaetros de la bayesiana\n",
    "#  devuelve la AUC en validate del modelo entrenado\n",
    "#  en el parametro x llegan los hiperparámetros que se estan optimizando\n",
    "\n",
    "EstimarGanancia_AUC_lightgbm <- function(x) {\n",
    "\n",
    "  # x pisa (o agrega) a param_fijos\n",
    "  param_completo <- modifyList(PARAM$lgbm$param_fijos, x)\n",
    "\n",
    "  # entreno LightGBM\n",
    "  modelo_train <- lgb.train(\n",
    "    data= dtrain,\n",
    "    valids= list(valid = dvalidate),\n",
    "    eval= \"auc\",\n",
    "    param= param_completo,\n",
    "    verbose= -100\n",
    "  )\n",
    "\n",
    "  # recupero la AUC en validation\n",
    "  AUC <- modelo_train$record_evals$valid$auc$eval[[modelo_train$best_iter]]\n",
    "\n",
    "  # esta es la forma de devolver un parametro extra\n",
    "  attr(AUC, \"extras\") <- list(\"num_iterations\"= modelo_train$best_iter)\n",
    "\n",
    "  # hago espacio en la memoria\n",
    "  rm(modelo_train)\n",
    "  gc(full= TRUE, verbose= FALSE)\n",
    "\n",
    "  message(format(Sys.time(), \"%a %b %d %X %Y\"), \" AUC \", AUC)\n",
    "\n",
    "  return(AUC)\n",
    "}"
   ]
  },
  {
   "cell_type": "markdown",
   "id": "267a35d4-adaf-4271-a875-3864111333b7",
   "metadata": {
    "id": "267a35d4-adaf-4271-a875-3864111333b7"
   },
   "source": [
    "seteo de la Bayesian Optimization (complejo)\n",
    "<br> copiado y pegado de la documentación de la librería"
   ]
  },
  {
   "cell_type": "code",
   "execution_count": 53,
   "id": "43c2a92d-1041-46b8-bff2-47297f209ed2",
   "metadata": {
    "id": "43c2a92d-1041-46b8-bff2-47297f209ed2"
   },
   "outputs": [],
   "source": [
    "configureMlr(show.learner.output = FALSE)\n",
    "\n",
    "# configuro la busqueda bayesiana,  los hiperparametros que se van a optimizar\n",
    "# por favor, no desesperarse por lo complejo\n",
    "obj.fun <- makeSingleObjectiveFunction(\n",
    "    fn= EstimarGanancia_AUC_lightgbm, # la funcion que voy a maximizar\n",
    "    minimize= FALSE, # estoy Maximizando AUC\n",
    "    noisy= FALSE,\n",
    "    par.set= PARAM$hipeparametertuning$hs,\n",
    "    has.simple.signature= FALSE # paso los parametros en una lista\n",
    ")\n",
    "\n",
    "# cada 600 segundos guardo el resultado intermedio\n",
    "ctrl <- makeMBOControl(\n",
    "    save.on.disk.at.time= 600,\n",
    "    save.file.path= \"HT.RDATA\"\n",
    ")\n",
    "\n",
    "# indico la cantidad de iteraciones que va a tener la Bayesian Optimization\n",
    "ctrl <- setMBOControlTermination(\n",
    "    ctrl,\n",
    "    iters= PARAM$hipeparametertuning$num_interations  # cantidad de iteraciones inteligentes\n",
    ")\n",
    "\n",
    "# defino el método estandar para la creacion de los puntos iniciales\n",
    "#   los \"No Inteligentes\"\n",
    "ctrl <- setMBOControlInfill(ctrl, crit = makeMBOInfillCritEI())\n",
    "\n",
    "# mas configuraciones\n",
    "surr.km <- makeLearner(\n",
    "    \"regr.km\",\n",
    "    predict.type= \"se\",\n",
    "    covtype= \"matern3_2\",\n",
    "    control= list(trace = TRUE)\n",
    ")"
   ]
  },
  {
   "cell_type": "markdown",
   "id": "6c1e5645-d26f-4923-a53f-f30471a4c4e8",
   "metadata": {
    "id": "6c1e5645-d26f-4923-a53f-f30471a4c4e8"
   },
   "source": [
    "Corrida de la Bayesian Optimization,  aqui se hace el trabajo pesado\n",
    "<br> por favor no se asuste con los warnings que pudieran aparecer\n",
    "\n",
    "Si corrío a medias y llegó a las iteraciones inteligentes, en el archivo binario HT.RDATA quedó lo ya procesado y es utilizado para retomar la corrida desde lo último que llegó a grabar."
   ]
  },
  {
   "cell_type": "code",
   "execution_count": 54,
   "id": "1f8cab3f-c7e2-4802-bfd1-5ad509922a4e",
   "metadata": {
    "id": "1f8cab3f-c7e2-4802-bfd1-5ad509922a4e",
    "scrolled": true
   },
   "outputs": [
    {
     "name": "stderr",
     "output_type": "stream",
     "text": [
      "Mon Sep 22 17:35:26 2025 AUC 0.931984648127487\n",
      "\n",
      "[mbo] 71: num_leaves=39; min_data_in_leaf=6401; feature_fraction=0.374; learning_rate=0.01 : y = 0.932 : 195.1 secs : infill_ei\n",
      "\n",
      "Saved the current state after iteration 72 in the file HT.RDATA.\n",
      "\n",
      "Mon Sep 22 17:36:59 2025 AUC 0.931088113639499\n",
      "\n",
      "[mbo] 72: num_leaves=186; min_data_in_leaf=8191; feature_fraction=0.304; learning_rate=0.0376 : y = 0.931 : 88.4 secs : infill_ei\n",
      "\n",
      "Mon Sep 22 17:37:43 2025 AUC 0.931758489381082\n",
      "\n",
      "[mbo] 73: num_leaves=24; min_data_in_leaf=3807; feature_fraction=0.601; learning_rate=0.0554 : y = 0.932 : 43.5 secs : infill_ei\n",
      "\n",
      "Mon Sep 22 17:41:23 2025 AUC 0.932088942034507\n",
      "\n",
      "[mbo] 74: num_leaves=28; min_data_in_leaf=6941; feature_fraction=0.451; learning_rate=0.0103 : y = 0.932 : 219.5 secs : infill_ei\n",
      "\n",
      "Mon Sep 22 17:43:27 2025 AUC 0.930059052627742\n",
      "\n",
      "[mbo] 75: num_leaves=177; min_data_in_leaf=3514; feature_fraction=0.451; learning_rate=0.0168 : y = 0.93 : 122.5 secs : infill_ei\n",
      "\n",
      "Mon Sep 22 17:44:08 2025 AUC 0.928049414465059\n",
      "\n",
      "[mbo] 76: num_leaves=106; min_data_in_leaf=3609; feature_fraction=0.893; learning_rate=0.0939 : y = 0.928 : 40.3 secs : infill_ei\n",
      "\n",
      "Mon Sep 22 17:48:06 2025 AUC 0.932122654399654\n",
      "\n",
      "[mbo] 77: num_leaves=27; min_data_in_leaf=6189; feature_fraction=0.357; learning_rate=0.01 : y = 0.932 : 237.3 secs : infill_ei\n",
      "\n",
      "Saved the current state after iteration 78 in the file HT.RDATA.\n",
      "\n",
      "Mon Sep 22 17:51:39 2025 AUC 0.931990544813263\n",
      "\n",
      "[mbo] 78: num_leaves=81; min_data_in_leaf=8183; feature_fraction=0.524; learning_rate=0.01 : y = 0.932 : 206.3 secs : infill_ei\n",
      "\n",
      "Mon Sep 22 17:54:48 2025 AUC 0.931547936005116\n",
      "\n",
      "[mbo] 79: num_leaves=210; min_data_in_leaf=6104; feature_fraction=0.404; learning_rate=0.01 : y = 0.932 : 188.5 secs : infill_ei\n",
      "\n",
      "Mon Sep 22 17:57:19 2025 AUC 0.931121051692373\n",
      "\n",
      "[mbo] 80: num_leaves=235; min_data_in_leaf=4582; feature_fraction=0.393; learning_rate=0.01 : y = 0.931 : 150.7 secs : infill_ei\n",
      "\n",
      "Mon Sep 22 17:58:50 2025 AUC 0.931061608334745\n",
      "\n",
      "[mbo] 81: num_leaves=148; min_data_in_leaf=8191; feature_fraction=0.355; learning_rate=0.026 : y = 0.931 : 90.1 secs : infill_ei\n",
      "\n",
      "Saved the current state after iteration 82 in the file HT.RDATA.\n",
      "\n",
      "Mon Sep 22 18:01:17 2025 AUC 0.931711077644938\n",
      "\n",
      "[mbo] 82: num_leaves=89; min_data_in_leaf=3079; feature_fraction=0.427; learning_rate=0.01 : y = 0.932 : 140.1 secs : infill_ei\n",
      "\n",
      "Mon Sep 22 18:07:35 2025 AUC 0.931801076556135\n",
      "\n",
      "[mbo] 85: num_leaves=170; min_data_in_leaf=6617; feature_fraction=0.505; learning_rate=0.0108 : y = 0.932 : 224.5 secs : infill_ei\n",
      "\n",
      "Mon Sep 22 18:08:23 2025 AUC 0.926897297364265\n",
      "\n",
      "[mbo] 86: num_leaves=71; min_data_in_leaf=8183; feature_fraction=0.131; learning_rate=0.146 : y = 0.927 : 47.4 secs : infill_ei\n",
      "\n",
      "Mon Sep 22 18:09:30 2025 AUC 0.930858500269103\n",
      "\n",
      "[mbo] 87: num_leaves=30; min_data_in_leaf=3487; feature_fraction=0.365; learning_rate=0.0436 : y = 0.931 : 66.2 secs : infill_ei\n",
      "\n",
      "Saved the current state after iteration 88 in the file HT.RDATA.\n",
      "\n",
      "Mon Sep 22 18:12:31 2025 AUC 0.929854931999896\n",
      "\n",
      "[mbo] 88: num_leaves=20; min_data_in_leaf=2537; feature_fraction=0.561; learning_rate=0.0104 : y = 0.93 : 175.4 secs : infill_ei\n",
      "\n",
      "Mon Sep 22 18:13:28 2025 AUC 0.927349078794732\n",
      "\n",
      "[mbo] 89: num_leaves=201; min_data_in_leaf=6698; feature_fraction=0.349; learning_rate=0.126 : y = 0.927 : 56.7 secs : infill_ei\n",
      "\n",
      "Mon Sep 22 18:16:05 2025 AUC 0.93186343847541\n",
      "\n",
      "[mbo] 90: num_leaves=67; min_data_in_leaf=7340; feature_fraction=0.617; learning_rate=0.0102 : y = 0.932 : 156.5 secs : infill_ei\n",
      "\n",
      "Mon Sep 22 18:16:34 2025 AUC 0.929944394848751\n",
      "\n",
      "[mbo] 91: num_leaves=21; min_data_in_leaf=6665; feature_fraction=0.898; learning_rate=0.0674 : y = 0.93 : 27.3 secs : infill_ei\n",
      "\n",
      "Mon Sep 22 18:17:11 2025 AUC 0.931376276930283\n",
      "\n",
      "[mbo] 92: num_leaves=64; min_data_in_leaf=3164; feature_fraction=0.86; learning_rate=0.0588 : y = 0.931 : 36.1 secs : infill_ei\n",
      "\n",
      "Mon Sep 22 18:18:54 2025 AUC 0.931985065064865\n",
      "\n",
      "[mbo] 93: num_leaves=58; min_data_in_leaf=8189; feature_fraction=0.652; learning_rate=0.01 : y = 0.932 : 102.0 secs : infill_ei\n",
      "\n",
      "Mon Sep 22 18:19:28 2025 AUC 0.928096468826307\n",
      "\n",
      "[mbo] 94: num_leaves=62; min_data_in_leaf=1769; feature_fraction=0.83; learning_rate=0.0569 : y = 0.928 : 33.6 secs : infill_ei\n",
      "\n",
      "Mon Sep 22 18:23:20 2025 AUC 0.931839792169821\n",
      "\n",
      "[mbo] 96: num_leaves=192; min_data_in_leaf=5036; feature_fraction=0.302; learning_rate=0.0101 : y = 0.932 : 156.7 secs : infill_ei\n",
      "\n",
      "Mon Sep 22 18:23:55 2025 AUC 0.92992462010453\n",
      "\n",
      "[mbo] 97: num_leaves=22; min_data_in_leaf=3443; feature_fraction=0.899; learning_rate=0.0611 : y = 0.93 : 33.8 secs : infill_ei\n",
      "\n",
      "Mon Sep 22 18:24:31 2025 AUC 0.93092366162506\n",
      "\n",
      "[mbo] 98: num_leaves=68; min_data_in_leaf=4106; feature_fraction=0.695; learning_rate=0.0653 : y = 0.931 : 35.6 secs : infill_ei\n",
      "\n",
      "Mon Sep 22 18:25:08 2025 AUC 0.928950445920482\n",
      "\n",
      "[mbo] 99: num_leaves=65; min_data_in_leaf=8188; feature_fraction=0.834; learning_rate=0.117 : y = 0.929 : 36.1 secs : infill_ei\n",
      "\n",
      "Mon Sep 22 18:28:01 2025 AUC 0.92939904075813\n",
      "\n",
      "[mbo] 100: num_leaves=126; min_data_in_leaf=7; feature_fraction=0.101; learning_rate=0.01 : y = 0.929 : 171.5 secs : infill_ei\n",
      "\n",
      "Mon Sep 22 18:28:40 2025 AUC 0.93266651942821\n",
      "\n",
      "[mbo] 101: num_leaves=17; min_data_in_leaf=6692; feature_fraction=0.638; learning_rate=0.0505 : y = 0.933 : 38.3 secs : infill_ei\n",
      "\n",
      "Mon Sep 22 18:30:05 2025 AUC 0.931859745601489\n",
      "\n",
      "[mbo] 102: num_leaves=20; min_data_in_leaf=6568; feature_fraction=0.499; learning_rate=0.0555 : y = 0.932 : 83.5 secs : infill_ei\n",
      "\n",
      "Mon Sep 22 18:30:49 2025 AUC 0.930590826472331\n",
      "\n",
      "[mbo] 103: num_leaves=66; min_data_in_leaf=3177; feature_fraction=0.647; learning_rate=0.0306 : y = 0.931 : 43.7 secs : infill_ei\n",
      "\n",
      "Saved the current state after iteration 104 in the file HT.RDATA.\n",
      "\n",
      "Mon Sep 22 18:31:42 2025 AUC 0.928930164895159\n",
      "\n",
      "[mbo] 104: num_leaves=72; min_data_in_leaf=7406; feature_fraction=0.898; learning_rate=0.0556 : y = 0.929 : 47.0 secs : infill_ei\n",
      "\n",
      "Mon Sep 22 18:35:46 2025 AUC 0.931655565411161\n",
      "\n",
      "[mbo] 106: num_leaves=225; min_data_in_leaf=8187; feature_fraction=0.269; learning_rate=0.0251 : y = 0.932 : 93.9 secs : infill_ei\n",
      "\n",
      "Mon Sep 22 18:39:08 2025 AUC 0.929575941331431\n",
      "\n",
      "[mbo] 107: num_leaves=73; min_data_in_leaf=16; feature_fraction=0.452; learning_rate=0.01 : y = 0.93 : 200.7 secs : infill_ei\n",
      "\n",
      "Mon Sep 22 18:41:32 2025 AUC 0.930205814584851\n",
      "\n",
      "[mbo] 109: num_leaves=221; min_data_in_leaf=4417; feature_fraction=0.803; learning_rate=0.0434 : y = 0.93 : 54.5 secs : infill_ei\n",
      "\n",
      "Saved the current state after iteration 110 in the file HT.RDATA.\n",
      "\n",
      "Mon Sep 22 18:42:11 2025 AUC 0.928365840153833\n",
      "\n",
      "[mbo] 110: num_leaves=80; min_data_in_leaf=4635; feature_fraction=0.898; learning_rate=0.139 : y = 0.928 : 34.0 secs : infill_ei\n",
      "\n",
      "Mon Sep 22 18:42:46 2025 AUC 0.931165068367009\n",
      "\n",
      "[mbo] 111: num_leaves=20; min_data_in_leaf=6876; feature_fraction=0.721; learning_rate=0.0655 : y = 0.931 : 33.2 secs : infill_ei\n",
      "\n",
      "Mon Sep 22 18:45:50 2025 AUC 0.926067472856781\n",
      "\n",
      "[mbo] 114: num_leaves=256; min_data_in_leaf=2; feature_fraction=0.11; learning_rate=0.0347 : y = 0.926 : 82.0 secs : infill_ei\n",
      "\n",
      "Mon Sep 22 18:46:34 2025 AUC 0.930884409949031\n",
      "\n",
      "[mbo] 115: num_leaves=22; min_data_in_leaf=8190; feature_fraction=0.61; learning_rate=0.0497 : y = 0.931 : 43.2 secs : infill_ei\n",
      "\n",
      "Mon Sep 22 18:50:09 2025 AUC 0.928578269748001\n",
      "\n",
      "[mbo] 118: num_leaves=256; min_data_in_leaf=6550; feature_fraction=0.898; learning_rate=0.113 : y = 0.929 : 47.0 secs : infill_ei\n",
      "\n",
      "Mon Sep 22 18:52:00 2025 AUC 0.929719308227032\n",
      "\n",
      "[mbo] 119: num_leaves=221; min_data_in_leaf=2523; feature_fraction=0.883; learning_rate=0.0101 : y = 0.93 : 109.8 secs : infill_ei\n",
      "\n",
      "Saved the current state after iteration 120 in the file HT.RDATA.\n",
      "\n",
      "Mon Sep 22 18:55:26 2025 AUC 0.930105392239199\n",
      "\n",
      "[mbo] 120: num_leaves=73; min_data_in_leaf=2103; feature_fraction=0.101; learning_rate=0.0101 : y = 0.93 : 199.1 secs : infill_ei\n",
      "\n",
      "Mon Sep 22 18:56:56 2025 AUC 0.927663151765444\n",
      "\n",
      "[mbo] 121: num_leaves=256; min_data_in_leaf=692; feature_fraction=0.832; learning_rate=0.0101 : y = 0.928 : 89.0 secs : infill_ei\n",
      "\n",
      "Mon Sep 22 18:57:57 2025 AUC 0.929252517050952\n",
      "\n",
      "[mbo] 122: num_leaves=255; min_data_in_leaf=8073; feature_fraction=0.345; learning_rate=0.0938 : y = 0.929 : 59.3 secs : infill_ei\n",
      "\n",
      "Mon Sep 22 18:59:57 2025 AUC 0.93180417380523\n",
      "\n",
      "[mbo] 123: num_leaves=29; min_data_in_leaf=6607; feature_fraction=0.635; learning_rate=0.0102 : y = 0.932 : 119.2 secs : infill_ei\n",
      "\n",
      "Mon Sep 22 19:00:54 2025 AUC 0.927824625655753\n",
      "\n",
      "[mbo] 124: num_leaves=75; min_data_in_leaf=3652; feature_fraction=0.487; learning_rate=0.117 : y = 0.928 : 56.6 secs : infill_ei\n",
      "\n",
      "Mon Sep 22 19:01:57 2025 AUC 0.930286998248625\n",
      "\n",
      "[mbo] 125: num_leaves=198; min_data_in_leaf=2992; feature_fraction=0.662; learning_rate=0.0376 : y = 0.93 : 61.4 secs : infill_ei\n",
      "\n",
      "Mon Sep 22 19:02:41 2025 AUC 0.92734008485986\n",
      "\n",
      "[mbo] 126: num_leaves=140; min_data_in_leaf=3333; feature_fraction=0.898; learning_rate=0.128 : y = 0.927 : 42.7 secs : infill_ei\n",
      "\n",
      "Saved the current state after iteration 127 in the file HT.RDATA.\n",
      "\n",
      "Mon Sep 22 19:03:27 2025 AUC 0.930806263971869\n",
      "\n",
      "[mbo] 127: num_leaves=15; min_data_in_leaf=5245; feature_fraction=0.697; learning_rate=0.0577 : y = 0.931 : 38.8 secs : infill_ei\n",
      "\n",
      "Mon Sep 22 19:03:49 2025 AUC 0.925585135872744\n",
      "\n",
      "[mbo] 128: num_leaves=15; min_data_in_leaf=4215; feature_fraction=0.741; learning_rate=0.169 : y = 0.926 : 21.1 secs : infill_ei\n",
      "\n",
      "Mon Sep 22 19:06:35 2025 AUC 0.931642878602369\n",
      "\n",
      "[mbo] 129: num_leaves=101; min_data_in_leaf=8192; feature_fraction=0.764; learning_rate=0.01 : y = 0.932 : 164.5 secs : infill_ei\n",
      "\n",
      "Mon Sep 22 19:07:23 2025 AUC 0.929623412630058\n",
      "\n",
      "[mbo] 130: num_leaves=248; min_data_in_leaf=5545; feature_fraction=0.675; learning_rate=0.0731 : y = 0.93 : 47.0 secs : infill_ei\n",
      "\n",
      "Mon Sep 22 19:10:14 2025 AUC 0.922919893464161\n",
      "\n",
      "[mbo] 132: num_leaves=99; min_data_in_leaf=8191; feature_fraction=0.862; learning_rate=0.171 : y = 0.923 : 39.3 secs : infill_ei\n",
      "\n",
      "Mon Sep 22 19:10:43 2025 AUC 0.928912981118931\n",
      "\n",
      "[mbo] 133: num_leaves=43; min_data_in_leaf=6845; feature_fraction=0.673; learning_rate=0.149 : y = 0.929 : 27.4 secs : infill_ei\n",
      "\n",
      "Mon Sep 22 19:11:35 2025 AUC 0.928096468826307\n",
      "\n",
      "[mbo] 134: num_leaves=166; min_data_in_leaf=3344; feature_fraction=0.753; learning_rate=0.0601 : y = 0.928 : 51.1 secs : infill_ei\n",
      "\n",
      "Mon Sep 22 19:12:37 2025 AUC 0.929628237191148\n",
      "\n",
      "[mbo] 135: num_leaves=69; min_data_in_leaf=2951; feature_fraction=0.53; learning_rate=0.0496 : y = 0.93 : 61.1 secs : infill_ei\n",
      "\n",
      "Mon Sep 22 19:15:27 2025 AUC 0.93257187464337\n",
      "\n",
      "[mbo] 136: num_leaves=68; min_data_in_leaf=8191; feature_fraction=0.221; learning_rate=0.01 : y = 0.933 : 168.3 secs : infill_ei\n",
      "\n",
      "Saved the current state after iteration 137 in the file HT.RDATA.\n",
      "\n",
      "Mon Sep 22 19:17:40 2025 AUC 0.931474852838974\n",
      "\n",
      "[mbo] 137: num_leaves=215; min_data_in_leaf=2329; feature_fraction=0.175; learning_rate=0.0101 : y = 0.931 : 128.0 secs : infill_ei\n",
      "\n",
      "Mon Sep 22 19:18:16 2025 AUC 0.931493674583474\n",
      "\n",
      "[mbo] 138: num_leaves=20; min_data_in_leaf=6503; feature_fraction=0.626; learning_rate=0.0657 : y = 0.931 : 35.0 secs : infill_ei\n",
      "\n",
      "Mon Sep 22 19:19:44 2025 AUC 0.93015596078692\n",
      "\n",
      "[mbo] 139: num_leaves=19; min_data_in_leaf=1396; feature_fraction=0.396; learning_rate=0.0351 : y = 0.93 : 86.1 secs : infill_ei\n",
      "\n",
      "Mon Sep 22 19:20:37 2025 AUC 0.93003671669677\n",
      "\n",
      "[mbo] 140: num_leaves=107; min_data_in_leaf=2239; feature_fraction=0.881; learning_rate=0.0358 : y = 0.93 : 52.7 secs : infill_ei\n",
      "\n",
      "Mon Sep 22 19:21:16 2025 AUC 0.920776209934403\n",
      "\n",
      "[mbo] 141: num_leaves=54; min_data_in_leaf=8039; feature_fraction=0.101; learning_rate=0.273 : y = 0.921 : 37.4 secs : infill_ei\n",
      "\n",
      "Mon Sep 22 19:22:03 2025 AUC 0.930990371605564\n",
      "\n",
      "[mbo] 142: num_leaves=33; min_data_in_leaf=7771; feature_fraction=0.712; learning_rate=0.0447 : y = 0.931 : 46.4 secs : infill_ei\n",
      "\n",
      "Mon Sep 22 19:22:49 2025 AUC 0.929324528092407\n",
      "\n",
      "[mbo] 143: num_leaves=201; min_data_in_leaf=7018; feature_fraction=0.753; learning_rate=0.0813 : y = 0.929 : 44.2 secs : infill_ei\n",
      "\n",
      "Mon Sep 22 19:24:31 2025 AUC 0.925304120079871\n",
      "\n",
      "[mbo] 144: num_leaves=137; min_data_in_leaf=3; feature_fraction=0.433; learning_rate=0.0325 : y = 0.925 : 101.2 secs : infill_ei\n",
      "\n",
      "Mon Sep 22 19:25:13 2025 AUC 0.920758430533349\n",
      "\n",
      "[mbo] 145: num_leaves=123; min_data_in_leaf=4995; feature_fraction=0.9; learning_rate=0.26 : y = 0.921 : 40.3 secs : infill_ei\n",
      "\n",
      "Mon Sep 22 19:25:50 2025 AUC 0.924647175678113\n",
      "\n",
      "[mbo] 146: num_leaves=256; min_data_in_leaf=8183; feature_fraction=0.818; learning_rate=0.278 : y = 0.925 : 36.3 secs : infill_ei\n",
      "\n",
      "Saved the current state after iteration 147 in the file HT.RDATA.\n",
      "\n",
      "Mon Sep 22 19:27:20 2025 AUC 0.931537155195766\n",
      "\n",
      "[mbo] 147: num_leaves=244; min_data_in_leaf=6832; feature_fraction=0.695; learning_rate=0.0204 : y = 0.932 : 84.1 secs : infill_ei\n",
      "\n",
      "Mon Sep 22 19:28:03 2025 AUC 0.922759849073434\n",
      "\n",
      "[mbo] 148: num_leaves=256; min_data_in_leaf=8116; feature_fraction=0.117; learning_rate=0.234 : y = 0.923 : 41.7 secs : infill_ei\n",
      "\n",
      "Mon Sep 22 19:31:58 2025 AUC 0.929689705673184\n",
      "\n",
      "[mbo] 149: num_leaves=23; min_data_in_leaf=5; feature_fraction=0.423; learning_rate=0.0101 : y = 0.93 : 233.0 secs : infill_ei\n",
      "\n",
      "Mon Sep 22 19:32:39 2025 AUC 0.928575648998767\n",
      "\n",
      "[mbo] 150: num_leaves=96; min_data_in_leaf=3584; feature_fraction=0.895; learning_rate=0.0636 : y = 0.929 : 40.4 secs : infill_ei\n",
      "\n",
      "Saved the final state in the file HT.RDATA\n",
      "\n"
     ]
    }
   ],
   "source": [
    "# inicio la optimizacion bayesiana\n",
    "\n",
    "if (!file.exists(\"HT.RDATA\")) {\n",
    "  bayesiana_salida <- mbo(obj.fun, learner= surr.km, control= ctrl)\n",
    "} else {\n",
    "  bayesiana_salida <- mboContinue(\"HT.RDATA\") # retomo en caso que ya exista\n",
    "}"
   ]
  },
  {
   "cell_type": "markdown",
   "id": "36307612-964f-4df3-907a-1bc3c095f178",
   "metadata": {
    "id": "36307612-964f-4df3-907a-1bc3c095f178"
   },
   "source": [
    "la bayesian optimization ha corrido, extraigo los mejores hiperparametros"
   ]
  },
  {
   "cell_type": "code",
   "execution_count": 55,
   "id": "8c061a2a-3341-4006-a154-c95bb6cfd407",
   "metadata": {
    "id": "8c061a2a-3341-4006-a154-c95bb6cfd407"
   },
   "outputs": [
    {
     "name": "stdout",
     "output_type": "stream",
     "text": [
      "   num_leaves min_data_in_leaf num_iterations feature_fraction\n",
      "        <int>            <int>          <int>            <num>\n",
      "1:        170             8191            564        0.3068471\n"
     ]
    }
   ],
   "source": [
    "# almaceno los resultados de la Bayesian Optimization\n",
    "# y capturo los mejores hiperparametros encontrados\n",
    "\n",
    "tb_bayesiana <- as.data.table(bayesiana_salida$opt.path)\n",
    "\n",
    "# ordeno en forma descendente por AUC = y\n",
    "setorder(tb_bayesiana, -y, -num_iterations)\n",
    "\n",
    "# grabo para eventualmente poder utilizarlos en OTRA corrida\n",
    "fwrite( tb_bayesiana,\n",
    "  file=\"BO_log.txt\",\n",
    "  sep=\"\\t\"\n",
    ")\n",
    "\n",
    "# los mejores hiperparámetros son los que quedaron en el registro 1 de la tabla\n",
    "PARAM$out$lgbm$mejores_hiperparametros <- tb_bayesiana[\n",
    "  1, # el primero es el de mejor AUC\n",
    "  list(num_leaves, min_data_in_leaf, num_iterations, feature_fraction)\n",
    "]\n",
    "\n",
    "print(PARAM$out$lgbm$mejores_hiperparametros)"
   ]
  },
  {
   "cell_type": "markdown",
   "id": "ddb554cb-1d96-4f6b-ae1c-c9a076f8dbdc",
   "metadata": {
    "id": "ddb554cb-1d96-4f6b-ae1c-c9a076f8dbdc"
   },
   "source": [
    "### 9.3.3 Produccion"
   ]
  },
  {
   "cell_type": "markdown",
   "id": "c39492c3-756f-47a5-8747-93ade8275306",
   "metadata": {
    "id": "c39492c3-756f-47a5-8747-93ade8275306"
   },
   "source": [
    "#### Final Training\n",
    "Construyo el modelo final, que es uno solo, no hace ningun tipo de particion < training, validation, testing>]"
   ]
  },
  {
   "cell_type": "markdown",
   "id": "xhKi_G_sYQqq",
   "metadata": {
    "id": "xhKi_G_sYQqq"
   },
   "source": [
    "##### Final Training Dataset\n",
    "\n",
    "Aqui esta la gran decision de en qué meses hago el Final Training\n",
    "<br> debo utilizar los mejores hiperparámetros que encontré en la optimización bayesiana"
   ]
  },
  {
   "cell_type": "code",
   "execution_count": 56,
   "id": "qyHfS_X0zd7o",
   "metadata": {
    "id": "qyHfS_X0zd7o"
   },
   "outputs": [
    {
     "data": {
      "text/html": [
       "910211"
      ],
      "text/latex": [
       "910211"
      ],
      "text/markdown": [
       "910211"
      ],
      "text/plain": [
       "[1] 910211"
      ]
     },
     "metadata": {},
     "output_type": "display_data"
    }
   ],
   "source": [
    "PARAM$trainingstrategy$final_train <- c(\n",
    "  201901, 201902, 201903, 201904, 201905, 201906,\n",
    "  201907, 201908, 201909, 201910, 201911, 201912,\n",
    "  202001, 202002, 202003, 202004, 202005, 202006,\n",
    "  202007, 202008, 202009, 202010, 202011, 202012,\n",
    "  202101, 202102, 202103, 202104, 202105, 202106,\n",
    "  202107\n",
    ")\n",
    "\n",
    "\n",
    "dataset[, fold_final_train := foto_mes %in% PARAM$trainingstrategy$final_train ]\n",
    "\n",
    "# creo el dfinal_train en formato  LightGBM\n",
    "dfinal_train <- lgb.Dataset(\n",
    "  data= data.matrix(dataset[fold_final_train == TRUE, campos_buenos, with= FALSE]),\n",
    "  label= dataset[fold_final_train == TRUE, clase01],\n",
    "  free_raw_data= TRUE\n",
    ")\n",
    "\n",
    "nrow( dfinal_train) # verifico el tamaño"
   ]
  },
  {
   "cell_type": "markdown",
   "id": "HATRyklxYUpT",
   "metadata": {
    "id": "HATRyklxYUpT"
   },
   "source": [
    "##### Final Training Hyperparameters"
   ]
  },
  {
   "cell_type": "code",
   "execution_count": 57,
   "id": "d6b9f33c-e0a0-4ea6-8169-4a6180cc5d01",
   "metadata": {
    "id": "d6b9f33c-e0a0-4ea6-8169-4a6180cc5d01"
   },
   "outputs": [],
   "source": [
    "# uno los parametros fijos y los mejores encontrados de los variables\n",
    "fijos <- copy(PARAM$lgbm$param_fijos)\n",
    "\n",
    "# quito lo que optimice en la Bayesian Optimization\n",
    "fijos$num_iterations <- NULL\n",
    "fijos$early_stopping_rounds <- NULL\n",
    "\n",
    "# agrego a los hiperparametros fijos los que encontre con la Bayesian Optimization\n",
    "param_final <- c(fijos, PARAM$out$lgbm$mejores_hiperparametros)"
   ]
  },
  {
   "cell_type": "markdown",
   "id": "05d3494f-0401-4f3e-9b69-f488a737879d",
   "metadata": {
    "id": "05d3494f-0401-4f3e-9b69-f488a737879d"
   },
   "source": [
    "##### Training\n",
    "Genero el modelo final, siempre sobre TODOS los datos de  final_train, sin hacer ningun tipo de undersampling de la clase mayoritaria"
   ]
  },
  {
   "cell_type": "code",
   "execution_count": 58,
   "id": "993591b5-c0af-495d-b067-1a2d0fd4e1a0",
   "metadata": {},
   "outputs": [
    {
     "data": {
      "text/html": [
       "'Mon Sep 22 19:32:47 2025'"
      ],
      "text/latex": [
       "'Mon Sep 22 19:32:47 2025'"
      ],
      "text/markdown": [
       "'Mon Sep 22 19:32:47 2025'"
      ],
      "text/plain": [
       "[1] \"Mon Sep 22 19:32:47 2025\""
      ]
     },
     "metadata": {},
     "output_type": "display_data"
    }
   ],
   "source": [
    "format(Sys.time(), \"%a %b %d %X %Y\")"
   ]
  },
  {
   "cell_type": "code",
   "execution_count": 59,
   "id": "6aed457d-02b8-47ea-93a7-8ece5acee3b5",
   "metadata": {
    "id": "HhvnAhuxdXWq"
   },
   "outputs": [],
   "source": [
    "PARAM$FT$semillerio <- 60  # cantidad de semillas"
   ]
  },
  {
   "cell_type": "code",
   "execution_count": 60,
   "id": "29f17ec2-c574-476f-994e-e83a719b892d",
   "metadata": {
    "id": "tcYH_MiJdeEs"
   },
   "outputs": [
    {
     "name": "stderr",
     "output_type": "stream",
     "text": [
      "Loading required package: primes\n",
      "\n"
     ]
    }
   ],
   "source": [
    "if(!require(\"primes\")) install.packages(\"primes\")\n",
    "require(\"primes\")"
   ]
  },
  {
   "cell_type": "code",
   "execution_count": 61,
   "id": "8f2689fb-b203-42b2-80f0-266c7bd75ef2",
   "metadata": {
    "id": "weEzmJf5fiog"
   },
   "outputs": [
    {
     "name": "stdout",
     "output_type": "stream",
     "text": [
      "763999 610157 924383 750817 491537 320899 172357 337853 198899 844001 451069 435437 599143 248797 206033 639511 424243 173861 743693 818011 797767 290473 453421 548707 826967 604313 403037 219533 393671 968467 736429 689309 134917 341041 555293 835997 403309 679823 800909 128489 650821 445657 468359 929069 883871 882103 525769 963103 360749 130379 986759 580691 148549 269783 637787 312601 282377 967751 438877 585733"
     ]
    }
   ],
   "source": [
    "primos <- generate_primes(min = 100000, max = 1000000)\n",
    "set.seed(PARAM$semilla_primigenia, kind = \"L'Ecuyer-CMRG\")\n",
    "# me quedo con PARAM$semillerio  primos al azar\n",
    "PARAM$FT$semillas <- sample(primos)[seq(PARAM$FT$semillerio)]\n",
    "\n",
    "cat( PARAM$FT$semillas)"
   ]
  },
  {
   "cell_type": "code",
   "execution_count": 62,
   "id": "01ecdc4f-1a8b-478f-aed5-d72e7556d14b",
   "metadata": {
    "id": "fa239848-1c28-4ee5-984a-073903b4b279"
   },
   "outputs": [],
   "source": [
    "dir.create(\"modelos\", showWarnings =FALSE)\n",
    "\n",
    "primero <- TRUE\n",
    "for( sem in PARAM$FT$semillas)\n",
    "{\n",
    "  nombre_arch <- paste0( \"./modelos/modelo_\", sem, \".txt\")\n",
    "  if( !file.exists(nombre_arch) )\n",
    "  {\n",
    "    param_final$seed <- sem\n",
    "\n",
    "    set.seed(sem, kind = \"L'Ecuyer-CMRG\")\n",
    "    final_model <- lgb.train(\n",
    "      data= dfinal_train,\n",
    "      param= param_final,\n",
    "      verbose= -100\n",
    "    )\n",
    "\n",
    "    lgb.save(final_model, nombre_arch) # grabo el modelo\"\n",
    "\n",
    "    # grabo la primer importancia de variables\n",
    "    #  Natalia : da lo mismo cual se guarda\n",
    "    if( primero)\n",
    "    {\n",
    "      primero <- FALSE\n",
    "      tb_importancia <- as.data.table(lgb.importance(final_model))\n",
    "      archivo_importancia <- \"impo.txt\"\n",
    "\n",
    "      fwrite( tb_importancia,\n",
    "        file= archivo_importancia,\n",
    "        sep= \"\\t\"\n",
    "      )\n",
    "    }\n",
    " }\n",
    "}"
   ]
  },
  {
   "cell_type": "code",
   "execution_count": 63,
   "id": "1d31f5b1-3cfe-4be3-88b4-9c3c01bdf744",
   "metadata": {},
   "outputs": [
    {
     "data": {
      "text/html": [
       "'Mon Sep 22 20:42:57 2025'"
      ],
      "text/latex": [
       "'Mon Sep 22 20:42:57 2025'"
      ],
      "text/markdown": [
       "'Mon Sep 22 20:42:57 2025'"
      ],
      "text/plain": [
       "[1] \"Mon Sep 22 20:42:57 2025\""
      ]
     },
     "metadata": {},
     "output_type": "display_data"
    }
   ],
   "source": [
    "format(Sys.time(), \"%a %b %d %X %Y\")"
   ]
  },
  {
   "cell_type": "markdown",
   "id": "7ea225b3-ce02-42e2-8330-b10ed250d172",
   "metadata": {
    "id": "7ea225b3-ce02-42e2-8330-b10ed250d172"
   },
   "source": [
    "#### Scoring"
   ]
  },
  {
   "cell_type": "markdown",
   "id": "164981bb-f4c1-4228-8bc9-32e58a383c05",
   "metadata": {
    "id": "164981bb-f4c1-4228-8bc9-32e58a383c05"
   },
   "source": [
    "Aplico el modelo final a los datos del futuro"
   ]
  },
  {
   "cell_type": "code",
   "execution_count": 64,
   "id": "eJ7RbT271v-R",
   "metadata": {
    "id": "eJ7RbT271v-R"
   },
   "outputs": [],
   "source": [
    "PARAM$trainingstrategy$future <- c(202109)\n",
    "\n",
    "dfuture <- dataset[ foto_mes %in% PARAM$trainingstrategy$future ]"
   ]
  },
  {
   "cell_type": "code",
   "execution_count": 65,
   "id": "88ca61c8-fa24-4ce5-8be1-323aca018e8f",
   "metadata": {
    "id": "88ca61c8-fa24-4ce5-8be1-323aca018e8f"
   },
   "outputs": [],
   "source": [
    "# aplico final_model   a dfuture\n",
    "\n",
    "prediccion <- predict(\n",
    "  final_model,\n",
    "  data.matrix(dfuture[, campos_buenos, with= FALSE])\n",
    ")"
   ]
  },
  {
   "cell_type": "markdown",
   "id": "79u0ZvjJZblE",
   "metadata": {
    "id": "79u0ZvjJZblE"
   },
   "source": [
    "##### Tabla Prediccion"
   ]
  },
  {
   "cell_type": "code",
   "execution_count": 66,
   "id": "TB6aerGDZeTo",
   "metadata": {
    "id": "TB6aerGDZeTo"
   },
   "outputs": [],
   "source": [
    "tb_prediccion <- dfuture[, list(numero_de_cliente)]\n",
    "tb_prediccion[, prob := prediccion]\n",
    "\n",
    "# grabo las probabilidad del modelo\n",
    "#  me va a ser util para hacer Ensembles de modelos\n",
    "fwrite(tb_prediccion,\n",
    "  file= \"prediccion.txt\",\n",
    "  sep= \"\\t\"\n",
    ")"
   ]
  },
  {
   "cell_type": "markdown",
   "id": "8412d838-5bd5-454e-b3a9-5eaa18d80a50",
   "metadata": {
    "id": "8412d838-5bd5-454e-b3a9-5eaa18d80a50"
   },
   "source": [
    "#### Kaggle Competition Submit"
   ]
  },
  {
   "cell_type": "markdown",
   "id": "55970cb6-856a-46e3-a893-7f36b8352b8e",
   "metadata": {
    "id": "55970cb6-856a-46e3-a893-7f36b8352b8e"
   },
   "source": [
    "Genero las salidas y hago los submits a Kaggle"
   ]
  },
  {
   "cell_type": "code",
   "execution_count": 67,
   "id": "e5fa2439-b0e9-49e0-a861-71d7315d6e1c",
   "metadata": {
    "id": "e5fa2439-b0e9-49e0-a861-71d7315d6e1c"
   },
   "outputs": [
    {
     "name": "stdout",
     "output_type": "stream",
     "text": [
      "Successfully submitted to Data Mining, Analista Jr 2025 B \n",
      "Successfully submitted to Data Mining, Analista Jr 2025 B \n",
      "Successfully submitted to Data Mining, Analista Jr 2025 B \n",
      "Successfully submitted to Data Mining, Analista Jr 2025 B \n",
      "Successfully submitted to Data Mining, Analista Jr 2025 B \n",
      "Successfully submitted to Data Mining, Analista Jr 2025 B \n",
      "Successfully submitted to Data Mining, Analista Jr 2025 B \n"
     ]
    }
   ],
   "source": [
    "# genero archivos con los  \"envios\" mejores\n",
    "# suba TODOS los archivos a Kaggle\n",
    "\n",
    "PARAM$kaggle$competencia <- \"data-mining-analista-jr-2025-b\"\n",
    "PARAM$kaggle$cortes <- seq(1800, 2400, by = 100)\n",
    "\n",
    "# ordeno por probabilidad descendente\n",
    "setorder(tb_prediccion, -prob)\n",
    "\n",
    "dir.create(\"kaggle\")\n",
    "\n",
    "for (envios in PARAM$kaggle$cortes) {\n",
    "\n",
    "  tb_prediccion[, Predicted := 0L] # seteo inicial a 0\n",
    "  tb_prediccion[1:envios, Predicted := 1L] # marclo los primeros\n",
    "\n",
    "  archivo_kaggle <- paste0(\"./kaggle/KA\", PARAM$experimento, \"_\", envios, \".csv\")\n",
    "\n",
    "  # grabo el archivo\n",
    "  fwrite(tb_prediccion[, list(numero_de_cliente, Predicted)],\n",
    "    file= archivo_kaggle,\n",
    "    sep= \",\"\n",
    "  )\n",
    "\n",
    "  # subida a Kaggle, armo la linea de comando\n",
    "  comando <- \"kaggle competitions submit\"\n",
    "  competencia <- paste(\"-c\", PARAM$kaggle$competencia)\n",
    "  arch <- paste( \"-f\", archivo_kaggle)\n",
    "\n",
    "  mensaje <- paste0(\"-m 'envios=\", envios,\n",
    "  \"  semilla=\", PARAM$semilla_primigenia,\n",
    "    \"'\" )\n",
    "\n",
    "  linea <- paste( comando, competencia, arch, mensaje)\n",
    "\n",
    "  salida <- system(linea, intern=TRUE) # el submit a Kaggle\n",
    "  cat(salida, \"\\n\")\n",
    "  Sys.sleep(60)\n",
    "}"
   ]
  },
  {
   "cell_type": "code",
   "execution_count": 68,
   "id": "C94tK-xid6p2",
   "metadata": {
    "id": "C94tK-xid6p2"
   },
   "outputs": [
    {
     "name": "stderr",
     "output_type": "stream",
     "text": [
      "Loading required package: yaml\n",
      "\n"
     ]
    }
   ],
   "source": [
    "# grabo los parametros\n",
    "if( !require(\"yaml\")) install.packages(\"yaml\")\n",
    "require(\"yaml\")\n",
    "\n",
    "write_yaml( PARAM, file=\"PARAM.yml\")"
   ]
  },
  {
   "cell_type": "code",
   "execution_count": 69,
   "id": "1b615a62-20cc-4e95-9af2-6b6db38d5efb",
   "metadata": {
    "id": "1b615a62-20cc-4e95-9af2-6b6db38d5efb"
   },
   "outputs": [
    {
     "data": {
      "text/html": [
       "'Mon Sep 22 20:50:32 2025'"
      ],
      "text/latex": [
       "'Mon Sep 22 20:50:32 2025'"
      ],
      "text/markdown": [
       "'Mon Sep 22 20:50:32 2025'"
      ],
      "text/plain": [
       "[1] \"Mon Sep 22 20:50:32 2025\""
      ]
     },
     "metadata": {},
     "output_type": "display_data"
    }
   ],
   "source": [
    "format(Sys.time(), \"%a %b %d %X %Y\")"
   ]
  }
 ],
 "metadata": {
  "colab": {
   "provenance": []
  },
  "kernelspec": {
   "display_name": "R",
   "language": "R",
   "name": "ir"
  },
  "language_info": {
   "codemirror_mode": "r",
   "file_extension": ".r",
   "mimetype": "text/x-r-source",
   "name": "R",
   "pygments_lexer": "r",
   "version": "4.4.3"
  }
 },
 "nbformat": 4,
 "nbformat_minor": 5
}
