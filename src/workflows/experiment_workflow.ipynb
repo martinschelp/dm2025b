{
 "cells": [
  {
   "cell_type": "code",
   "execution_count": null,
   "id": "ebae660b",
   "metadata": {
    "vscode": {
     "languageId": "r"
    }
   },
   "outputs": [],
   "source": [
    "import pandas as pd"
   ]
  },
  {
   "cell_type": "code",
   "execution_count": null,
   "id": "64e792f6",
   "metadata": {
    "vscode": {
     "languageId": "r"
    }
   },
   "outputs": [],
   "source": [
    "df = pd.read_csv(\"/Users/franco.benites/dm2025b/src/workflows/experiments_tracking.csv\")"
   ]
  },
  {
   "cell_type": "code",
   "execution_count": null,
   "id": "5a8c8c7a",
   "metadata": {
    "vscode": {
     "languageId": "r"
    }
   },
   "outputs": [],
   "source": [
    "df.rename(columns={\"Metodo Drift\": \"drift\"}, inplace=True)"
   ]
  },
  {
   "cell_type": "code",
   "execution_count": null,
   "id": "bfb21c27",
   "metadata": {
    "vscode": {
     "languageId": "r"
    }
   },
   "outputs": [],
   "source": [
    "#change values to lower_case y snake_case\n",
    "df.drift = df.drift.str.lower()\n",
    "df.drift = df.drift.str.replace(\" \", \"_\")"
   ]
  },
  {
   "cell_type": "code",
   "execution_count": null,
   "id": "dc0bb63c",
   "metadata": {
    "vscode": {
     "languageId": "r"
    }
   },
   "outputs": [
    {
     "data": {
      "text/html": [
       "<div>\n",
       "<style scoped>\n",
       "    .dataframe tbody tr th:only-of-type {\n",
       "        vertical-align: middle;\n",
       "    }\n",
       "\n",
       "    .dataframe tbody tr th {\n",
       "        vertical-align: top;\n",
       "    }\n",
       "\n",
       "    .dataframe thead th {\n",
       "        text-align: right;\n",
       "    }\n",
       "</style>\n",
       "<table border=\"1\" class=\"dataframe\">\n",
       "  <thead>\n",
       "    <tr style=\"text-align: right;\">\n",
       "      <th></th>\n",
       "      <th>Experimento</th>\n",
       "      <th>date</th>\n",
       "      <th>publicScore</th>\n",
       "      <th>envios</th>\n",
       "      <th>semilla</th>\n",
       "      <th>num_leaves</th>\n",
       "      <th>min_data_in_leaf</th>\n",
       "      <th>feature_fraction</th>\n",
       "      <th>learning_rate</th>\n",
       "      <th>num_iterations</th>\n",
       "      <th>drift</th>\n",
       "    </tr>\n",
       "  </thead>\n",
       "  <tbody>\n",
       "    <tr>\n",
       "      <th>0</th>\n",
       "      <td>9105</td>\n",
       "      <td>NaN</td>\n",
       "      <td>7.506</td>\n",
       "      <td>1900.0</td>\n",
       "      <td>100379</td>\n",
       "      <td>256.0</td>\n",
       "      <td>4940.0</td>\n",
       "      <td>1</td>\n",
       "      <td>0.1</td>\n",
       "      <td>1139.0</td>\n",
       "      <td>ipc</td>\n",
       "    </tr>\n",
       "    <tr>\n",
       "      <th>1</th>\n",
       "      <td>9107</td>\n",
       "      <td>NaN</td>\n",
       "      <td>7.316</td>\n",
       "      <td>1900.0</td>\n",
       "      <td>101111</td>\n",
       "      <td>241.0</td>\n",
       "      <td>2727.0</td>\n",
       "      <td>1</td>\n",
       "      <td>0.1</td>\n",
       "      <td>779.0</td>\n",
       "      <td>ipc</td>\n",
       "    </tr>\n",
       "    <tr>\n",
       "      <th>2</th>\n",
       "      <td>9108</td>\n",
       "      <td>NaN</td>\n",
       "      <td>6.715</td>\n",
       "      <td>1800.0</td>\n",
       "      <td>250007</td>\n",
       "      <td>216.0</td>\n",
       "      <td>4912.0</td>\n",
       "      <td>1</td>\n",
       "      <td>0.1</td>\n",
       "      <td>207.0</td>\n",
       "      <td>ipc</td>\n",
       "    </tr>\n",
       "    <tr>\n",
       "      <th>3</th>\n",
       "      <td>9109</td>\n",
       "      <td>NaN</td>\n",
       "      <td>8.136</td>\n",
       "      <td>2000.0</td>\n",
       "      <td>700001</td>\n",
       "      <td>255.0</td>\n",
       "      <td>5247.0</td>\n",
       "      <td>1</td>\n",
       "      <td>0.1</td>\n",
       "      <td>859.0</td>\n",
       "      <td>ipc</td>\n",
       "    </tr>\n",
       "    <tr>\n",
       "      <th>4</th>\n",
       "      <td>9110</td>\n",
       "      <td>NaN</td>\n",
       "      <td>7.836</td>\n",
       "      <td>2400.0</td>\n",
       "      <td>800011</td>\n",
       "      <td>216.0</td>\n",
       "      <td>7393.0</td>\n",
       "      <td>1</td>\n",
       "      <td>0.1</td>\n",
       "      <td>454.0</td>\n",
       "      <td>ipc</td>\n",
       "    </tr>\n",
       "  </tbody>\n",
       "</table>\n",
       "</div>"
      ],
      "text/plain": [
       "   Experimento date  publicScore  envios  semilla  num_leaves  \\\n",
       "0         9105  NaN        7.506  1900.0   100379       256.0   \n",
       "1         9107  NaN        7.316  1900.0   101111       241.0   \n",
       "2         9108  NaN        6.715  1800.0   250007       216.0   \n",
       "3         9109  NaN        8.136  2000.0   700001       255.0   \n",
       "4         9110  NaN        7.836  2400.0   800011       216.0   \n",
       "\n",
       "   min_data_in_leaf  feature_fraction  learning_rate  num_iterations drift  \n",
       "0            4940.0                 1            0.1          1139.0   ipc  \n",
       "1            2727.0                 1            0.1           779.0   ipc  \n",
       "2            4912.0                 1            0.1           207.0   ipc  \n",
       "3            5247.0                 1            0.1           859.0   ipc  \n",
       "4            7393.0                 1            0.1           454.0   ipc  "
      ]
     },
     "execution_count": 10,
     "metadata": {},
     "output_type": "execute_result"
    }
   ],
   "source": [
    "df.head()"
   ]
  },
  {
   "cell_type": "code",
   "execution_count": null,
   "id": "b2c02a67",
   "metadata": {
    "vscode": {
     "languageId": "r"
    }
   },
   "outputs": [
    {
     "name": "stdout",
     "output_type": "stream",
     "text": [
      "['ipc', 'nucleo', 'dolar_blue', 'ninguno', 'rank_simple']\n"
     ]
    }
   ],
   "source": [
    "drift_methods = df.drift.unique().tolist()\n",
    "print(drift_methods)"
   ]
  },
  {
   "cell_type": "code",
   "execution_count": null,
   "id": "5bab4ded",
   "metadata": {
    "vscode": {
     "languageId": "r"
    }
   },
   "outputs": [],
   "source": [
    "ipc = df[df.drift == 'ipc']['publicScore']\n",
    "nucleo = df[df.drift == 'nucleo']['publicScore']\n",
    "dolar_blue = df[df.drift == 'dolar_blue']['publicScore']\n",
    "ninguno = df[df.drift == 'ninguno']['publicScore']\n",
    "rank_simple = df[df.drift == 'rank_simple']['publicScore']"
   ]
  },
  {
   "cell_type": "markdown",
   "id": "ada63035",
   "metadata": {},
   "source": [
    "# R"
   ]
  },
  {
   "cell_type": "code",
   "execution_count": 16,
   "id": "f70d0d16",
   "metadata": {
    "vscode": {
     "languageId": "r"
    }
   },
   "outputs": [
    {
     "data": {
      "text/html": [
       "<table class=\"dataframe\">\n",
       "<caption>A data.table: 6 x 11</caption>\n",
       "<thead>\n",
       "\t<tr><th scope=col>Experimento</th><th scope=col>date</th><th scope=col>publicScore</th><th scope=col>envios</th><th scope=col>semilla</th><th scope=col>num_leaves</th><th scope=col>min_data_in_leaf</th><th scope=col>feature_fraction</th><th scope=col>learning_rate</th><th scope=col>num_iterations</th><th scope=col>drift</th></tr>\n",
       "\t<tr><th scope=col>&lt;int&gt;</th><th scope=col>&lt;dttm&gt;</th><th scope=col>&lt;dbl&gt;</th><th scope=col>&lt;int&gt;</th><th scope=col>&lt;int&gt;</th><th scope=col>&lt;int&gt;</th><th scope=col>&lt;int&gt;</th><th scope=col>&lt;int&gt;</th><th scope=col>&lt;dbl&gt;</th><th scope=col>&lt;int&gt;</th><th scope=col>&lt;chr&gt;</th></tr>\n",
       "</thead>\n",
       "<tbody>\n",
       "\t<tr><td>9105</td><td>NA</td><td>7.506</td><td>1900</td><td>100379</td><td>256</td><td>4940</td><td>1</td><td>0.1</td><td>1139</td><td>ipc   </td></tr>\n",
       "\t<tr><td>9107</td><td>NA</td><td>7.316</td><td>1900</td><td>101111</td><td>241</td><td>2727</td><td>1</td><td>0.1</td><td> 779</td><td>ipc   </td></tr>\n",
       "\t<tr><td>9108</td><td>NA</td><td>6.715</td><td>1800</td><td>250007</td><td>216</td><td>4912</td><td>1</td><td>0.1</td><td> 207</td><td>ipc   </td></tr>\n",
       "\t<tr><td>9109</td><td>NA</td><td>8.136</td><td>2000</td><td>700001</td><td>255</td><td>5247</td><td>1</td><td>0.1</td><td> 859</td><td>ipc   </td></tr>\n",
       "\t<tr><td>9110</td><td>NA</td><td>7.836</td><td>2400</td><td>800011</td><td>216</td><td>7393</td><td>1</td><td>0.1</td><td> 454</td><td>ipc   </td></tr>\n",
       "\t<tr><td>9111</td><td>NA</td><td>6.225</td><td>1800</td><td>100379</td><td>256</td><td>2967</td><td>1</td><td>0.1</td><td> 746</td><td>nucleo</td></tr>\n",
       "</tbody>\n",
       "</table>\n"
      ],
      "text/latex": [
       "A data.table: 6 x 11\n",
       "\\begin{tabular}{lllllllllll}\n",
       " Experimento & date & publicScore & envios & semilla & num\\_leaves & min\\_data\\_in\\_leaf & feature\\_fraction & learning\\_rate & num\\_iterations & drift\\\\\n",
       " <int> & <dttm> & <dbl> & <int> & <int> & <int> & <int> & <int> & <dbl> & <int> & <chr>\\\\\n",
       "\\hline\n",
       "\t 9105 & NA & 7.506 & 1900 & 100379 & 256 & 4940 & 1 & 0.1 & 1139 & ipc   \\\\\n",
       "\t 9107 & NA & 7.316 & 1900 & 101111 & 241 & 2727 & 1 & 0.1 &  779 & ipc   \\\\\n",
       "\t 9108 & NA & 6.715 & 1800 & 250007 & 216 & 4912 & 1 & 0.1 &  207 & ipc   \\\\\n",
       "\t 9109 & NA & 8.136 & 2000 & 700001 & 255 & 5247 & 1 & 0.1 &  859 & ipc   \\\\\n",
       "\t 9110 & NA & 7.836 & 2400 & 800011 & 216 & 7393 & 1 & 0.1 &  454 & ipc   \\\\\n",
       "\t 9111 & NA & 6.225 & 1800 & 100379 & 256 & 2967 & 1 & 0.1 &  746 & nucleo\\\\\n",
       "\\end{tabular}\n"
      ],
      "text/markdown": [
       "\n",
       "A data.table: 6 x 11\n",
       "\n",
       "| Experimento &lt;int&gt; | date &lt;dttm&gt; | publicScore &lt;dbl&gt; | envios &lt;int&gt; | semilla &lt;int&gt; | num_leaves &lt;int&gt; | min_data_in_leaf &lt;int&gt; | feature_fraction &lt;int&gt; | learning_rate &lt;dbl&gt; | num_iterations &lt;int&gt; | drift &lt;chr&gt; |\n",
       "|---|---|---|---|---|---|---|---|---|---|---|\n",
       "| 9105 | NA | 7.506 | 1900 | 100379 | 256 | 4940 | 1 | 0.1 | 1139 | ipc    |\n",
       "| 9107 | NA | 7.316 | 1900 | 101111 | 241 | 2727 | 1 | 0.1 |  779 | ipc    |\n",
       "| 9108 | NA | 6.715 | 1800 | 250007 | 216 | 4912 | 1 | 0.1 |  207 | ipc    |\n",
       "| 9109 | NA | 8.136 | 2000 | 700001 | 255 | 5247 | 1 | 0.1 |  859 | ipc    |\n",
       "| 9110 | NA | 7.836 | 2400 | 800011 | 216 | 7393 | 1 | 0.1 |  454 | ipc    |\n",
       "| 9111 | NA | 6.225 | 1800 | 100379 | 256 | 2967 | 1 | 0.1 |  746 | nucleo |\n",
       "\n"
      ],
      "text/plain": [
       "  Experimento date publicScore envios semilla num_leaves min_data_in_leaf\n",
       "1 9105        <NA> 7.506       1900   100379  256        4940            \n",
       "2 9107        <NA> 7.316       1900   101111  241        2727            \n",
       "3 9108        <NA> 6.715       1800   250007  216        4912            \n",
       "4 9109        <NA> 8.136       2000   700001  255        5247            \n",
       "5 9110        <NA> 7.836       2400   800011  216        7393            \n",
       "6 9111        <NA> 6.225       1800   100379  256        2967            \n",
       "  feature_fraction learning_rate num_iterations drift \n",
       "1 1                0.1           1139           ipc   \n",
       "2 1                0.1            779           ipc   \n",
       "3 1                0.1            207           ipc   \n",
       "4 1                0.1            859           ipc   \n",
       "5 1                0.1            454           ipc   \n",
       "6 1                0.1            746           nucleo"
      ]
     },
     "metadata": {},
     "output_type": "display_data"
    },
    {
     "name": "stdout",
     "output_type": "stream",
     "text": [
      "[1] \"ipc\"         \"nucleo\"      \"dolar_blue\"  \"ninguno\"     \"rank_simple\"\n"
     ]
    }
   ],
   "source": [
    "library(data.table)\n",
    "\n",
    "# Read the CSV\n",
    "df <- fread(\"/Users/franco.benites/dm2025b/src/workflows/experiments_tracking.csv\")\n",
    "\n",
    "# Rename column\n",
    "setnames(df, \"Metodo Drift\", \"drift\")\n",
    "\n",
    "# Convert to lower case and replace spaces with underscores\n",
    "df[, drift := tolower(drift)]\n",
    "df[, drift := gsub(\" \", \"_\", drift)]\n",
    "\n",
    "df <- df[!is.na(df$publicScore)]\n",
    "\n",
    "# Print head of data\n",
    "head(df)\n",
    "\n",
    "# Get unique drift methods\n",
    "drift_methods <- unique(df$drift)\n",
    "print(drift_methods)\n",
    "\n",
    "# Create separate vectors for each drift method\n",
    "score_by_drift <- list(\n",
    "  ipc = df[drift == \"ipc\", publicScore],\n",
    "  nucleo = df[drift == \"nucleo\", publicScore],\n",
    "  dolar_blue = df[drift == \"dolar_blue\", publicScore],\n",
    "  ninguno = df[drift == \"ninguno\", publicScore],\n",
    "  rank_simple = df[drift == \"rank_simple\", publicScore]\n",
    ")\n"
   ]
  },
  {
   "cell_type": "code",
   "execution_count": null,
   "id": "a2c7542e",
   "metadata": {
    "vscode": {
     "languageId": "r"
    }
   },
   "outputs": [],
   "source": [
    "wt <- wilcox.test(score_by_drift$ipc, score_by_drift$nucleo)\n",
    "pvalue <- wt$p.value\n",
    "out <- 0\n",
    "if (pvalue < 0.05 && mean(score_by_drift$ipc) > mean(score_by_drift$nucleo)) {\n",
    "  out <- 1\n",
    "} else if (pvalue < 0.05 && mean(score_by_drift$ipc) < mean(score_by_drift$nucleo)) {\n",
    "  out <- 2\n",
    "}\n",
    "print(out)"
   ]
  },
  {
   "cell_type": "code",
   "execution_count": 18,
   "id": "af6cf109",
   "metadata": {
    "vscode": {
     "languageId": "r"
    }
   },
   "outputs": [
    {
     "name": "stderr",
     "output_type": "stream",
     "text": [
      "Warning message in wilcox.test.default(scores1, scores2):\n",
      "\"cannot compute exact p-value with ties\"\n",
      "Warning message in wilcox.test.default(scores1, scores2):\n",
      "\"cannot compute exact p-value with ties\"\n"
     ]
    },
    {
     "name": "stdout",
     "output_type": "stream",
     "text": [
      "      method1     method2     pvalue  mean1   mean2          result\n",
      "1  dolar_blue         ipc 0.21874201 6.9455 7.50180 NOT-SIGNIFICANT\n",
      "2         ipc      nucleo 0.05555556 7.5018 6.79300 NOT-SIGNIFICANT\n",
      "3  dolar_blue      nucleo 0.41269841 6.9455 6.79300 NOT-SIGNIFICANT\n",
      "4     ninguno      nucleo 0.69047619 7.0094 6.79300 NOT-SIGNIFICANT\n",
      "5         ipc     ninguno 0.22222222 7.5018 7.00940 NOT-SIGNIFICANT\n",
      "6  dolar_blue     ninguno 1.00000000 6.9455 7.00940 NOT-SIGNIFICANT\n",
      "7         ipc rank_simple 0.01587302 7.5018 5.50175          1 WINS\n",
      "8      nucleo rank_simple 0.08509993 6.7930 5.50175 NOT-SIGNIFICANT\n",
      "9  dolar_blue rank_simple 0.11428571 6.9455 5.50175 NOT-SIGNIFICANT\n",
      "10    ninguno rank_simple 0.03174603 7.0094 5.50175          1 WINS\n"
     ]
    }
   ],
   "source": [
    "# Get all unique pairs of methods\n",
    "methods <- names(score_by_drift)\n",
    "pairs <- expand.grid(method1 = methods, method2 = methods, stringsAsFactors = FALSE)  # Prevent factor conversion\n",
    "pairs <- pairs[pairs$method1 < pairs$method2, ]  # Keep only unique pairs\n",
    "\n",
    "# Function to compare two methods\n",
    "compare_methods <- function(method1, method2) {\n",
    "  # Convert to numeric if needed\n",
    "  scores1 <- as.numeric(score_by_drift[[method1]])\n",
    "  scores2 <- as.numeric(score_by_drift[[method2]])\n",
    "  \n",
    "  wt <- wilcox.test(scores1, scores2)\n",
    "  pvalue <- wt$p.value\n",
    "  \n",
    "  out <- \"NOT-SIGNIFICANT\"\n",
    "  if (pvalue < 0.05 && mean(scores1) > mean(scores2)) {\n",
    "    out <- \"1 WINS\"  # method1 significantly better\n",
    "  } else if (pvalue < 0.05 && mean(scores1) < mean(scores2)) {\n",
    "    out <- \"2 WINS\"  # method2 significantly better\n",
    "  }\n",
    "  \n",
    "  return(data.frame(\n",
    "    method1 = method1,\n",
    "    method2 = method2,\n",
    "    pvalue = pvalue,\n",
    "    mean1 = mean(scores1),\n",
    "    mean2 = mean(scores2),\n",
    "    result = out\n",
    "  ))\n",
    "}\n",
    "\n",
    "# Apply comparison to all pairs\n",
    "results <- do.call(rbind, \n",
    "  lapply(1:nrow(pairs), function(i) {\n",
    "    compare_methods(pairs$method1[i], pairs$method2[i])\n",
    "  })\n",
    ")\n",
    "\n",
    "# Print results in a nice format\n",
    "print(results)"
   ]
  }
 ],
 "metadata": {
  "kernelspec": {
   "display_name": "R",
   "language": "R",
   "name": "ir"
  },
  "language_info": {
   "codemirror_mode": "r",
   "file_extension": ".r",
   "mimetype": "text/x-r-source",
   "name": "R",
   "pygments_lexer": "r",
   "version": "4.5.0"
  }
 },
 "nbformat": 4,
 "nbformat_minor": 5
}
