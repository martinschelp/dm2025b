{
 "cells": [
  {
   "cell_type": "markdown",
   "id": "859d38e7-11c0-48bc-978a-d0e907f19ed1",
   "metadata": {
    "id": "859d38e7-11c0-48bc-978a-d0e907f19ed1"
   },
   "source": [
    "# 6 WorkFlow"
   ]
  },
  {
   "cell_type": "markdown",
   "id": "29c586e3-ed7d-44b2-92a0-f19669f06940",
   "metadata": {
    "id": "29c586e3-ed7d-44b2-92a0-f19669f06940"
   },
   "source": [
    "### 6.1 Objetivo"
   ]
  },
  {
   "cell_type": "markdown",
   "id": "6fff8327-10ed-4b11-bbee-f1c3f357d123",
   "metadata": {
    "id": "6fff8327-10ed-4b11-bbee-f1c3f357d123"
   },
   "source": [
    "Presentar un workflow/pipeline completo al que los estudiantes deberán enriquecer"
   ]
  },
  {
   "cell_type": "markdown",
   "id": "PX0qg_c0yqob",
   "metadata": {
    "id": "PX0qg_c0yqob"
   },
   "source": [
    "#### 6.2  Seteo del ambiente en Google Colab"
   ]
  },
  {
   "cell_type": "markdown",
   "id": "NGY7H9xza7Zr",
   "metadata": {
    "id": "NGY7H9xza7Zr"
   },
   "source": [
    "Esta parte se debe correr con el runtime en Python3\n",
    "<br>Ir al menu, Runtime -> Change Runtime Type -> Runtime type ->  **Python 3**"
   ]
  },
  {
   "cell_type": "markdown",
   "id": "7PupIBNba7Zr",
   "metadata": {
    "id": "7PupIBNba7Zr"
   },
   "source": [
    "Conectar la virtual machine donde esta corriendo Google Colab con el  Google Drive, para poder tener persistencia de archivos"
   ]
  },
  {
   "cell_type": "markdown",
   "id": "JYC_F-wla7Zs",
   "metadata": {
    "id": "JYC_F-wla7Zs"
   },
   "source": [
    "Para correr la siguiente celda es fundamental en Arranque en Frio haber copiado el archivo kaggle.json al Google Drive, en la carpeta indicada en el instructivo\n",
    "\n",
    "<br>los siguientes comando estan en shell script de Linux\n",
    "*   Crear las carpetas en el Google Drive\n",
    "*   \"instalar\" el archivo kaggle.json desde el Google Drive a la virtual machine para que pueda ser utilizado por la libreria  kaggle de Python\n",
    "*   Bajar el  **dataset_pequeno**  al  Google Drive  y tambien al disco local de la virtual machine que esta corriendo Google Colab\n",
    "*   Bajar el **dataset_historico** al Google Drive y tambien al disco local de la virtual machine que esta corriendo Google Colab\n",
    "\n"
   ]
  },
  {
   "cell_type": "markdown",
   "id": "oSKhZRToy2F7",
   "metadata": {
    "id": "oSKhZRToy2F7"
   },
   "source": [
    "## 6.3  Workflow"
   ]
  },
  {
   "cell_type": "markdown",
   "id": "85171302-a2d6-48cb-b9b2-8d839a276859",
   "metadata": {
    "id": "85171302-a2d6-48cb-b9b2-8d839a276859"
   },
   "source": [
    "## Inicializacion"
   ]
  },
  {
   "cell_type": "markdown",
   "id": "eSU5vi00CPRS",
   "metadata": {
    "id": "eSU5vi00CPRS"
   },
   "source": [
    "Esta parte se debe correr con el runtime en lenguaje **R** Ir al menu, Runtime -> Change Runtime Type -> Runtime type -> R"
   ]
  },
  {
   "cell_type": "markdown",
   "id": "Zq8dySimCPRT",
   "metadata": {
    "id": "Zq8dySimCPRT"
   },
   "source": [
    "limpio el ambiente de R"
   ]
  },
  {
   "cell_type": "code",
   "execution_count": 26,
   "id": "EL8wdHaUs59K",
   "metadata": {
    "id": "EL8wdHaUs59K"
   },
   "outputs": [
    {
     "data": {
      "text/html": [
       "'Mon Sep 15 18:32:42 2025'"
      ],
      "text/latex": [
       "'Mon Sep 15 18:32:42 2025'"
      ],
      "text/markdown": [
       "'Mon Sep 15 18:32:42 2025'"
      ],
      "text/plain": [
       "[1] \"Mon Sep 15 18:32:42 2025\""
      ]
     },
     "metadata": {},
     "output_type": "display_data"
    }
   ],
   "source": [
    "format(Sys.time(), \"%a %b %d %X %Y\")"
   ]
  },
  {
   "cell_type": "code",
   "execution_count": 27,
   "id": "1iE0U4_WCPRT",
   "metadata": {
    "id": "1iE0U4_WCPRT"
   },
   "outputs": [
    {
     "data": {
      "text/html": [
       "<table class=\"dataframe\">\n",
       "<caption>A matrix: 2 × 6 of type dbl</caption>\n",
       "<thead>\n",
       "\t<tr><th></th><th scope=col>used</th><th scope=col>(Mb)</th><th scope=col>gc trigger</th><th scope=col>(Mb)</th><th scope=col>max used</th><th scope=col>(Mb)</th></tr>\n",
       "</thead>\n",
       "<tbody>\n",
       "\t<tr><th scope=row>Ncells</th><td> 784348</td><td>41.9</td><td> 1439368</td><td> 76.9</td><td> 1439368</td><td> 76.9</td></tr>\n",
       "\t<tr><th scope=row>Vcells</th><td>1483454</td><td>11.4</td><td>15126098</td><td>115.5</td><td>18281679</td><td>139.5</td></tr>\n",
       "</tbody>\n",
       "</table>\n"
      ],
      "text/latex": [
       "A matrix: 2 × 6 of type dbl\n",
       "\\begin{tabular}{r|llllll}\n",
       "  & used & (Mb) & gc trigger & (Mb) & max used & (Mb)\\\\\n",
       "\\hline\n",
       "\tNcells &  784348 & 41.9 &  1439368 &  76.9 &  1439368 &  76.9\\\\\n",
       "\tVcells & 1483454 & 11.4 & 15126098 & 115.5 & 18281679 & 139.5\\\\\n",
       "\\end{tabular}\n"
      ],
      "text/markdown": [
       "\n",
       "A matrix: 2 × 6 of type dbl\n",
       "\n",
       "| <!--/--> | used | (Mb) | gc trigger | (Mb) | max used | (Mb) |\n",
       "|---|---|---|---|---|---|---|\n",
       "| Ncells |  784348 | 41.9 |  1439368 |  76.9 |  1439368 |  76.9 |\n",
       "| Vcells | 1483454 | 11.4 | 15126098 | 115.5 | 18281679 | 139.5 |\n",
       "\n"
      ],
      "text/plain": [
       "       used    (Mb) gc trigger (Mb)  max used (Mb) \n",
       "Ncells  784348 41.9  1439368    76.9  1439368  76.9\n",
       "Vcells 1483454 11.4 15126098   115.5 18281679 139.5"
      ]
     },
     "metadata": {},
     "output_type": "display_data"
    }
   ],
   "source": [
    "# limpio la memoria\n",
    "rm(list=ls(all.names=TRUE)) # remove all objects\n",
    "gc(full=TRUE, verbose=FALSE) # garbage collection"
   ]
  },
  {
   "cell_type": "code",
   "execution_count": 28,
   "id": "atmIUEUNUrK5",
   "metadata": {
    "id": "atmIUEUNUrK5"
   },
   "outputs": [],
   "source": [
    "require(\"data.table\")\n",
    "\n",
    "if( !require(\"R.utils\")) install.packages(\"R.utils\")\n",
    "require(\"R.utils\")"
   ]
  },
  {
   "cell_type": "markdown",
   "id": "BsxZ_ONyj9L_",
   "metadata": {
    "id": "BsxZ_ONyj9L_"
   },
   "source": [
    "#### Parametros\n",
    "Si es gerente, no cambie nada\n",
    "<br>Si es Analista, cambie el nombre del dataset"
   ]
  },
  {
   "cell_type": "code",
   "execution_count": 29,
   "id": "peRH7ySLCPRV",
   "metadata": {
    "id": "peRH7ySLCPRV"
   },
   "outputs": [],
   "source": [
    "PARAM <- list()\n",
    "PARAM$semilla_primigenia <- 102191\n",
    "\n",
    "PARAM$experimento <- 6300\n",
    "PARAM$dataset <- \"gerencial_competencia_2025.csv.gz\""
   ]
  },
  {
   "cell_type": "markdown",
   "id": "NoJbKo_4NG8A",
   "metadata": {
    "id": "NoJbKo_4NG8A"
   },
   "source": [
    "#### Carpeta del Experimento"
   ]
  },
  {
   "cell_type": "code",
   "execution_count": 30,
   "id": "1gZD6ZMvCPRV",
   "metadata": {
    "id": "1gZD6ZMvCPRV"
   },
   "outputs": [],
   "source": [
    "# carpeta de trabajo\n",
    "\n",
    "setwd(\"/content/buckets/b1/exp\")\n",
    "experimento_folder <- paste0(\"WF\", PARAM$experimento)\n",
    "dir.create(experimento_folder, showWarnings=FALSE)\n",
    "setwd( paste0(\"/content/buckets/b1/exp/\", experimento_folder ))"
   ]
  },
  {
   "cell_type": "markdown",
   "id": "YVKBfLtkR8SO",
   "metadata": {
    "id": "YVKBfLtkR8SO"
   },
   "source": [
    "### 6.3.1   Preprocesamiento del dataset"
   ]
  },
  {
   "cell_type": "markdown",
   "id": "cr3K0RPVRjq6",
   "metadata": {
    "id": "cr3K0RPVRjq6"
   },
   "source": [
    "#### 6.3.1.1  DT incorporar dataset"
   ]
  },
  {
   "cell_type": "code",
   "execution_count": 31,
   "id": "Xi0emX2ECPRV",
   "metadata": {
    "id": "Xi0emX2ECPRV"
   },
   "outputs": [],
   "source": [
    "# lectura del dataset\n",
    "dataset <- fread(paste0(\"/content/datasets/\", PARAM$dataset))"
   ]
  },
  {
   "cell_type": "markdown",
   "id": "MWuPzK3nSLY3",
   "metadata": {
    "id": "MWuPzK3nSLY3"
   },
   "source": [
    "#### 6.3.1.2  CA  Catastrophe Analysis\n",
    "Se intentan reparar las variables que para un mes están con todos los valores en cero."
   ]
  },
  {
   "cell_type": "markdown",
   "id": "UAI16-yCVcBS",
   "metadata": {
    "id": "UAI16-yCVcBS"
   },
   "source": [
    "El método que se utiliza es **Machine Learning** se asigna NA also valores, si ha leido bien, es la \"anti imputación de valores faltantes\"\n",
    "<br> Usted podrá aplicar aquí otros métodos"
   ]
  },
  {
   "cell_type": "code",
   "execution_count": 32,
   "id": "sTmliO_FXv9E",
   "metadata": {
    "id": "sTmliO_FXv9E"
   },
   "outputs": [],
   "source": [
    "dataset[ foto_mes==202006, internet:=NA]\n",
    "dataset[ foto_mes==202006, mrentabilidad:=NA]\n",
    "dataset[ foto_mes==202006, mrentabilidad_annual:=NA]\n",
    "dataset[ foto_mes==202006, mcomisiones:=NA]\n",
    "dataset[ foto_mes==202006, mactivos_margen:=NA]\n",
    "dataset[ foto_mes==202006, mpasivos_margen:=NA]\n",
    "dataset[ foto_mes==202006, mcuentas_saldo:=NA]\n",
    "dataset[ foto_mes==202006, ctarjeta_visa_transacciones:=NA]\n",
    "dataset[ foto_mes==202006, mtarjeta_visa_consumo:=NA]\n",
    "dataset[ foto_mes==202006, mtarjeta_master_consumo:=NA]\n",
    "dataset[ foto_mes==202006, ccallcenter_transacciones:=NA]\n",
    "dataset[ foto_mes==202006, chomebanking_transacciones:=NA]\n",
    "dataset[ foto_mes==202006, chomebanking_transacciones:=NA]"
   ]
  },
  {
   "cell_type": "markdown",
   "id": "-4NiANYFSYHG",
   "metadata": {
    "id": "-4NiANYFSYHG"
   },
   "source": [
    "#### 6.3.1.3  DR  Data Drifting\n",
    "Se intenta corregir el data drifting, quizas ajustando por IPC ...\n",
    "<br>Esta parte podrá ser abordada por todos los Analistas y también la Gerenciapero se decide pedagogicamente no incluirla en esta primer version para reducir la carga cognitiva"
   ]
  },
  {
   "cell_type": "code",
   "execution_count": 33,
   "id": "L85A2lwKSe3k",
   "metadata": {
    "id": "L85A2lwKSe3k"
   },
   "outputs": [
    {
     "data": {
      "text/html": [
       "<table class=\"dataframe\">\n",
       "<caption>A data.table: 273666 × 32</caption>\n",
       "<thead>\n",
       "\t<tr><th scope=col>numero_de_cliente</th><th scope=col>foto_mes</th><th scope=col>internet</th><th scope=col>cliente_edad</th><th scope=col>cliente_antiguedad</th><th scope=col>mrentabilidad</th><th scope=col>mrentabilidad_annual</th><th scope=col>mcomisiones</th><th scope=col>mactivos_margen</th><th scope=col>mpasivos_margen</th><th scope=col>⋯</th><th scope=col>ccallcenter_transacciones</th><th scope=col>chomebanking_transacciones</th><th scope=col>ctrx_quarter</th><th scope=col>Master_status</th><th scope=col>Master_fechaalta</th><th scope=col>Master_mpagominimo</th><th scope=col>Visa_status</th><th scope=col>Visa_fechaalta</th><th scope=col>Visa_mpagominimo</th><th scope=col>clase_ternaria</th></tr>\n",
       "\t<tr><th scope=col>&lt;int&gt;</th><th scope=col>&lt;int&gt;</th><th scope=col>&lt;int&gt;</th><th scope=col>&lt;int&gt;</th><th scope=col>&lt;int&gt;</th><th scope=col>&lt;dbl&gt;</th><th scope=col>&lt;dbl&gt;</th><th scope=col>&lt;dbl&gt;</th><th scope=col>&lt;dbl&gt;</th><th scope=col>&lt;dbl&gt;</th><th scope=col>⋯</th><th scope=col>&lt;int&gt;</th><th scope=col>&lt;int&gt;</th><th scope=col>&lt;int&gt;</th><th scope=col>&lt;int&gt;</th><th scope=col>&lt;int&gt;</th><th scope=col>&lt;dbl&gt;</th><th scope=col>&lt;int&gt;</th><th scope=col>&lt;int&gt;</th><th scope=col>&lt;dbl&gt;</th><th scope=col>&lt;chr&gt;</th></tr>\n",
       "</thead>\n",
       "<tbody>\n",
       "\t<tr><td>29186441</td><td>202005</td><td>1</td><td>61</td><td>282</td><td>2354.94</td><td>43761.59</td><td>1682.14</td><td> -139.02</td><td> 712.60</td><td>⋯</td><td>0</td><td> 20</td><td> 47</td><td> 0</td><td>6507</td><td>   0.00</td><td>0</td><td>7671</td><td>1043.97</td><td>CONTINUA</td></tr>\n",
       "\t<tr><td>29187961</td><td>202005</td><td>1</td><td>61</td><td>312</td><td>5066.31</td><td>47268.33</td><td>3875.62</td><td>-3536.03</td><td>4551.11</td><td>⋯</td><td>0</td><td>228</td><td>232</td><td> 0</td><td>5939</td><td>2017.56</td><td>0</td><td>8090</td><td>7495.47</td><td>CONTINUA</td></tr>\n",
       "\t<tr><td>29193101</td><td>202005</td><td>1</td><td>67</td><td>365</td><td>4809.42</td><td>37996.66</td><td>6982.73</td><td>-2962.24</td><td>1109.46</td><td>⋯</td><td>0</td><td>133</td><td>149</td><td> 0</td><td>2026</td><td>2838.66</td><td>0</td><td>2026</td><td>1653.93</td><td>CONTINUA</td></tr>\n",
       "\t<tr><td>29193281</td><td>202005</td><td>1</td><td>54</td><td>158</td><td>2979.52</td><td>88436.59</td><td>3350.01</td><td> -908.55</td><td> 592.70</td><td>⋯</td><td>2</td><td> 10</td><td>115</td><td> 0</td><td>3125</td><td> 844.56</td><td>0</td><td>3350</td><td>2029.29</td><td>CONTINUA</td></tr>\n",
       "\t<tr><td>29198891</td><td>202005</td><td>1</td><td>54</td><td>312</td><td>3008.70</td><td>22567.32</td><td> 273.68</td><td> -643.87</td><td>2975.52</td><td>⋯</td><td>0</td><td>124</td><td> 32</td><td> 0</td><td>7202</td><td> 234.60</td><td>0</td><td>7242</td><td>1395.87</td><td>CONTINUA</td></tr>\n",
       "\t<tr><td>29205441</td><td>202005</td><td>1</td><td>72</td><td>  6</td><td> 394.19</td><td> 1607.93</td><td> 159.49</td><td>   -9.92</td><td> 210.01</td><td>⋯</td><td>0</td><td> 41</td><td> 32</td><td> 0</td><td> 157</td><td>   0.00</td><td>0</td><td> 157</td><td>  58.65</td><td>CONTINUA</td></tr>\n",
       "\t<tr><td>29207901</td><td>202005</td><td>1</td><td>82</td><td>312</td><td>7080.40</td><td>50842.55</td><td>1895.97</td><td>  -47.19</td><td>4466.99</td><td>⋯</td><td>0</td><td> 24</td><td>123</td><td>NA</td><td>  NA</td><td>     NA</td><td>0</td><td>8480</td><td>   0.00</td><td>CONTINUA</td></tr>\n",
       "\t<tr><td>29243631</td><td>202005</td><td>1</td><td>54</td><td>110</td><td>2043.10</td><td>32934.54</td><td> 492.60</td><td>  915.30</td><td> 406.53</td><td>⋯</td><td>0</td><td> 87</td><td> 81</td><td> 0</td><td> 992</td><td>   0.00</td><td>0</td><td>3036</td><td>1395.87</td><td>CONTINUA</td></tr>\n",
       "\t<tr><td>29251231</td><td>202005</td><td>1</td><td>82</td><td>312</td><td>1071.17</td><td>80557.53</td><td> 635.61</td><td>  -51.43</td><td> 422.75</td><td>⋯</td><td>0</td><td> 91</td><td> 58</td><td> 0</td><td>7298</td><td> 304.98</td><td>0</td><td>8215</td><td> 105.57</td><td>CONTINUA</td></tr>\n",
       "\t<tr><td>29257551</td><td>202005</td><td>1</td><td>44</td><td>187</td><td>1552.31</td><td>11131.46</td><td> 390.96</td><td>    8.91</td><td> 981.16</td><td>⋯</td><td>1</td><td> 92</td><td> 55</td><td> 0</td><td>3022</td><td>  70.38</td><td>0</td><td>5632</td><td>1196.46</td><td>CONTINUA</td></tr>\n",
       "\t<tr><td>29267141</td><td>202005</td><td>1</td><td>56</td><td>312</td><td>6273.45</td><td>49972.39</td><td>1813.46</td><td> -490.09</td><td>4292.29</td><td>⋯</td><td>0</td><td>108</td><td>166</td><td> 0</td><td>7279</td><td>2029.29</td><td>0</td><td>8224</td><td>3225.75</td><td>CONTINUA</td></tr>\n",
       "\t<tr><td>29277081</td><td>202005</td><td>1</td><td>58</td><td>292</td><td>1420.76</td><td>18072.15</td><td>1322.59</td><td> -134.25</td><td> 217.94</td><td>⋯</td><td>0</td><td> 65</td><td> 56</td><td> 0</td><td>7279</td><td>   0.00</td><td>0</td><td>8252</td><td> 246.33</td><td>CONTINUA</td></tr>\n",
       "\t<tr><td>29284331</td><td>202005</td><td>1</td><td>53</td><td>365</td><td>8345.16</td><td>52842.60</td><td>9951.07</td><td> -458.79</td><td>-910.27</td><td>⋯</td><td>0</td><td> 36</td><td>115</td><td> 0</td><td>7298</td><td>   0.00</td><td>0</td><td>8179</td><td> 879.75</td><td>CONTINUA</td></tr>\n",
       "\t<tr><td>29286091</td><td>202005</td><td>1</td><td>80</td><td>251</td><td>3059.73</td><td>47076.16</td><td> 314.41</td><td> -152.94</td><td>2493.37</td><td>⋯</td><td>0</td><td> 58</td><td> 73</td><td>NA</td><td>  NA</td><td>     NA</td><td>0</td><td>6150</td><td> 668.61</td><td>CONTINUA</td></tr>\n",
       "\t<tr><td>29289361</td><td>202005</td><td>1</td><td>68</td><td>265</td><td>6793.52</td><td>29145.19</td><td>6619.00</td><td> -198.76</td><td> 347.54</td><td>⋯</td><td>0</td><td>  7</td><td> 67</td><td> 0</td><td>3969</td><td>   0.00</td><td>0</td><td>8076</td><td>2299.08</td><td>CONTINUA</td></tr>\n",
       "\t<tr><td>29292171</td><td>202005</td><td>1</td><td>62</td><td>312</td><td>8547.63</td><td>22734.05</td><td>8566.95</td><td> -604.33</td><td> 587.86</td><td>⋯</td><td>0</td><td> 70</td><td> 92</td><td> 0</td><td>7298</td><td> 316.71</td><td>0</td><td>8615</td><td>1043.97</td><td>CONTINUA</td></tr>\n",
       "\t<tr><td>29297201</td><td>202005</td><td>1</td><td>79</td><td>312</td><td>1285.22</td><td>24867.01</td><td>1082.92</td><td> -580.64</td><td> 753.10</td><td>⋯</td><td>0</td><td> 13</td><td>120</td><td> 0</td><td>2861</td><td>   0.00</td><td>0</td><td>3862</td><td>1595.28</td><td>CONTINUA</td></tr>\n",
       "\t<tr><td>29298431</td><td>202005</td><td>1</td><td>78</td><td>312</td><td>3107.85</td><td>72839.08</td><td>1651.59</td><td> -102.72</td><td>1344.20</td><td>⋯</td><td>0</td><td>159</td><td> 61</td><td> 0</td><td> 257</td><td>   0.00</td><td>0</td><td>1160</td><td> 117.30</td><td>CONTINUA</td></tr>\n",
       "\t<tr><td>29300881</td><td>202005</td><td>1</td><td>54</td><td>268</td><td>4960.07</td><td>79111.60</td><td> 447.58</td><td>  -89.00</td><td>3935.97</td><td>⋯</td><td>0</td><td> 73</td><td>100</td><td> 0</td><td>1480</td><td>   0.00</td><td>0</td><td>5866</td><td> 551.31</td><td>CONTINUA</td></tr>\n",
       "\t<tr><td>29300941</td><td>202005</td><td>1</td><td>52</td><td>268</td><td>5065.51</td><td>67020.89</td><td>2327.61</td><td> -987.94</td><td>3322.04</td><td>⋯</td><td>0</td><td> 47</td><td>191</td><td> 0</td><td>7279</td><td>   0.00</td><td>0</td><td>7696</td><td>1794.69</td><td>CONTINUA</td></tr>\n",
       "\t<tr><td>29303051</td><td>202005</td><td>0</td><td>80</td><td> 79</td><td> 500.30</td><td>  720.48</td><td> 356.08</td><td>  112.18</td><td>  10.77</td><td>⋯</td><td>0</td><td>  0</td><td> 17</td><td> 0</td><td>2377</td><td>   0.00</td><td>0</td><td>2377</td><td>  46.92</td><td>BAJA+2  </td></tr>\n",
       "\t<tr><td>29304511</td><td>202005</td><td>1</td><td>74</td><td>205</td><td>8956.62</td><td>72865.16</td><td>4471.55</td><td> -688.00</td><td>4511.59</td><td>⋯</td><td>4</td><td>112</td><td>132</td><td> 0</td><td>4906</td><td>   0.00</td><td>0</td><td>4219</td><td> 469.20</td><td>CONTINUA</td></tr>\n",
       "\t<tr><td>29325391</td><td>202005</td><td>1</td><td>48</td><td>269</td><td>3530.69</td><td>89626.45</td><td>1912.41</td><td>  -85.34</td><td>1464.95</td><td>⋯</td><td>0</td><td>179</td><td>155</td><td> 0</td><td>1826</td><td>   0.00</td><td>0</td><td>2307</td><td>   0.00</td><td>CONTINUA</td></tr>\n",
       "\t<tr><td>29344801</td><td>202005</td><td>1</td><td>62</td><td>274</td><td>1364.87</td><td>53909.53</td><td> 110.39</td><td>  -45.59</td><td>1115.06</td><td>⋯</td><td>8</td><td> 95</td><td> 77</td><td> 0</td><td>4375</td><td>   0.00</td><td>0</td><td>8350</td><td> 211.14</td><td>CONTINUA</td></tr>\n",
       "\t<tr><td>29344861</td><td>202005</td><td>1</td><td>68</td><td>270</td><td>2564.58</td><td>20223.82</td><td>2957.12</td><td> -644.46</td><td> 309.82</td><td>⋯</td><td>0</td><td> 54</td><td> 71</td><td> 0</td><td>4480</td><td> 234.60</td><td>0</td><td>8229</td><td>2744.82</td><td>CONTINUA</td></tr>\n",
       "\t<tr><td>29346321</td><td>202005</td><td>1</td><td>56</td><td>312</td><td>5357.27</td><td>39893.20</td><td> 551.53</td><td> -390.53</td><td>4487.50</td><td>⋯</td><td>0</td><td> 14</td><td> 86</td><td> 0</td><td>3932</td><td>   0.00</td><td>0</td><td>7580</td><td> 539.58</td><td>CONTINUA</td></tr>\n",
       "\t<tr><td>29347841</td><td>202005</td><td>1</td><td>67</td><td>365</td><td> 151.12</td><td>51446.09</td><td>  -4.36</td><td>    1.64</td><td> 130.92</td><td>⋯</td><td>0</td><td>  0</td><td> 93</td><td> 0</td><td>4598</td><td>   0.00</td><td>0</td><td>4598</td><td>  82.11</td><td>CONTINUA</td></tr>\n",
       "\t<tr><td>29347901</td><td>202005</td><td>1</td><td>52</td><td>260</td><td>2720.86</td><td>14488.79</td><td>1038.60</td><td> -411.54</td><td>1845.69</td><td>⋯</td><td>0</td><td> 31</td><td> 94</td><td> 0</td><td>5032</td><td>   0.00</td><td>0</td><td>5866</td><td>3260.94</td><td>CONTINUA</td></tr>\n",
       "\t<tr><td>29348781</td><td>202005</td><td>1</td><td>49</td><td>200</td><td>1558.74</td><td>14875.28</td><td>2059.67</td><td>-1110.26</td><td> 683.21</td><td>⋯</td><td>0</td><td> 19</td><td>123</td><td> 0</td><td>3296</td><td>   0.00</td><td>0</td><td>3904</td><td>2744.82</td><td>CONTINUA</td></tr>\n",
       "\t<tr><td>29352931</td><td>202005</td><td>1</td><td>54</td><td>254</td><td> 588.43</td><td>22770.11</td><td> 237.25</td><td> -828.70</td><td>1128.09</td><td>⋯</td><td>0</td><td>  0</td><td>145</td><td> 0</td><td>4381</td><td>  23.46</td><td>0</td><td>5866</td><td>3929.55</td><td>CONTINUA</td></tr>\n",
       "\t<tr><td>⋮</td><td>⋮</td><td>⋮</td><td>⋮</td><td>⋮</td><td>⋮</td><td>⋮</td><td>⋮</td><td>⋮</td><td>⋮</td><td>⋱</td><td>⋮</td><td>⋮</td><td>⋮</td><td>⋮</td><td>⋮</td><td>⋮</td><td>⋮</td><td>⋮</td><td>⋮</td><td>⋮</td></tr>\n",
       "\t<tr><td>186827251</td><td>202109</td><td>0</td><td>27</td><td>4</td><td>   0.00</td><td>  258.23</td><td>   0.00</td><td>    0.00</td><td>   0.00</td><td>⋯</td><td>0</td><td>  1</td><td>  6</td><td>0</td><td> 99</td><td>0</td><td>0</td><td> 99</td><td>   0.00</td><td></td></tr>\n",
       "\t<tr><td>186829241</td><td>202109</td><td>0</td><td>27</td><td>5</td><td>4672.11</td><td>16637.56</td><td>  89.55</td><td> -998.10</td><td>4904.80</td><td>⋯</td><td>0</td><td> 28</td><td> 21</td><td>0</td><td>133</td><td>0</td><td>0</td><td>133</td><td>   0.00</td><td></td></tr>\n",
       "\t<tr><td>186866381</td><td>202109</td><td>0</td><td>23</td><td>4</td><td> 406.16</td><td> 1670.53</td><td> 749.10</td><td>-1835.28</td><td>1542.92</td><td>⋯</td><td>0</td><td>  2</td><td>150</td><td>0</td><td> 39</td><td>0</td><td>0</td><td> 39</td><td>2486.76</td><td></td></tr>\n",
       "\t<tr><td>186874801</td><td>202109</td><td>0</td><td>72</td><td>3</td><td>  -5.09</td><td>    8.90</td><td>   0.00</td><td>   -4.35</td><td>   0.01</td><td>⋯</td><td>0</td><td>  8</td><td>  9</td><td>0</td><td> 79</td><td>0</td><td>0</td><td> 79</td><td>2170.05</td><td></td></tr>\n",
       "\t<tr><td>186899651</td><td>202109</td><td>0</td><td>35</td><td>4</td><td>1118.50</td><td> 3575.23</td><td>  97.38</td><td>    0.00</td><td> 870.52</td><td>⋯</td><td>0</td><td>  4</td><td> 40</td><td>0</td><td>105</td><td>0</td><td>0</td><td>105</td><td>   0.00</td><td></td></tr>\n",
       "\t<tr><td>187021641</td><td>202109</td><td>0</td><td>32</td><td>4</td><td>2354.19</td><td> 2976.03</td><td> 572.45</td><td> -420.10</td><td>1939.06</td><td>⋯</td><td>0</td><td>  0</td><td> 28</td><td>0</td><td>100</td><td>0</td><td>0</td><td>100</td><td>   0.00</td><td></td></tr>\n",
       "\t<tr><td>187060301</td><td>202109</td><td>0</td><td>25</td><td>4</td><td>2991.46</td><td> 8759.38</td><td> 577.86</td><td>  -74.96</td><td>2132.59</td><td>⋯</td><td>0</td><td> 31</td><td> 95</td><td>0</td><td>120</td><td>0</td><td>0</td><td>120</td><td> 175.95</td><td></td></tr>\n",
       "\t<tr><td>187066091</td><td>202109</td><td>0</td><td>34</td><td>4</td><td>3175.59</td><td> 8614.88</td><td>3141.77</td><td>-3157.59</td><td>3186.42</td><td>⋯</td><td>0</td><td>141</td><td>204</td><td>0</td><td> 67</td><td>0</td><td>0</td><td> 67</td><td>9067.29</td><td></td></tr>\n",
       "\t<tr><td>187170651</td><td>202109</td><td>0</td><td>28</td><td>4</td><td>2845.22</td><td> 6686.24</td><td> 126.21</td><td> -251.03</td><td>2569.03</td><td>⋯</td><td>0</td><td> 16</td><td> 65</td><td>0</td><td> 81</td><td>0</td><td>0</td><td> 81</td><td> 340.17</td><td></td></tr>\n",
       "\t<tr><td>187203931</td><td>202109</td><td>0</td><td>36</td><td>3</td><td> 353.14</td><td>  538.47</td><td>  15.49</td><td>    7.65</td><td> 280.20</td><td>⋯</td><td>0</td><td>  3</td><td> 41</td><td>0</td><td> 77</td><td>0</td><td>0</td><td> 77</td><td>   0.00</td><td></td></tr>\n",
       "\t<tr><td>187233931</td><td>202109</td><td>0</td><td>39</td><td>2</td><td>1857.29</td><td> 3954.45</td><td> 672.82</td><td> -682.01</td><td>1691.79</td><td>⋯</td><td>0</td><td> 63</td><td> 82</td><td>0</td><td> 49</td><td>0</td><td>0</td><td> 49</td><td>6134.79</td><td></td></tr>\n",
       "\t<tr><td>187269951</td><td>202109</td><td>0</td><td>35</td><td>3</td><td> 941.66</td><td> 1593.16</td><td>2100.92</td><td>-1798.88</td><td> 810.59</td><td>⋯</td><td>0</td><td>  5</td><td> 23</td><td>0</td><td> 63</td><td>0</td><td>0</td><td> 63</td><td>5032.17</td><td></td></tr>\n",
       "\t<tr><td>187272641</td><td>202109</td><td>0</td><td>33</td><td>3</td><td>  10.61</td><td>   22.86</td><td>   0.00</td><td>    9.05</td><td>   0.00</td><td>⋯</td><td>0</td><td>  0</td><td>  3</td><td>0</td><td> 67</td><td>0</td><td>0</td><td> 67</td><td>   0.00</td><td></td></tr>\n",
       "\t<tr><td>187314281</td><td>202109</td><td>0</td><td>27</td><td>3</td><td>1423.32</td><td> 3508.98</td><td> 238.02</td><td>    0.00</td><td>1010.49</td><td>⋯</td><td>3</td><td> 16</td><td> 51</td><td>0</td><td> 72</td><td>0</td><td>0</td><td> 72</td><td>   0.00</td><td></td></tr>\n",
       "\t<tr><td>187332121</td><td>202109</td><td>0</td><td>24</td><td>3</td><td>1201.70</td><td> 3709.31</td><td> 136.54</td><td>    0.00</td><td> 908.06</td><td>⋯</td><td>0</td><td> 11</td><td> 58</td><td>0</td><td> 21</td><td>0</td><td>0</td><td> 21</td><td>   0.00</td><td></td></tr>\n",
       "\t<tr><td>187346211</td><td>202109</td><td>0</td><td>37</td><td>3</td><td> 262.13</td><td> 1085.09</td><td>1017.21</td><td>-1217.34</td><td> 573.62</td><td>⋯</td><td>0</td><td> 13</td><td> 70</td><td>0</td><td> 78</td><td>0</td><td>0</td><td> 78</td><td>4199.34</td><td></td></tr>\n",
       "\t<tr><td>187350011</td><td>202109</td><td>0</td><td>32</td><td>3</td><td>1070.96</td><td> 1659.65</td><td> 354.25</td><td>  208.65</td><td> 402.35</td><td>⋯</td><td>0</td><td> 14</td><td> 49</td><td>0</td><td> 31</td><td>0</td><td>0</td><td> 31</td><td>   0.00</td><td></td></tr>\n",
       "\t<tr><td>187400951</td><td>202109</td><td>0</td><td>46</td><td>3</td><td> 305.08</td><td>  461.09</td><td>  51.67</td><td>  125.52</td><td>  90.52</td><td>⋯</td><td>0</td><td>  1</td><td> 43</td><td>0</td><td> 51</td><td>0</td><td>0</td><td> 51</td><td>   0.00</td><td></td></tr>\n",
       "\t<tr><td>187429081</td><td>202109</td><td>0</td><td>36</td><td>3</td><td> 997.47</td><td> 1417.71</td><td>   0.00</td><td>    0.00</td><td> 850.36</td><td>⋯</td><td>0</td><td>  0</td><td> 25</td><td>0</td><td> 79</td><td>0</td><td>0</td><td> 79</td><td>   0.00</td><td></td></tr>\n",
       "\t<tr><td>187434871</td><td>202109</td><td>0</td><td>69</td><td>3</td><td>2083.31</td><td> 6857.11</td><td> 258.63</td><td>    0.00</td><td>1555.57</td><td>⋯</td><td>0</td><td>  0</td><td>  7</td><td>0</td><td> 71</td><td>0</td><td>0</td><td> 71</td><td>   0.00</td><td></td></tr>\n",
       "\t<tr><td>187594641</td><td>202109</td><td>0</td><td>38</td><td>2</td><td> 536.50</td><td>  559.57</td><td>   0.00</td><td>    0.00</td><td> 457.38</td><td>⋯</td><td>0</td><td> 33</td><td> 15</td><td>0</td><td> 38</td><td>0</td><td>0</td><td> 38</td><td>   0.00</td><td></td></tr>\n",
       "\t<tr><td>187604521</td><td>202109</td><td>0</td><td>45</td><td>2</td><td>3291.08</td><td> 3291.08</td><td>3176.42</td><td>-2402.58</td><td>2500.33</td><td>⋯</td><td>0</td><td> 96</td><td>  7</td><td>0</td><td> 32</td><td>0</td><td>0</td><td> 32</td><td>2756.55</td><td></td></tr>\n",
       "\t<tr><td>187626041</td><td>202109</td><td>0</td><td>56</td><td>2</td><td> 151.28</td><td>  166.46</td><td>   0.00</td><td>    0.00</td><td> 128.97</td><td>⋯</td><td>0</td><td>  0</td><td>  4</td><td>0</td><td> 50</td><td>0</td><td>0</td><td> 50</td><td>   0.00</td><td></td></tr>\n",
       "\t<tr><td>187636041</td><td>202109</td><td>0</td><td>29</td><td>2</td><td>5656.40</td><td> 5656.40</td><td>5695.07</td><td>-2028.56</td><td>1995.59</td><td>⋯</td><td>0</td><td> 37</td><td> 81</td><td>0</td><td> 32</td><td>0</td><td>0</td><td> 32</td><td>3906.09</td><td></td></tr>\n",
       "\t<tr><td>187827511</td><td>202109</td><td>0</td><td>42</td><td>1</td><td>   7.20</td><td>    7.20</td><td>  22.11</td><td>  -38.43</td><td>  25.72</td><td>⋯</td><td>0</td><td>  4</td><td>  9</td><td>0</td><td> 23</td><td>0</td><td>0</td><td> 23</td><td> 269.79</td><td></td></tr>\n",
       "\t<tr><td>187838971</td><td>202109</td><td>0</td><td>49</td><td>1</td><td>   0.00</td><td>    0.00</td><td>   0.00</td><td>    0.00</td><td>   0.00</td><td>⋯</td><td>0</td><td>  0</td><td>  4</td><td>0</td><td>  7</td><td>0</td><td>0</td><td>  7</td><td>   0.00</td><td></td></tr>\n",
       "\t<tr><td>187902361</td><td>202109</td><td>0</td><td>22</td><td>1</td><td> 344.33</td><td>  344.33</td><td> 343.92</td><td>    0.35</td><td>   0.00</td><td>⋯</td><td>0</td><td>  0</td><td>  5</td><td>0</td><td> 11</td><td>0</td><td>0</td><td> 11</td><td>   0.00</td><td></td></tr>\n",
       "\t<tr><td>187956461</td><td>202109</td><td>0</td><td>34</td><td>1</td><td> 582.06</td><td>  582.06</td><td>  86.96</td><td>  422.08</td><td>   0.00</td><td>⋯</td><td>0</td><td> 19</td><td> 13</td><td>0</td><td> 23</td><td>0</td><td>0</td><td> 23</td><td>   0.00</td><td></td></tr>\n",
       "\t<tr><td>187964701</td><td>202109</td><td>0</td><td>26</td><td>1</td><td>   0.00</td><td>    0.00</td><td>   0.00</td><td>    0.00</td><td>   0.00</td><td>⋯</td><td>0</td><td>  5</td><td>  2</td><td>0</td><td> 16</td><td>0</td><td>0</td><td> 16</td><td>   0.00</td><td></td></tr>\n",
       "\t<tr><td>188116871</td><td>202109</td><td>0</td><td>30</td><td>1</td><td> 383.31</td><td>  383.31</td><td>   0.00</td><td> -214.17</td><td> 540.95</td><td>⋯</td><td>0</td><td> 21</td><td> 19</td><td>0</td><td> 15</td><td>0</td><td>0</td><td> 15</td><td>   0.00</td><td></td></tr>\n",
       "</tbody>\n",
       "</table>\n"
      ],
      "text/latex": [
       "A data.table: 273666 × 32\n",
       "\\begin{tabular}{lllllllllllllllllllll}\n",
       " numero\\_de\\_cliente & foto\\_mes & internet & cliente\\_edad & cliente\\_antiguedad & mrentabilidad & mrentabilidad\\_annual & mcomisiones & mactivos\\_margen & mpasivos\\_margen & ⋯ & ccallcenter\\_transacciones & chomebanking\\_transacciones & ctrx\\_quarter & Master\\_status & Master\\_fechaalta & Master\\_mpagominimo & Visa\\_status & Visa\\_fechaalta & Visa\\_mpagominimo & clase\\_ternaria\\\\\n",
       " <int> & <int> & <int> & <int> & <int> & <dbl> & <dbl> & <dbl> & <dbl> & <dbl> & ⋯ & <int> & <int> & <int> & <int> & <int> & <dbl> & <int> & <int> & <dbl> & <chr>\\\\\n",
       "\\hline\n",
       "\t 29186441 & 202005 & 1 & 61 & 282 & 2354.94 & 43761.59 & 1682.14 &  -139.02 &  712.60 & ⋯ & 0 &  20 &  47 &  0 & 6507 &    0.00 & 0 & 7671 & 1043.97 & CONTINUA\\\\\n",
       "\t 29187961 & 202005 & 1 & 61 & 312 & 5066.31 & 47268.33 & 3875.62 & -3536.03 & 4551.11 & ⋯ & 0 & 228 & 232 &  0 & 5939 & 2017.56 & 0 & 8090 & 7495.47 & CONTINUA\\\\\n",
       "\t 29193101 & 202005 & 1 & 67 & 365 & 4809.42 & 37996.66 & 6982.73 & -2962.24 & 1109.46 & ⋯ & 0 & 133 & 149 &  0 & 2026 & 2838.66 & 0 & 2026 & 1653.93 & CONTINUA\\\\\n",
       "\t 29193281 & 202005 & 1 & 54 & 158 & 2979.52 & 88436.59 & 3350.01 &  -908.55 &  592.70 & ⋯ & 2 &  10 & 115 &  0 & 3125 &  844.56 & 0 & 3350 & 2029.29 & CONTINUA\\\\\n",
       "\t 29198891 & 202005 & 1 & 54 & 312 & 3008.70 & 22567.32 &  273.68 &  -643.87 & 2975.52 & ⋯ & 0 & 124 &  32 &  0 & 7202 &  234.60 & 0 & 7242 & 1395.87 & CONTINUA\\\\\n",
       "\t 29205441 & 202005 & 1 & 72 &   6 &  394.19 &  1607.93 &  159.49 &    -9.92 &  210.01 & ⋯ & 0 &  41 &  32 &  0 &  157 &    0.00 & 0 &  157 &   58.65 & CONTINUA\\\\\n",
       "\t 29207901 & 202005 & 1 & 82 & 312 & 7080.40 & 50842.55 & 1895.97 &   -47.19 & 4466.99 & ⋯ & 0 &  24 & 123 & NA &   NA &      NA & 0 & 8480 &    0.00 & CONTINUA\\\\\n",
       "\t 29243631 & 202005 & 1 & 54 & 110 & 2043.10 & 32934.54 &  492.60 &   915.30 &  406.53 & ⋯ & 0 &  87 &  81 &  0 &  992 &    0.00 & 0 & 3036 & 1395.87 & CONTINUA\\\\\n",
       "\t 29251231 & 202005 & 1 & 82 & 312 & 1071.17 & 80557.53 &  635.61 &   -51.43 &  422.75 & ⋯ & 0 &  91 &  58 &  0 & 7298 &  304.98 & 0 & 8215 &  105.57 & CONTINUA\\\\\n",
       "\t 29257551 & 202005 & 1 & 44 & 187 & 1552.31 & 11131.46 &  390.96 &     8.91 &  981.16 & ⋯ & 1 &  92 &  55 &  0 & 3022 &   70.38 & 0 & 5632 & 1196.46 & CONTINUA\\\\\n",
       "\t 29267141 & 202005 & 1 & 56 & 312 & 6273.45 & 49972.39 & 1813.46 &  -490.09 & 4292.29 & ⋯ & 0 & 108 & 166 &  0 & 7279 & 2029.29 & 0 & 8224 & 3225.75 & CONTINUA\\\\\n",
       "\t 29277081 & 202005 & 1 & 58 & 292 & 1420.76 & 18072.15 & 1322.59 &  -134.25 &  217.94 & ⋯ & 0 &  65 &  56 &  0 & 7279 &    0.00 & 0 & 8252 &  246.33 & CONTINUA\\\\\n",
       "\t 29284331 & 202005 & 1 & 53 & 365 & 8345.16 & 52842.60 & 9951.07 &  -458.79 & -910.27 & ⋯ & 0 &  36 & 115 &  0 & 7298 &    0.00 & 0 & 8179 &  879.75 & CONTINUA\\\\\n",
       "\t 29286091 & 202005 & 1 & 80 & 251 & 3059.73 & 47076.16 &  314.41 &  -152.94 & 2493.37 & ⋯ & 0 &  58 &  73 & NA &   NA &      NA & 0 & 6150 &  668.61 & CONTINUA\\\\\n",
       "\t 29289361 & 202005 & 1 & 68 & 265 & 6793.52 & 29145.19 & 6619.00 &  -198.76 &  347.54 & ⋯ & 0 &   7 &  67 &  0 & 3969 &    0.00 & 0 & 8076 & 2299.08 & CONTINUA\\\\\n",
       "\t 29292171 & 202005 & 1 & 62 & 312 & 8547.63 & 22734.05 & 8566.95 &  -604.33 &  587.86 & ⋯ & 0 &  70 &  92 &  0 & 7298 &  316.71 & 0 & 8615 & 1043.97 & CONTINUA\\\\\n",
       "\t 29297201 & 202005 & 1 & 79 & 312 & 1285.22 & 24867.01 & 1082.92 &  -580.64 &  753.10 & ⋯ & 0 &  13 & 120 &  0 & 2861 &    0.00 & 0 & 3862 & 1595.28 & CONTINUA\\\\\n",
       "\t 29298431 & 202005 & 1 & 78 & 312 & 3107.85 & 72839.08 & 1651.59 &  -102.72 & 1344.20 & ⋯ & 0 & 159 &  61 &  0 &  257 &    0.00 & 0 & 1160 &  117.30 & CONTINUA\\\\\n",
       "\t 29300881 & 202005 & 1 & 54 & 268 & 4960.07 & 79111.60 &  447.58 &   -89.00 & 3935.97 & ⋯ & 0 &  73 & 100 &  0 & 1480 &    0.00 & 0 & 5866 &  551.31 & CONTINUA\\\\\n",
       "\t 29300941 & 202005 & 1 & 52 & 268 & 5065.51 & 67020.89 & 2327.61 &  -987.94 & 3322.04 & ⋯ & 0 &  47 & 191 &  0 & 7279 &    0.00 & 0 & 7696 & 1794.69 & CONTINUA\\\\\n",
       "\t 29303051 & 202005 & 0 & 80 &  79 &  500.30 &   720.48 &  356.08 &   112.18 &   10.77 & ⋯ & 0 &   0 &  17 &  0 & 2377 &    0.00 & 0 & 2377 &   46.92 & BAJA+2  \\\\\n",
       "\t 29304511 & 202005 & 1 & 74 & 205 & 8956.62 & 72865.16 & 4471.55 &  -688.00 & 4511.59 & ⋯ & 4 & 112 & 132 &  0 & 4906 &    0.00 & 0 & 4219 &  469.20 & CONTINUA\\\\\n",
       "\t 29325391 & 202005 & 1 & 48 & 269 & 3530.69 & 89626.45 & 1912.41 &   -85.34 & 1464.95 & ⋯ & 0 & 179 & 155 &  0 & 1826 &    0.00 & 0 & 2307 &    0.00 & CONTINUA\\\\\n",
       "\t 29344801 & 202005 & 1 & 62 & 274 & 1364.87 & 53909.53 &  110.39 &   -45.59 & 1115.06 & ⋯ & 8 &  95 &  77 &  0 & 4375 &    0.00 & 0 & 8350 &  211.14 & CONTINUA\\\\\n",
       "\t 29344861 & 202005 & 1 & 68 & 270 & 2564.58 & 20223.82 & 2957.12 &  -644.46 &  309.82 & ⋯ & 0 &  54 &  71 &  0 & 4480 &  234.60 & 0 & 8229 & 2744.82 & CONTINUA\\\\\n",
       "\t 29346321 & 202005 & 1 & 56 & 312 & 5357.27 & 39893.20 &  551.53 &  -390.53 & 4487.50 & ⋯ & 0 &  14 &  86 &  0 & 3932 &    0.00 & 0 & 7580 &  539.58 & CONTINUA\\\\\n",
       "\t 29347841 & 202005 & 1 & 67 & 365 &  151.12 & 51446.09 &   -4.36 &     1.64 &  130.92 & ⋯ & 0 &   0 &  93 &  0 & 4598 &    0.00 & 0 & 4598 &   82.11 & CONTINUA\\\\\n",
       "\t 29347901 & 202005 & 1 & 52 & 260 & 2720.86 & 14488.79 & 1038.60 &  -411.54 & 1845.69 & ⋯ & 0 &  31 &  94 &  0 & 5032 &    0.00 & 0 & 5866 & 3260.94 & CONTINUA\\\\\n",
       "\t 29348781 & 202005 & 1 & 49 & 200 & 1558.74 & 14875.28 & 2059.67 & -1110.26 &  683.21 & ⋯ & 0 &  19 & 123 &  0 & 3296 &    0.00 & 0 & 3904 & 2744.82 & CONTINUA\\\\\n",
       "\t 29352931 & 202005 & 1 & 54 & 254 &  588.43 & 22770.11 &  237.25 &  -828.70 & 1128.09 & ⋯ & 0 &   0 & 145 &  0 & 4381 &   23.46 & 0 & 5866 & 3929.55 & CONTINUA\\\\\n",
       "\t ⋮ & ⋮ & ⋮ & ⋮ & ⋮ & ⋮ & ⋮ & ⋮ & ⋮ & ⋮ & ⋱ & ⋮ & ⋮ & ⋮ & ⋮ & ⋮ & ⋮ & ⋮ & ⋮ & ⋮ & ⋮\\\\\n",
       "\t 186827251 & 202109 & 0 & 27 & 4 &    0.00 &   258.23 &    0.00 &     0.00 &    0.00 & ⋯ & 0 &   1 &   6 & 0 &  99 & 0 & 0 &  99 &    0.00 & \\\\\n",
       "\t 186829241 & 202109 & 0 & 27 & 5 & 4672.11 & 16637.56 &   89.55 &  -998.10 & 4904.80 & ⋯ & 0 &  28 &  21 & 0 & 133 & 0 & 0 & 133 &    0.00 & \\\\\n",
       "\t 186866381 & 202109 & 0 & 23 & 4 &  406.16 &  1670.53 &  749.10 & -1835.28 & 1542.92 & ⋯ & 0 &   2 & 150 & 0 &  39 & 0 & 0 &  39 & 2486.76 & \\\\\n",
       "\t 186874801 & 202109 & 0 & 72 & 3 &   -5.09 &     8.90 &    0.00 &    -4.35 &    0.01 & ⋯ & 0 &   8 &   9 & 0 &  79 & 0 & 0 &  79 & 2170.05 & \\\\\n",
       "\t 186899651 & 202109 & 0 & 35 & 4 & 1118.50 &  3575.23 &   97.38 &     0.00 &  870.52 & ⋯ & 0 &   4 &  40 & 0 & 105 & 0 & 0 & 105 &    0.00 & \\\\\n",
       "\t 187021641 & 202109 & 0 & 32 & 4 & 2354.19 &  2976.03 &  572.45 &  -420.10 & 1939.06 & ⋯ & 0 &   0 &  28 & 0 & 100 & 0 & 0 & 100 &    0.00 & \\\\\n",
       "\t 187060301 & 202109 & 0 & 25 & 4 & 2991.46 &  8759.38 &  577.86 &   -74.96 & 2132.59 & ⋯ & 0 &  31 &  95 & 0 & 120 & 0 & 0 & 120 &  175.95 & \\\\\n",
       "\t 187066091 & 202109 & 0 & 34 & 4 & 3175.59 &  8614.88 & 3141.77 & -3157.59 & 3186.42 & ⋯ & 0 & 141 & 204 & 0 &  67 & 0 & 0 &  67 & 9067.29 & \\\\\n",
       "\t 187170651 & 202109 & 0 & 28 & 4 & 2845.22 &  6686.24 &  126.21 &  -251.03 & 2569.03 & ⋯ & 0 &  16 &  65 & 0 &  81 & 0 & 0 &  81 &  340.17 & \\\\\n",
       "\t 187203931 & 202109 & 0 & 36 & 3 &  353.14 &   538.47 &   15.49 &     7.65 &  280.20 & ⋯ & 0 &   3 &  41 & 0 &  77 & 0 & 0 &  77 &    0.00 & \\\\\n",
       "\t 187233931 & 202109 & 0 & 39 & 2 & 1857.29 &  3954.45 &  672.82 &  -682.01 & 1691.79 & ⋯ & 0 &  63 &  82 & 0 &  49 & 0 & 0 &  49 & 6134.79 & \\\\\n",
       "\t 187269951 & 202109 & 0 & 35 & 3 &  941.66 &  1593.16 & 2100.92 & -1798.88 &  810.59 & ⋯ & 0 &   5 &  23 & 0 &  63 & 0 & 0 &  63 & 5032.17 & \\\\\n",
       "\t 187272641 & 202109 & 0 & 33 & 3 &   10.61 &    22.86 &    0.00 &     9.05 &    0.00 & ⋯ & 0 &   0 &   3 & 0 &  67 & 0 & 0 &  67 &    0.00 & \\\\\n",
       "\t 187314281 & 202109 & 0 & 27 & 3 & 1423.32 &  3508.98 &  238.02 &     0.00 & 1010.49 & ⋯ & 3 &  16 &  51 & 0 &  72 & 0 & 0 &  72 &    0.00 & \\\\\n",
       "\t 187332121 & 202109 & 0 & 24 & 3 & 1201.70 &  3709.31 &  136.54 &     0.00 &  908.06 & ⋯ & 0 &  11 &  58 & 0 &  21 & 0 & 0 &  21 &    0.00 & \\\\\n",
       "\t 187346211 & 202109 & 0 & 37 & 3 &  262.13 &  1085.09 & 1017.21 & -1217.34 &  573.62 & ⋯ & 0 &  13 &  70 & 0 &  78 & 0 & 0 &  78 & 4199.34 & \\\\\n",
       "\t 187350011 & 202109 & 0 & 32 & 3 & 1070.96 &  1659.65 &  354.25 &   208.65 &  402.35 & ⋯ & 0 &  14 &  49 & 0 &  31 & 0 & 0 &  31 &    0.00 & \\\\\n",
       "\t 187400951 & 202109 & 0 & 46 & 3 &  305.08 &   461.09 &   51.67 &   125.52 &   90.52 & ⋯ & 0 &   1 &  43 & 0 &  51 & 0 & 0 &  51 &    0.00 & \\\\\n",
       "\t 187429081 & 202109 & 0 & 36 & 3 &  997.47 &  1417.71 &    0.00 &     0.00 &  850.36 & ⋯ & 0 &   0 &  25 & 0 &  79 & 0 & 0 &  79 &    0.00 & \\\\\n",
       "\t 187434871 & 202109 & 0 & 69 & 3 & 2083.31 &  6857.11 &  258.63 &     0.00 & 1555.57 & ⋯ & 0 &   0 &   7 & 0 &  71 & 0 & 0 &  71 &    0.00 & \\\\\n",
       "\t 187594641 & 202109 & 0 & 38 & 2 &  536.50 &   559.57 &    0.00 &     0.00 &  457.38 & ⋯ & 0 &  33 &  15 & 0 &  38 & 0 & 0 &  38 &    0.00 & \\\\\n",
       "\t 187604521 & 202109 & 0 & 45 & 2 & 3291.08 &  3291.08 & 3176.42 & -2402.58 & 2500.33 & ⋯ & 0 &  96 &   7 & 0 &  32 & 0 & 0 &  32 & 2756.55 & \\\\\n",
       "\t 187626041 & 202109 & 0 & 56 & 2 &  151.28 &   166.46 &    0.00 &     0.00 &  128.97 & ⋯ & 0 &   0 &   4 & 0 &  50 & 0 & 0 &  50 &    0.00 & \\\\\n",
       "\t 187636041 & 202109 & 0 & 29 & 2 & 5656.40 &  5656.40 & 5695.07 & -2028.56 & 1995.59 & ⋯ & 0 &  37 &  81 & 0 &  32 & 0 & 0 &  32 & 3906.09 & \\\\\n",
       "\t 187827511 & 202109 & 0 & 42 & 1 &    7.20 &     7.20 &   22.11 &   -38.43 &   25.72 & ⋯ & 0 &   4 &   9 & 0 &  23 & 0 & 0 &  23 &  269.79 & \\\\\n",
       "\t 187838971 & 202109 & 0 & 49 & 1 &    0.00 &     0.00 &    0.00 &     0.00 &    0.00 & ⋯ & 0 &   0 &   4 & 0 &   7 & 0 & 0 &   7 &    0.00 & \\\\\n",
       "\t 187902361 & 202109 & 0 & 22 & 1 &  344.33 &   344.33 &  343.92 &     0.35 &    0.00 & ⋯ & 0 &   0 &   5 & 0 &  11 & 0 & 0 &  11 &    0.00 & \\\\\n",
       "\t 187956461 & 202109 & 0 & 34 & 1 &  582.06 &   582.06 &   86.96 &   422.08 &    0.00 & ⋯ & 0 &  19 &  13 & 0 &  23 & 0 & 0 &  23 &    0.00 & \\\\\n",
       "\t 187964701 & 202109 & 0 & 26 & 1 &    0.00 &     0.00 &    0.00 &     0.00 &    0.00 & ⋯ & 0 &   5 &   2 & 0 &  16 & 0 & 0 &  16 &    0.00 & \\\\\n",
       "\t 188116871 & 202109 & 0 & 30 & 1 &  383.31 &   383.31 &    0.00 &  -214.17 &  540.95 & ⋯ & 0 &  21 &  19 & 0 &  15 & 0 & 0 &  15 &    0.00 & \\\\\n",
       "\\end{tabular}\n"
      ],
      "text/markdown": [
       "\n",
       "A data.table: 273666 × 32\n",
       "\n",
       "| numero_de_cliente &lt;int&gt; | foto_mes &lt;int&gt; | internet &lt;int&gt; | cliente_edad &lt;int&gt; | cliente_antiguedad &lt;int&gt; | mrentabilidad &lt;dbl&gt; | mrentabilidad_annual &lt;dbl&gt; | mcomisiones &lt;dbl&gt; | mactivos_margen &lt;dbl&gt; | mpasivos_margen &lt;dbl&gt; | ⋯ ⋯ | ccallcenter_transacciones &lt;int&gt; | chomebanking_transacciones &lt;int&gt; | ctrx_quarter &lt;int&gt; | Master_status &lt;int&gt; | Master_fechaalta &lt;int&gt; | Master_mpagominimo &lt;dbl&gt; | Visa_status &lt;int&gt; | Visa_fechaalta &lt;int&gt; | Visa_mpagominimo &lt;dbl&gt; | clase_ternaria &lt;chr&gt; |\n",
       "|---|---|---|---|---|---|---|---|---|---|---|---|---|---|---|---|---|---|---|---|---|\n",
       "| 29186441 | 202005 | 1 | 61 | 282 | 2354.94 | 43761.59 | 1682.14 |  -139.02 |  712.60 | ⋯ | 0 |  20 |  47 |  0 | 6507 |    0.00 | 0 | 7671 | 1043.97 | CONTINUA |\n",
       "| 29187961 | 202005 | 1 | 61 | 312 | 5066.31 | 47268.33 | 3875.62 | -3536.03 | 4551.11 | ⋯ | 0 | 228 | 232 |  0 | 5939 | 2017.56 | 0 | 8090 | 7495.47 | CONTINUA |\n",
       "| 29193101 | 202005 | 1 | 67 | 365 | 4809.42 | 37996.66 | 6982.73 | -2962.24 | 1109.46 | ⋯ | 0 | 133 | 149 |  0 | 2026 | 2838.66 | 0 | 2026 | 1653.93 | CONTINUA |\n",
       "| 29193281 | 202005 | 1 | 54 | 158 | 2979.52 | 88436.59 | 3350.01 |  -908.55 |  592.70 | ⋯ | 2 |  10 | 115 |  0 | 3125 |  844.56 | 0 | 3350 | 2029.29 | CONTINUA |\n",
       "| 29198891 | 202005 | 1 | 54 | 312 | 3008.70 | 22567.32 |  273.68 |  -643.87 | 2975.52 | ⋯ | 0 | 124 |  32 |  0 | 7202 |  234.60 | 0 | 7242 | 1395.87 | CONTINUA |\n",
       "| 29205441 | 202005 | 1 | 72 |   6 |  394.19 |  1607.93 |  159.49 |    -9.92 |  210.01 | ⋯ | 0 |  41 |  32 |  0 |  157 |    0.00 | 0 |  157 |   58.65 | CONTINUA |\n",
       "| 29207901 | 202005 | 1 | 82 | 312 | 7080.40 | 50842.55 | 1895.97 |   -47.19 | 4466.99 | ⋯ | 0 |  24 | 123 | NA |   NA |      NA | 0 | 8480 |    0.00 | CONTINUA |\n",
       "| 29243631 | 202005 | 1 | 54 | 110 | 2043.10 | 32934.54 |  492.60 |   915.30 |  406.53 | ⋯ | 0 |  87 |  81 |  0 |  992 |    0.00 | 0 | 3036 | 1395.87 | CONTINUA |\n",
       "| 29251231 | 202005 | 1 | 82 | 312 | 1071.17 | 80557.53 |  635.61 |   -51.43 |  422.75 | ⋯ | 0 |  91 |  58 |  0 | 7298 |  304.98 | 0 | 8215 |  105.57 | CONTINUA |\n",
       "| 29257551 | 202005 | 1 | 44 | 187 | 1552.31 | 11131.46 |  390.96 |     8.91 |  981.16 | ⋯ | 1 |  92 |  55 |  0 | 3022 |   70.38 | 0 | 5632 | 1196.46 | CONTINUA |\n",
       "| 29267141 | 202005 | 1 | 56 | 312 | 6273.45 | 49972.39 | 1813.46 |  -490.09 | 4292.29 | ⋯ | 0 | 108 | 166 |  0 | 7279 | 2029.29 | 0 | 8224 | 3225.75 | CONTINUA |\n",
       "| 29277081 | 202005 | 1 | 58 | 292 | 1420.76 | 18072.15 | 1322.59 |  -134.25 |  217.94 | ⋯ | 0 |  65 |  56 |  0 | 7279 |    0.00 | 0 | 8252 |  246.33 | CONTINUA |\n",
       "| 29284331 | 202005 | 1 | 53 | 365 | 8345.16 | 52842.60 | 9951.07 |  -458.79 | -910.27 | ⋯ | 0 |  36 | 115 |  0 | 7298 |    0.00 | 0 | 8179 |  879.75 | CONTINUA |\n",
       "| 29286091 | 202005 | 1 | 80 | 251 | 3059.73 | 47076.16 |  314.41 |  -152.94 | 2493.37 | ⋯ | 0 |  58 |  73 | NA |   NA |      NA | 0 | 6150 |  668.61 | CONTINUA |\n",
       "| 29289361 | 202005 | 1 | 68 | 265 | 6793.52 | 29145.19 | 6619.00 |  -198.76 |  347.54 | ⋯ | 0 |   7 |  67 |  0 | 3969 |    0.00 | 0 | 8076 | 2299.08 | CONTINUA |\n",
       "| 29292171 | 202005 | 1 | 62 | 312 | 8547.63 | 22734.05 | 8566.95 |  -604.33 |  587.86 | ⋯ | 0 |  70 |  92 |  0 | 7298 |  316.71 | 0 | 8615 | 1043.97 | CONTINUA |\n",
       "| 29297201 | 202005 | 1 | 79 | 312 | 1285.22 | 24867.01 | 1082.92 |  -580.64 |  753.10 | ⋯ | 0 |  13 | 120 |  0 | 2861 |    0.00 | 0 | 3862 | 1595.28 | CONTINUA |\n",
       "| 29298431 | 202005 | 1 | 78 | 312 | 3107.85 | 72839.08 | 1651.59 |  -102.72 | 1344.20 | ⋯ | 0 | 159 |  61 |  0 |  257 |    0.00 | 0 | 1160 |  117.30 | CONTINUA |\n",
       "| 29300881 | 202005 | 1 | 54 | 268 | 4960.07 | 79111.60 |  447.58 |   -89.00 | 3935.97 | ⋯ | 0 |  73 | 100 |  0 | 1480 |    0.00 | 0 | 5866 |  551.31 | CONTINUA |\n",
       "| 29300941 | 202005 | 1 | 52 | 268 | 5065.51 | 67020.89 | 2327.61 |  -987.94 | 3322.04 | ⋯ | 0 |  47 | 191 |  0 | 7279 |    0.00 | 0 | 7696 | 1794.69 | CONTINUA |\n",
       "| 29303051 | 202005 | 0 | 80 |  79 |  500.30 |   720.48 |  356.08 |   112.18 |   10.77 | ⋯ | 0 |   0 |  17 |  0 | 2377 |    0.00 | 0 | 2377 |   46.92 | BAJA+2   |\n",
       "| 29304511 | 202005 | 1 | 74 | 205 | 8956.62 | 72865.16 | 4471.55 |  -688.00 | 4511.59 | ⋯ | 4 | 112 | 132 |  0 | 4906 |    0.00 | 0 | 4219 |  469.20 | CONTINUA |\n",
       "| 29325391 | 202005 | 1 | 48 | 269 | 3530.69 | 89626.45 | 1912.41 |   -85.34 | 1464.95 | ⋯ | 0 | 179 | 155 |  0 | 1826 |    0.00 | 0 | 2307 |    0.00 | CONTINUA |\n",
       "| 29344801 | 202005 | 1 | 62 | 274 | 1364.87 | 53909.53 |  110.39 |   -45.59 | 1115.06 | ⋯ | 8 |  95 |  77 |  0 | 4375 |    0.00 | 0 | 8350 |  211.14 | CONTINUA |\n",
       "| 29344861 | 202005 | 1 | 68 | 270 | 2564.58 | 20223.82 | 2957.12 |  -644.46 |  309.82 | ⋯ | 0 |  54 |  71 |  0 | 4480 |  234.60 | 0 | 8229 | 2744.82 | CONTINUA |\n",
       "| 29346321 | 202005 | 1 | 56 | 312 | 5357.27 | 39893.20 |  551.53 |  -390.53 | 4487.50 | ⋯ | 0 |  14 |  86 |  0 | 3932 |    0.00 | 0 | 7580 |  539.58 | CONTINUA |\n",
       "| 29347841 | 202005 | 1 | 67 | 365 |  151.12 | 51446.09 |   -4.36 |     1.64 |  130.92 | ⋯ | 0 |   0 |  93 |  0 | 4598 |    0.00 | 0 | 4598 |   82.11 | CONTINUA |\n",
       "| 29347901 | 202005 | 1 | 52 | 260 | 2720.86 | 14488.79 | 1038.60 |  -411.54 | 1845.69 | ⋯ | 0 |  31 |  94 |  0 | 5032 |    0.00 | 0 | 5866 | 3260.94 | CONTINUA |\n",
       "| 29348781 | 202005 | 1 | 49 | 200 | 1558.74 | 14875.28 | 2059.67 | -1110.26 |  683.21 | ⋯ | 0 |  19 | 123 |  0 | 3296 |    0.00 | 0 | 3904 | 2744.82 | CONTINUA |\n",
       "| 29352931 | 202005 | 1 | 54 | 254 |  588.43 | 22770.11 |  237.25 |  -828.70 | 1128.09 | ⋯ | 0 |   0 | 145 |  0 | 4381 |   23.46 | 0 | 5866 | 3929.55 | CONTINUA |\n",
       "| ⋮ | ⋮ | ⋮ | ⋮ | ⋮ | ⋮ | ⋮ | ⋮ | ⋮ | ⋮ | ⋱ | ⋮ | ⋮ | ⋮ | ⋮ | ⋮ | ⋮ | ⋮ | ⋮ | ⋮ | ⋮ |\n",
       "| 186827251 | 202109 | 0 | 27 | 4 |    0.00 |   258.23 |    0.00 |     0.00 |    0.00 | ⋯ | 0 |   1 |   6 | 0 |  99 | 0 | 0 |  99 |    0.00 | <!----> |\n",
       "| 186829241 | 202109 | 0 | 27 | 5 | 4672.11 | 16637.56 |   89.55 |  -998.10 | 4904.80 | ⋯ | 0 |  28 |  21 | 0 | 133 | 0 | 0 | 133 |    0.00 | <!----> |\n",
       "| 186866381 | 202109 | 0 | 23 | 4 |  406.16 |  1670.53 |  749.10 | -1835.28 | 1542.92 | ⋯ | 0 |   2 | 150 | 0 |  39 | 0 | 0 |  39 | 2486.76 | <!----> |\n",
       "| 186874801 | 202109 | 0 | 72 | 3 |   -5.09 |     8.90 |    0.00 |    -4.35 |    0.01 | ⋯ | 0 |   8 |   9 | 0 |  79 | 0 | 0 |  79 | 2170.05 | <!----> |\n",
       "| 186899651 | 202109 | 0 | 35 | 4 | 1118.50 |  3575.23 |   97.38 |     0.00 |  870.52 | ⋯ | 0 |   4 |  40 | 0 | 105 | 0 | 0 | 105 |    0.00 | <!----> |\n",
       "| 187021641 | 202109 | 0 | 32 | 4 | 2354.19 |  2976.03 |  572.45 |  -420.10 | 1939.06 | ⋯ | 0 |   0 |  28 | 0 | 100 | 0 | 0 | 100 |    0.00 | <!----> |\n",
       "| 187060301 | 202109 | 0 | 25 | 4 | 2991.46 |  8759.38 |  577.86 |   -74.96 | 2132.59 | ⋯ | 0 |  31 |  95 | 0 | 120 | 0 | 0 | 120 |  175.95 | <!----> |\n",
       "| 187066091 | 202109 | 0 | 34 | 4 | 3175.59 |  8614.88 | 3141.77 | -3157.59 | 3186.42 | ⋯ | 0 | 141 | 204 | 0 |  67 | 0 | 0 |  67 | 9067.29 | <!----> |\n",
       "| 187170651 | 202109 | 0 | 28 | 4 | 2845.22 |  6686.24 |  126.21 |  -251.03 | 2569.03 | ⋯ | 0 |  16 |  65 | 0 |  81 | 0 | 0 |  81 |  340.17 | <!----> |\n",
       "| 187203931 | 202109 | 0 | 36 | 3 |  353.14 |   538.47 |   15.49 |     7.65 |  280.20 | ⋯ | 0 |   3 |  41 | 0 |  77 | 0 | 0 |  77 |    0.00 | <!----> |\n",
       "| 187233931 | 202109 | 0 | 39 | 2 | 1857.29 |  3954.45 |  672.82 |  -682.01 | 1691.79 | ⋯ | 0 |  63 |  82 | 0 |  49 | 0 | 0 |  49 | 6134.79 | <!----> |\n",
       "| 187269951 | 202109 | 0 | 35 | 3 |  941.66 |  1593.16 | 2100.92 | -1798.88 |  810.59 | ⋯ | 0 |   5 |  23 | 0 |  63 | 0 | 0 |  63 | 5032.17 | <!----> |\n",
       "| 187272641 | 202109 | 0 | 33 | 3 |   10.61 |    22.86 |    0.00 |     9.05 |    0.00 | ⋯ | 0 |   0 |   3 | 0 |  67 | 0 | 0 |  67 |    0.00 | <!----> |\n",
       "| 187314281 | 202109 | 0 | 27 | 3 | 1423.32 |  3508.98 |  238.02 |     0.00 | 1010.49 | ⋯ | 3 |  16 |  51 | 0 |  72 | 0 | 0 |  72 |    0.00 | <!----> |\n",
       "| 187332121 | 202109 | 0 | 24 | 3 | 1201.70 |  3709.31 |  136.54 |     0.00 |  908.06 | ⋯ | 0 |  11 |  58 | 0 |  21 | 0 | 0 |  21 |    0.00 | <!----> |\n",
       "| 187346211 | 202109 | 0 | 37 | 3 |  262.13 |  1085.09 | 1017.21 | -1217.34 |  573.62 | ⋯ | 0 |  13 |  70 | 0 |  78 | 0 | 0 |  78 | 4199.34 | <!----> |\n",
       "| 187350011 | 202109 | 0 | 32 | 3 | 1070.96 |  1659.65 |  354.25 |   208.65 |  402.35 | ⋯ | 0 |  14 |  49 | 0 |  31 | 0 | 0 |  31 |    0.00 | <!----> |\n",
       "| 187400951 | 202109 | 0 | 46 | 3 |  305.08 |   461.09 |   51.67 |   125.52 |   90.52 | ⋯ | 0 |   1 |  43 | 0 |  51 | 0 | 0 |  51 |    0.00 | <!----> |\n",
       "| 187429081 | 202109 | 0 | 36 | 3 |  997.47 |  1417.71 |    0.00 |     0.00 |  850.36 | ⋯ | 0 |   0 |  25 | 0 |  79 | 0 | 0 |  79 |    0.00 | <!----> |\n",
       "| 187434871 | 202109 | 0 | 69 | 3 | 2083.31 |  6857.11 |  258.63 |     0.00 | 1555.57 | ⋯ | 0 |   0 |   7 | 0 |  71 | 0 | 0 |  71 |    0.00 | <!----> |\n",
       "| 187594641 | 202109 | 0 | 38 | 2 |  536.50 |   559.57 |    0.00 |     0.00 |  457.38 | ⋯ | 0 |  33 |  15 | 0 |  38 | 0 | 0 |  38 |    0.00 | <!----> |\n",
       "| 187604521 | 202109 | 0 | 45 | 2 | 3291.08 |  3291.08 | 3176.42 | -2402.58 | 2500.33 | ⋯ | 0 |  96 |   7 | 0 |  32 | 0 | 0 |  32 | 2756.55 | <!----> |\n",
       "| 187626041 | 202109 | 0 | 56 | 2 |  151.28 |   166.46 |    0.00 |     0.00 |  128.97 | ⋯ | 0 |   0 |   4 | 0 |  50 | 0 | 0 |  50 |    0.00 | <!----> |\n",
       "| 187636041 | 202109 | 0 | 29 | 2 | 5656.40 |  5656.40 | 5695.07 | -2028.56 | 1995.59 | ⋯ | 0 |  37 |  81 | 0 |  32 | 0 | 0 |  32 | 3906.09 | <!----> |\n",
       "| 187827511 | 202109 | 0 | 42 | 1 |    7.20 |     7.20 |   22.11 |   -38.43 |   25.72 | ⋯ | 0 |   4 |   9 | 0 |  23 | 0 | 0 |  23 |  269.79 | <!----> |\n",
       "| 187838971 | 202109 | 0 | 49 | 1 |    0.00 |     0.00 |    0.00 |     0.00 |    0.00 | ⋯ | 0 |   0 |   4 | 0 |   7 | 0 | 0 |   7 |    0.00 | <!----> |\n",
       "| 187902361 | 202109 | 0 | 22 | 1 |  344.33 |   344.33 |  343.92 |     0.35 |    0.00 | ⋯ | 0 |   0 |   5 | 0 |  11 | 0 | 0 |  11 |    0.00 | <!----> |\n",
       "| 187956461 | 202109 | 0 | 34 | 1 |  582.06 |   582.06 |   86.96 |   422.08 |    0.00 | ⋯ | 0 |  19 |  13 | 0 |  23 | 0 | 0 |  23 |    0.00 | <!----> |\n",
       "| 187964701 | 202109 | 0 | 26 | 1 |    0.00 |     0.00 |    0.00 |     0.00 |    0.00 | ⋯ | 0 |   5 |   2 | 0 |  16 | 0 | 0 |  16 |    0.00 | <!----> |\n",
       "| 188116871 | 202109 | 0 | 30 | 1 |  383.31 |   383.31 |    0.00 |  -214.17 |  540.95 | ⋯ | 0 |  21 |  19 | 0 |  15 | 0 | 0 |  15 |    0.00 | <!----> |\n",
       "\n"
      ],
      "text/plain": [
       "       numero_de_cliente foto_mes internet cliente_edad cliente_antiguedad\n",
       "1      29186441          202005   1        61           282               \n",
       "2      29187961          202005   1        61           312               \n",
       "3      29193101          202005   1        67           365               \n",
       "4      29193281          202005   1        54           158               \n",
       "5      29198891          202005   1        54           312               \n",
       "6      29205441          202005   1        72             6               \n",
       "7      29207901          202005   1        82           312               \n",
       "8      29243631          202005   1        54           110               \n",
       "9      29251231          202005   1        82           312               \n",
       "10     29257551          202005   1        44           187               \n",
       "11     29267141          202005   1        56           312               \n",
       "12     29277081          202005   1        58           292               \n",
       "13     29284331          202005   1        53           365               \n",
       "14     29286091          202005   1        80           251               \n",
       "15     29289361          202005   1        68           265               \n",
       "16     29292171          202005   1        62           312               \n",
       "17     29297201          202005   1        79           312               \n",
       "18     29298431          202005   1        78           312               \n",
       "19     29300881          202005   1        54           268               \n",
       "20     29300941          202005   1        52           268               \n",
       "21     29303051          202005   0        80            79               \n",
       "22     29304511          202005   1        74           205               \n",
       "23     29325391          202005   1        48           269               \n",
       "24     29344801          202005   1        62           274               \n",
       "25     29344861          202005   1        68           270               \n",
       "26     29346321          202005   1        56           312               \n",
       "27     29347841          202005   1        67           365               \n",
       "28     29347901          202005   1        52           260               \n",
       "29     29348781          202005   1        49           200               \n",
       "30     29352931          202005   1        54           254               \n",
       "⋮      ⋮                 ⋮        ⋮        ⋮            ⋮                 \n",
       "273637 186827251         202109   0        27           4                 \n",
       "273638 186829241         202109   0        27           5                 \n",
       "273639 186866381         202109   0        23           4                 \n",
       "273640 186874801         202109   0        72           3                 \n",
       "273641 186899651         202109   0        35           4                 \n",
       "273642 187021641         202109   0        32           4                 \n",
       "273643 187060301         202109   0        25           4                 \n",
       "273644 187066091         202109   0        34           4                 \n",
       "273645 187170651         202109   0        28           4                 \n",
       "273646 187203931         202109   0        36           3                 \n",
       "273647 187233931         202109   0        39           2                 \n",
       "273648 187269951         202109   0        35           3                 \n",
       "273649 187272641         202109   0        33           3                 \n",
       "273650 187314281         202109   0        27           3                 \n",
       "273651 187332121         202109   0        24           3                 \n",
       "273652 187346211         202109   0        37           3                 \n",
       "273653 187350011         202109   0        32           3                 \n",
       "273654 187400951         202109   0        46           3                 \n",
       "273655 187429081         202109   0        36           3                 \n",
       "273656 187434871         202109   0        69           3                 \n",
       "273657 187594641         202109   0        38           2                 \n",
       "273658 187604521         202109   0        45           2                 \n",
       "273659 187626041         202109   0        56           2                 \n",
       "273660 187636041         202109   0        29           2                 \n",
       "273661 187827511         202109   0        42           1                 \n",
       "273662 187838971         202109   0        49           1                 \n",
       "273663 187902361         202109   0        22           1                 \n",
       "273664 187956461         202109   0        34           1                 \n",
       "273665 187964701         202109   0        26           1                 \n",
       "273666 188116871         202109   0        30           1                 \n",
       "       mrentabilidad mrentabilidad_annual mcomisiones mactivos_margen\n",
       "1      2354.94       43761.59             1682.14      -139.02       \n",
       "2      5066.31       47268.33             3875.62     -3536.03       \n",
       "3      4809.42       37996.66             6982.73     -2962.24       \n",
       "4      2979.52       88436.59             3350.01      -908.55       \n",
       "5      3008.70       22567.32              273.68      -643.87       \n",
       "6       394.19        1607.93              159.49        -9.92       \n",
       "7      7080.40       50842.55             1895.97       -47.19       \n",
       "8      2043.10       32934.54              492.60       915.30       \n",
       "9      1071.17       80557.53              635.61       -51.43       \n",
       "10     1552.31       11131.46              390.96         8.91       \n",
       "11     6273.45       49972.39             1813.46      -490.09       \n",
       "12     1420.76       18072.15             1322.59      -134.25       \n",
       "13     8345.16       52842.60             9951.07      -458.79       \n",
       "14     3059.73       47076.16              314.41      -152.94       \n",
       "15     6793.52       29145.19             6619.00      -198.76       \n",
       "16     8547.63       22734.05             8566.95      -604.33       \n",
       "17     1285.22       24867.01             1082.92      -580.64       \n",
       "18     3107.85       72839.08             1651.59      -102.72       \n",
       "19     4960.07       79111.60              447.58       -89.00       \n",
       "20     5065.51       67020.89             2327.61      -987.94       \n",
       "21      500.30         720.48              356.08       112.18       \n",
       "22     8956.62       72865.16             4471.55      -688.00       \n",
       "23     3530.69       89626.45             1912.41       -85.34       \n",
       "24     1364.87       53909.53              110.39       -45.59       \n",
       "25     2564.58       20223.82             2957.12      -644.46       \n",
       "26     5357.27       39893.20              551.53      -390.53       \n",
       "27      151.12       51446.09               -4.36         1.64       \n",
       "28     2720.86       14488.79             1038.60      -411.54       \n",
       "29     1558.74       14875.28             2059.67     -1110.26       \n",
       "30      588.43       22770.11              237.25      -828.70       \n",
       "⋮      ⋮             ⋮                    ⋮           ⋮              \n",
       "273637    0.00         258.23                0.00         0.00       \n",
       "273638 4672.11       16637.56               89.55      -998.10       \n",
       "273639  406.16        1670.53              749.10     -1835.28       \n",
       "273640   -5.09           8.90                0.00        -4.35       \n",
       "273641 1118.50        3575.23               97.38         0.00       \n",
       "273642 2354.19        2976.03              572.45      -420.10       \n",
       "273643 2991.46        8759.38              577.86       -74.96       \n",
       "273644 3175.59        8614.88             3141.77     -3157.59       \n",
       "273645 2845.22        6686.24              126.21      -251.03       \n",
       "273646  353.14         538.47               15.49         7.65       \n",
       "273647 1857.29        3954.45              672.82      -682.01       \n",
       "273648  941.66        1593.16             2100.92     -1798.88       \n",
       "273649   10.61          22.86                0.00         9.05       \n",
       "273650 1423.32        3508.98              238.02         0.00       \n",
       "273651 1201.70        3709.31              136.54         0.00       \n",
       "273652  262.13        1085.09             1017.21     -1217.34       \n",
       "273653 1070.96        1659.65              354.25       208.65       \n",
       "273654  305.08         461.09               51.67       125.52       \n",
       "273655  997.47        1417.71                0.00         0.00       \n",
       "273656 2083.31        6857.11              258.63         0.00       \n",
       "273657  536.50         559.57                0.00         0.00       \n",
       "273658 3291.08        3291.08             3176.42     -2402.58       \n",
       "273659  151.28         166.46                0.00         0.00       \n",
       "273660 5656.40        5656.40             5695.07     -2028.56       \n",
       "273661    7.20           7.20               22.11       -38.43       \n",
       "273662    0.00           0.00                0.00         0.00       \n",
       "273663  344.33         344.33              343.92         0.35       \n",
       "273664  582.06         582.06               86.96       422.08       \n",
       "273665    0.00           0.00                0.00         0.00       \n",
       "273666  383.31         383.31                0.00      -214.17       \n",
       "       mpasivos_margen ⋯ ccallcenter_transacciones chomebanking_transacciones\n",
       "1       712.60         ⋯ 0                          20                       \n",
       "2      4551.11         ⋯ 0                         228                       \n",
       "3      1109.46         ⋯ 0                         133                       \n",
       "4       592.70         ⋯ 2                          10                       \n",
       "5      2975.52         ⋯ 0                         124                       \n",
       "6       210.01         ⋯ 0                          41                       \n",
       "7      4466.99         ⋯ 0                          24                       \n",
       "8       406.53         ⋯ 0                          87                       \n",
       "9       422.75         ⋯ 0                          91                       \n",
       "10      981.16         ⋯ 1                          92                       \n",
       "11     4292.29         ⋯ 0                         108                       \n",
       "12      217.94         ⋯ 0                          65                       \n",
       "13     -910.27         ⋯ 0                          36                       \n",
       "14     2493.37         ⋯ 0                          58                       \n",
       "15      347.54         ⋯ 0                           7                       \n",
       "16      587.86         ⋯ 0                          70                       \n",
       "17      753.10         ⋯ 0                          13                       \n",
       "18     1344.20         ⋯ 0                         159                       \n",
       "19     3935.97         ⋯ 0                          73                       \n",
       "20     3322.04         ⋯ 0                          47                       \n",
       "21       10.77         ⋯ 0                           0                       \n",
       "22     4511.59         ⋯ 4                         112                       \n",
       "23     1464.95         ⋯ 0                         179                       \n",
       "24     1115.06         ⋯ 8                          95                       \n",
       "25      309.82         ⋯ 0                          54                       \n",
       "26     4487.50         ⋯ 0                          14                       \n",
       "27      130.92         ⋯ 0                           0                       \n",
       "28     1845.69         ⋯ 0                          31                       \n",
       "29      683.21         ⋯ 0                          19                       \n",
       "30     1128.09         ⋯ 0                           0                       \n",
       "⋮      ⋮               ⋱ ⋮                         ⋮                         \n",
       "273637    0.00         ⋯ 0                           1                       \n",
       "273638 4904.80         ⋯ 0                          28                       \n",
       "273639 1542.92         ⋯ 0                           2                       \n",
       "273640    0.01         ⋯ 0                           8                       \n",
       "273641  870.52         ⋯ 0                           4                       \n",
       "273642 1939.06         ⋯ 0                           0                       \n",
       "273643 2132.59         ⋯ 0                          31                       \n",
       "273644 3186.42         ⋯ 0                         141                       \n",
       "273645 2569.03         ⋯ 0                          16                       \n",
       "273646  280.20         ⋯ 0                           3                       \n",
       "273647 1691.79         ⋯ 0                          63                       \n",
       "273648  810.59         ⋯ 0                           5                       \n",
       "273649    0.00         ⋯ 0                           0                       \n",
       "273650 1010.49         ⋯ 3                          16                       \n",
       "273651  908.06         ⋯ 0                          11                       \n",
       "273652  573.62         ⋯ 0                          13                       \n",
       "273653  402.35         ⋯ 0                          14                       \n",
       "273654   90.52         ⋯ 0                           1                       \n",
       "273655  850.36         ⋯ 0                           0                       \n",
       "273656 1555.57         ⋯ 0                           0                       \n",
       "273657  457.38         ⋯ 0                          33                       \n",
       "273658 2500.33         ⋯ 0                          96                       \n",
       "273659  128.97         ⋯ 0                           0                       \n",
       "273660 1995.59         ⋯ 0                          37                       \n",
       "273661   25.72         ⋯ 0                           4                       \n",
       "273662    0.00         ⋯ 0                           0                       \n",
       "273663    0.00         ⋯ 0                           0                       \n",
       "273664    0.00         ⋯ 0                          19                       \n",
       "273665    0.00         ⋯ 0                           5                       \n",
       "273666  540.95         ⋯ 0                          21                       \n",
       "       ctrx_quarter Master_status Master_fechaalta Master_mpagominimo\n",
       "1       47           0            6507                0.00           \n",
       "2      232           0            5939             2017.56           \n",
       "3      149           0            2026             2838.66           \n",
       "4      115           0            3125              844.56           \n",
       "5       32           0            7202              234.60           \n",
       "6       32           0             157                0.00           \n",
       "7      123          NA              NA                  NA           \n",
       "8       81           0             992                0.00           \n",
       "9       58           0            7298              304.98           \n",
       "10      55           0            3022               70.38           \n",
       "11     166           0            7279             2029.29           \n",
       "12      56           0            7279                0.00           \n",
       "13     115           0            7298                0.00           \n",
       "14      73          NA              NA                  NA           \n",
       "15      67           0            3969                0.00           \n",
       "16      92           0            7298              316.71           \n",
       "17     120           0            2861                0.00           \n",
       "18      61           0             257                0.00           \n",
       "19     100           0            1480                0.00           \n",
       "20     191           0            7279                0.00           \n",
       "21      17           0            2377                0.00           \n",
       "22     132           0            4906                0.00           \n",
       "23     155           0            1826                0.00           \n",
       "24      77           0            4375                0.00           \n",
       "25      71           0            4480              234.60           \n",
       "26      86           0            3932                0.00           \n",
       "27      93           0            4598                0.00           \n",
       "28      94           0            5032                0.00           \n",
       "29     123           0            3296                0.00           \n",
       "30     145           0            4381               23.46           \n",
       "⋮      ⋮            ⋮             ⋮                ⋮                 \n",
       "273637   6          0              99              0                 \n",
       "273638  21          0             133              0                 \n",
       "273639 150          0              39              0                 \n",
       "273640   9          0              79              0                 \n",
       "273641  40          0             105              0                 \n",
       "273642  28          0             100              0                 \n",
       "273643  95          0             120              0                 \n",
       "273644 204          0              67              0                 \n",
       "273645  65          0              81              0                 \n",
       "273646  41          0              77              0                 \n",
       "273647  82          0              49              0                 \n",
       "273648  23          0              63              0                 \n",
       "273649   3          0              67              0                 \n",
       "273650  51          0              72              0                 \n",
       "273651  58          0              21              0                 \n",
       "273652  70          0              78              0                 \n",
       "273653  49          0              31              0                 \n",
       "273654  43          0              51              0                 \n",
       "273655  25          0              79              0                 \n",
       "273656   7          0              71              0                 \n",
       "273657  15          0              38              0                 \n",
       "273658   7          0              32              0                 \n",
       "273659   4          0              50              0                 \n",
       "273660  81          0              32              0                 \n",
       "273661   9          0              23              0                 \n",
       "273662   4          0               7              0                 \n",
       "273663   5          0              11              0                 \n",
       "273664  13          0              23              0                 \n",
       "273665   2          0              16              0                 \n",
       "273666  19          0              15              0                 \n",
       "       Visa_status Visa_fechaalta Visa_mpagominimo clase_ternaria\n",
       "1      0           7671           1043.97          CONTINUA      \n",
       "2      0           8090           7495.47          CONTINUA      \n",
       "3      0           2026           1653.93          CONTINUA      \n",
       "4      0           3350           2029.29          CONTINUA      \n",
       "5      0           7242           1395.87          CONTINUA      \n",
       "6      0            157             58.65          CONTINUA      \n",
       "7      0           8480              0.00          CONTINUA      \n",
       "8      0           3036           1395.87          CONTINUA      \n",
       "9      0           8215            105.57          CONTINUA      \n",
       "10     0           5632           1196.46          CONTINUA      \n",
       "11     0           8224           3225.75          CONTINUA      \n",
       "12     0           8252            246.33          CONTINUA      \n",
       "13     0           8179            879.75          CONTINUA      \n",
       "14     0           6150            668.61          CONTINUA      \n",
       "15     0           8076           2299.08          CONTINUA      \n",
       "16     0           8615           1043.97          CONTINUA      \n",
       "17     0           3862           1595.28          CONTINUA      \n",
       "18     0           1160            117.30          CONTINUA      \n",
       "19     0           5866            551.31          CONTINUA      \n",
       "20     0           7696           1794.69          CONTINUA      \n",
       "21     0           2377             46.92          BAJA+2        \n",
       "22     0           4219            469.20          CONTINUA      \n",
       "23     0           2307              0.00          CONTINUA      \n",
       "24     0           8350            211.14          CONTINUA      \n",
       "25     0           8229           2744.82          CONTINUA      \n",
       "26     0           7580            539.58          CONTINUA      \n",
       "27     0           4598             82.11          CONTINUA      \n",
       "28     0           5866           3260.94          CONTINUA      \n",
       "29     0           3904           2744.82          CONTINUA      \n",
       "30     0           5866           3929.55          CONTINUA      \n",
       "⋮      ⋮           ⋮              ⋮                ⋮             \n",
       "273637 0            99               0.00                        \n",
       "273638 0           133               0.00                        \n",
       "273639 0            39            2486.76                        \n",
       "273640 0            79            2170.05                        \n",
       "273641 0           105               0.00                        \n",
       "273642 0           100               0.00                        \n",
       "273643 0           120             175.95                        \n",
       "273644 0            67            9067.29                        \n",
       "273645 0            81             340.17                        \n",
       "273646 0            77               0.00                        \n",
       "273647 0            49            6134.79                        \n",
       "273648 0            63            5032.17                        \n",
       "273649 0            67               0.00                        \n",
       "273650 0            72               0.00                        \n",
       "273651 0            21               0.00                        \n",
       "273652 0            78            4199.34                        \n",
       "273653 0            31               0.00                        \n",
       "273654 0            51               0.00                        \n",
       "273655 0            79               0.00                        \n",
       "273656 0            71               0.00                        \n",
       "273657 0            38               0.00                        \n",
       "273658 0            32            2756.55                        \n",
       "273659 0            50               0.00                        \n",
       "273660 0            32            3906.09                        \n",
       "273661 0            23             269.79                        \n",
       "273662 0             7               0.00                        \n",
       "273663 0            11               0.00                        \n",
       "273664 0            23               0.00                        \n",
       "273665 0            16               0.00                        \n",
       "273666 0            15               0.00                        "
      ]
     },
     "metadata": {},
     "output_type": "display_data"
    }
   ],
   "source": [
    "View(dataset)"
   ]
  },
  {
   "cell_type": "code",
   "execution_count": 34,
   "id": "fb120a25-5da4-4269-bbac-7fa52a8adf3f",
   "metadata": {
    "id": "dhlyk-WxS040"
   },
   "outputs": [],
   "source": [
    "drift_estandarizar <- function(campos_drift) {\n",
    "  cat(\"inicio drift_estandarizar()\\n\")\n",
    "  for (campo in campos_drift) {\n",
    "    cat(campo, \" \")\n",
    "    \n",
    "    # Check if column exists\n",
    "    if (!campo %in% names(dataset)) {\n",
    "      warning(paste(\"Column\", campo, \"not found in dataset\"))\n",
    "      next\n",
    "    }\n",
    "    \n",
    "    # Standardize by foto_mes groups\n",
    "    dataset[, paste0(campo, \"_normal\") := {\n",
    "      valores <- get(campo)\n",
    "      media <- mean(valores, na.rm = TRUE)\n",
    "      desv <- sd(valores, na.rm = TRUE)\n",
    "      \n",
    "      # Handle cases where sd = 0 (constant values)\n",
    "      if (is.na(desv) || desv == 0) {\n",
    "        rep(0, length(valores))  # or rep(NA, length(valores))\n",
    "      } else {\n",
    "        (valores - media) / desv\n",
    "      }\n",
    "    }, by = foto_mes]\n",
    "    \n",
    "    # Remove original column\n",
    "    dataset[, (campo) := NULL]\n",
    "  }\n",
    "  cat(\"fin drift_estandarizar()\\n\")\n",
    "}\n"
   ]
  },
  {
   "cell_type": "code",
   "execution_count": 35,
   "id": "bd4a82e3-efb4-405e-993e-7da8f17c2bd4",
   "metadata": {
    "id": "tlJjlN6PVanz"
   },
   "outputs": [
    {
     "data": {
      "text/html": [
       "<style>\n",
       ".list-inline {list-style: none; margin:0; padding: 0}\n",
       ".list-inline>li {display: inline-block}\n",
       ".list-inline>li:not(:last-child)::after {content: \"\\00b7\"; padding: 0 .5ex}\n",
       "</style>\n",
       "<ol class=list-inline><li>'mrentabilidad'</li><li>'mrentabilidad_annual'</li><li>'mcomisiones'</li><li>'mactivos_margen'</li><li>'mpasivos_margen'</li><li>'mcuenta_corriente'</li><li>'mcaja_ahorro'</li><li>'mcuentas_saldo'</li><li>'mtarjeta_visa_consumo'</li><li>'mtarjeta_master_consumo'</li><li>'mprestamos_personales'</li><li>'mpayroll'</li><li>'Master_mpagominimo'</li><li>'Visa_mpagominimo'</li></ol>\n"
      ],
      "text/latex": [
       "\\begin{enumerate*}\n",
       "\\item 'mrentabilidad'\n",
       "\\item 'mrentabilidad\\_annual'\n",
       "\\item 'mcomisiones'\n",
       "\\item 'mactivos\\_margen'\n",
       "\\item 'mpasivos\\_margen'\n",
       "\\item 'mcuenta\\_corriente'\n",
       "\\item 'mcaja\\_ahorro'\n",
       "\\item 'mcuentas\\_saldo'\n",
       "\\item 'mtarjeta\\_visa\\_consumo'\n",
       "\\item 'mtarjeta\\_master\\_consumo'\n",
       "\\item 'mprestamos\\_personales'\n",
       "\\item 'mpayroll'\n",
       "\\item 'Master\\_mpagominimo'\n",
       "\\item 'Visa\\_mpagominimo'\n",
       "\\end{enumerate*}\n"
      ],
      "text/markdown": [
       "1. 'mrentabilidad'\n",
       "2. 'mrentabilidad_annual'\n",
       "3. 'mcomisiones'\n",
       "4. 'mactivos_margen'\n",
       "5. 'mpasivos_margen'\n",
       "6. 'mcuenta_corriente'\n",
       "7. 'mcaja_ahorro'\n",
       "8. 'mcuentas_saldo'\n",
       "9. 'mtarjeta_visa_consumo'\n",
       "10. 'mtarjeta_master_consumo'\n",
       "11. 'mprestamos_personales'\n",
       "12. 'mpayroll'\n",
       "13. 'Master_mpagominimo'\n",
       "14. 'Visa_mpagominimo'\n",
       "\n",
       "\n"
      ],
      "text/plain": [
       " [1] \"mrentabilidad\"           \"mrentabilidad_annual\"   \n",
       " [3] \"mcomisiones\"             \"mactivos_margen\"        \n",
       " [5] \"mpasivos_margen\"         \"mcuenta_corriente\"      \n",
       " [7] \"mcaja_ahorro\"            \"mcuentas_saldo\"         \n",
       " [9] \"mtarjeta_visa_consumo\"   \"mtarjeta_master_consumo\"\n",
       "[11] \"mprestamos_personales\"   \"mpayroll\"               \n",
       "[13] \"Master_mpagominimo\"      \"Visa_mpagominimo\"       "
      ]
     },
     "metadata": {},
     "output_type": "display_data"
    }
   ],
   "source": [
    "# por como armé los nombres de campos,\n",
    "#  estos son los campos que expresan variables monetarias\n",
    "campos_monetarios <- colnames(dataset)\n",
    "campos_monetarios <- campos_monetarios[campos_monetarios %like%\n",
    "  \"^(m|Visa_m|Master_m|vm_m)\"]\n",
    "\n",
    "campos_monetarios"
   ]
  },
  {
   "cell_type": "markdown",
   "id": "7sppIDYeSn5X",
   "metadata": {
    "id": "7sppIDYeSn5X"
   },
   "source": [
    "#### 6.3.1.3  FE_intra_manual Feature Engineering intra-mes\n",
    "\n",
    "Agrego campos nuevos dentro del mismo mes, SIN considerar la historia."
   ]
  },
  {
   "cell_type": "code",
   "execution_count": 36,
   "id": "5bf31785-0181-4b36-beb8-c6ebbd1e391f",
   "metadata": {
    "id": "G_8BH82XS3uV"
   },
   "outputs": [
    {
     "name": "stdout",
     "output_type": "stream",
     "text": [
      "inicio drift_estandarizar()\n",
      "mrentabilidad  mrentabilidad_annual  mcomisiones  mactivos_margen  mpasivos_margen  mcuenta_corriente  mcaja_ahorro  mcuentas_saldo  mtarjeta_visa_consumo  mtarjeta_master_consumo  mprestamos_personales  mpayroll  Master_mpagominimo  Visa_mpagominimo  fin drift_estandarizar()\n"
     ]
    }
   ],
   "source": [
    "# ejecuto el Data Drifting\n",
    "setorder( dataset, numero_de_cliente, foto_mes )\n",
    "\n",
    "\n",
    "PARAM$DR$metodo <- \"estandarizar\"\n",
    "\n",
    "switch(PARAM$DR$metodo,\n",
    "  \"estandarizar\"   = drift_estandarizar(campos_monetarios)\n",
    ")\n"
   ]
  },
  {
   "cell_type": "code",
   "execution_count": 24,
   "id": "3296884c-84ac-4927-a9cd-e3c263e3f876",
   "metadata": {
    "id": "-efBawbTWPKc"
   },
   "outputs": [
    {
     "data": {
      "text/html": [
       "<style>\n",
       ".list-inline {list-style: none; margin:0; padding: 0}\n",
       ".list-inline>li {display: inline-block}\n",
       ".list-inline>li:not(:last-child)::after {content: \"\\00b7\"; padding: 0 .5ex}\n",
       "</style>\n",
       "<ol class=list-inline><li>'numero_de_cliente'</li><li>'foto_mes'</li><li>'internet'</li><li>'cliente_edad'</li><li>'cliente_antiguedad'</li><li>'cproductos'</li><li>'cdescubierto_preacordado'</li><li>'ctarjeta_visa_transacciones'</li><li>'cpayroll_trx'</li><li>'ccomisiones_mantenimiento'</li><li>'ccallcenter_transacciones'</li><li>'chomebanking_transacciones'</li><li>'ctrx_quarter'</li><li>'Master_status'</li><li>'Master_fechaalta'</li><li>'Visa_status'</li><li>'Visa_fechaalta'</li><li>'clase_ternaria'</li><li>'mrentabilidad_normal'</li><li>'mrentabilidad_annual_normal'</li><li>'mcomisiones_normal'</li><li>'mactivos_margen_normal'</li><li>'mpasivos_margen_normal'</li><li>'mcuenta_corriente_normal'</li><li>'mcaja_ahorro_normal'</li><li>'mcuentas_saldo_normal'</li><li>'mtarjeta_visa_consumo_normal'</li><li>'mtarjeta_master_consumo_normal'</li><li>'mprestamos_personales_normal'</li><li>'mpayroll_normal'</li><li>'Master_mpagominimo_normal'</li><li>'Visa_mpagominimo_normal'</li></ol>\n"
      ],
      "text/latex": [
       "\\begin{enumerate*}\n",
       "\\item 'numero\\_de\\_cliente'\n",
       "\\item 'foto\\_mes'\n",
       "\\item 'internet'\n",
       "\\item 'cliente\\_edad'\n",
       "\\item 'cliente\\_antiguedad'\n",
       "\\item 'cproductos'\n",
       "\\item 'cdescubierto\\_preacordado'\n",
       "\\item 'ctarjeta\\_visa\\_transacciones'\n",
       "\\item 'cpayroll\\_trx'\n",
       "\\item 'ccomisiones\\_mantenimiento'\n",
       "\\item 'ccallcenter\\_transacciones'\n",
       "\\item 'chomebanking\\_transacciones'\n",
       "\\item 'ctrx\\_quarter'\n",
       "\\item 'Master\\_status'\n",
       "\\item 'Master\\_fechaalta'\n",
       "\\item 'Visa\\_status'\n",
       "\\item 'Visa\\_fechaalta'\n",
       "\\item 'clase\\_ternaria'\n",
       "\\item 'mrentabilidad\\_normal'\n",
       "\\item 'mrentabilidad\\_annual\\_normal'\n",
       "\\item 'mcomisiones\\_normal'\n",
       "\\item 'mactivos\\_margen\\_normal'\n",
       "\\item 'mpasivos\\_margen\\_normal'\n",
       "\\item 'mcuenta\\_corriente\\_normal'\n",
       "\\item 'mcaja\\_ahorro\\_normal'\n",
       "\\item 'mcuentas\\_saldo\\_normal'\n",
       "\\item 'mtarjeta\\_visa\\_consumo\\_normal'\n",
       "\\item 'mtarjeta\\_master\\_consumo\\_normal'\n",
       "\\item 'mprestamos\\_personales\\_normal'\n",
       "\\item 'mpayroll\\_normal'\n",
       "\\item 'Master\\_mpagominimo\\_normal'\n",
       "\\item 'Visa\\_mpagominimo\\_normal'\n",
       "\\end{enumerate*}\n"
      ],
      "text/markdown": [
       "1. 'numero_de_cliente'\n",
       "2. 'foto_mes'\n",
       "3. 'internet'\n",
       "4. 'cliente_edad'\n",
       "5. 'cliente_antiguedad'\n",
       "6. 'cproductos'\n",
       "7. 'cdescubierto_preacordado'\n",
       "8. 'ctarjeta_visa_transacciones'\n",
       "9. 'cpayroll_trx'\n",
       "10. 'ccomisiones_mantenimiento'\n",
       "11. 'ccallcenter_transacciones'\n",
       "12. 'chomebanking_transacciones'\n",
       "13. 'ctrx_quarter'\n",
       "14. 'Master_status'\n",
       "15. 'Master_fechaalta'\n",
       "16. 'Visa_status'\n",
       "17. 'Visa_fechaalta'\n",
       "18. 'clase_ternaria'\n",
       "19. 'mrentabilidad_normal'\n",
       "20. 'mrentabilidad_annual_normal'\n",
       "21. 'mcomisiones_normal'\n",
       "22. 'mactivos_margen_normal'\n",
       "23. 'mpasivos_margen_normal'\n",
       "24. 'mcuenta_corriente_normal'\n",
       "25. 'mcaja_ahorro_normal'\n",
       "26. 'mcuentas_saldo_normal'\n",
       "27. 'mtarjeta_visa_consumo_normal'\n",
       "28. 'mtarjeta_master_consumo_normal'\n",
       "29. 'mprestamos_personales_normal'\n",
       "30. 'mpayroll_normal'\n",
       "31. 'Master_mpagominimo_normal'\n",
       "32. 'Visa_mpagominimo_normal'\n",
       "\n",
       "\n"
      ],
      "text/plain": [
       " [1] \"numero_de_cliente\"              \"foto_mes\"                      \n",
       " [3] \"internet\"                       \"cliente_edad\"                  \n",
       " [5] \"cliente_antiguedad\"             \"cproductos\"                    \n",
       " [7] \"cdescubierto_preacordado\"       \"ctarjeta_visa_transacciones\"   \n",
       " [9] \"cpayroll_trx\"                   \"ccomisiones_mantenimiento\"     \n",
       "[11] \"ccallcenter_transacciones\"      \"chomebanking_transacciones\"    \n",
       "[13] \"ctrx_quarter\"                   \"Master_status\"                 \n",
       "[15] \"Master_fechaalta\"               \"Visa_status\"                   \n",
       "[17] \"Visa_fechaalta\"                 \"clase_ternaria\"                \n",
       "[19] \"mrentabilidad_normal\"           \"mrentabilidad_annual_normal\"   \n",
       "[21] \"mcomisiones_normal\"             \"mactivos_margen_normal\"        \n",
       "[23] \"mpasivos_margen_normal\"         \"mcuenta_corriente_normal\"      \n",
       "[25] \"mcaja_ahorro_normal\"            \"mcuentas_saldo_normal\"         \n",
       "[27] \"mtarjeta_visa_consumo_normal\"   \"mtarjeta_master_consumo_normal\"\n",
       "[29] \"mprestamos_personales_normal\"   \"mpayroll_normal\"               \n",
       "[31] \"Master_mpagominimo_normal\"      \"Visa_mpagominimo_normal\"       "
      ]
     },
     "metadata": {},
     "output_type": "display_data"
    }
   ],
   "source": [
    "colnames(dataset)"
   ]
  },
  {
   "cell_type": "code",
   "execution_count": 37,
   "id": "a63ae70c-c2e6-4139-a80b-6b38918ac2b5",
   "metadata": {},
   "outputs": [
    {
     "data": {
      "text/html": [
       "<table class=\"dataframe\">\n",
       "<caption>A data.table: 273666 × 32</caption>\n",
       "<thead>\n",
       "\t<tr><th scope=col>numero_de_cliente</th><th scope=col>foto_mes</th><th scope=col>internet</th><th scope=col>cliente_edad</th><th scope=col>cliente_antiguedad</th><th scope=col>cproductos</th><th scope=col>cdescubierto_preacordado</th><th scope=col>ctarjeta_visa_transacciones</th><th scope=col>cpayroll_trx</th><th scope=col>ccomisiones_mantenimiento</th><th scope=col>⋯</th><th scope=col>mpasivos_margen_normal</th><th scope=col>mcuenta_corriente_normal</th><th scope=col>mcaja_ahorro_normal</th><th scope=col>mcuentas_saldo_normal</th><th scope=col>mtarjeta_visa_consumo_normal</th><th scope=col>mtarjeta_master_consumo_normal</th><th scope=col>mprestamos_personales_normal</th><th scope=col>mpayroll_normal</th><th scope=col>Master_mpagominimo_normal</th><th scope=col>Visa_mpagominimo_normal</th></tr>\n",
       "\t<tr><th scope=col>&lt;int&gt;</th><th scope=col>&lt;int&gt;</th><th scope=col>&lt;int&gt;</th><th scope=col>&lt;int&gt;</th><th scope=col>&lt;int&gt;</th><th scope=col>&lt;int&gt;</th><th scope=col>&lt;int&gt;</th><th scope=col>&lt;int&gt;</th><th scope=col>&lt;int&gt;</th><th scope=col>&lt;int&gt;</th><th scope=col>⋯</th><th scope=col>&lt;dbl&gt;</th><th scope=col>&lt;dbl&gt;</th><th scope=col>&lt;dbl&gt;</th><th scope=col>&lt;dbl&gt;</th><th scope=col>&lt;dbl&gt;</th><th scope=col>&lt;dbl&gt;</th><th scope=col>&lt;dbl&gt;</th><th scope=col>&lt;dbl&gt;</th><th scope=col>&lt;dbl&gt;</th><th scope=col>&lt;dbl&gt;</th></tr>\n",
       "</thead>\n",
       "<tbody>\n",
       "\t<tr><td>29186441</td><td>202005</td><td> 1</td><td>61</td><td>282</td><td>7</td><td>1</td><td> 8</td><td>0</td><td>1</td><td>⋯</td><td>-0.1062416</td><td>-0.04504796</td><td>-0.12515459</td><td>-0.098568057</td><td>-0.08749722</td><td>-0.26262158</td><td>-0.3455158</td><td>-0.3195759</td><td>-0.13908746</td><td>-0.21229094</td></tr>\n",
       "\t<tr><td>29186441</td><td>202006</td><td>NA</td><td>61</td><td>283</td><td>7</td><td>1</td><td>NA</td><td>0</td><td>1</td><td>⋯</td><td> 0.0000000</td><td>-0.04669883</td><td>-0.06945661</td><td> 0.000000000</td><td> 0.00000000</td><td> 0.00000000</td><td>-0.3345125</td><td>-0.1763125</td><td>-0.17120790</td><td>-0.18939568</td></tr>\n",
       "\t<tr><td>29186441</td><td>202007</td><td> 1</td><td>61</td><td>284</td><td>7</td><td>1</td><td> 8</td><td>0</td><td>1</td><td>⋯</td><td>-0.1157818</td><td>-0.04685819</td><td>-0.10798503</td><td>-0.090312765</td><td>-0.13847847</td><td>-0.29173187</td><td>-0.3233366</td><td>-0.2220964</td><td>-0.17884385</td><td>-0.19750182</td></tr>\n",
       "\t<tr><td>29186441</td><td>202008</td><td> 1</td><td>61</td><td>285</td><td>7</td><td>1</td><td> 8</td><td>0</td><td>1</td><td>⋯</td><td> 0.1615192</td><td>-0.03667251</td><td> 0.24983629</td><td>-0.013365941</td><td>-0.14652239</td><td>-0.25982335</td><td>-0.3168032</td><td>-0.3189637</td><td>-0.15749542</td><td>-0.23450970</td></tr>\n",
       "\t<tr><td>29186441</td><td>202009</td><td> 1</td><td>61</td><td>286</td><td>7</td><td>1</td><td> 8</td><td>0</td><td>1</td><td>⋯</td><td> 0.2962920</td><td>-0.03280958</td><td> 0.37334873</td><td> 0.077116393</td><td>-0.14391923</td><td>-0.26818089</td><td>-0.3104823</td><td>-0.2807548</td><td>-0.16837646</td><td>-0.23114587</td></tr>\n",
       "\t<tr><td>29186441</td><td>202010</td><td> 0</td><td>61</td><td>287</td><td>7</td><td>1</td><td> 8</td><td>0</td><td>1</td><td>⋯</td><td> 0.4184651</td><td>-0.03521936</td><td> 0.52651250</td><td> 0.060422989</td><td>-0.12235702</td><td>-0.20686998</td><td>-0.3067820</td><td>-0.3641517</td><td>-0.12142892</td><td>-0.20002942</td></tr>\n",
       "\t<tr><td>29186441</td><td>202011</td><td> 0</td><td>61</td><td>288</td><td>7</td><td>1</td><td> 9</td><td>0</td><td>1</td><td>⋯</td><td> 0.3420590</td><td>-0.03205198</td><td> 0.52952091</td><td> 0.018063523</td><td>-0.14720959</td><td>-0.24609390</td><td>-0.3039346</td><td>-0.2447497</td><td>-0.09096536</td><td>-0.21821927</td></tr>\n",
       "\t<tr><td>29186441</td><td>202012</td><td> 0</td><td>61</td><td>289</td><td>7</td><td>1</td><td> 8</td><td>0</td><td>1</td><td>⋯</td><td> 0.4571785</td><td>-0.03576175</td><td> 0.70864095</td><td> 0.060075614</td><td>-0.21906447</td><td>-0.28375177</td><td>-0.2958169</td><td>-0.3641817</td><td>-0.08729826</td><td>-0.25824581</td></tr>\n",
       "\t<tr><td>29186441</td><td>202101</td><td> 0</td><td>61</td><td>290</td><td>7</td><td>1</td><td> 8</td><td>0</td><td>1</td><td>⋯</td><td> 0.4541024</td><td>-0.03353782</td><td> 0.76904975</td><td> 0.056835646</td><td>-0.11871205</td><td>-0.29503056</td><td>-0.2947084</td><td>-0.3859447</td><td>-0.18665455</td><td>-0.25227804</td></tr>\n",
       "\t<tr><td>29186441</td><td>202102</td><td> 0</td><td>61</td><td>291</td><td>7</td><td>1</td><td> 9</td><td>0</td><td>1</td><td>⋯</td><td> 0.3135851</td><td>-0.02393342</td><td> 0.50192277</td><td> 0.087131296</td><td>-0.17753373</td><td>-0.26448540</td><td>-0.2975102</td><td>-0.4128893</td><td>-0.16839936</td><td>-0.25414529</td></tr>\n",
       "\t<tr><td>29186441</td><td>202103</td><td> 0</td><td>62</td><td>292</td><td>7</td><td>1</td><td> 9</td><td>0</td><td>1</td><td>⋯</td><td> 0.6590339</td><td>-0.03149129</td><td> 0.61368919</td><td> 0.068039433</td><td>-0.14514046</td><td>-0.30797005</td><td>-0.3012366</td><td>-0.3171859</td><td>-0.18572488</td><td>-0.33090608</td></tr>\n",
       "\t<tr><td>29186441</td><td>202104</td><td> 0</td><td>62</td><td>293</td><td>7</td><td>1</td><td> 9</td><td>0</td><td>1</td><td>⋯</td><td> 0.3488337</td><td>-0.02765811</td><td> 0.54210702</td><td> 0.022298662</td><td>-0.02599935</td><td>-0.24932909</td><td>-0.3012032</td><td>-0.3413679</td><td>-0.16269666</td><td>-0.12900929</td></tr>\n",
       "\t<tr><td>29186441</td><td>202105</td><td> 0</td><td>62</td><td>294</td><td>7</td><td>1</td><td> 9</td><td>0</td><td>0</td><td>⋯</td><td> 0.2152366</td><td>-0.03057438</td><td> 0.36784672</td><td> 0.034566752</td><td>-0.10688464</td><td>-0.27678349</td><td>-0.2943385</td><td>-0.2028625</td><td>-0.14014225</td><td>-0.16562293</td></tr>\n",
       "\t<tr><td>29186441</td><td>202106</td><td> 0</td><td>62</td><td>295</td><td>7</td><td>1</td><td>10</td><td>0</td><td>1</td><td>⋯</td><td> 0.2325060</td><td>-0.03053592</td><td> 0.38133172</td><td> 0.006245042</td><td> 0.05237241</td><td>-0.28659184</td><td>-0.2965397</td><td>-0.5181759</td><td>-0.14467169</td><td>-0.24176505</td></tr>\n",
       "\t<tr><td>29186441</td><td>202107</td><td> 0</td><td>62</td><td>296</td><td>7</td><td>1</td><td>10</td><td>0</td><td>1</td><td>⋯</td><td> 0.1513689</td><td>-0.04132840</td><td> 0.26563367</td><td>-0.007043526</td><td> 0.10868263</td><td>-0.30763653</td><td>-0.2876770</td><td>-0.4443168</td><td>-0.15004662</td><td>-0.18912366</td></tr>\n",
       "\t<tr><td>29186441</td><td>202108</td><td> 0</td><td>62</td><td>297</td><td>7</td><td>1</td><td> 8</td><td>0</td><td>1</td><td>⋯</td><td> 0.4623409</td><td>-0.03295051</td><td> 0.61854510</td><td> 0.129748713</td><td>-0.02733334</td><td>-0.32528541</td><td>-0.2836605</td><td>-0.4968595</td><td>-0.12138223</td><td>-0.11815133</td></tr>\n",
       "\t<tr><td>29186441</td><td>202109</td><td> 0</td><td>62</td><td>298</td><td>7</td><td>1</td><td>12</td><td>0</td><td>1</td><td>⋯</td><td> 0.9282258</td><td>-0.02854896</td><td> 1.28318365</td><td> 0.279369774</td><td> 0.13255382</td><td>-0.32478676</td><td>-0.2819509</td><td>-0.5382559</td><td>-0.05463188</td><td>-0.09557602</td></tr>\n",
       "\t<tr><td>29187961</td><td>202005</td><td> 1</td><td>61</td><td>312</td><td>7</td><td>1</td><td>35</td><td>0</td><td>1</td><td>⋯</td><td> 1.0719213</td><td>-0.04504796</td><td> 1.20250375</td><td> 0.192708326</td><td> 1.40082134</td><td> 3.23488833</td><td>-0.3455158</td><td>-0.3195759</td><td> 0.28675134</td><td> 0.63194923</td></tr>\n",
       "\t<tr><td>29187961</td><td>202006</td><td>NA</td><td>61</td><td>313</td><td>7</td><td>1</td><td>NA</td><td>0</td><td>1</td><td>⋯</td><td> 0.0000000</td><td>-0.04669883</td><td> 1.51792494</td><td> 0.000000000</td><td> 0.00000000</td><td> 0.00000000</td><td>-0.3345125</td><td>-0.1763125</td><td> 0.33561573</td><td> 0.61269027</td></tr>\n",
       "\t<tr><td>29187961</td><td>202007</td><td> 1</td><td>61</td><td>314</td><td>7</td><td>1</td><td>51</td><td>0</td><td>1</td><td>⋯</td><td> 0.7662009</td><td>-0.04685819</td><td> 0.75519112</td><td>-0.039392808</td><td> 2.58264676</td><td> 0.13556417</td><td>-0.3233366</td><td>-0.2220964</td><td>-0.13694078</td><td> 1.31631496</td></tr>\n",
       "\t<tr><td>29187961</td><td>202008</td><td> 1</td><td>61</td><td>315</td><td>7</td><td>1</td><td>53</td><td>0</td><td>1</td><td>⋯</td><td> 0.1427270</td><td>-0.03667251</td><td> 0.03435678</td><td>-0.102598975</td><td> 1.81163844</td><td> 0.90660163</td><td>-0.3168032</td><td>-0.3189637</td><td>-0.05594911</td><td> 0.60952706</td></tr>\n",
       "\t<tr><td>29187961</td><td>202009</td><td> 1</td><td>61</td><td>316</td><td>7</td><td>1</td><td>36</td><td>0</td><td>1</td><td>⋯</td><td> 0.1855267</td><td>-0.03280958</td><td> 0.16381600</td><td> 0.024469282</td><td> 1.48534784</td><td> 0.05677461</td><td>-0.3104823</td><td>-0.2807548</td><td>-0.13001264</td><td> 0.79211393</td></tr>\n",
       "\t<tr><td>29187961</td><td>202010</td><td> 0</td><td>61</td><td>317</td><td>7</td><td>1</td><td>31</td><td>0</td><td>1</td><td>⋯</td><td> 0.1799089</td><td>-0.03521936</td><td> 0.03139517</td><td>-0.086812623</td><td> 0.53507918</td><td> 0.01750509</td><td>-0.3067820</td><td>-0.3641517</td><td>-0.09880099</td><td>-0.28270568</td></tr>\n",
       "\t<tr><td>29187961</td><td>202011</td><td> 0</td><td>61</td><td>318</td><td>7</td><td>1</td><td>46</td><td>0</td><td>1</td><td>⋯</td><td> 0.6572354</td><td>-0.03205198</td><td> 0.44657128</td><td> 0.289407042</td><td> 1.53746991</td><td> 1.67384342</td><td>-0.3039346</td><td>-0.2447497</td><td> 0.01022356</td><td> 0.52344910</td></tr>\n",
       "\t<tr><td>29187961</td><td>202012</td><td> 0</td><td>61</td><td>319</td><td>7</td><td>1</td><td>50</td><td>0</td><td>1</td><td>⋯</td><td> 0.4509771</td><td>-0.03576175</td><td> 0.49121765</td><td> 0.187608377</td><td> 1.12985820</td><td> 0.97924007</td><td>-0.2958169</td><td>-0.3641817</td><td> 0.73525375</td><td> 0.34946142</td></tr>\n",
       "\t<tr><td>29187961</td><td>202101</td><td> 0</td><td>61</td><td>320</td><td>7</td><td>1</td><td>31</td><td>0</td><td>1</td><td>⋯</td><td> 0.2866175</td><td>-0.03353782</td><td> 0.49078628</td><td>-0.047556330</td><td> 1.31886523</td><td> 0.36496832</td><td>-0.2947084</td><td>-0.3859447</td><td>-0.18160495</td><td> 0.74387611</td></tr>\n",
       "\t<tr><td>29187961</td><td>202102</td><td> 0</td><td>61</td><td>321</td><td>7</td><td>1</td><td>44</td><td>0</td><td>1</td><td>⋯</td><td> 0.3028299</td><td>-0.02393342</td><td> 0.24309546</td><td>-0.030963615</td><td> 2.42211661</td><td> 1.75994550</td><td>-0.2975102</td><td>-0.4128893</td><td> 1.40907026</td><td> 0.74991626</td></tr>\n",
       "\t<tr><td>29187961</td><td>202103</td><td> 0</td><td>61</td><td>322</td><td>7</td><td>1</td><td>39</td><td>0</td><td>1</td><td>⋯</td><td> 0.2453226</td><td>-0.03149129</td><td> 0.12996571</td><td>-0.092379850</td><td> 2.42843078</td><td> 1.56733928</td><td>-0.3012366</td><td>-0.3171859</td><td> 1.75948632</td><td> 0.10142296</td></tr>\n",
       "\t<tr><td>29187961</td><td>202104</td><td> 0</td><td>62</td><td>323</td><td>7</td><td>1</td><td>26</td><td>0</td><td>1</td><td>⋯</td><td> 0.1392146</td><td>-0.02765811</td><td> 0.14995833</td><td>-0.029899860</td><td> 1.43845971</td><td> 0.02747990</td><td>-0.3012032</td><td>-0.3413679</td><td>-0.11438944</td><td> 2.13201811</td></tr>\n",
       "\t<tr><td>29187961</td><td>202105</td><td> 0</td><td>62</td><td>324</td><td>7</td><td>1</td><td>24</td><td>0</td><td>1</td><td>⋯</td><td> 0.5934300</td><td>-0.03057438</td><td> 0.34900360</td><td> 0.019045816</td><td> 0.74980048</td><td> 0.49082213</td><td>-0.2943385</td><td>-0.2028625</td><td> 0.57525511</td><td> 0.54726133</td></tr>\n",
       "\t<tr><td>⋮</td><td>⋮</td><td>⋮</td><td>⋮</td><td>⋮</td><td>⋮</td><td>⋮</td><td>⋮</td><td>⋮</td><td>⋮</td><td>⋱</td><td>⋮</td><td>⋮</td><td>⋮</td><td>⋮</td><td>⋮</td><td>⋮</td><td>⋮</td><td>⋮</td><td>⋮</td><td>⋮</td></tr>\n",
       "\t<tr><td>187314281</td><td>202109</td><td>0</td><td>27</td><td>3</td><td>6</td><td>1</td><td> 0</td><td>1</td><td>0</td><td>⋯</td><td>-0.18282915</td><td>-0.02854896</td><td>-0.05947939</td><td>-0.15028369</td><td>-0.6500409</td><td>-0.3247868</td><td>-0.2819509</td><td> 0.291682222</td><td>-0.05463188</td><td>-0.16933766</td></tr>\n",
       "\t<tr><td>187332121</td><td>202109</td><td>0</td><td>24</td><td>3</td><td>7</td><td>1</td><td> 0</td><td>1</td><td>0</td><td>⋯</td><td>-0.19946174</td><td>-0.02854896</td><td>-0.08202310</td><td>-0.09174608</td><td>-0.6500409</td><td>-0.3247868</td><td>-0.2819509</td><td> 0.002239825</td><td>-0.05463188</td><td>-0.16933766</td></tr>\n",
       "\t<tr><td>187346211</td><td>202107</td><td>0</td><td>37</td><td>1</td><td>6</td><td>1</td><td> 0</td><td>0</td><td>0</td><td>⋯</td><td>-0.36787164</td><td>-0.04132840</td><td>-0.31496500</td><td>-0.15972046</td><td>-0.6768150</td><td>-0.3076365</td><td>-0.2876770</td><td>-0.444316829</td><td>-0.15004662</td><td>-0.25564894</td></tr>\n",
       "\t<tr><td>187346211</td><td>202108</td><td>0</td><td>37</td><td>2</td><td>6</td><td>1</td><td> 1</td><td>0</td><td>0</td><td>⋯</td><td>-0.22494559</td><td>-0.06663466</td><td>-0.26200869</td><td>-0.16857309</td><td>-0.5755378</td><td>-0.3252854</td><td>-0.2836605</td><td>-0.496859549</td><td>-0.12138223</td><td>-0.13237203</td></tr>\n",
       "\t<tr><td>187346211</td><td>202109</td><td>0</td><td>37</td><td>3</td><td>6</td><td>1</td><td> 2</td><td>0</td><td>0</td><td>⋯</td><td>-0.25376814</td><td>-0.06849083</td><td>-0.28167608</td><td>-0.16107748</td><td>-0.5313029</td><td>-0.3247868</td><td>-0.2819509</td><td>-0.538255915</td><td>-0.05463188</td><td>-0.08681682</td></tr>\n",
       "\t<tr><td>187350011</td><td>202108</td><td>0</td><td>32</td><td>2</td><td>7</td><td>1</td><td> 0</td><td>1</td><td>0</td><td>⋯</td><td>-0.29428146</td><td>-0.03295051</td><td>-0.21898148</td><td>-0.10766467</td><td>-0.6478069</td><td>-0.3252854</td><td>-0.2836605</td><td> 0.182420901</td><td>-0.12138223</td><td>-0.17927539</td></tr>\n",
       "\t<tr><td>187350011</td><td>202109</td><td>0</td><td>32</td><td>3</td><td>6</td><td>1</td><td> 0</td><td>1</td><td>0</td><td>⋯</td><td>-0.28157898</td><td>-0.10515690</td><td>-0.19381013</td><td>-0.10641122</td><td>-0.6500409</td><td>-0.3247868</td><td>-0.2819509</td><td> 0.249421956</td><td>-0.05463188</td><td>-0.16933766</td></tr>\n",
       "\t<tr><td>187366971</td><td>202107</td><td>0</td><td>38</td><td>1</td><td>7</td><td>1</td><td> 0</td><td>0</td><td>0</td><td>⋯</td><td>-0.36811288</td><td>-0.04132840</td><td>-0.31528809</td><td>-0.15988148</td><td>-0.6768150</td><td>-0.3076365</td><td>-0.2876770</td><td>-0.444316829</td><td>-0.15004662</td><td>-0.25564894</td></tr>\n",
       "\t<tr><td>187400951</td><td>202108</td><td>0</td><td>46</td><td>2</td><td>6</td><td>1</td><td> 0</td><td>2</td><td>0</td><td>⋯</td><td>-0.31152150</td><td>-0.03845044</td><td>-0.24229626</td><td>-0.14247319</td><td>-0.6478069</td><td>-0.3252854</td><td>-0.2836605</td><td> 0.033404577</td><td>-0.12138223</td><td>-0.17927539</td></tr>\n",
       "\t<tr><td>187400951</td><td>202109</td><td>0</td><td>46</td><td>3</td><td>6</td><td>1</td><td> 0</td><td>0</td><td>0</td><td>⋯</td><td>-0.33221396</td><td>-0.07463827</td><td>-0.26269055</td><td>-0.15930485</td><td>-0.6500409</td><td>-0.3247868</td><td>-0.2819509</td><td>-0.538255915</td><td>-0.05463188</td><td>-0.16933766</td></tr>\n",
       "\t<tr><td>187429081</td><td>202107</td><td>0</td><td>35</td><td>1</td><td>6</td><td>1</td><td> 0</td><td>1</td><td>0</td><td>⋯</td><td>-0.36252560</td><td>-0.04152181</td><td>-0.30778917</td><td>-0.11688775</td><td>-0.6768150</td><td>-0.3076365</td><td>-0.2876770</td><td>-0.410895959</td><td>-0.15004662</td><td>-0.25564894</td></tr>\n",
       "\t<tr><td>187429081</td><td>202108</td><td>0</td><td>36</td><td>2</td><td>7</td><td>1</td><td> 0</td><td>2</td><td>0</td><td>⋯</td><td>-0.28062240</td><td>-0.03295051</td><td>-0.22096885</td><td>-0.05926112</td><td>-0.6478069</td><td>-0.3252854</td><td>-0.2836605</td><td>-0.395478913</td><td>-0.12138223</td><td>-0.17927539</td></tr>\n",
       "\t<tr><td>187429081</td><td>202109</td><td>0</td><td>36</td><td>3</td><td>7</td><td>1</td><td> 0</td><td>1</td><td>0</td><td>⋯</td><td>-0.20883107</td><td>-0.02854896</td><td>-0.12626087</td><td> 0.01657805</td><td>-0.6500409</td><td>-0.3247868</td><td>-0.2819509</td><td>-0.232582466</td><td>-0.05463188</td><td>-0.16933766</td></tr>\n",
       "\t<tr><td>187434871</td><td>202107</td><td>0</td><td>69</td><td>1</td><td>7</td><td>1</td><td> 0</td><td>0</td><td>0</td><td>⋯</td><td>-0.02399267</td><td>-0.04132840</td><td> 0.14629776</td><td> 0.64518739</td><td>-0.6768150</td><td>-0.3076365</td><td>-0.2876770</td><td>-0.444316829</td><td>-0.15004662</td><td>-0.25564894</td></tr>\n",
       "\t<tr><td>187434871</td><td>202108</td><td>0</td><td>69</td><td>2</td><td>8</td><td>1</td><td> 0</td><td>0</td><td>0</td><td>⋯</td><td>-0.02640780</td><td>-0.03295051</td><td>-0.15399410</td><td>-0.14999034</td><td>-0.6478069</td><td>-0.3252854</td><td>-0.2836605</td><td>-0.496859549</td><td>-0.12138223</td><td>-0.17927539</td></tr>\n",
       "\t<tr><td>187434871</td><td>202109</td><td>0</td><td>69</td><td>3</td><td>8</td><td>1</td><td> 0</td><td>0</td><td>0</td><td>⋯</td><td>-0.09431901</td><td>-0.02854896</td><td>-0.27157656</td><td>-0.14987666</td><td>-0.6500409</td><td>-0.3247868</td><td>-0.2819509</td><td>-0.538255915</td><td>-0.05463188</td><td>-0.16933766</td></tr>\n",
       "\t<tr><td>187594641</td><td>202108</td><td>0</td><td>37</td><td>1</td><td>6</td><td>1</td><td> 0</td><td>0</td><td>0</td><td>⋯</td><td>-0.32613916</td><td>-0.03324511</td><td>-0.26206486</td><td>-0.12528667</td><td>-0.6478069</td><td>-0.3252854</td><td>-0.2836605</td><td>-0.496859549</td><td>-0.12138223</td><td>-0.17927539</td></tr>\n",
       "\t<tr><td>187594641</td><td>202109</td><td>0</td><td>38</td><td>2</td><td>6</td><td>1</td><td> 0</td><td>1</td><td>0</td><td>⋯</td><td>-0.27264320</td><td>-0.02854896</td><td>-0.18165648</td><td>-0.06286128</td><td>-0.6500409</td><td>-0.3247868</td><td>-0.2819509</td><td> 0.607285498</td><td>-0.05463188</td><td>-0.16933766</td></tr>\n",
       "\t<tr><td>187604521</td><td>202108</td><td>0</td><td>45</td><td>1</td><td>6</td><td>1</td><td> 0</td><td>0</td><td>0</td><td>⋯</td><td>-0.32902840</td><td>-0.03295051</td><td>-0.26597411</td><td>-0.15264619</td><td>-0.6478069</td><td>-0.3252854</td><td>-0.2836605</td><td>-0.496859549</td><td>-0.12138223</td><td>-0.17927539</td></tr>\n",
       "\t<tr><td>187604521</td><td>202109</td><td>0</td><td>45</td><td>2</td><td>6</td><td>1</td><td> 5</td><td>0</td><td>0</td><td>⋯</td><td> 0.05909121</td><td>-0.02854896</td><td>-0.28268724</td><td>-0.15198389</td><td>-0.2386882</td><td>-0.3247868</td><td>-0.2819509</td><td>-0.538255915</td><td>-0.05463188</td><td>-0.11516895</td></tr>\n",
       "\t<tr><td>187626041</td><td>202108</td><td>0</td><td>56</td><td>1</td><td>6</td><td>1</td><td> 0</td><td>0</td><td>0</td><td>⋯</td><td>-0.32709926</td><td>-0.03295051</td><td>-0.26336321</td><td>-0.14870235</td><td>-0.6478069</td><td>-0.3252854</td><td>-0.2836605</td><td>-0.496859549</td><td>-0.12138223</td><td>-0.17927539</td></tr>\n",
       "\t<tr><td>187626041</td><td>202109</td><td>0</td><td>56</td><td>2</td><td>6</td><td>1</td><td> 0</td><td>0</td><td>0</td><td>⋯</td><td>-0.32597045</td><td>-0.02854896</td><td>-0.25420042</td><td>-0.14504460</td><td>-0.6500409</td><td>-0.3247868</td><td>-0.2819509</td><td>-0.538255915</td><td>-0.05463188</td><td>-0.16933766</td></tr>\n",
       "\t<tr><td>187636041</td><td>202108</td><td>0</td><td>29</td><td>1</td><td>6</td><td>1</td><td> 0</td><td>1</td><td>0</td><td>⋯</td><td>-0.32902840</td><td>-0.03295051</td><td>-0.26597411</td><td>-0.15264619</td><td>-0.6478069</td><td>-0.3252854</td><td>-0.2836605</td><td> 0.889158576</td><td>-0.12138223</td><td>-0.17927539</td></tr>\n",
       "\t<tr><td>187636041</td><td>202109</td><td>0</td><td>29</td><td>2</td><td>8</td><td>1</td><td>17</td><td>3</td><td>1</td><td>⋯</td><td>-0.02286852</td><td>-0.07654692</td><td>-0.16833360</td><td>-0.14278653</td><td> 0.7786362</td><td>-0.3247868</td><td>-0.2819509</td><td> 1.065159763</td><td>-0.05463188</td><td>-0.09257945</td></tr>\n",
       "\t<tr><td>187827511</td><td>202109</td><td>0</td><td>42</td><td>1</td><td>7</td><td>1</td><td> 4</td><td>2</td><td>0</td><td>⋯</td><td>-0.34273619</td><td>-0.02857627</td><td>-0.28268724</td><td>-0.15198851</td><td>-0.5970933</td><td>-0.3247868</td><td>-0.2819509</td><td>-0.477121225</td><td>-0.05463188</td><td>-0.16403604</td></tr>\n",
       "\t<tr><td>187838971</td><td>202109</td><td>0</td><td>49</td><td>1</td><td>6</td><td>1</td><td> 0</td><td>0</td><td>0</td><td>⋯</td><td>-0.34691261</td><td>-0.02854896</td><td>-0.28268724</td><td>-0.15198389</td><td>-0.6500409</td><td>-0.3247868</td><td>-0.2819509</td><td>-0.538255915</td><td>-0.05463188</td><td>-0.16933766</td></tr>\n",
       "\t<tr><td>187902361</td><td>202109</td><td>0</td><td>22</td><td>1</td><td>6</td><td>1</td><td> 0</td><td>0</td><td>1</td><td>⋯</td><td>-0.34691261</td><td>-0.02867835</td><td>-0.28268721</td><td>-0.15198362</td><td>-0.6500409</td><td>-0.3247868</td><td>-0.2819509</td><td>-0.538255915</td><td>-0.05463188</td><td>-0.16933766</td></tr>\n",
       "\t<tr><td>187956461</td><td>202109</td><td>0</td><td>34</td><td>1</td><td>7</td><td>1</td><td> 0</td><td>0</td><td>0</td><td>⋯</td><td>-0.34691261</td><td>-0.18352928</td><td>-0.28268724</td><td>-0.15983647</td><td>-0.6500409</td><td>-0.3247868</td><td>-0.2819509</td><td>-0.538255915</td><td>-0.05463188</td><td>-0.16933766</td></tr>\n",
       "\t<tr><td>187964701</td><td>202109</td><td>0</td><td>26</td><td>1</td><td>6</td><td>1</td><td> 0</td><td>0</td><td>0</td><td>⋯</td><td>-0.34691261</td><td>-0.02854896</td><td>-0.28268724</td><td>-0.15198389</td><td>-0.6500409</td><td>-0.3247868</td><td>-0.2819509</td><td>-0.538255915</td><td>-0.05463188</td><td>-0.16933766</td></tr>\n",
       "\t<tr><td>188116871</td><td>202109</td><td>0</td><td>30</td><td>1</td><td>7</td><td>1</td><td> 5</td><td>3</td><td>0</td><td>⋯</td><td>-0.25907310</td><td>-0.02854896</td><td>-0.20961726</td><td>-0.15198383</td><td>-0.2833325</td><td>-0.3247868</td><td>-0.2819509</td><td>-0.117306311</td><td>-0.05463188</td><td>-0.16933766</td></tr>\n",
       "</tbody>\n",
       "</table>\n"
      ],
      "text/latex": [
       "A data.table: 273666 × 32\n",
       "\\begin{tabular}{lllllllllllllllllllll}\n",
       " numero\\_de\\_cliente & foto\\_mes & internet & cliente\\_edad & cliente\\_antiguedad & cproductos & cdescubierto\\_preacordado & ctarjeta\\_visa\\_transacciones & cpayroll\\_trx & ccomisiones\\_mantenimiento & ⋯ & mpasivos\\_margen\\_normal & mcuenta\\_corriente\\_normal & mcaja\\_ahorro\\_normal & mcuentas\\_saldo\\_normal & mtarjeta\\_visa\\_consumo\\_normal & mtarjeta\\_master\\_consumo\\_normal & mprestamos\\_personales\\_normal & mpayroll\\_normal & Master\\_mpagominimo\\_normal & Visa\\_mpagominimo\\_normal\\\\\n",
       " <int> & <int> & <int> & <int> & <int> & <int> & <int> & <int> & <int> & <int> & ⋯ & <dbl> & <dbl> & <dbl> & <dbl> & <dbl> & <dbl> & <dbl> & <dbl> & <dbl> & <dbl>\\\\\n",
       "\\hline\n",
       "\t 29186441 & 202005 &  1 & 61 & 282 & 7 & 1 &  8 & 0 & 1 & ⋯ & -0.1062416 & -0.04504796 & -0.12515459 & -0.098568057 & -0.08749722 & -0.26262158 & -0.3455158 & -0.3195759 & -0.13908746 & -0.21229094\\\\\n",
       "\t 29186441 & 202006 & NA & 61 & 283 & 7 & 1 & NA & 0 & 1 & ⋯ &  0.0000000 & -0.04669883 & -0.06945661 &  0.000000000 &  0.00000000 &  0.00000000 & -0.3345125 & -0.1763125 & -0.17120790 & -0.18939568\\\\\n",
       "\t 29186441 & 202007 &  1 & 61 & 284 & 7 & 1 &  8 & 0 & 1 & ⋯ & -0.1157818 & -0.04685819 & -0.10798503 & -0.090312765 & -0.13847847 & -0.29173187 & -0.3233366 & -0.2220964 & -0.17884385 & -0.19750182\\\\\n",
       "\t 29186441 & 202008 &  1 & 61 & 285 & 7 & 1 &  8 & 0 & 1 & ⋯ &  0.1615192 & -0.03667251 &  0.24983629 & -0.013365941 & -0.14652239 & -0.25982335 & -0.3168032 & -0.3189637 & -0.15749542 & -0.23450970\\\\\n",
       "\t 29186441 & 202009 &  1 & 61 & 286 & 7 & 1 &  8 & 0 & 1 & ⋯ &  0.2962920 & -0.03280958 &  0.37334873 &  0.077116393 & -0.14391923 & -0.26818089 & -0.3104823 & -0.2807548 & -0.16837646 & -0.23114587\\\\\n",
       "\t 29186441 & 202010 &  0 & 61 & 287 & 7 & 1 &  8 & 0 & 1 & ⋯ &  0.4184651 & -0.03521936 &  0.52651250 &  0.060422989 & -0.12235702 & -0.20686998 & -0.3067820 & -0.3641517 & -0.12142892 & -0.20002942\\\\\n",
       "\t 29186441 & 202011 &  0 & 61 & 288 & 7 & 1 &  9 & 0 & 1 & ⋯ &  0.3420590 & -0.03205198 &  0.52952091 &  0.018063523 & -0.14720959 & -0.24609390 & -0.3039346 & -0.2447497 & -0.09096536 & -0.21821927\\\\\n",
       "\t 29186441 & 202012 &  0 & 61 & 289 & 7 & 1 &  8 & 0 & 1 & ⋯ &  0.4571785 & -0.03576175 &  0.70864095 &  0.060075614 & -0.21906447 & -0.28375177 & -0.2958169 & -0.3641817 & -0.08729826 & -0.25824581\\\\\n",
       "\t 29186441 & 202101 &  0 & 61 & 290 & 7 & 1 &  8 & 0 & 1 & ⋯ &  0.4541024 & -0.03353782 &  0.76904975 &  0.056835646 & -0.11871205 & -0.29503056 & -0.2947084 & -0.3859447 & -0.18665455 & -0.25227804\\\\\n",
       "\t 29186441 & 202102 &  0 & 61 & 291 & 7 & 1 &  9 & 0 & 1 & ⋯ &  0.3135851 & -0.02393342 &  0.50192277 &  0.087131296 & -0.17753373 & -0.26448540 & -0.2975102 & -0.4128893 & -0.16839936 & -0.25414529\\\\\n",
       "\t 29186441 & 202103 &  0 & 62 & 292 & 7 & 1 &  9 & 0 & 1 & ⋯ &  0.6590339 & -0.03149129 &  0.61368919 &  0.068039433 & -0.14514046 & -0.30797005 & -0.3012366 & -0.3171859 & -0.18572488 & -0.33090608\\\\\n",
       "\t 29186441 & 202104 &  0 & 62 & 293 & 7 & 1 &  9 & 0 & 1 & ⋯ &  0.3488337 & -0.02765811 &  0.54210702 &  0.022298662 & -0.02599935 & -0.24932909 & -0.3012032 & -0.3413679 & -0.16269666 & -0.12900929\\\\\n",
       "\t 29186441 & 202105 &  0 & 62 & 294 & 7 & 1 &  9 & 0 & 0 & ⋯ &  0.2152366 & -0.03057438 &  0.36784672 &  0.034566752 & -0.10688464 & -0.27678349 & -0.2943385 & -0.2028625 & -0.14014225 & -0.16562293\\\\\n",
       "\t 29186441 & 202106 &  0 & 62 & 295 & 7 & 1 & 10 & 0 & 1 & ⋯ &  0.2325060 & -0.03053592 &  0.38133172 &  0.006245042 &  0.05237241 & -0.28659184 & -0.2965397 & -0.5181759 & -0.14467169 & -0.24176505\\\\\n",
       "\t 29186441 & 202107 &  0 & 62 & 296 & 7 & 1 & 10 & 0 & 1 & ⋯ &  0.1513689 & -0.04132840 &  0.26563367 & -0.007043526 &  0.10868263 & -0.30763653 & -0.2876770 & -0.4443168 & -0.15004662 & -0.18912366\\\\\n",
       "\t 29186441 & 202108 &  0 & 62 & 297 & 7 & 1 &  8 & 0 & 1 & ⋯ &  0.4623409 & -0.03295051 &  0.61854510 &  0.129748713 & -0.02733334 & -0.32528541 & -0.2836605 & -0.4968595 & -0.12138223 & -0.11815133\\\\\n",
       "\t 29186441 & 202109 &  0 & 62 & 298 & 7 & 1 & 12 & 0 & 1 & ⋯ &  0.9282258 & -0.02854896 &  1.28318365 &  0.279369774 &  0.13255382 & -0.32478676 & -0.2819509 & -0.5382559 & -0.05463188 & -0.09557602\\\\\n",
       "\t 29187961 & 202005 &  1 & 61 & 312 & 7 & 1 & 35 & 0 & 1 & ⋯ &  1.0719213 & -0.04504796 &  1.20250375 &  0.192708326 &  1.40082134 &  3.23488833 & -0.3455158 & -0.3195759 &  0.28675134 &  0.63194923\\\\\n",
       "\t 29187961 & 202006 & NA & 61 & 313 & 7 & 1 & NA & 0 & 1 & ⋯ &  0.0000000 & -0.04669883 &  1.51792494 &  0.000000000 &  0.00000000 &  0.00000000 & -0.3345125 & -0.1763125 &  0.33561573 &  0.61269027\\\\\n",
       "\t 29187961 & 202007 &  1 & 61 & 314 & 7 & 1 & 51 & 0 & 1 & ⋯ &  0.7662009 & -0.04685819 &  0.75519112 & -0.039392808 &  2.58264676 &  0.13556417 & -0.3233366 & -0.2220964 & -0.13694078 &  1.31631496\\\\\n",
       "\t 29187961 & 202008 &  1 & 61 & 315 & 7 & 1 & 53 & 0 & 1 & ⋯ &  0.1427270 & -0.03667251 &  0.03435678 & -0.102598975 &  1.81163844 &  0.90660163 & -0.3168032 & -0.3189637 & -0.05594911 &  0.60952706\\\\\n",
       "\t 29187961 & 202009 &  1 & 61 & 316 & 7 & 1 & 36 & 0 & 1 & ⋯ &  0.1855267 & -0.03280958 &  0.16381600 &  0.024469282 &  1.48534784 &  0.05677461 & -0.3104823 & -0.2807548 & -0.13001264 &  0.79211393\\\\\n",
       "\t 29187961 & 202010 &  0 & 61 & 317 & 7 & 1 & 31 & 0 & 1 & ⋯ &  0.1799089 & -0.03521936 &  0.03139517 & -0.086812623 &  0.53507918 &  0.01750509 & -0.3067820 & -0.3641517 & -0.09880099 & -0.28270568\\\\\n",
       "\t 29187961 & 202011 &  0 & 61 & 318 & 7 & 1 & 46 & 0 & 1 & ⋯ &  0.6572354 & -0.03205198 &  0.44657128 &  0.289407042 &  1.53746991 &  1.67384342 & -0.3039346 & -0.2447497 &  0.01022356 &  0.52344910\\\\\n",
       "\t 29187961 & 202012 &  0 & 61 & 319 & 7 & 1 & 50 & 0 & 1 & ⋯ &  0.4509771 & -0.03576175 &  0.49121765 &  0.187608377 &  1.12985820 &  0.97924007 & -0.2958169 & -0.3641817 &  0.73525375 &  0.34946142\\\\\n",
       "\t 29187961 & 202101 &  0 & 61 & 320 & 7 & 1 & 31 & 0 & 1 & ⋯ &  0.2866175 & -0.03353782 &  0.49078628 & -0.047556330 &  1.31886523 &  0.36496832 & -0.2947084 & -0.3859447 & -0.18160495 &  0.74387611\\\\\n",
       "\t 29187961 & 202102 &  0 & 61 & 321 & 7 & 1 & 44 & 0 & 1 & ⋯ &  0.3028299 & -0.02393342 &  0.24309546 & -0.030963615 &  2.42211661 &  1.75994550 & -0.2975102 & -0.4128893 &  1.40907026 &  0.74991626\\\\\n",
       "\t 29187961 & 202103 &  0 & 61 & 322 & 7 & 1 & 39 & 0 & 1 & ⋯ &  0.2453226 & -0.03149129 &  0.12996571 & -0.092379850 &  2.42843078 &  1.56733928 & -0.3012366 & -0.3171859 &  1.75948632 &  0.10142296\\\\\n",
       "\t 29187961 & 202104 &  0 & 62 & 323 & 7 & 1 & 26 & 0 & 1 & ⋯ &  0.1392146 & -0.02765811 &  0.14995833 & -0.029899860 &  1.43845971 &  0.02747990 & -0.3012032 & -0.3413679 & -0.11438944 &  2.13201811\\\\\n",
       "\t 29187961 & 202105 &  0 & 62 & 324 & 7 & 1 & 24 & 0 & 1 & ⋯ &  0.5934300 & -0.03057438 &  0.34900360 &  0.019045816 &  0.74980048 &  0.49082213 & -0.2943385 & -0.2028625 &  0.57525511 &  0.54726133\\\\\n",
       "\t ⋮ & ⋮ & ⋮ & ⋮ & ⋮ & ⋮ & ⋮ & ⋮ & ⋮ & ⋮ & ⋱ & ⋮ & ⋮ & ⋮ & ⋮ & ⋮ & ⋮ & ⋮ & ⋮ & ⋮ & ⋮\\\\\n",
       "\t 187314281 & 202109 & 0 & 27 & 3 & 6 & 1 &  0 & 1 & 0 & ⋯ & -0.18282915 & -0.02854896 & -0.05947939 & -0.15028369 & -0.6500409 & -0.3247868 & -0.2819509 &  0.291682222 & -0.05463188 & -0.16933766\\\\\n",
       "\t 187332121 & 202109 & 0 & 24 & 3 & 7 & 1 &  0 & 1 & 0 & ⋯ & -0.19946174 & -0.02854896 & -0.08202310 & -0.09174608 & -0.6500409 & -0.3247868 & -0.2819509 &  0.002239825 & -0.05463188 & -0.16933766\\\\\n",
       "\t 187346211 & 202107 & 0 & 37 & 1 & 6 & 1 &  0 & 0 & 0 & ⋯ & -0.36787164 & -0.04132840 & -0.31496500 & -0.15972046 & -0.6768150 & -0.3076365 & -0.2876770 & -0.444316829 & -0.15004662 & -0.25564894\\\\\n",
       "\t 187346211 & 202108 & 0 & 37 & 2 & 6 & 1 &  1 & 0 & 0 & ⋯ & -0.22494559 & -0.06663466 & -0.26200869 & -0.16857309 & -0.5755378 & -0.3252854 & -0.2836605 & -0.496859549 & -0.12138223 & -0.13237203\\\\\n",
       "\t 187346211 & 202109 & 0 & 37 & 3 & 6 & 1 &  2 & 0 & 0 & ⋯ & -0.25376814 & -0.06849083 & -0.28167608 & -0.16107748 & -0.5313029 & -0.3247868 & -0.2819509 & -0.538255915 & -0.05463188 & -0.08681682\\\\\n",
       "\t 187350011 & 202108 & 0 & 32 & 2 & 7 & 1 &  0 & 1 & 0 & ⋯ & -0.29428146 & -0.03295051 & -0.21898148 & -0.10766467 & -0.6478069 & -0.3252854 & -0.2836605 &  0.182420901 & -0.12138223 & -0.17927539\\\\\n",
       "\t 187350011 & 202109 & 0 & 32 & 3 & 6 & 1 &  0 & 1 & 0 & ⋯ & -0.28157898 & -0.10515690 & -0.19381013 & -0.10641122 & -0.6500409 & -0.3247868 & -0.2819509 &  0.249421956 & -0.05463188 & -0.16933766\\\\\n",
       "\t 187366971 & 202107 & 0 & 38 & 1 & 7 & 1 &  0 & 0 & 0 & ⋯ & -0.36811288 & -0.04132840 & -0.31528809 & -0.15988148 & -0.6768150 & -0.3076365 & -0.2876770 & -0.444316829 & -0.15004662 & -0.25564894\\\\\n",
       "\t 187400951 & 202108 & 0 & 46 & 2 & 6 & 1 &  0 & 2 & 0 & ⋯ & -0.31152150 & -0.03845044 & -0.24229626 & -0.14247319 & -0.6478069 & -0.3252854 & -0.2836605 &  0.033404577 & -0.12138223 & -0.17927539\\\\\n",
       "\t 187400951 & 202109 & 0 & 46 & 3 & 6 & 1 &  0 & 0 & 0 & ⋯ & -0.33221396 & -0.07463827 & -0.26269055 & -0.15930485 & -0.6500409 & -0.3247868 & -0.2819509 & -0.538255915 & -0.05463188 & -0.16933766\\\\\n",
       "\t 187429081 & 202107 & 0 & 35 & 1 & 6 & 1 &  0 & 1 & 0 & ⋯ & -0.36252560 & -0.04152181 & -0.30778917 & -0.11688775 & -0.6768150 & -0.3076365 & -0.2876770 & -0.410895959 & -0.15004662 & -0.25564894\\\\\n",
       "\t 187429081 & 202108 & 0 & 36 & 2 & 7 & 1 &  0 & 2 & 0 & ⋯ & -0.28062240 & -0.03295051 & -0.22096885 & -0.05926112 & -0.6478069 & -0.3252854 & -0.2836605 & -0.395478913 & -0.12138223 & -0.17927539\\\\\n",
       "\t 187429081 & 202109 & 0 & 36 & 3 & 7 & 1 &  0 & 1 & 0 & ⋯ & -0.20883107 & -0.02854896 & -0.12626087 &  0.01657805 & -0.6500409 & -0.3247868 & -0.2819509 & -0.232582466 & -0.05463188 & -0.16933766\\\\\n",
       "\t 187434871 & 202107 & 0 & 69 & 1 & 7 & 1 &  0 & 0 & 0 & ⋯ & -0.02399267 & -0.04132840 &  0.14629776 &  0.64518739 & -0.6768150 & -0.3076365 & -0.2876770 & -0.444316829 & -0.15004662 & -0.25564894\\\\\n",
       "\t 187434871 & 202108 & 0 & 69 & 2 & 8 & 1 &  0 & 0 & 0 & ⋯ & -0.02640780 & -0.03295051 & -0.15399410 & -0.14999034 & -0.6478069 & -0.3252854 & -0.2836605 & -0.496859549 & -0.12138223 & -0.17927539\\\\\n",
       "\t 187434871 & 202109 & 0 & 69 & 3 & 8 & 1 &  0 & 0 & 0 & ⋯ & -0.09431901 & -0.02854896 & -0.27157656 & -0.14987666 & -0.6500409 & -0.3247868 & -0.2819509 & -0.538255915 & -0.05463188 & -0.16933766\\\\\n",
       "\t 187594641 & 202108 & 0 & 37 & 1 & 6 & 1 &  0 & 0 & 0 & ⋯ & -0.32613916 & -0.03324511 & -0.26206486 & -0.12528667 & -0.6478069 & -0.3252854 & -0.2836605 & -0.496859549 & -0.12138223 & -0.17927539\\\\\n",
       "\t 187594641 & 202109 & 0 & 38 & 2 & 6 & 1 &  0 & 1 & 0 & ⋯ & -0.27264320 & -0.02854896 & -0.18165648 & -0.06286128 & -0.6500409 & -0.3247868 & -0.2819509 &  0.607285498 & -0.05463188 & -0.16933766\\\\\n",
       "\t 187604521 & 202108 & 0 & 45 & 1 & 6 & 1 &  0 & 0 & 0 & ⋯ & -0.32902840 & -0.03295051 & -0.26597411 & -0.15264619 & -0.6478069 & -0.3252854 & -0.2836605 & -0.496859549 & -0.12138223 & -0.17927539\\\\\n",
       "\t 187604521 & 202109 & 0 & 45 & 2 & 6 & 1 &  5 & 0 & 0 & ⋯ &  0.05909121 & -0.02854896 & -0.28268724 & -0.15198389 & -0.2386882 & -0.3247868 & -0.2819509 & -0.538255915 & -0.05463188 & -0.11516895\\\\\n",
       "\t 187626041 & 202108 & 0 & 56 & 1 & 6 & 1 &  0 & 0 & 0 & ⋯ & -0.32709926 & -0.03295051 & -0.26336321 & -0.14870235 & -0.6478069 & -0.3252854 & -0.2836605 & -0.496859549 & -0.12138223 & -0.17927539\\\\\n",
       "\t 187626041 & 202109 & 0 & 56 & 2 & 6 & 1 &  0 & 0 & 0 & ⋯ & -0.32597045 & -0.02854896 & -0.25420042 & -0.14504460 & -0.6500409 & -0.3247868 & -0.2819509 & -0.538255915 & -0.05463188 & -0.16933766\\\\\n",
       "\t 187636041 & 202108 & 0 & 29 & 1 & 6 & 1 &  0 & 1 & 0 & ⋯ & -0.32902840 & -0.03295051 & -0.26597411 & -0.15264619 & -0.6478069 & -0.3252854 & -0.2836605 &  0.889158576 & -0.12138223 & -0.17927539\\\\\n",
       "\t 187636041 & 202109 & 0 & 29 & 2 & 8 & 1 & 17 & 3 & 1 & ⋯ & -0.02286852 & -0.07654692 & -0.16833360 & -0.14278653 &  0.7786362 & -0.3247868 & -0.2819509 &  1.065159763 & -0.05463188 & -0.09257945\\\\\n",
       "\t 187827511 & 202109 & 0 & 42 & 1 & 7 & 1 &  4 & 2 & 0 & ⋯ & -0.34273619 & -0.02857627 & -0.28268724 & -0.15198851 & -0.5970933 & -0.3247868 & -0.2819509 & -0.477121225 & -0.05463188 & -0.16403604\\\\\n",
       "\t 187838971 & 202109 & 0 & 49 & 1 & 6 & 1 &  0 & 0 & 0 & ⋯ & -0.34691261 & -0.02854896 & -0.28268724 & -0.15198389 & -0.6500409 & -0.3247868 & -0.2819509 & -0.538255915 & -0.05463188 & -0.16933766\\\\\n",
       "\t 187902361 & 202109 & 0 & 22 & 1 & 6 & 1 &  0 & 0 & 1 & ⋯ & -0.34691261 & -0.02867835 & -0.28268721 & -0.15198362 & -0.6500409 & -0.3247868 & -0.2819509 & -0.538255915 & -0.05463188 & -0.16933766\\\\\n",
       "\t 187956461 & 202109 & 0 & 34 & 1 & 7 & 1 &  0 & 0 & 0 & ⋯ & -0.34691261 & -0.18352928 & -0.28268724 & -0.15983647 & -0.6500409 & -0.3247868 & -0.2819509 & -0.538255915 & -0.05463188 & -0.16933766\\\\\n",
       "\t 187964701 & 202109 & 0 & 26 & 1 & 6 & 1 &  0 & 0 & 0 & ⋯ & -0.34691261 & -0.02854896 & -0.28268724 & -0.15198389 & -0.6500409 & -0.3247868 & -0.2819509 & -0.538255915 & -0.05463188 & -0.16933766\\\\\n",
       "\t 188116871 & 202109 & 0 & 30 & 1 & 7 & 1 &  5 & 3 & 0 & ⋯ & -0.25907310 & -0.02854896 & -0.20961726 & -0.15198383 & -0.2833325 & -0.3247868 & -0.2819509 & -0.117306311 & -0.05463188 & -0.16933766\\\\\n",
       "\\end{tabular}\n"
      ],
      "text/markdown": [
       "\n",
       "A data.table: 273666 × 32\n",
       "\n",
       "| numero_de_cliente &lt;int&gt; | foto_mes &lt;int&gt; | internet &lt;int&gt; | cliente_edad &lt;int&gt; | cliente_antiguedad &lt;int&gt; | cproductos &lt;int&gt; | cdescubierto_preacordado &lt;int&gt; | ctarjeta_visa_transacciones &lt;int&gt; | cpayroll_trx &lt;int&gt; | ccomisiones_mantenimiento &lt;int&gt; | ⋯ ⋯ | mpasivos_margen_normal &lt;dbl&gt; | mcuenta_corriente_normal &lt;dbl&gt; | mcaja_ahorro_normal &lt;dbl&gt; | mcuentas_saldo_normal &lt;dbl&gt; | mtarjeta_visa_consumo_normal &lt;dbl&gt; | mtarjeta_master_consumo_normal &lt;dbl&gt; | mprestamos_personales_normal &lt;dbl&gt; | mpayroll_normal &lt;dbl&gt; | Master_mpagominimo_normal &lt;dbl&gt; | Visa_mpagominimo_normal &lt;dbl&gt; |\n",
       "|---|---|---|---|---|---|---|---|---|---|---|---|---|---|---|---|---|---|---|---|---|\n",
       "| 29186441 | 202005 |  1 | 61 | 282 | 7 | 1 |  8 | 0 | 1 | ⋯ | -0.1062416 | -0.04504796 | -0.12515459 | -0.098568057 | -0.08749722 | -0.26262158 | -0.3455158 | -0.3195759 | -0.13908746 | -0.21229094 |\n",
       "| 29186441 | 202006 | NA | 61 | 283 | 7 | 1 | NA | 0 | 1 | ⋯ |  0.0000000 | -0.04669883 | -0.06945661 |  0.000000000 |  0.00000000 |  0.00000000 | -0.3345125 | -0.1763125 | -0.17120790 | -0.18939568 |\n",
       "| 29186441 | 202007 |  1 | 61 | 284 | 7 | 1 |  8 | 0 | 1 | ⋯ | -0.1157818 | -0.04685819 | -0.10798503 | -0.090312765 | -0.13847847 | -0.29173187 | -0.3233366 | -0.2220964 | -0.17884385 | -0.19750182 |\n",
       "| 29186441 | 202008 |  1 | 61 | 285 | 7 | 1 |  8 | 0 | 1 | ⋯ |  0.1615192 | -0.03667251 |  0.24983629 | -0.013365941 | -0.14652239 | -0.25982335 | -0.3168032 | -0.3189637 | -0.15749542 | -0.23450970 |\n",
       "| 29186441 | 202009 |  1 | 61 | 286 | 7 | 1 |  8 | 0 | 1 | ⋯ |  0.2962920 | -0.03280958 |  0.37334873 |  0.077116393 | -0.14391923 | -0.26818089 | -0.3104823 | -0.2807548 | -0.16837646 | -0.23114587 |\n",
       "| 29186441 | 202010 |  0 | 61 | 287 | 7 | 1 |  8 | 0 | 1 | ⋯ |  0.4184651 | -0.03521936 |  0.52651250 |  0.060422989 | -0.12235702 | -0.20686998 | -0.3067820 | -0.3641517 | -0.12142892 | -0.20002942 |\n",
       "| 29186441 | 202011 |  0 | 61 | 288 | 7 | 1 |  9 | 0 | 1 | ⋯ |  0.3420590 | -0.03205198 |  0.52952091 |  0.018063523 | -0.14720959 | -0.24609390 | -0.3039346 | -0.2447497 | -0.09096536 | -0.21821927 |\n",
       "| 29186441 | 202012 |  0 | 61 | 289 | 7 | 1 |  8 | 0 | 1 | ⋯ |  0.4571785 | -0.03576175 |  0.70864095 |  0.060075614 | -0.21906447 | -0.28375177 | -0.2958169 | -0.3641817 | -0.08729826 | -0.25824581 |\n",
       "| 29186441 | 202101 |  0 | 61 | 290 | 7 | 1 |  8 | 0 | 1 | ⋯ |  0.4541024 | -0.03353782 |  0.76904975 |  0.056835646 | -0.11871205 | -0.29503056 | -0.2947084 | -0.3859447 | -0.18665455 | -0.25227804 |\n",
       "| 29186441 | 202102 |  0 | 61 | 291 | 7 | 1 |  9 | 0 | 1 | ⋯ |  0.3135851 | -0.02393342 |  0.50192277 |  0.087131296 | -0.17753373 | -0.26448540 | -0.2975102 | -0.4128893 | -0.16839936 | -0.25414529 |\n",
       "| 29186441 | 202103 |  0 | 62 | 292 | 7 | 1 |  9 | 0 | 1 | ⋯ |  0.6590339 | -0.03149129 |  0.61368919 |  0.068039433 | -0.14514046 | -0.30797005 | -0.3012366 | -0.3171859 | -0.18572488 | -0.33090608 |\n",
       "| 29186441 | 202104 |  0 | 62 | 293 | 7 | 1 |  9 | 0 | 1 | ⋯ |  0.3488337 | -0.02765811 |  0.54210702 |  0.022298662 | -0.02599935 | -0.24932909 | -0.3012032 | -0.3413679 | -0.16269666 | -0.12900929 |\n",
       "| 29186441 | 202105 |  0 | 62 | 294 | 7 | 1 |  9 | 0 | 0 | ⋯ |  0.2152366 | -0.03057438 |  0.36784672 |  0.034566752 | -0.10688464 | -0.27678349 | -0.2943385 | -0.2028625 | -0.14014225 | -0.16562293 |\n",
       "| 29186441 | 202106 |  0 | 62 | 295 | 7 | 1 | 10 | 0 | 1 | ⋯ |  0.2325060 | -0.03053592 |  0.38133172 |  0.006245042 |  0.05237241 | -0.28659184 | -0.2965397 | -0.5181759 | -0.14467169 | -0.24176505 |\n",
       "| 29186441 | 202107 |  0 | 62 | 296 | 7 | 1 | 10 | 0 | 1 | ⋯ |  0.1513689 | -0.04132840 |  0.26563367 | -0.007043526 |  0.10868263 | -0.30763653 | -0.2876770 | -0.4443168 | -0.15004662 | -0.18912366 |\n",
       "| 29186441 | 202108 |  0 | 62 | 297 | 7 | 1 |  8 | 0 | 1 | ⋯ |  0.4623409 | -0.03295051 |  0.61854510 |  0.129748713 | -0.02733334 | -0.32528541 | -0.2836605 | -0.4968595 | -0.12138223 | -0.11815133 |\n",
       "| 29186441 | 202109 |  0 | 62 | 298 | 7 | 1 | 12 | 0 | 1 | ⋯ |  0.9282258 | -0.02854896 |  1.28318365 |  0.279369774 |  0.13255382 | -0.32478676 | -0.2819509 | -0.5382559 | -0.05463188 | -0.09557602 |\n",
       "| 29187961 | 202005 |  1 | 61 | 312 | 7 | 1 | 35 | 0 | 1 | ⋯ |  1.0719213 | -0.04504796 |  1.20250375 |  0.192708326 |  1.40082134 |  3.23488833 | -0.3455158 | -0.3195759 |  0.28675134 |  0.63194923 |\n",
       "| 29187961 | 202006 | NA | 61 | 313 | 7 | 1 | NA | 0 | 1 | ⋯ |  0.0000000 | -0.04669883 |  1.51792494 |  0.000000000 |  0.00000000 |  0.00000000 | -0.3345125 | -0.1763125 |  0.33561573 |  0.61269027 |\n",
       "| 29187961 | 202007 |  1 | 61 | 314 | 7 | 1 | 51 | 0 | 1 | ⋯ |  0.7662009 | -0.04685819 |  0.75519112 | -0.039392808 |  2.58264676 |  0.13556417 | -0.3233366 | -0.2220964 | -0.13694078 |  1.31631496 |\n",
       "| 29187961 | 202008 |  1 | 61 | 315 | 7 | 1 | 53 | 0 | 1 | ⋯ |  0.1427270 | -0.03667251 |  0.03435678 | -0.102598975 |  1.81163844 |  0.90660163 | -0.3168032 | -0.3189637 | -0.05594911 |  0.60952706 |\n",
       "| 29187961 | 202009 |  1 | 61 | 316 | 7 | 1 | 36 | 0 | 1 | ⋯ |  0.1855267 | -0.03280958 |  0.16381600 |  0.024469282 |  1.48534784 |  0.05677461 | -0.3104823 | -0.2807548 | -0.13001264 |  0.79211393 |\n",
       "| 29187961 | 202010 |  0 | 61 | 317 | 7 | 1 | 31 | 0 | 1 | ⋯ |  0.1799089 | -0.03521936 |  0.03139517 | -0.086812623 |  0.53507918 |  0.01750509 | -0.3067820 | -0.3641517 | -0.09880099 | -0.28270568 |\n",
       "| 29187961 | 202011 |  0 | 61 | 318 | 7 | 1 | 46 | 0 | 1 | ⋯ |  0.6572354 | -0.03205198 |  0.44657128 |  0.289407042 |  1.53746991 |  1.67384342 | -0.3039346 | -0.2447497 |  0.01022356 |  0.52344910 |\n",
       "| 29187961 | 202012 |  0 | 61 | 319 | 7 | 1 | 50 | 0 | 1 | ⋯ |  0.4509771 | -0.03576175 |  0.49121765 |  0.187608377 |  1.12985820 |  0.97924007 | -0.2958169 | -0.3641817 |  0.73525375 |  0.34946142 |\n",
       "| 29187961 | 202101 |  0 | 61 | 320 | 7 | 1 | 31 | 0 | 1 | ⋯ |  0.2866175 | -0.03353782 |  0.49078628 | -0.047556330 |  1.31886523 |  0.36496832 | -0.2947084 | -0.3859447 | -0.18160495 |  0.74387611 |\n",
       "| 29187961 | 202102 |  0 | 61 | 321 | 7 | 1 | 44 | 0 | 1 | ⋯ |  0.3028299 | -0.02393342 |  0.24309546 | -0.030963615 |  2.42211661 |  1.75994550 | -0.2975102 | -0.4128893 |  1.40907026 |  0.74991626 |\n",
       "| 29187961 | 202103 |  0 | 61 | 322 | 7 | 1 | 39 | 0 | 1 | ⋯ |  0.2453226 | -0.03149129 |  0.12996571 | -0.092379850 |  2.42843078 |  1.56733928 | -0.3012366 | -0.3171859 |  1.75948632 |  0.10142296 |\n",
       "| 29187961 | 202104 |  0 | 62 | 323 | 7 | 1 | 26 | 0 | 1 | ⋯ |  0.1392146 | -0.02765811 |  0.14995833 | -0.029899860 |  1.43845971 |  0.02747990 | -0.3012032 | -0.3413679 | -0.11438944 |  2.13201811 |\n",
       "| 29187961 | 202105 |  0 | 62 | 324 | 7 | 1 | 24 | 0 | 1 | ⋯ |  0.5934300 | -0.03057438 |  0.34900360 |  0.019045816 |  0.74980048 |  0.49082213 | -0.2943385 | -0.2028625 |  0.57525511 |  0.54726133 |\n",
       "| ⋮ | ⋮ | ⋮ | ⋮ | ⋮ | ⋮ | ⋮ | ⋮ | ⋮ | ⋮ | ⋱ | ⋮ | ⋮ | ⋮ | ⋮ | ⋮ | ⋮ | ⋮ | ⋮ | ⋮ | ⋮ |\n",
       "| 187314281 | 202109 | 0 | 27 | 3 | 6 | 1 |  0 | 1 | 0 | ⋯ | -0.18282915 | -0.02854896 | -0.05947939 | -0.15028369 | -0.6500409 | -0.3247868 | -0.2819509 |  0.291682222 | -0.05463188 | -0.16933766 |\n",
       "| 187332121 | 202109 | 0 | 24 | 3 | 7 | 1 |  0 | 1 | 0 | ⋯ | -0.19946174 | -0.02854896 | -0.08202310 | -0.09174608 | -0.6500409 | -0.3247868 | -0.2819509 |  0.002239825 | -0.05463188 | -0.16933766 |\n",
       "| 187346211 | 202107 | 0 | 37 | 1 | 6 | 1 |  0 | 0 | 0 | ⋯ | -0.36787164 | -0.04132840 | -0.31496500 | -0.15972046 | -0.6768150 | -0.3076365 | -0.2876770 | -0.444316829 | -0.15004662 | -0.25564894 |\n",
       "| 187346211 | 202108 | 0 | 37 | 2 | 6 | 1 |  1 | 0 | 0 | ⋯ | -0.22494559 | -0.06663466 | -0.26200869 | -0.16857309 | -0.5755378 | -0.3252854 | -0.2836605 | -0.496859549 | -0.12138223 | -0.13237203 |\n",
       "| 187346211 | 202109 | 0 | 37 | 3 | 6 | 1 |  2 | 0 | 0 | ⋯ | -0.25376814 | -0.06849083 | -0.28167608 | -0.16107748 | -0.5313029 | -0.3247868 | -0.2819509 | -0.538255915 | -0.05463188 | -0.08681682 |\n",
       "| 187350011 | 202108 | 0 | 32 | 2 | 7 | 1 |  0 | 1 | 0 | ⋯ | -0.29428146 | -0.03295051 | -0.21898148 | -0.10766467 | -0.6478069 | -0.3252854 | -0.2836605 |  0.182420901 | -0.12138223 | -0.17927539 |\n",
       "| 187350011 | 202109 | 0 | 32 | 3 | 6 | 1 |  0 | 1 | 0 | ⋯ | -0.28157898 | -0.10515690 | -0.19381013 | -0.10641122 | -0.6500409 | -0.3247868 | -0.2819509 |  0.249421956 | -0.05463188 | -0.16933766 |\n",
       "| 187366971 | 202107 | 0 | 38 | 1 | 7 | 1 |  0 | 0 | 0 | ⋯ | -0.36811288 | -0.04132840 | -0.31528809 | -0.15988148 | -0.6768150 | -0.3076365 | -0.2876770 | -0.444316829 | -0.15004662 | -0.25564894 |\n",
       "| 187400951 | 202108 | 0 | 46 | 2 | 6 | 1 |  0 | 2 | 0 | ⋯ | -0.31152150 | -0.03845044 | -0.24229626 | -0.14247319 | -0.6478069 | -0.3252854 | -0.2836605 |  0.033404577 | -0.12138223 | -0.17927539 |\n",
       "| 187400951 | 202109 | 0 | 46 | 3 | 6 | 1 |  0 | 0 | 0 | ⋯ | -0.33221396 | -0.07463827 | -0.26269055 | -0.15930485 | -0.6500409 | -0.3247868 | -0.2819509 | -0.538255915 | -0.05463188 | -0.16933766 |\n",
       "| 187429081 | 202107 | 0 | 35 | 1 | 6 | 1 |  0 | 1 | 0 | ⋯ | -0.36252560 | -0.04152181 | -0.30778917 | -0.11688775 | -0.6768150 | -0.3076365 | -0.2876770 | -0.410895959 | -0.15004662 | -0.25564894 |\n",
       "| 187429081 | 202108 | 0 | 36 | 2 | 7 | 1 |  0 | 2 | 0 | ⋯ | -0.28062240 | -0.03295051 | -0.22096885 | -0.05926112 | -0.6478069 | -0.3252854 | -0.2836605 | -0.395478913 | -0.12138223 | -0.17927539 |\n",
       "| 187429081 | 202109 | 0 | 36 | 3 | 7 | 1 |  0 | 1 | 0 | ⋯ | -0.20883107 | -0.02854896 | -0.12626087 |  0.01657805 | -0.6500409 | -0.3247868 | -0.2819509 | -0.232582466 | -0.05463188 | -0.16933766 |\n",
       "| 187434871 | 202107 | 0 | 69 | 1 | 7 | 1 |  0 | 0 | 0 | ⋯ | -0.02399267 | -0.04132840 |  0.14629776 |  0.64518739 | -0.6768150 | -0.3076365 | -0.2876770 | -0.444316829 | -0.15004662 | -0.25564894 |\n",
       "| 187434871 | 202108 | 0 | 69 | 2 | 8 | 1 |  0 | 0 | 0 | ⋯ | -0.02640780 | -0.03295051 | -0.15399410 | -0.14999034 | -0.6478069 | -0.3252854 | -0.2836605 | -0.496859549 | -0.12138223 | -0.17927539 |\n",
       "| 187434871 | 202109 | 0 | 69 | 3 | 8 | 1 |  0 | 0 | 0 | ⋯ | -0.09431901 | -0.02854896 | -0.27157656 | -0.14987666 | -0.6500409 | -0.3247868 | -0.2819509 | -0.538255915 | -0.05463188 | -0.16933766 |\n",
       "| 187594641 | 202108 | 0 | 37 | 1 | 6 | 1 |  0 | 0 | 0 | ⋯ | -0.32613916 | -0.03324511 | -0.26206486 | -0.12528667 | -0.6478069 | -0.3252854 | -0.2836605 | -0.496859549 | -0.12138223 | -0.17927539 |\n",
       "| 187594641 | 202109 | 0 | 38 | 2 | 6 | 1 |  0 | 1 | 0 | ⋯ | -0.27264320 | -0.02854896 | -0.18165648 | -0.06286128 | -0.6500409 | -0.3247868 | -0.2819509 |  0.607285498 | -0.05463188 | -0.16933766 |\n",
       "| 187604521 | 202108 | 0 | 45 | 1 | 6 | 1 |  0 | 0 | 0 | ⋯ | -0.32902840 | -0.03295051 | -0.26597411 | -0.15264619 | -0.6478069 | -0.3252854 | -0.2836605 | -0.496859549 | -0.12138223 | -0.17927539 |\n",
       "| 187604521 | 202109 | 0 | 45 | 2 | 6 | 1 |  5 | 0 | 0 | ⋯ |  0.05909121 | -0.02854896 | -0.28268724 | -0.15198389 | -0.2386882 | -0.3247868 | -0.2819509 | -0.538255915 | -0.05463188 | -0.11516895 |\n",
       "| 187626041 | 202108 | 0 | 56 | 1 | 6 | 1 |  0 | 0 | 0 | ⋯ | -0.32709926 | -0.03295051 | -0.26336321 | -0.14870235 | -0.6478069 | -0.3252854 | -0.2836605 | -0.496859549 | -0.12138223 | -0.17927539 |\n",
       "| 187626041 | 202109 | 0 | 56 | 2 | 6 | 1 |  0 | 0 | 0 | ⋯ | -0.32597045 | -0.02854896 | -0.25420042 | -0.14504460 | -0.6500409 | -0.3247868 | -0.2819509 | -0.538255915 | -0.05463188 | -0.16933766 |\n",
       "| 187636041 | 202108 | 0 | 29 | 1 | 6 | 1 |  0 | 1 | 0 | ⋯ | -0.32902840 | -0.03295051 | -0.26597411 | -0.15264619 | -0.6478069 | -0.3252854 | -0.2836605 |  0.889158576 | -0.12138223 | -0.17927539 |\n",
       "| 187636041 | 202109 | 0 | 29 | 2 | 8 | 1 | 17 | 3 | 1 | ⋯ | -0.02286852 | -0.07654692 | -0.16833360 | -0.14278653 |  0.7786362 | -0.3247868 | -0.2819509 |  1.065159763 | -0.05463188 | -0.09257945 |\n",
       "| 187827511 | 202109 | 0 | 42 | 1 | 7 | 1 |  4 | 2 | 0 | ⋯ | -0.34273619 | -0.02857627 | -0.28268724 | -0.15198851 | -0.5970933 | -0.3247868 | -0.2819509 | -0.477121225 | -0.05463188 | -0.16403604 |\n",
       "| 187838971 | 202109 | 0 | 49 | 1 | 6 | 1 |  0 | 0 | 0 | ⋯ | -0.34691261 | -0.02854896 | -0.28268724 | -0.15198389 | -0.6500409 | -0.3247868 | -0.2819509 | -0.538255915 | -0.05463188 | -0.16933766 |\n",
       "| 187902361 | 202109 | 0 | 22 | 1 | 6 | 1 |  0 | 0 | 1 | ⋯ | -0.34691261 | -0.02867835 | -0.28268721 | -0.15198362 | -0.6500409 | -0.3247868 | -0.2819509 | -0.538255915 | -0.05463188 | -0.16933766 |\n",
       "| 187956461 | 202109 | 0 | 34 | 1 | 7 | 1 |  0 | 0 | 0 | ⋯ | -0.34691261 | -0.18352928 | -0.28268724 | -0.15983647 | -0.6500409 | -0.3247868 | -0.2819509 | -0.538255915 | -0.05463188 | -0.16933766 |\n",
       "| 187964701 | 202109 | 0 | 26 | 1 | 6 | 1 |  0 | 0 | 0 | ⋯ | -0.34691261 | -0.02854896 | -0.28268724 | -0.15198389 | -0.6500409 | -0.3247868 | -0.2819509 | -0.538255915 | -0.05463188 | -0.16933766 |\n",
       "| 188116871 | 202109 | 0 | 30 | 1 | 7 | 1 |  5 | 3 | 0 | ⋯ | -0.25907310 | -0.02854896 | -0.20961726 | -0.15198383 | -0.2833325 | -0.3247868 | -0.2819509 | -0.117306311 | -0.05463188 | -0.16933766 |\n",
       "\n"
      ]
     },
     "metadata": {},
     "output_type": "display_data"
    }
   ],
   "source": [
    "View(dataset)"
   ]
  },
  {
   "cell_type": "code",
   "execution_count": null,
   "id": "qrqf3j3_St3p",
   "metadata": {
    "id": "qrqf3j3_St3p"
   },
   "outputs": [],
   "source": [
    "# esta funcion atributos presentes existe debido a que las modalidades poseen datasets con distinta cantidad de campos\n",
    "atributos_presentes <- function( patributos )\n",
    "{\n",
    "  atributos <- unique( patributos )\n",
    "  comun <- intersect( atributos, colnames(dataset) )\n",
    "\n",
    "  return(  length( atributos ) == length( comun ) )\n",
    "}\n",
    "\n",
    "# el mes 1,2, ..12\n",
    "if( atributos_presentes( c(\"foto_mes\") ))\n",
    "  dataset[, kmes := foto_mes %% 100]\n",
    "\n",
    "# variable extraida de una tesis de maestria de Irlanda\n",
    "if( atributos_presentes( c(\"mpayroll\", \"cliente_edad\") ))\n",
    "  dataset[, mpayroll_sobre_edad := mpayroll / cliente_edad]\n"
   ]
  },
  {
   "cell_type": "code",
   "execution_count": 28,
   "id": "fff67f35-853d-4e5e-b5af-4ff3c2194a6a",
   "metadata": {
    "id": "-efBawbTWPKc"
   },
   "outputs": [
    {
     "data": {
      "text/html": [
       "<style>\n",
       ".list-inline {list-style: none; margin:0; padding: 0}\n",
       ".list-inline>li {display: inline-block}\n",
       ".list-inline>li:not(:last-child)::after {content: \"\\00b7\"; padding: 0 .5ex}\n",
       "</style>\n",
       "<ol class=list-inline><li>'numero_de_cliente'</li><li>'foto_mes'</li><li>'internet'</li><li>'cliente_edad'</li><li>'cliente_antiguedad'</li><li>'cproductos'</li><li>'cdescubierto_preacordado'</li><li>'ctarjeta_visa'</li><li>'ctarjeta_visa_transacciones'</li><li>'ctarjeta_master'</li><li>'ctarjeta_master_transacciones'</li><li>'cprestamos_personales'</li><li>'cpayroll_trx'</li><li>'ccomisiones_mantenimiento'</li><li>'ccomisiones_otras'</li><li>'ccallcenter_transacciones'</li><li>'thomebanking'</li><li>'chomebanking_transacciones'</li><li>'ctrx_quarter'</li><li>'Master_status'</li><li>'Master_Fvencimiento'</li><li>'Master_fultimo_cierre'</li><li>'Master_fechaalta'</li><li>'Master_cconsumos'</li><li>'Visa_status'</li><li>'Visa_Fvencimiento'</li><li>'Visa_fultimo_cierre'</li><li>'Visa_fechaalta'</li><li>'Visa_cconsumos'</li><li>'clase_ternaria'</li><li>'mrentabilidad_normal'</li><li>'mrentabilidad_annual_normal'</li><li>'mcomisiones_normal'</li><li>'mactivos_margen_normal'</li><li>'mpasivos_margen_normal'</li><li>'mcuenta_corriente_normal'</li><li>'mcaja_ahorro_normal'</li><li>'mcuentas_saldo_normal'</li><li>'mtarjeta_visa_consumo_normal'</li><li>'mtarjeta_master_consumo_normal'</li><li>'mprestamos_personales_normal'</li><li>'mpayroll_normal'</li><li>'mttarjeta_visa_debitos_automaticos_normal'</li><li>'mcomisiones_mantenimiento_normal'</li><li>'mtransferencias_recibidas_normal'</li><li>'Master_mfinanciacion_limite_normal'</li><li>'Master_msaldototal_normal'</li><li>'Master_mlimitecompra_normal'</li><li>'Master_mconsumototal_normal'</li><li>'Master_mpagominimo_normal'</li><li>'Visa_mfinanciacion_limite_normal'</li><li>'Visa_msaldototal_normal'</li><li>'Visa_mlimitecompra_normal'</li><li>'Visa_mconsumototal_normal'</li><li>'Visa_mpagominimo_normal'</li></ol>\n"
      ],
      "text/latex": [
       "\\begin{enumerate*}\n",
       "\\item 'numero\\_de\\_cliente'\n",
       "\\item 'foto\\_mes'\n",
       "\\item 'internet'\n",
       "\\item 'cliente\\_edad'\n",
       "\\item 'cliente\\_antiguedad'\n",
       "\\item 'cproductos'\n",
       "\\item 'cdescubierto\\_preacordado'\n",
       "\\item 'ctarjeta\\_visa'\n",
       "\\item 'ctarjeta\\_visa\\_transacciones'\n",
       "\\item 'ctarjeta\\_master'\n",
       "\\item 'ctarjeta\\_master\\_transacciones'\n",
       "\\item 'cprestamos\\_personales'\n",
       "\\item 'cpayroll\\_trx'\n",
       "\\item 'ccomisiones\\_mantenimiento'\n",
       "\\item 'ccomisiones\\_otras'\n",
       "\\item 'ccallcenter\\_transacciones'\n",
       "\\item 'thomebanking'\n",
       "\\item 'chomebanking\\_transacciones'\n",
       "\\item 'ctrx\\_quarter'\n",
       "\\item 'Master\\_status'\n",
       "\\item 'Master\\_Fvencimiento'\n",
       "\\item 'Master\\_fultimo\\_cierre'\n",
       "\\item 'Master\\_fechaalta'\n",
       "\\item 'Master\\_cconsumos'\n",
       "\\item 'Visa\\_status'\n",
       "\\item 'Visa\\_Fvencimiento'\n",
       "\\item 'Visa\\_fultimo\\_cierre'\n",
       "\\item 'Visa\\_fechaalta'\n",
       "\\item 'Visa\\_cconsumos'\n",
       "\\item 'clase\\_ternaria'\n",
       "\\item 'mrentabilidad\\_normal'\n",
       "\\item 'mrentabilidad\\_annual\\_normal'\n",
       "\\item 'mcomisiones\\_normal'\n",
       "\\item 'mactivos\\_margen\\_normal'\n",
       "\\item 'mpasivos\\_margen\\_normal'\n",
       "\\item 'mcuenta\\_corriente\\_normal'\n",
       "\\item 'mcaja\\_ahorro\\_normal'\n",
       "\\item 'mcuentas\\_saldo\\_normal'\n",
       "\\item 'mtarjeta\\_visa\\_consumo\\_normal'\n",
       "\\item 'mtarjeta\\_master\\_consumo\\_normal'\n",
       "\\item 'mprestamos\\_personales\\_normal'\n",
       "\\item 'mpayroll\\_normal'\n",
       "\\item 'mttarjeta\\_visa\\_debitos\\_automaticos\\_normal'\n",
       "\\item 'mcomisiones\\_mantenimiento\\_normal'\n",
       "\\item 'mtransferencias\\_recibidas\\_normal'\n",
       "\\item 'Master\\_mfinanciacion\\_limite\\_normal'\n",
       "\\item 'Master\\_msaldototal\\_normal'\n",
       "\\item 'Master\\_mlimitecompra\\_normal'\n",
       "\\item 'Master\\_mconsumototal\\_normal'\n",
       "\\item 'Master\\_mpagominimo\\_normal'\n",
       "\\item 'Visa\\_mfinanciacion\\_limite\\_normal'\n",
       "\\item 'Visa\\_msaldototal\\_normal'\n",
       "\\item 'Visa\\_mlimitecompra\\_normal'\n",
       "\\item 'Visa\\_mconsumototal\\_normal'\n",
       "\\item 'Visa\\_mpagominimo\\_normal'\n",
       "\\end{enumerate*}\n"
      ],
      "text/markdown": [
       "1. 'numero_de_cliente'\n",
       "2. 'foto_mes'\n",
       "3. 'internet'\n",
       "4. 'cliente_edad'\n",
       "5. 'cliente_antiguedad'\n",
       "6. 'cproductos'\n",
       "7. 'cdescubierto_preacordado'\n",
       "8. 'ctarjeta_visa'\n",
       "9. 'ctarjeta_visa_transacciones'\n",
       "10. 'ctarjeta_master'\n",
       "11. 'ctarjeta_master_transacciones'\n",
       "12. 'cprestamos_personales'\n",
       "13. 'cpayroll_trx'\n",
       "14. 'ccomisiones_mantenimiento'\n",
       "15. 'ccomisiones_otras'\n",
       "16. 'ccallcenter_transacciones'\n",
       "17. 'thomebanking'\n",
       "18. 'chomebanking_transacciones'\n",
       "19. 'ctrx_quarter'\n",
       "20. 'Master_status'\n",
       "21. 'Master_Fvencimiento'\n",
       "22. 'Master_fultimo_cierre'\n",
       "23. 'Master_fechaalta'\n",
       "24. 'Master_cconsumos'\n",
       "25. 'Visa_status'\n",
       "26. 'Visa_Fvencimiento'\n",
       "27. 'Visa_fultimo_cierre'\n",
       "28. 'Visa_fechaalta'\n",
       "29. 'Visa_cconsumos'\n",
       "30. 'clase_ternaria'\n",
       "31. 'mrentabilidad_normal'\n",
       "32. 'mrentabilidad_annual_normal'\n",
       "33. 'mcomisiones_normal'\n",
       "34. 'mactivos_margen_normal'\n",
       "35. 'mpasivos_margen_normal'\n",
       "36. 'mcuenta_corriente_normal'\n",
       "37. 'mcaja_ahorro_normal'\n",
       "38. 'mcuentas_saldo_normal'\n",
       "39. 'mtarjeta_visa_consumo_normal'\n",
       "40. 'mtarjeta_master_consumo_normal'\n",
       "41. 'mprestamos_personales_normal'\n",
       "42. 'mpayroll_normal'\n",
       "43. 'mttarjeta_visa_debitos_automaticos_normal'\n",
       "44. 'mcomisiones_mantenimiento_normal'\n",
       "45. 'mtransferencias_recibidas_normal'\n",
       "46. 'Master_mfinanciacion_limite_normal'\n",
       "47. 'Master_msaldototal_normal'\n",
       "48. 'Master_mlimitecompra_normal'\n",
       "49. 'Master_mconsumototal_normal'\n",
       "50. 'Master_mpagominimo_normal'\n",
       "51. 'Visa_mfinanciacion_limite_normal'\n",
       "52. 'Visa_msaldototal_normal'\n",
       "53. 'Visa_mlimitecompra_normal'\n",
       "54. 'Visa_mconsumototal_normal'\n",
       "55. 'Visa_mpagominimo_normal'\n",
       "\n",
       "\n"
      ],
      "text/plain": [
       " [1] \"numero_de_cliente\"                        \n",
       " [2] \"foto_mes\"                                 \n",
       " [3] \"internet\"                                 \n",
       " [4] \"cliente_edad\"                             \n",
       " [5] \"cliente_antiguedad\"                       \n",
       " [6] \"cproductos\"                               \n",
       " [7] \"cdescubierto_preacordado\"                 \n",
       " [8] \"ctarjeta_visa\"                            \n",
       " [9] \"ctarjeta_visa_transacciones\"              \n",
       "[10] \"ctarjeta_master\"                          \n",
       "[11] \"ctarjeta_master_transacciones\"            \n",
       "[12] \"cprestamos_personales\"                    \n",
       "[13] \"cpayroll_trx\"                             \n",
       "[14] \"ccomisiones_mantenimiento\"                \n",
       "[15] \"ccomisiones_otras\"                        \n",
       "[16] \"ccallcenter_transacciones\"                \n",
       "[17] \"thomebanking\"                             \n",
       "[18] \"chomebanking_transacciones\"               \n",
       "[19] \"ctrx_quarter\"                             \n",
       "[20] \"Master_status\"                            \n",
       "[21] \"Master_Fvencimiento\"                      \n",
       "[22] \"Master_fultimo_cierre\"                    \n",
       "[23] \"Master_fechaalta\"                         \n",
       "[24] \"Master_cconsumos\"                         \n",
       "[25] \"Visa_status\"                              \n",
       "[26] \"Visa_Fvencimiento\"                        \n",
       "[27] \"Visa_fultimo_cierre\"                      \n",
       "[28] \"Visa_fechaalta\"                           \n",
       "[29] \"Visa_cconsumos\"                           \n",
       "[30] \"clase_ternaria\"                           \n",
       "[31] \"mrentabilidad_normal\"                     \n",
       "[32] \"mrentabilidad_annual_normal\"              \n",
       "[33] \"mcomisiones_normal\"                       \n",
       "[34] \"mactivos_margen_normal\"                   \n",
       "[35] \"mpasivos_margen_normal\"                   \n",
       "[36] \"mcuenta_corriente_normal\"                 \n",
       "[37] \"mcaja_ahorro_normal\"                      \n",
       "[38] \"mcuentas_saldo_normal\"                    \n",
       "[39] \"mtarjeta_visa_consumo_normal\"             \n",
       "[40] \"mtarjeta_master_consumo_normal\"           \n",
       "[41] \"mprestamos_personales_normal\"             \n",
       "[42] \"mpayroll_normal\"                          \n",
       "[43] \"mttarjeta_visa_debitos_automaticos_normal\"\n",
       "[44] \"mcomisiones_mantenimiento_normal\"         \n",
       "[45] \"mtransferencias_recibidas_normal\"         \n",
       "[46] \"Master_mfinanciacion_limite_normal\"       \n",
       "[47] \"Master_msaldototal_normal\"                \n",
       "[48] \"Master_mlimitecompra_normal\"              \n",
       "[49] \"Master_mconsumototal_normal\"              \n",
       "[50] \"Master_mpagominimo_normal\"                \n",
       "[51] \"Visa_mfinanciacion_limite_normal\"         \n",
       "[52] \"Visa_msaldototal_normal\"                  \n",
       "[53] \"Visa_mlimitecompra_normal\"                \n",
       "[54] \"Visa_mconsumototal_normal\"                \n",
       "[55] \"Visa_mpagominimo_normal\"                  "
      ]
     },
     "metadata": {},
     "output_type": "display_data"
    }
   ],
   "source": [
    "colnames(dataset)"
   ]
  },
  {
   "cell_type": "markdown",
   "id": "9682b4ca-3ab3-4bbc-a36a-b185361e6b6b",
   "metadata": {
    "id": "9682b4ca-3ab3-4bbc-a36a-b185361e6b6b"
   },
   "source": [
    "#### 6.3.1.4  FE_rf Feature Engineering de nuevas variables a partir de hojas de Random Forest\n",
    "\n",
    "Esto se mostrará unicamente a la *modalidad Analista Sr*"
   ]
  },
  {
   "cell_type": "code",
   "execution_count": null,
   "id": "ljA3h0jOcciP",
   "metadata": {
    "id": "ljA3h0jOcciP"
   },
   "outputs": [],
   "source": [
    "# No se implementa Feature Engineering a partir de Random Forest"
   ]
  },
  {
   "cell_type": "markdown",
   "id": "XaRBjQj8ZRUZ",
   "metadata": {
    "id": "XaRBjQj8ZRUZ"
   },
   "source": [
    "#### 6.3.1.5  FEhist Feature Engineering historico\n",
    "\n",
    "El Fature Engineering Histórico es la etapa que más aporta a la ganancia final, ya que enriquece cada registro del dataset con su historia."
   ]
  },
  {
   "cell_type": "markdown",
   "id": "cfe3b8cf-0707-4512-92e7-c1407bb3f73b",
   "metadata": {
    "id": "cfe3b8cf-0707-4512-92e7-c1407bb3f73b"
   },
   "source": [
    "Para cada campo del dataset original (*)\n",
    "se crean lo siguientes campos de a partir de la historia\n",
    "* lag1  lags de orden 1\n",
    "* delta1  =  valor actual - lag1\n",
    "* lag2  lags de orden 2\n",
    "* delta2  = valor actual - lag2\n",
    "\n",
    "\n",
    "(*) Excepto para los campos  <numero_de_cliente,  foto_mes,  clase_ternaria>"
   ]
  },
  {
   "cell_type": "code",
   "execution_count": null,
   "id": "7850b948-827d-4a2a-b4d3-a5e459b47c11",
   "metadata": {
    "id": "7850b948-827d-4a2a-b4d3-a5e459b47c11"
   },
   "outputs": [],
   "source": [
    "# Feature Engineering Historico\n",
    "\n",
    "# todo es lagueable, menos la primary key y la clase\n",
    "cols_lagueables <- copy( setdiff(\n",
    "    colnames(dataset),\n",
    "    c(\"numero_de_cliente\", \"foto_mes\", \"clase_ternaria\")\n",
    ") )\n",
    "\n",
    "# https://rdrr.io/cran/data.table/man/shift.html\n",
    "\n",
    "# lags de orden 1\n",
    "dataset[,\n",
    "    paste0(cols_lagueables, \"_lag1\") := shift(.SD, 1, NA, \"lag\"),\n",
    "    by = numero_de_cliente,\n",
    "    .SDcols = cols_lagueables\n",
    "]\n",
    "\n",
    "# lags de orden 2\n",
    "dataset[,\n",
    "    paste0(cols_lagueables, \"_lag2\") := shift(.SD, 2, NA, \"lag\"),\n",
    "    by = numero_de_cliente,\n",
    "    .SDcols = cols_lagueables\n",
    "]\n",
    "\n",
    "# agrego los delta lags\n",
    "for (vcol in cols_lagueables)\n",
    "{\n",
    "    dataset[, paste0(vcol, \"_delta1\") := get(vcol) - get(paste0(vcol, \"_lag1\"))]\n",
    "    dataset[, paste0(vcol, \"_delta2\") := get(vcol) - get(paste0(vcol, \"_lag2\"))]\n",
    "}\n"
   ]
  },
  {
   "cell_type": "markdown",
   "id": "cea690d9-ece9-4852-a5e2-f337c31b6721",
   "metadata": {
    "id": "cea690d9-ece9-4852-a5e2-f337c31b6721"
   },
   "source": [
    "Verificacion de los campos recien creados"
   ]
  },
  {
   "cell_type": "code",
   "execution_count": null,
   "id": "f772896b-595a-47d4-8905-c15304ac9452",
   "metadata": {
    "id": "f772896b-595a-47d4-8905-c15304ac9452"
   },
   "outputs": [],
   "source": [
    "ncol(dataset)\n",
    "colnames(dataset)"
   ]
  },
  {
   "cell_type": "markdown",
   "id": "l8mKij0XaDY0",
   "metadata": {
    "id": "l8mKij0XaDY0"
   },
   "source": [
    "#### 6.3.1.6  FEhist Reduccion dimensionalidad con canaritos\n",
    "\n",
    "Esta etapa solo se mostrará a la *modalidad Anlista Sr* por algun canal secreto de forma de no confundir a los *Analista Jr*  nni distraer con detalles operativos a la estratégica *Modalidad Gerencial*"
   ]
  },
  {
   "cell_type": "code",
   "execution_count": null,
   "id": "QrmnPtlBcEgx",
   "metadata": {
    "id": "QrmnPtlBcEgx"
   },
   "outputs": [],
   "source": [
    "# No se implementa la reduccion de la dimensionalidad con canaritos"
   ]
  },
  {
   "cell_type": "markdown",
   "id": "cf91ea5e-3341-4afb-8d05-cc4923d3d1e1",
   "metadata": {
    "id": "cf91ea5e-3341-4afb-8d05-cc4923d3d1e1"
   },
   "source": [
    "### 6.3.2 Modelado"
   ]
  },
  {
   "cell_type": "markdown",
   "id": "526048e4-8cf2-4023-bd2d-a70e4e9ff157",
   "metadata": {
    "id": "526048e4-8cf2-4023-bd2d-a70e4e9ff157"
   },
   "source": [
    "#### 6.3.2.1 Training Strategy\n",
    "\n",
    "Esta etapa de Workflow de  Training Strategy esta pensada para la *Modalidad Gerencial* que posee el dataset de [202005, 202109]\n",
    "<br> Si usted es un Analista, posee el periodo de [201901, 202109] y deberá experimentar en que meses le conviene experimentar\n",
    "\n",
    "<br> A la *Modalidad Gerencial* no se le complicada la vida con el undersampling de los continua, por eso PARAM$trainingstrategy$training_pct <- 1.0\n",
    "<br> Sin embargo, si usted es  *Analista SR* posee un dataset 50 veces ( filas x columnas) más grande que la *Modalidad Gerencial*  y por un tema de velocidad y experimentación más rápida puede llegar a necesitar activar el undersampling de la clase mayoritaria, a pesar de estar corriendo en Google Cloud."
   ]
  },
  {
   "cell_type": "markdown",
   "id": "f16bc1c1-b3ea-43ca-9d3c-53f8f9ab8ec1",
   "metadata": {
    "id": "f16bc1c1-b3ea-43ca-9d3c-53f8f9ab8ec1"
   },
   "source": [
    "Se hace una estrategia de entrenamiento muy sencilla, tomando todos los meses posibles, SIN eliminar nada x pandemia ni por ningun otro motivo\n",
    "\n",
    "* future = 202109  obviamente completo\n",
    "\n",
    "* final_train =  [ 202005, 202107 ]  SIN undersampling\n",
    "\n",
    "* training\n",
    "   * testing = NO HAY\n",
    "   * validation =  202107   completo, sin undersampling\n",
    "   * training = [ 202005, 202106 ]  donde se consideran el 100% de los CONTINUA"
   ]
  },
  {
   "cell_type": "code",
   "execution_count": null,
   "id": "2c9c0a42-ba58-4264-8566-091a6161716f",
   "metadata": {
    "id": "2c9c0a42-ba58-4264-8566-091a6161716f"
   },
   "outputs": [],
   "source": [
    "PARAM$trainingstrategy$validate <- c(202107)\n",
    "\n",
    "PARAM$trainingstrategy$training <- c(\n",
    "  202106, 202105, 202104, 202103, 202102, 202101,\n",
    "  202012, 202011, 202010, 202009, 202008, 202007,\n",
    "  202006, 202005\n",
    ")\n",
    "\n",
    "PARAM$trainingstrategy$training_pct <- 1.0\n",
    "\n",
    "\n",
    "PARAM$trainingstrategy$positivos <- c( \"BAJA+1\", \"BAJA+2\")"
   ]
  },
  {
   "cell_type": "code",
   "execution_count": null,
   "id": "tv_trHWAj4a8",
   "metadata": {
    "id": "tv_trHWAj4a8"
   },
   "outputs": [],
   "source": [
    "# seteo la clase01   1={BAJA+1, BAJA+2}   0={CONTINUA}\n",
    "dataset[, clase01 := ifelse( clase_ternaria %in% PARAM$trainingstrategy$positivos, 1, 0 )]"
   ]
  },
  {
   "cell_type": "code",
   "execution_count": null,
   "id": "Ud_XDKSIj8f_",
   "metadata": {
    "id": "Ud_XDKSIj8f_"
   },
   "outputs": [],
   "source": [
    "# los campos en los que se entrena\n",
    "campos_buenos <- copy( setdiff(\n",
    "    colnames(dataset), c(\"clase_ternaria\",\"clase01\",\"azar\"))\n",
    ")"
   ]
  },
  {
   "cell_type": "code",
   "execution_count": null,
   "id": "rFKgZZPSj_Pa",
   "metadata": {
    "id": "rFKgZZPSj_Pa"
   },
   "outputs": [],
   "source": [
    "# preparo para que se puede hacer undersampling de los CONTINUA\n",
    "#  solamente por un tema de VELOCIDAD\n",
    "set.seed(PARAM$semilla_primigenia, kind = \"L'Ecuyer-CMRG\")\n",
    "dataset[, azar:=runif(nrow(dataset))]\n",
    "\n",
    "# undersampling de los CONTINUA\n",
    "dataset[, fold_train :=  foto_mes %in%  PARAM$trainingstrategy$training &\n",
    "    (clase_ternaria %in% c(\"BAJA+1\", \"BAJA+2\") |\n",
    "     azar < PARAM$trainingstrategy$training_pct ) ]\n",
    "\n",
    "\n",
    "if( !require(\"lightgbm\")) install.packages(\"lightgbm\")\n",
    "require(\"lightgbm\")\n",
    "\n",
    "dtrain <- lgb.Dataset(\n",
    "  data= data.matrix(dataset[fold_train == TRUE, campos_buenos, with = FALSE]),\n",
    "  label= dataset[fold_train == TRUE, clase01],\n",
    "  free_raw_data= TRUE\n",
    ")"
   ]
  },
  {
   "cell_type": "code",
   "execution_count": null,
   "id": "B3yo98kQkHcP",
   "metadata": {
    "id": "B3yo98kQkHcP"
   },
   "outputs": [],
   "source": [
    "# datos de validation\n",
    "dvalidate <- lgb.Dataset(\n",
    "  data= data.matrix(dataset[foto_mes %in% PARAM$trainingstrategy$validate, campos_buenos, with = FALSE]),\n",
    "  label= dataset[foto_mes %in% PARAM$trainingstrategy$validate, clase01],\n",
    "  free_raw_data= TRUE\n",
    ")\n",
    "\n",
    "nrow(dvalidate)"
   ]
  },
  {
   "cell_type": "markdown",
   "id": "28e8f788-551c-4e50-9029-302ac0834287",
   "metadata": {
    "id": "28e8f788-551c-4e50-9029-302ac0834287"
   },
   "source": [
    "####  6.3.2.2. Hyperparameter Tuning"
   ]
  },
  {
   "cell_type": "markdown",
   "id": "bf5fc836-e222-4aeb-a6a8-157346895ef7",
   "metadata": {
    "id": "bf5fc836-e222-4aeb-a6a8-157346895ef7"
   },
   "source": [
    "* Clase binaria que se optimiza :  positivos = [ BAJA+1, BAJA+2 ]"
   ]
  },
  {
   "cell_type": "markdown",
   "id": "885c03b5-77bc-4510-a930-0d1f14b52ffb",
   "metadata": {
    "id": "885c03b5-77bc-4510-a930-0d1f14b52ffb"
   },
   "source": [
    "* Metrica que se optimiza **AUC** Area Under Curve de la  ROC Curve\n",
    "\n",
    "es muy importante notar que intencionalmente  **NO** se está optimizando la funcion de ganancia del problema"
   ]
  },
  {
   "cell_type": "markdown",
   "id": "b7e6f95c-66ef-4ab9-9ba3-fcc099816704",
   "metadata": {
    "id": "b7e6f95c-66ef-4ab9-9ba3-fcc099816704"
   },
   "source": [
    "* Cantidad de iteraciones inteligentes de la Optimizacion Bayesiana = **10**"
   ]
  },
  {
   "cell_type": "markdown",
   "id": "fe047a87-e2d0-4418-97dd-0a881e66d73a",
   "metadata": {
    "id": "fe047a87-e2d0-4418-97dd-0a881e66d73a"
   },
   "source": [
    "* Parametros no default, fijos de LightGBM que no se optimizan\n",
    "  * max_bin = 31 , Alienigenas Ancestrales contruyeron las pirámides y dejaron a la humanidad en un jeroglifico  *max_bin=31*\n",
    "  * feature_fraction = 0.5  para poner algo que generalmente no falla\n",
    "  * learning_rate = 0.03  para que aprenda lento\n"
   ]
  },
  {
   "cell_type": "markdown",
   "id": "1e7da08e-fe57-4681-beff-11fe963116bd",
   "metadata": {
    "id": "1e7da08e-fe57-4681-beff-11fe963116bd"
   },
   "source": [
    "* Parametros que se optimizan en la Bayesian Optimization\n",
    "  * num_leaves  [8, 256]\n",
    "  * min_data_in_leaf  [8, 8192]"
   ]
  },
  {
   "cell_type": "code",
   "execution_count": null,
   "id": "34V6y4GetKq_",
   "metadata": {
    "id": "34V6y4GetKq_"
   },
   "outputs": [],
   "source": [
    "# paquetes necesarios para la Bayesian Optimization\n",
    "if(!require(\"DiceKriging\")) install.packages(\"DiceKriging\")\n",
    "require(\"DiceKriging\")\n",
    "\n",
    "if(!require(\"mlrMBO\")) install.packages(\"mlrMBO\")\n",
    "require(\"mlrMBO\")"
   ]
  },
  {
   "cell_type": "markdown",
   "id": "UFbDSYtH0TTT",
   "metadata": {
    "id": "UFbDSYtH0TTT"
   },
   "source": [
    "Definición de la Bayesian Optimization\n",
    "<br> Si se desea optimizar un hiperparámetro que esta como fijo, debe QUITARSE de param_fijos y agregarse a PARAM$hipeparametertuning$hs"
   ]
  },
  {
   "cell_type": "code",
   "execution_count": null,
   "id": "5Uag3XGHqrfZ",
   "metadata": {
    "id": "5Uag3XGHqrfZ"
   },
   "outputs": [],
   "source": [
    "# valor ridiculamente bajo para que corra rapido en el aula y no molestar a la *Modalidad Gerencial*\n",
    "PARAM$hipeparametertuning$num_interations <- 10\n",
    "\n",
    "# parametros fijos del LightGBM\n",
    "PARAM$lgbm$param_fijos <- list(\n",
    "  objective= \"binary\",\n",
    "  metric= \"auc\",\n",
    "  first_metric_only= TRUE,\n",
    "  boost_from_average= TRUE,\n",
    "  feature_pre_filter= FALSE,\n",
    "  verbosity= -100,\n",
    "  force_row_wise= TRUE, # para evitar warning\n",
    "  seed= PARAM$semilla_primigenia,\n",
    "  max_bin= 31,\n",
    "  learning_rate= 0.03,\n",
    "  feature_fraction= 0.5,\n",
    "  num_iterations= 2048,  # valor grande, lo limita early_stopping_rounds\n",
    "  early_stopping_rounds= 200\n",
    ")\n",
    "\n",
    "PARAM$hipeparametertuning$hs <- makeParamSet(\n",
    "  makeIntegerParam(\"num_leaves\", lower = 2L, upper = 256L),\n",
    "  makeIntegerParam(\"min_data_in_leaf\", lower = 2L, upper = 8192L)\n",
    ")"
   ]
  },
  {
   "cell_type": "markdown",
   "id": "FEa1UuuAz4yj",
   "metadata": {
    "id": "FEa1UuuAz4yj"
   },
   "source": [
    "Función \"señora caja negra\"  que es llamada para verificar la realidad por la Bayesian Optimization"
   ]
  },
  {
   "cell_type": "code",
   "execution_count": null,
   "id": "2c10f535-8d90-47d1-ac3d-9b4c24ec21d2",
   "metadata": {
    "id": "2c10f535-8d90-47d1-ac3d-9b4c24ec21d2"
   },
   "outputs": [],
   "source": [
    "# En  x llegan los parmaetros de la bayesiana\n",
    "#  devuelve la AUC en validate del modelo entrenado\n",
    "#  en el parametro x llegan los hiperparámetros que se estan optimizando\n",
    "\n",
    "EstimarGanancia_AUC_lightgbm <- function(x) {\n",
    "\n",
    "  # x pisa (o agrega) a param_fijos\n",
    "  param_completo <- modifyList(PARAM$lgbm$param_fijos, x)\n",
    "\n",
    "  # entreno LightGBM\n",
    "  modelo_train <- lgb.train(\n",
    "    data= dtrain,\n",
    "    valids= list(valid = dvalidate),\n",
    "    eval= \"auc\",\n",
    "    param= param_completo,\n",
    "    verbose= -100\n",
    "  )\n",
    "\n",
    "  # recupero la AUC en validation\n",
    "  AUC <- modelo_train$record_evals$valid$auc$eval[[modelo_train$best_iter]]\n",
    "\n",
    "  # esta es la forma de devolver un parametro extra\n",
    "  attr(AUC, \"extras\") <- list(\"num_iterations\"= modelo_train$best_iter)\n",
    "\n",
    "  # hago espacio en la memoria\n",
    "  rm(modelo_train)\n",
    "  gc(full= TRUE, verbose= FALSE)\n",
    "\n",
    "  message(format(Sys.time(), \"%a %b %d %X %Y\"), \" AUC \", AUC)\n",
    "\n",
    "  return(AUC)\n",
    "}"
   ]
  },
  {
   "cell_type": "markdown",
   "id": "267a35d4-adaf-4271-a875-3864111333b7",
   "metadata": {
    "id": "267a35d4-adaf-4271-a875-3864111333b7"
   },
   "source": [
    "seteo de la Bayesian Optimization (complejo)\n",
    "<br> copiado y pegado de la documentación de la librería"
   ]
  },
  {
   "cell_type": "code",
   "execution_count": null,
   "id": "43c2a92d-1041-46b8-bff2-47297f209ed2",
   "metadata": {
    "id": "43c2a92d-1041-46b8-bff2-47297f209ed2"
   },
   "outputs": [],
   "source": [
    "configureMlr(show.learner.output = FALSE)\n",
    "\n",
    "# configuro la busqueda bayesiana,  los hiperparametros que se van a optimizar\n",
    "# por favor, no desesperarse por lo complejo\n",
    "obj.fun <- makeSingleObjectiveFunction(\n",
    "    fn= EstimarGanancia_AUC_lightgbm, # la funcion que voy a maximizar\n",
    "    minimize= FALSE, # estoy Maximizando AUC\n",
    "    noisy= FALSE,\n",
    "    par.set= PARAM$hipeparametertuning$hs,\n",
    "    has.simple.signature= FALSE # paso los parametros en una lista\n",
    ")\n",
    "\n",
    "# cada 600 segundos guardo el resultado intermedio\n",
    "ctrl <- makeMBOControl(\n",
    "    save.on.disk.at.time= 600,\n",
    "    save.file.path= \"HT.RDATA\"\n",
    ")\n",
    "\n",
    "# indico la cantidad de iteraciones que va a tener la Bayesian Optimization\n",
    "ctrl <- setMBOControlTermination(\n",
    "    ctrl,\n",
    "    iters= PARAM$hipeparametertuning$num_interations  # cantidad de iteraciones inteligentes\n",
    ")\n",
    "\n",
    "# defino el método estandar para la creacion de los puntos iniciales\n",
    "#   los \"No Inteligentes\"\n",
    "ctrl <- setMBOControlInfill(ctrl, crit = makeMBOInfillCritEI())\n",
    "\n",
    "# mas configuraciones\n",
    "surr.km <- makeLearner(\n",
    "    \"regr.km\",\n",
    "    predict.type= \"se\",\n",
    "    covtype= \"matern3_2\",\n",
    "    control= list(trace = TRUE)\n",
    ")"
   ]
  },
  {
   "cell_type": "markdown",
   "id": "6c1e5645-d26f-4923-a53f-f30471a4c4e8",
   "metadata": {
    "id": "6c1e5645-d26f-4923-a53f-f30471a4c4e8"
   },
   "source": [
    "Corrida de la Bayesian Optimization,  aqui se hace el trabajo pesado\n",
    "<br> por favor no se asuste con los warnings que pudieran aparecer\n",
    "\n",
    "Si corrío a medias y llegó a las iteraciones inteligentes, en el archivo binario HT.RDATA quedó lo ya procesado y es utilizado para retomar la corrida desde lo último que llegó a grabar."
   ]
  },
  {
   "cell_type": "code",
   "execution_count": null,
   "id": "1f8cab3f-c7e2-4802-bfd1-5ad509922a4e",
   "metadata": {
    "id": "1f8cab3f-c7e2-4802-bfd1-5ad509922a4e",
    "scrolled": true
   },
   "outputs": [],
   "source": [
    "# inicio la optimizacion bayesiana\n",
    "\n",
    "if (!file.exists(\"HT.RDATA\")) {\n",
    "  bayesiana_salida <- mbo(obj.fun, learner= surr.km, control= ctrl)\n",
    "} else {\n",
    "  bayesiana_salida <- mboContinue(\"HT.RDATA\") # retomo en caso que ya exista\n",
    "}"
   ]
  },
  {
   "cell_type": "markdown",
   "id": "36307612-964f-4df3-907a-1bc3c095f178",
   "metadata": {
    "id": "36307612-964f-4df3-907a-1bc3c095f178"
   },
   "source": [
    "la bayesian optimization ha corrido, extraigo los mejores hiperparametros"
   ]
  },
  {
   "cell_type": "code",
   "execution_count": null,
   "id": "8c061a2a-3341-4006-a154-c95bb6cfd407",
   "metadata": {
    "id": "8c061a2a-3341-4006-a154-c95bb6cfd407"
   },
   "outputs": [],
   "source": [
    "# almaceno los resultados de la Bayesian Optimization\n",
    "# y capturo los mejores hiperparametros encontrados\n",
    "\n",
    "tb_bayesiana <- as.data.table(bayesiana_salida$opt.path)\n",
    "\n",
    "# ordeno en forma descendente por AUC = y\n",
    "setorder(tb_bayesiana, -y, -num_iterations)\n",
    "\n",
    "# grabo para eventualmente poder utilizarlos en OTRA corrida\n",
    "fwrite( tb_bayesiana,\n",
    "  file=\"BO_log.txt\",\n",
    "  sep=\"\\t\"\n",
    ")\n",
    "\n",
    "# los mejores hiperparámetros son los que quedaron en el registro 1 de la tabla\n",
    "PARAM$out$lgbm$mejores_hiperparametros <- tb_bayesiana[\n",
    "  1, # el primero es el de mejor AUC\n",
    "  list(num_leaves, min_data_in_leaf, num_iterations)\n",
    "]\n",
    "\n",
    "print(PARAM$out$lgbm$mejores_hiperparametros)"
   ]
  },
  {
   "cell_type": "markdown",
   "id": "ddb554cb-1d96-4f6b-ae1c-c9a076f8dbdc",
   "metadata": {
    "id": "ddb554cb-1d96-4f6b-ae1c-c9a076f8dbdc"
   },
   "source": [
    "### 6.3.3 Produccion"
   ]
  },
  {
   "cell_type": "markdown",
   "id": "c39492c3-756f-47a5-8747-93ade8275306",
   "metadata": {
    "id": "c39492c3-756f-47a5-8747-93ade8275306"
   },
   "source": [
    "#### Final Training\n",
    "Construyo el modelo final, que es uno solo, no hace ningun tipo de particion < training, validation, testing>]"
   ]
  },
  {
   "cell_type": "markdown",
   "id": "xhKi_G_sYQqq",
   "metadata": {
    "id": "xhKi_G_sYQqq"
   },
   "source": [
    "##### Final Training Dataset\n",
    "\n",
    "Aqui esta la gran decision de en qué meses hago el Final Training\n",
    "<br> debo utilizar los mejores hiperparámetros que encontré en la optimización bayesiana"
   ]
  },
  {
   "cell_type": "code",
   "execution_count": null,
   "id": "qyHfS_X0zd7o",
   "metadata": {
    "id": "qyHfS_X0zd7o"
   },
   "outputs": [],
   "source": [
    "PARAM$trainingstrategy$final_train <- c( 202107,\n",
    "  202106, 202105, 202104, 202103, 202102, 202101,\n",
    "  202012, 202011, 202010, 202009, 202008, 202007,\n",
    "  202006, 202005\n",
    ")\n",
    "\n",
    "dataset[, fold_final_train := foto_mes %in% PARAM$trainingstrategy$final_train ]\n",
    "\n",
    "# creo el dfinal_train en formato  LightGBM\n",
    "dfinal_train <- lgb.Dataset(\n",
    "  data= data.matrix(dataset[fold_final_train == TRUE, campos_buenos, with= FALSE]),\n",
    "  label= dataset[fold_final_train == TRUE, clase01],\n",
    "  free_raw_data= TRUE\n",
    ")\n",
    "\n",
    "nrow( dfinal_train) # verifico el tamaño"
   ]
  },
  {
   "cell_type": "markdown",
   "id": "HATRyklxYUpT",
   "metadata": {
    "id": "HATRyklxYUpT"
   },
   "source": [
    "##### Final Training Hyperparameters"
   ]
  },
  {
   "cell_type": "code",
   "execution_count": null,
   "id": "d6b9f33c-e0a0-4ea6-8169-4a6180cc5d01",
   "metadata": {
    "id": "d6b9f33c-e0a0-4ea6-8169-4a6180cc5d01"
   },
   "outputs": [],
   "source": [
    "# uno los parametros fijos y los mejores encontrados de los variables\n",
    "fijos <- copy(PARAM$lgbm$param_fijos)\n",
    "\n",
    "# quito lo que optimice en la Bayesian Optimization\n",
    "fijos$num_iterations <- NULL\n",
    "fijos$early_stopping_rounds <- NULL\n",
    "\n",
    "# agrego a los hiperparametros fijos los que encontre con la Bayesian Optimization\n",
    "param_final <- c(fijos, PARAM$out$lgbm$mejores_hiperparametros)"
   ]
  },
  {
   "cell_type": "markdown",
   "id": "05d3494f-0401-4f3e-9b69-f488a737879d",
   "metadata": {
    "id": "05d3494f-0401-4f3e-9b69-f488a737879d"
   },
   "source": [
    "##### Training\n",
    "Genero el modelo final, siempre sobre TODOS los datos de  final_train, sin hacer ningun tipo de undersampling de la clase mayoritaria"
   ]
  },
  {
   "cell_type": "code",
   "execution_count": null,
   "id": "fa239848-1c28-4ee5-984a-073903b4b279",
   "metadata": {
    "id": "fa239848-1c28-4ee5-984a-073903b4b279"
   },
   "outputs": [],
   "source": [
    "final_model <- lgb.train(\n",
    "  data= dfinal_train,\n",
    "  param= param_final,\n",
    "  verbose= -100\n",
    ")"
   ]
  },
  {
   "cell_type": "code",
   "execution_count": null,
   "id": "RC1ju-5MZN5s",
   "metadata": {
    "id": "RC1ju-5MZN5s"
   },
   "outputs": [],
   "source": [
    "# grabo a disco el modelo en un formato para seres humanos ... ponele ...\n",
    "\n",
    "lgb.save(final_model, \"modelo.txt\")"
   ]
  },
  {
   "cell_type": "code",
   "execution_count": null,
   "id": "VEpv4RYOZHTU",
   "metadata": {
    "id": "VEpv4RYOZHTU"
   },
   "outputs": [],
   "source": [
    "# ahora imprimo la importancia de variables\n",
    "\n",
    "tb_importancia <- as.data.table(lgb.importance(final_model))\n",
    "archivo_importancia <- \"impo.txt\"\n",
    "\n",
    "fwrite( tb_importancia,\n",
    "  file= archivo_importancia,\n",
    "  sep= \"\\t\"\n",
    ")"
   ]
  },
  {
   "cell_type": "markdown",
   "id": "7ea225b3-ce02-42e2-8330-b10ed250d172",
   "metadata": {
    "id": "7ea225b3-ce02-42e2-8330-b10ed250d172"
   },
   "source": [
    "#### Scoring"
   ]
  },
  {
   "cell_type": "markdown",
   "id": "164981bb-f4c1-4228-8bc9-32e58a383c05",
   "metadata": {
    "id": "164981bb-f4c1-4228-8bc9-32e58a383c05"
   },
   "source": [
    "Aplico el modelo final a los datos del futuro"
   ]
  },
  {
   "cell_type": "code",
   "execution_count": null,
   "id": "eJ7RbT271v-R",
   "metadata": {
    "id": "eJ7RbT271v-R"
   },
   "outputs": [],
   "source": [
    "PARAM$trainingstrategy$future <- c(202109)\n",
    "\n",
    "dfuture <- dataset[ foto_mes %in% PARAM$trainingstrategy$future ]"
   ]
  },
  {
   "cell_type": "code",
   "execution_count": null,
   "id": "88ca61c8-fa24-4ce5-8be1-323aca018e8f",
   "metadata": {
    "id": "88ca61c8-fa24-4ce5-8be1-323aca018e8f"
   },
   "outputs": [],
   "source": [
    "# aplico final_model   a dfuture\n",
    "\n",
    "prediccion <- predict(\n",
    "  final_model,\n",
    "  data.matrix(dfuture[, campos_buenos, with= FALSE])\n",
    ")"
   ]
  },
  {
   "cell_type": "markdown",
   "id": "79u0ZvjJZblE",
   "metadata": {
    "id": "79u0ZvjJZblE"
   },
   "source": [
    "##### Tabla Prediccion"
   ]
  },
  {
   "cell_type": "code",
   "execution_count": null,
   "id": "TB6aerGDZeTo",
   "metadata": {
    "id": "TB6aerGDZeTo"
   },
   "outputs": [],
   "source": [
    "tb_prediccion <- dfuture[, list(numero_de_cliente)]\n",
    "tb_prediccion[, prob := prediccion]\n",
    "\n",
    "# grabo las probabilidad del modelo\n",
    "#  me va a ser util para hacer Ensembles de modelos\n",
    "fwrite(tb_prediccion,\n",
    "  file= \"prediccion.txt\",\n",
    "  sep= \"\\t\"\n",
    ")"
   ]
  },
  {
   "cell_type": "markdown",
   "id": "8412d838-5bd5-454e-b3a9-5eaa18d80a50",
   "metadata": {
    "id": "8412d838-5bd5-454e-b3a9-5eaa18d80a50"
   },
   "source": [
    "#### Kaggle Competition Submit"
   ]
  },
  {
   "cell_type": "markdown",
   "id": "55970cb6-856a-46e3-a893-7f36b8352b8e",
   "metadata": {
    "id": "55970cb6-856a-46e3-a893-7f36b8352b8e"
   },
   "source": [
    "Genero las salidas y hago los submits a Kaggle\n",
    "<br>El notebook esta preparado para la Modalidad Gerencial, los analistas deben hacer cambios.\n",
    "<br> Los analistas deben cambiar **competencia** a SU competencia  \"data-mining-analista-jr-2025-a\"   o  la original \"data-mining-analista-sr-2025-a\"  para los Senior\n",
    "<br> Los cortes  dependen de la cantidad de registros, multiplicar por 2 para los Analistas Jr y por 10 para los Analista Sr\n",
    "\n",
    "Los Analista Sr luego de meditar cuidadosamente reducirán la cantidad de cortes"
   ]
  },
  {
   "cell_type": "code",
   "execution_count": null,
   "id": "e5fa2439-b0e9-49e0-a861-71d7315d6e1c",
   "metadata": {
    "id": "e5fa2439-b0e9-49e0-a861-71d7315d6e1c"
   },
   "outputs": [],
   "source": [
    "# genero archivos con los  \"envios\" mejores\n",
    "# suba TODOS los archivos a Kaggle\n",
    "\n",
    "PARAM$kaggle$competencia <- \"data-mining-gerencial-2025-b\"\n",
    "PARAM$kaggle$cortes <- seq(800, 1300, by = 50)\n",
    "\n",
    "# ordeno por probabilidad descendente\n",
    "setorder(tb_prediccion, -prob)\n",
    "\n",
    "dir.create(\"kaggle\")\n",
    "\n",
    "for (envios in PARAM$kaggle$cortes) {\n",
    "\n",
    "  tb_prediccion[, Predicted := 0L] # seteo inicial a 0\n",
    "  tb_prediccion[1:envios, Predicted := 1L] # marclo los primeros\n",
    "\n",
    "  archivo_kaggle <- paste0(\"./kaggle/KA\", PARAM$experimento, \"_\", envios, \".csv\")\n",
    "\n",
    "  # grabo el archivo\n",
    "  fwrite(tb_prediccion[, list(numero_de_cliente, Predicted)],\n",
    "    file= archivo_kaggle,\n",
    "    sep= \",\"\n",
    "  )\n",
    "\n",
    "  # subida a Kaggle, armo la linea de comando\n",
    "  comando <- \"kaggle competitions submit\"\n",
    "  competencia <- paste(\"-c\", PARAM$kaggle$competencia)\n",
    "  arch <- paste( \"-f\", archivo_kaggle)\n",
    "\n",
    "  mensaje <- paste0(\"-m 'envios=\", envios,\n",
    "  \"  semilla=\", PARAM$semilla_primigenia,\n",
    "    \"'\" )\n",
    "\n",
    "  linea <- paste( comando, competencia, arch, mensaje)\n",
    "\n",
    "  salida <- system(linea, intern=TRUE) # el submit a Kaggle\n",
    "  cat(salida, \"\\n\")\n",
    "}"
   ]
  },
  {
   "cell_type": "code",
   "execution_count": null,
   "id": "C94tK-xid6p2",
   "metadata": {
    "id": "C94tK-xid6p2"
   },
   "outputs": [],
   "source": [
    "# grabo los parametros\n",
    "if( !require(\"yaml\")) install.packages(\"yaml\")\n",
    "require(\"yaml\")\n",
    "\n",
    "write_yaml( PARAM, file=\"PARAM.yml\")"
   ]
  },
  {
   "cell_type": "code",
   "execution_count": null,
   "id": "1b615a62-20cc-4e95-9af2-6b6db38d5efb",
   "metadata": {
    "id": "1b615a62-20cc-4e95-9af2-6b6db38d5efb"
   },
   "outputs": [],
   "source": [
    "format(Sys.time(), \"%a %b %d %X %Y\")"
   ]
  }
 ],
 "metadata": {
  "colab": {
   "provenance": []
  },
  "kernelspec": {
   "display_name": "R",
   "language": "R",
   "name": "ir"
  },
  "language_info": {
   "codemirror_mode": "r",
   "file_extension": ".r",
   "mimetype": "text/x-r-source",
   "name": "R",
   "pygments_lexer": "r",
   "version": "4.4.3"
  }
 },
 "nbformat": 4,
 "nbformat_minor": 5
}
