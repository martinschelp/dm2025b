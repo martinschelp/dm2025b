{
 "cells": [
  {
   "cell_type": "code",
   "execution_count": 1,
   "id": "ebae660b",
   "metadata": {},
   "outputs": [],
   "source": [
    "\n",
    "import pandas as pd"
   ]
  },
  {
   "cell_type": "code",
   "execution_count": 2,
   "id": "64e792f6",
   "metadata": {},
   "outputs": [],
   "source": [
    "df = pd.read_csv('/Users/martinschelp/dm2025b/src/workflows/experiments_tracking - TareaHogar04.csv')"
   ]
  },
  {
   "cell_type": "code",
   "execution_count": 3,
   "id": "5a8c8c7a",
   "metadata": {},
   "outputs": [],
   "source": [
    "df.rename(columns={\"Metodo Drift\": \"drift\"}, inplace=True)"
   ]
  },
  {
   "cell_type": "code",
   "execution_count": 4,
   "id": "bfb21c27",
   "metadata": {},
   "outputs": [],
   "source": [
    "#change values to lower_case y snake_case\n",
    "df.drift = df.drift.str.lower()\n",
    "df.drift = df.drift.str.replace(\" \", \"_\")"
   ]
  },
  {
   "cell_type": "code",
   "execution_count": 5,
   "id": "dc0bb63c",
   "metadata": {},
   "outputs": [
    {
     "data": {
      "text/html": [
       "<div>\n",
       "<style scoped>\n",
       "    .dataframe tbody tr th:only-of-type {\n",
       "        vertical-align: middle;\n",
       "    }\n",
       "\n",
       "    .dataframe tbody tr th {\n",
       "        vertical-align: top;\n",
       "    }\n",
       "\n",
       "    .dataframe thead th {\n",
       "        text-align: right;\n",
       "    }\n",
       "</style>\n",
       "<table border=\"1\" class=\"dataframe\">\n",
       "  <thead>\n",
       "    <tr style=\"text-align: right;\">\n",
       "      <th></th>\n",
       "      <th>Experimento</th>\n",
       "      <th>date</th>\n",
       "      <th>publicScore</th>\n",
       "      <th>envios</th>\n",
       "      <th>semilla</th>\n",
       "      <th>num_leaves</th>\n",
       "      <th>min_data_in_leaf</th>\n",
       "      <th>feature_fraction</th>\n",
       "      <th>learning_rate</th>\n",
       "      <th>num_iterations</th>\n",
       "      <th>drift</th>\n",
       "    </tr>\n",
       "  </thead>\n",
       "  <tbody>\n",
       "    <tr>\n",
       "      <th>0</th>\n",
       "      <td>9105</td>\n",
       "      <td>NaN</td>\n",
       "      <td>7.506</td>\n",
       "      <td>1900.0</td>\n",
       "      <td>100379</td>\n",
       "      <td>256.0</td>\n",
       "      <td>4940.0</td>\n",
       "      <td>1.0</td>\n",
       "      <td>0.1</td>\n",
       "      <td>1139.0</td>\n",
       "      <td>ipc</td>\n",
       "    </tr>\n",
       "    <tr>\n",
       "      <th>1</th>\n",
       "      <td>9107</td>\n",
       "      <td>NaN</td>\n",
       "      <td>7.316</td>\n",
       "      <td>1900.0</td>\n",
       "      <td>101111</td>\n",
       "      <td>241.0</td>\n",
       "      <td>2727.0</td>\n",
       "      <td>1.0</td>\n",
       "      <td>0.1</td>\n",
       "      <td>779.0</td>\n",
       "      <td>ipc</td>\n",
       "    </tr>\n",
       "    <tr>\n",
       "      <th>2</th>\n",
       "      <td>9108</td>\n",
       "      <td>NaN</td>\n",
       "      <td>6.715</td>\n",
       "      <td>1800.0</td>\n",
       "      <td>250007</td>\n",
       "      <td>216.0</td>\n",
       "      <td>4912.0</td>\n",
       "      <td>1.0</td>\n",
       "      <td>0.1</td>\n",
       "      <td>207.0</td>\n",
       "      <td>ipc</td>\n",
       "    </tr>\n",
       "    <tr>\n",
       "      <th>3</th>\n",
       "      <td>9109</td>\n",
       "      <td>NaN</td>\n",
       "      <td>8.136</td>\n",
       "      <td>2000.0</td>\n",
       "      <td>700001</td>\n",
       "      <td>255.0</td>\n",
       "      <td>5247.0</td>\n",
       "      <td>1.0</td>\n",
       "      <td>0.1</td>\n",
       "      <td>859.0</td>\n",
       "      <td>ipc</td>\n",
       "    </tr>\n",
       "    <tr>\n",
       "      <th>4</th>\n",
       "      <td>9110</td>\n",
       "      <td>NaN</td>\n",
       "      <td>7.836</td>\n",
       "      <td>2400.0</td>\n",
       "      <td>800011</td>\n",
       "      <td>216.0</td>\n",
       "      <td>7393.0</td>\n",
       "      <td>1.0</td>\n",
       "      <td>0.1</td>\n",
       "      <td>454.0</td>\n",
       "      <td>ipc</td>\n",
       "    </tr>\n",
       "  </tbody>\n",
       "</table>\n",
       "</div>"
      ],
      "text/plain": [
       "   Experimento date  publicScore  envios  semilla  num_leaves  \\\n",
       "0         9105  NaN        7.506  1900.0   100379       256.0   \n",
       "1         9107  NaN        7.316  1900.0   101111       241.0   \n",
       "2         9108  NaN        6.715  1800.0   250007       216.0   \n",
       "3         9109  NaN        8.136  2000.0   700001       255.0   \n",
       "4         9110  NaN        7.836  2400.0   800011       216.0   \n",
       "\n",
       "   min_data_in_leaf  feature_fraction  learning_rate  num_iterations drift  \n",
       "0            4940.0               1.0            0.1          1139.0   ipc  \n",
       "1            2727.0               1.0            0.1           779.0   ipc  \n",
       "2            4912.0               1.0            0.1           207.0   ipc  \n",
       "3            5247.0               1.0            0.1           859.0   ipc  \n",
       "4            7393.0               1.0            0.1           454.0   ipc  "
      ]
     },
     "execution_count": 5,
     "metadata": {},
     "output_type": "execute_result"
    }
   ],
   "source": [
    "df.head()"
   ]
  },
  {
   "cell_type": "code",
   "execution_count": 6,
   "id": "b2c02a67",
   "metadata": {},
   "outputs": [
    {
     "name": "stdout",
     "output_type": "stream",
     "text": [
      "['ipc', 'nucleo', 'dolar_blue', 'std', 'ninguno', 'rank__simple', 'rank_cero_fijo']\n"
     ]
    }
   ],
   "source": [
    "drift_methods = df.drift.unique().tolist()\n",
    "print(drift_methods)"
   ]
  },
  {
   "cell_type": "code",
   "execution_count": 7,
   "id": "5bab4ded",
   "metadata": {},
   "outputs": [],
   "source": [
    "ipc = df[df.drift == 'ipc']['publicScore']\n",
    "nucleo = df[df.drift == 'nucleo']['publicScore']\n",
    "dolar_blue = df[df.drift == 'dolar_blue']['publicScore']\n",
    "ninguno = df[df.drift == 'ninguno']['publicScore']\n",
    "rank_simple = df[df.drift == 'rank_simple']['publicScore']"
   ]
  },
  {
   "cell_type": "markdown",
   "id": "ada63035",
   "metadata": {},
   "source": [
    "# R"
   ]
  },
  {
   "cell_type": "code",
   "execution_count": 8,
   "id": "f70d0d16",
   "metadata": {},
   "outputs": [
    {
     "ename": "SyntaxError",
     "evalue": "invalid syntax (2625145487.py, line 10)",
     "output_type": "error",
     "traceback": [
      "  \u001b[36mCell\u001b[39m\u001b[36m \u001b[39m\u001b[32mIn[8]\u001b[39m\u001b[32m, line 10\u001b[39m\n\u001b[31m    \u001b[39m\u001b[31mdf[, drift := tolower(drift)]\u001b[39m\n       ^\n\u001b[31mSyntaxError\u001b[39m\u001b[31m:\u001b[39m invalid syntax\n"
     ]
    }
   ],
   "source": [
    "library(data.table)\n",
    "\n",
    "# Read the CSV\n",
    "df <- fread('/Users/martinschelp/dm2025b/src/workflows/experiments_tracking - TareaHogar04.csv')\n",
    "\n",
    "# Rename column\n",
    "setnames(df, \"Metodo Drift\", \"drift\")\n",
    "\n",
    "# Convert to lower case and replace spaces with underscores\n",
    "df[, drift := tolower(drift)]\n",
    "df[, drift := gsub(\" \", \"_\", drift)]\n",
    "\n",
    "df <- df[!is.na(df$publicScore)]\n",
    "\n",
    "# Print head of data\n",
    "head(df)\n",
    "\n",
    "# Get unique drift methods\n",
    "drift_methods <- unique(df$drift)\n",
    "print(drift_methods)\n",
    "\n",
    "# Create separate vectors for each drift method\n",
    "score_by_drift <- list(\n",
    "  ipc = df[drift == \"ipc\", publicScore],\n",
    "  nucleo = df[drift == \"nucleo\", publicScore],\n",
    "  dolar_blue = df[drift == \"dolar_blue\", publicScore],\n",
    "  ninguno = df[drift == \"ninguno\", publicScore],\n",
    "  rank_simple = df[drift == \"rank_simple\", publicScore]\n",
    ")\n"
   ]
  },
  {
   "cell_type": "code",
   "execution_count": null,
   "id": "a2c7542e",
   "metadata": {},
   "outputs": [],
   "source": [
    "wt <- wilcox.test(score_by_drift$ipc, score_by_drift$nucleo)\n",
    "pvalue <- wt$p.value\n",
    "out <- 0\n",
    "if (pvalue < 0.05 && mean(score_by_drift$ipc) > mean(score_by_drift$nucleo)) {\n",
    "  out <- 1\n",
    "} else if (pvalue < 0.05 && mean(score_by_drift$ipc) < mean(score_by_drift$nucleo)) {\n",
    "  out <- 2\n",
    "}\n",
    "print(out)"
   ]
  },
  {
   "cell_type": "code",
   "execution_count": null,
   "id": "af6cf109",
   "metadata": {},
   "outputs": [
    {
     "name": "stderr",
     "output_type": "stream",
     "text": [
      "Warning message in wilcox.test.default(scores1, scores2):\n",
      "\"cannot compute exact p-value with ties\"\n",
      "Warning message in wilcox.test.default(scores1, scores2):\n",
      "\"cannot compute exact p-value with ties\"\n"
     ]
    },
    {
     "name": "stdout",
     "output_type": "stream",
     "text": [
      "      method1     method2     pvalue  mean1   mean2          result\n",
      "1  dolar_blue         ipc 0.21874201 6.9455 7.50180 NOT-SIGNIFICANT\n",
      "2         ipc      nucleo 0.05555556 7.5018 6.79300 NOT-SIGNIFICANT\n",
      "3  dolar_blue      nucleo 0.41269841 6.9455 6.79300 NOT-SIGNIFICANT\n",
      "4     ninguno      nucleo 0.69047619 7.0094 6.79300 NOT-SIGNIFICANT\n",
      "5         ipc     ninguno 0.22222222 7.5018 7.00940 NOT-SIGNIFICANT\n",
      "6  dolar_blue     ninguno 1.00000000 6.9455 7.00940 NOT-SIGNIFICANT\n",
      "7         ipc rank_simple 0.01587302 7.5018 5.50175          1 WINS\n",
      "8      nucleo rank_simple 0.08509993 6.7930 5.50175 NOT-SIGNIFICANT\n",
      "9  dolar_blue rank_simple 0.11428571 6.9455 5.50175 NOT-SIGNIFICANT\n",
      "10    ninguno rank_simple 0.03174603 7.0094 5.50175          1 WINS\n"
     ]
    }
   ],
   "source": [
    "# Get all unique pairs of methods\n",
    "methods <- names(score_by_drift)\n",
    "pairs <- expand.grid(method1 = methods, method2 = methods, stringsAsFactors = FALSE)  # Prevent factor conversion\n",
    "pairs <- pairs[pairs$method1 < pairs$method2, ]  # Keep only unique pairs\n",
    "\n",
    "# Function to compare two methods\n",
    "compare_methods <- function(method1, method2) {\n",
    "  # Convert to numeric if needed\n",
    "  scores1 <- as.numeric(score_by_drift[[method1]])\n",
    "  scores2 <- as.numeric(score_by_drift[[method2]])\n",
    "  \n",
    "  wt <- wilcox.test(scores1, scores2)\n",
    "  pvalue <- wt$p.value\n",
    "  \n",
    "  out <- \"NOT-SIGNIFICANT\"\n",
    "  if (pvalue < 0.05 && mean(scores1) > mean(scores2)) {\n",
    "    out <- \"1 WINS\"  # method1 significantly better\n",
    "  } else if (pvalue < 0.05 && mean(scores1) < mean(scores2)) {\n",
    "    out <- \"2 WINS\"  # method2 significantly better\n",
    "  }\n",
    "  \n",
    "  return(data.frame(\n",
    "    method1 = method1,\n",
    "    method2 = method2,\n",
    "    pvalue = pvalue,\n",
    "    mean1 = mean(scores1),\n",
    "    mean2 = mean(scores2),\n",
    "    result = out\n",
    "  ))\n",
    "}\n",
    "\n",
    "# Apply comparison to all pairs\n",
    "results <- do.call(rbind, \n",
    "  lapply(1:nrow(pairs), function(i) {\n",
    "    compare_methods(pairs$method1[i], pairs$method2[i])\n",
    "  })\n",
    ")\n",
    "\n",
    "# Print results in a nice format\n",
    "print(results)"
   ]
  }
 ],
 "metadata": {
  "kernelspec": {
   "display_name": ".venv",
   "language": "python",
   "name": "python3"
  },
  "language_info": {
   "codemirror_mode": {
    "name": "ipython",
    "version": 3
   },
   "file_extension": ".py",
   "mimetype": "text/x-python",
   "name": "python",
   "nbconvert_exporter": "python",
   "pygments_lexer": "ipython3",
   "version": "3.13.0"
  }
 },
 "nbformat": 4,
 "nbformat_minor": 5
}
