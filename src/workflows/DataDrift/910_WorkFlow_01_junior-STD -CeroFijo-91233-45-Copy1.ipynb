{
 "cells": [
  {
   "cell_type": "markdown",
   "id": "859d38e7-11c0-48bc-978a-d0e907f19ed1",
   "metadata": {
    "id": "859d38e7-11c0-48bc-978a-d0e907f19ed1"
   },
   "source": [
    "# 9 WorkFlow Analista Jr"
   ]
  },
  {
   "cell_type": "markdown",
   "id": "29c586e3-ed7d-44b2-92a0-f19669f06940",
   "metadata": {
    "id": "29c586e3-ed7d-44b2-92a0-f19669f06940"
   },
   "source": [
    "### 9.1 Objetivo"
   ]
  },
  {
   "cell_type": "markdown",
   "id": "6fff8327-10ed-4b11-bbee-f1c3f357d123",
   "metadata": {
    "id": "6fff8327-10ed-4b11-bbee-f1c3f357d123"
   },
   "source": [
    "Presentar un workflow/pipeline completo al que los estudiantes deberán\n",
    "<br>El Analista Jr corre sus scripts en la virtual manchine **desktop-jr** que tiene estas características\n",
    "\n",
    "\n",
    "*   Normal, paga tarifa completa, nunca es apagada por Google\n",
    "*   reside en el datacenter de Sao Paulo, Brasil\n",
    "*   64 GB de memoria RAM\n",
    "*   8 vCPU\n",
    "\n"
   ]
  },
  {
   "cell_type": "markdown",
   "id": "oSKhZRToy2F7",
   "metadata": {
    "id": "oSKhZRToy2F7"
   },
   "source": [
    "## 9.3  Workflow"
   ]
  },
  {
   "cell_type": "markdown",
   "id": "85171302-a2d6-48cb-b9b2-8d839a276859",
   "metadata": {
    "id": "85171302-a2d6-48cb-b9b2-8d839a276859"
   },
   "source": [
    "## Inicializacion"
   ]
  },
  {
   "cell_type": "markdown",
   "id": "eSU5vi00CPRS",
   "metadata": {
    "id": "eSU5vi00CPRS"
   },
   "source": [
    "Esta parte se debe correr con el runtime en lenguaje **R** Ir al menu, Runtime -> Change Runtime Type -> Runtime type -> R"
   ]
  },
  {
   "cell_type": "code",
   "execution_count": null,
   "id": "a5451f78-08a0-48ba-8555-839e189f1761",
   "metadata": {
    "id": "EL8wdHaUs59K"
   },
   "outputs": [],
   "source": [
    "format(Sys.time(), \"%a %b %d %X %Y\")"
   ]
  },
  {
   "cell_type": "code",
   "execution_count": null,
   "id": "c0b15123-74d0-4033-a698-a450cee2a580",
   "metadata": {},
   "outputs": [],
   "source": [
    "# 7 horas = 25200 segundos\n",
    "#Sys.sleep(25200) \n",
    "\n",
    "#cat(\"¡Se cumplieron las 7 horas!\\n\")"
   ]
  },
  {
   "cell_type": "code",
   "execution_count": null,
   "id": "b908a386-2661-4deb-a28f-28d403ae09c1",
   "metadata": {
    "id": "EL8wdHaUs59K"
   },
   "outputs": [],
   "source": [
    "format(Sys.time(), \"%a %b %d %X %Y\")"
   ]
  },
  {
   "cell_type": "code",
   "execution_count": null,
   "id": "6e7e7508-48df-4f62-a7c3-b735a90eeb2b",
   "metadata": {
    "id": "1iE0U4_WCPRT"
   },
   "outputs": [],
   "source": [
    "# limpio la memoria\n",
    "rm(list=ls(all.names=TRUE)) # remove all objects\n",
    "gc(full=TRUE, verbose=FALSE) # garbage collection"
   ]
  },
  {
   "cell_type": "code",
   "execution_count": null,
   "id": "526a1644-3fdd-419c-91d3-1ddba5d00e90",
   "metadata": {
    "id": "atmIUEUNUrK5"
   },
   "outputs": [],
   "source": [
    "require(\"data.table\")\n",
    "\n",
    "if( !require(\"R.utils\")) install.packages(\"R.utils\")\n",
    "require(\"R.utils\")"
   ]
  },
  {
   "cell_type": "markdown",
   "id": "47a11ccb-1294-401f-a992-976b0ab59a1e",
   "metadata": {
    "id": "BsxZ_ONyj9L_"
   },
   "source": [
    "#### Parametros"
   ]
  },
  {
   "cell_type": "code",
   "execution_count": null,
   "id": "d59cee02-beba-4301-9e24-259c7a396317",
   "metadata": {
    "id": "peRH7ySLCPRV"
   },
   "outputs": [],
   "source": [
    "PARAM <- list()\n",
    "PARAM$semilla_primigenia <- 250007\n",
    "\n",
    "PARAM$experimento <- 91233\n",
    "PARAM$dataset <- \"analistajr_competencia_2025.csv.gz\""
   ]
  },
  {
   "cell_type": "markdown",
   "id": "d1275b4a-fbb1-494a-a4b0-bf07e880b9cd",
   "metadata": {
    "id": "NoJbKo_4NG8A"
   },
   "source": [
    "#### Carpeta del Experimento"
   ]
  },
  {
   "cell_type": "code",
   "execution_count": null,
   "id": "21a528a9-c1e6-46a7-99ee-ba94db2dd316",
   "metadata": {
    "id": "1gZD6ZMvCPRV"
   },
   "outputs": [],
   "source": [
    "# carpeta de trabajo\n",
    "\n",
    "setwd(\"/content/buckets/b1/exp\")\n",
    "experimento_folder <- paste0(\"WF\", PARAM$experimento)\n",
    "dir.create(experimento_folder, showWarnings=FALSE)\n",
    "setwd( paste0(\"/content/buckets/b1/exp/\", experimento_folder ))"
   ]
  },
  {
   "cell_type": "markdown",
   "id": "59037e97-4338-48d8-92a7-2ff0d21d4a9a",
   "metadata": {
    "id": "YVKBfLtkR8SO"
   },
   "source": [
    "### 9.3.1   Preprocesamiento del dataset"
   ]
  },
  {
   "cell_type": "markdown",
   "id": "1eb4f8db-986a-4b51-94b5-3b04c08be338",
   "metadata": {
    "id": "cr3K0RPVRjq6"
   },
   "source": [
    "#### 9.3.1.1  DT incorporar dataset"
   ]
  },
  {
   "cell_type": "code",
   "execution_count": null,
   "id": "d7e1244e-b40b-4ff3-8c4a-ddb9577f86c6",
   "metadata": {
    "id": "Xi0emX2ECPRV"
   },
   "outputs": [],
   "source": [
    "# lectura del dataset\n",
    "dataset <- fread(paste0(\"/content/datasets/\", PARAM$dataset))"
   ]
  },
  {
   "cell_type": "markdown",
   "id": "9f8ba890-2bdc-4192-884f-eea602fd1ab9",
   "metadata": {
    "id": "MWuPzK3nSLY3",
    "jp-MarkdownHeadingCollapsed": true
   },
   "source": [
    "#### 9.3.1.2  CA  Catastrophe Analysis\n",
    "Se intentan reparar las variables que para un mes están con todos los valores en cero."
   ]
  },
  {
   "cell_type": "markdown",
   "id": "c7f1b6ea-699d-49ff-aee5-b947710ec30d",
   "metadata": {
    "id": "UAI16-yCVcBS"
   },
   "source": [
    "El método que se utiliza es **Machine Learning** se asigna NA also valores, si ha leido bien, es la \"anti imputación de valores faltantes\"\n",
    "<br> Usted podrá aplicar aquí otros métodos"
   ]
  },
  {
   "cell_type": "code",
   "execution_count": null,
   "id": "0d48c00a-c6eb-4558-aafa-f42d45f6a6e6",
   "metadata": {
    "id": "JB9nRyNKNBzy"
   },
   "outputs": [],
   "source": [
    "if( !require(\"mice\")) install.packages(\"mice\", repos = \"http://cran.us.r-project.org\")\n",
    "require(\"mice\")"
   ]
  },
  {
   "cell_type": "code",
   "execution_count": null,
   "id": "1b51b7fd-e833-4209-9b23-4a6f721bc8fa",
   "metadata": {
    "id": "QuraTbvTMmpf"
   },
   "outputs": [],
   "source": [
    "# Escrito por alumnos de  Universidad Austral  Rosario\n",
    "\n",
    "Corregir_MICE <- function(pcampo, pmeses) {\n",
    "\n",
    "  meth <- rep(\"\", ncol(dataset))\n",
    "  names(meth) <- colnames(dataset)\n",
    "  meth[names(meth) == pcampo] <- \"sample\"\n",
    "\n",
    "  # llamada a mice  !\n",
    "  imputacion <- mice(dataset,\n",
    "    method = meth,\n",
    "    maxit = 5,\n",
    "    m = 1,\n",
    "    seed = 7)\n",
    "\n",
    "  tbl <- mice::complete(dataset)\n",
    "\n",
    "  dataset[, paste0(pcampo) := ifelse(foto_mes %in% pmeses, tbl[, get(pcampo)], get(pcampo))]\n",
    "\n",
    "}\n"
   ]
  },
  {
   "cell_type": "code",
   "execution_count": null,
   "id": "a7788a36-fadd-4040-885a-ca7e62f98729",
   "metadata": {
    "id": "mUDX04VTJz3M"
   },
   "outputs": [],
   "source": [
    "Corregir_interpolar <- function(pcampo, pmeses) {\n",
    "\n",
    "  tbl <- dataset[, list(\n",
    "    \"v1\" = shift(get(pcampo), 1, type = \"lag\"),\n",
    "    \"v2\" = shift(get(pcampo), 1, type = \"lead\")\n",
    "  ),\n",
    "  by = eval(envg$PARAM$dataset_metadata$entity_id)\n",
    "  ]\n",
    "\n",
    "  tbl[, paste0(envg$PARAM$dataset_metadata$entity_id) := NULL]\n",
    "  tbl[, promedio := rowMeans(tbl, na.rm = TRUE)]\n",
    "\n",
    "  dataset[\n",
    "    ,\n",
    "    paste0(pcampo) := ifelse(!(foto_mes %in% pmeses),\n",
    "      get(pcampo),\n",
    "      tbl$promedio\n",
    "    )\n",
    "  ]\n",
    "}"
   ]
  },
  {
   "cell_type": "code",
   "execution_count": null,
   "id": "8d74708f-6108-4840-acc4-ced1f7c21f90",
   "metadata": {
    "id": "Yyt2YmrbJ1zf"
   },
   "outputs": [],
   "source": [
    "AsignarNA_campomeses <- function(pcampo, pmeses) {\n",
    "\n",
    "  if( pcampo %in% colnames( dataset ) ) {\n",
    "\n",
    "    dataset[ foto_mes %in% pmeses, paste0(pcampo) := NA ]\n",
    "  }\n",
    "}"
   ]
  },
  {
   "cell_type": "code",
   "execution_count": null,
   "id": "a5c0cdbb-60b3-4568-ab43-2a0323b628b6",
   "metadata": {
    "id": "aFBlFw7hJ4EW"
   },
   "outputs": [],
   "source": [
    "\n",
    "Corregir_atributo <- function(pcampo, pmeses, pmetodo)\n",
    "{\n",
    "  # si el campo no existe en el dataset, Afuera !\n",
    "  if( !(pcampo %in% colnames( dataset )) )\n",
    "    return( 1 )\n",
    "\n",
    "  # llamo a la funcion especializada que corresponde\n",
    "  switch( pmetodo,\n",
    "    \"MachineLearning\"     = AsignarNA_campomeses(pcampo, pmeses),\n",
    "    \"EstadisticaClasica\"  = Corregir_interpolar(pcampo, pmeses),\n",
    "    \"MICE\"                = Corregir_MICE(pcampo, pmeses),\n",
    "  )\n",
    "\n",
    "  return( 0 )\n",
    "}"
   ]
  },
  {
   "cell_type": "code",
   "execution_count": null,
   "id": "784958d8-6a5b-48bc-ba09-7351e831f0c9",
   "metadata": {
    "id": "krkr3JCxJ9Px"
   },
   "outputs": [],
   "source": [
    "\n",
    "Corregir_Rotas <- function(dataset, pmetodo) {\n",
    "  gc(verbose= FALSE)\n",
    "  cat( \"inicio Corregir_Rotas()\\n\")\n",
    "  # acomodo los errores del dataset\n",
    "\n",
    "  Corregir_atributo(\"active_quarter\", c(202006), pmetodo) # 1\n",
    "  Corregir_atributo(\"internet\", c(202006), pmetodo) # 2\n",
    "\n",
    "  Corregir_atributo(\"mrentabilidad\", c(201905, 201910, 202006), pmetodo) # 3\n",
    "  Corregir_atributo(\"mrentabilidad_annual\", c(201905, 201910, 202006), pmetodo) # 4\n",
    "\n",
    "  Corregir_atributo(\"mcomisiones\", c(201905, 201910, 202006), pmetodo) # 5\n",
    "\n",
    "  Corregir_atributo(\"mactivos_margen\", c(201905, 201910, 202006), pmetodo) # 6\n",
    "  Corregir_atributo(\"mpasivos_margen\", c(201905, 201910, 202006), pmetodo) # 7\n",
    "\n",
    "  Corregir_atributo(\"mcuentas_saldo\", c(202006), pmetodo) # 8\n",
    "\n",
    "  Corregir_atributo(\"ctarjeta_debito_transacciones\", c(202006), pmetodo) # 9\n",
    "\n",
    "  Corregir_atributo(\"mautoservicio\", c(202006), pmetodo) # 10\n",
    "\n",
    "  Corregir_atributo(\"ctarjeta_visa_transacciones\", c(202006), pmetodo) # 11\n",
    "  Corregir_atributo(\"mtarjeta_visa_consumo\", c(202006), pmetodo) # 12\n",
    "\n",
    "  Corregir_atributo(\"ctarjeta_master_transacciones\", c(202006), pmetodo) # 13\n",
    "  Corregir_atributo(\"mtarjeta_master_consumo\", c(202006), pmetodo) # 14\n",
    "\n",
    "  Corregir_atributo(\"ctarjeta_visa_debitos_automaticos\", c(201904), pmetodo) # 15\n",
    "  Corregir_atributo(\"mttarjeta_visa_debitos_automaticos\", c(201904), pmetodo) # 16\n",
    "\n",
    "  Corregir_atributo(\"ccajeros_propios_descuentos\",\n",
    "    c(201910, 202002, 202006, 202009, 202010, 202102), pmetodo) # 17\n",
    "\n",
    "  Corregir_atributo(\"mcajeros_propios_descuentos\",\n",
    "    c(201910, 202002, 202006, 202009, 202010, 202102), pmetodo) # 18\n",
    "\n",
    "  Corregir_atributo(\"ctarjeta_visa_descuentos\",\n",
    "    c(201910, 202002, 202006, 202009, 202010, 202102), pmetodo) # 19\n",
    "\n",
    "  Corregir_atributo(\"mtarjeta_visa_descuentos\",\n",
    "    c(201910, 202002, 202006, 202009, 202010, 202102), pmetodo) # 20\n",
    "\n",
    "  Corregir_atributo(\"ctarjeta_master_descuentos\",\n",
    "    c(201910, 202002, 202006, 202009, 202010, 202102), pmetodo) # 21\n",
    "\n",
    "  Corregir_atributo(\"mtarjeta_master_descuentos\",\n",
    "    c(201910, 202002, 202006, 202009, 202010, 202102), pmetodo) # 22\n",
    "\n",
    "  Corregir_atributo(\"ccomisiones_otras\", c(201905, 201910, 202006), pmetodo) # 23\n",
    "  Corregir_atributo(\"mcomisiones_otras\", c(201905, 201910, 202006), pmetodo) # 24\n",
    "\n",
    "  Corregir_atributo(\"cextraccion_autoservicio\", c(202006), pmetodo) # 25\n",
    "  Corregir_atributo(\"mextraccion_autoservicio\", c(202006), pmetodo) # 26\n",
    "\n",
    "  Corregir_atributo(\"ccheques_depositados\", c(202006), pmetodo) # 27\n",
    "  Corregir_atributo(\"mcheques_depositados\", c(202006), pmetodo) # 28\n",
    "  Corregir_atributo(\"ccheques_emitidos\", c(202006), pmetodo) # 29\n",
    "  Corregir_atributo(\"mcheques_emitidos\", c(202006), pmetodo) # 30\n",
    "  Corregir_atributo(\"ccheques_depositados_rechazados\", c(202006), pmetodo) # 31\n",
    "  Corregir_atributo(\"mcheques_depositados_rechazados\", c(202006), pmetodo) # 32\n",
    "  Corregir_atributo(\"ccheques_emitidos_rechazados\", c(202006), pmetodo) # 33\n",
    "  Corregir_atributo(\"mcheques_emitidos_rechazados\", c(202006), pmetodo) # 34\n",
    "\n",
    "  Corregir_atributo(\"tcallcenter\", c(202006), pmetodo) # 35\n",
    "  Corregir_atributo(\"ccallcenter_transacciones\", c(202006), pmetodo) # 36\n",
    "\n",
    "  Corregir_atributo(\"thomebanking\", c(202006), pmetodo) # 37\n",
    "  Corregir_atributo(\"chomebanking_transacciones\", c(201910, 202006), pmetodo) # 38\n",
    "\n",
    "  Corregir_atributo(\"ccajas_transacciones\", c(202006), pmetodo) # 39\n",
    "  Corregir_atributo(\"ccajas_consultas\", c(202006), pmetodo) # 40\n",
    "\n",
    "  Corregir_atributo(\"ccajas_depositos\", c(202006, 202105), pmetodo) # 41\n",
    "\n",
    "  Corregir_atributo(\"ccajas_extracciones\", c(202006), pmetodo) # 41\n",
    "  Corregir_atributo(\"ccajas_otras\", c(202006), pmetodo) # 43\n",
    "\n",
    "  Corregir_atributo(\"catm_trx\", c(202006), pmetodo) # 44\n",
    "  Corregir_atributo(\"matm\", c(202006), pmetodo) # 45\n",
    "  Corregir_atributo(\"catm_trx_other\", c(202006), pmetodo) # 46\n",
    "  Corregir_atributo(\"matm_other\", c(202006), pmetodo) # 47\n",
    "\n",
    "  cat( \"fin Corregir_rotas()\\n\")\n",
    "}\n"
   ]
  },
  {
   "cell_type": "code",
   "execution_count": null,
   "id": "b49b5107-e566-42d6-a76b-56979bf6bf18",
   "metadata": {
    "id": "HaW4TeBIMxTn"
   },
   "outputs": [],
   "source": [
    "# resuelvo el Catastrophe Analysis\n",
    "\n",
    "setorder( dataset, numero_de_cliente, foto_mes )\n",
    "\n",
    "PARAM$CA$metodo= \"MachineLearning\"\n",
    "\n",
    "if( PARAM$CA$metodo %in% c(\"MachineLearning\", \"EstadisticaClasica\", \"MICE\") )\n",
    "  Corregir_Rotas(dataset, PARAM$CA$metodo)"
   ]
  },
  {
   "cell_type": "markdown",
   "id": "d53d2b5f-1cf8-4062-9af2-799ffcbb5cf4",
   "metadata": {
    "id": "-4NiANYFSYHG"
   },
   "source": [
    "#### 9.3.1.3  DR  Data Drifting\n",
    "Se intenta corregir el data drifting, ajustando por algunos indices financieros"
   ]
  },
  {
   "cell_type": "code",
   "execution_count": null,
   "id": "2997ea89-3226-433d-a83b-00e5c4c2161f",
   "metadata": {
    "id": "XXPLxqc1ShLN"
   },
   "outputs": [],
   "source": [
    "# meses que me interesan para el ajuste de variables monetarias\n",
    "vfoto_mes <- c(\n",
    "  201901, 201902, 201903, 201904, 201905, 201906,\n",
    "  201907, 201908, 201909, 201910, 201911, 201912,\n",
    "  202001, 202002, 202003, 202004, 202005, 202006,\n",
    "  202007, 202008, 202009, 202010, 202011, 202012,\n",
    "  202101, 202102, 202103, 202104, 202105, 202106,\n",
    "  202107, 202108, 202109\n",
    ")\n"
   ]
  },
  {
   "cell_type": "code",
   "execution_count": null,
   "id": "0dd83bd1-7aeb-475e-a226-37878bbba02a",
   "metadata": {
    "id": "sjjUe3waSh8D"
   },
   "outputs": [],
   "source": [
    "# los valores que siguen fueron calculados por alumnos\n",
    "\n",
    "# momento 1.0  Sep-2021\n",
    "vIPC <- c(2.787281901122360, 2.686132306921320, 2.566052833332770,\n",
    "  2.480603534259520, 2.406972565811860, 2.343282033546600,\n",
    "  2.292887450432550, 2.205675360182500, 2.083072734166780,\n",
    "  2.016654576841490, 1.934356651408890, 1.864553234816590,\n",
    "  1.823472319453580, 1.787479114947270, 1.729648848066530,\n",
    "  1.704145079892160, 1.678254046331520, 1.641427967120310,\n",
    "  1.610281979296860, 1.567945714631560, 1.524712170969590,\n",
    "  1.469446722849830, 1.424438664000510, 1.369579245086460,\n",
    "  1.316282576323060, 1.270854218792650, 1.212522114036500,\n",
    "  1.164987215923810, 1.127519974398630, 1.092827636775390,\n",
    "  1.061028266084610, 1.035467879533110, 1.000000000000000)\n",
    "\n",
    "vdolar_blue <- c(\n",
    "   39.045455,  38.402500,  41.639474,\n",
    "   44.274737,  46.095455,  45.063333,\n",
    "   43.983333,  54.842857,  61.059524,\n",
    "   65.545455,  66.750000,  72.368421,\n",
    "   77.477273,  78.191667,  82.434211,\n",
    "  101.087500, 126.236842, 125.857143,\n",
    "  130.782609, 133.400000, 137.954545,\n",
    "  170.619048, 160.400000, 153.052632,\n",
    "  157.900000, 149.380952, 143.615385,\n",
    "  146.250000, 153.550000, 162.000000,\n",
    "  178.478261, 180.878788, 184.357143\n",
    ")\n",
    "\n",
    "vdolar_oficial <- c(\n",
    "   38.430000,  39.428000,  42.542105,\n",
    "   44.354211,  46.088636,  44.955000,\n",
    "   43.751429,  54.650476,  58.790000,\n",
    "   61.403182,  63.012632,  63.011579,\n",
    "   62.983636,  63.580556,  65.200000,\n",
    "   67.872000,  70.047895,  72.520952,\n",
    "   75.324286,  77.488500,  79.430909,\n",
    "   83.134762,  85.484737,  88.181667,\n",
    "   91.474000,  93.997778,  96.635909,\n",
    "   98.526000,  99.613158, 100.619048,\n",
    "  101.619048, 102.569048, 103.781818\n",
    ")\n",
    "\n",
    "vNucleo <- c(2.9509401776, 2.8413904076, 2.7169681247,\n",
    "  2.6183338075, 2.5376976850, 2.4702213038,\n",
    "  2.4182843036, 2.3110987598, 2.1713146424,\n",
    "  2.0917312214, 2.0117031138, 1.9402570077,\n",
    "  1.8940250995, 1.8499633664, 1.7939805354,\n",
    "  1.7637193990, 1.7358472741, 1.6965692402,\n",
    "  1.6546523624, 1.6059398018, 1.5695744147,\n",
    "  1.5170891738, 1.4596143906, 1.3918188786,\n",
    "  1.3393707547, 1.2869937330, 1.2312659603,\n",
    "  1.1775806320, 1.1379817057, 1.0983355780,\n",
    "  1.0649648892, 1.0326212556, 1.0000000000)\n"
   ]
  },
  {
   "cell_type": "code",
   "execution_count": null,
   "id": "64cc84b7-72b4-499a-9e94-9a3f5f19fd32",
   "metadata": {
    "id": "RSF9i9nyWwKs"
   },
   "outputs": [],
   "source": [
    "tb_indices <- as.data.table( list(\n",
    "  \"IPC\" = vIPC,\n",
    "  \"dolar_blue\" = vdolar_blue,\n",
    "  \"dolar_oficial\" = vdolar_oficial,\n",
    "  \"Nucleo\" = vNucleo\n",
    "  )\n",
    ")\n",
    "\n",
    "tb_indices[[ 'foto_mes' ]] <- vfoto_mes\n",
    "\n",
    "tb_indices"
   ]
  },
  {
   "cell_type": "code",
   "execution_count": null,
   "id": "65eb8e04-f4b3-4a03-8262-24d7c9628b29",
   "metadata": {
    "id": "oq2zlvpkSmAU"
   },
   "outputs": [],
   "source": [
    "drift_Nucleo <- function(campos_monetarios) {\n",
    "  cat( \"inicio drift_Nucleo()\\n\")\n",
    "\n",
    "  dataset[tb_indices,\n",
    "    on = c(\"foto_mes\"),\n",
    "    (campos_monetarios) := .SD * i.Nucleo,\n",
    "    .SDcols = campos_monetarios\n",
    "  ]\n",
    "\n",
    "  cat( \"fin drift_Nucleo()\\n\")\n",
    "}\n"
   ]
  },
  {
   "cell_type": "code",
   "execution_count": null,
   "id": "f9f097ed-2e0e-4519-b4d6-f76d4f03dadc",
   "metadata": {
    "id": "h2QbqSn8Sojj"
   },
   "outputs": [],
   "source": [
    "drift_dolar_oficial <- function(campos_monetarios) {\n",
    "  cat( \"inicio drift_dolar_oficial()\\n\")\n",
    "\n",
    "  dataset[tb_indices,\n",
    "    on = c(\"foto_mes\"),\n",
    "    (campos_monetarios) := .SD / i.dolar_oficial,\n",
    "    .SDcols = campos_monetarios\n",
    "  ]\n",
    "\n",
    "  cat( \"fin drift_dolar_oficial()\\n\")\n",
    "}\n"
   ]
  },
  {
   "cell_type": "code",
   "execution_count": null,
   "id": "266a854a-2db6-426d-80fd-6a2acbd49065",
   "metadata": {
    "id": "DMTgpq9VSqqM"
   },
   "outputs": [],
   "source": [
    "drift_dolar_blue <- function(campos_monetarios) {\n",
    "  cat( \"inicio drift_dolar_blue()\\n\")\n",
    "\n",
    "  dataset[tb_indices,\n",
    "    on = c(\"foto_mes\"),\n",
    "    (campos_monetarios) := .SD / i.dolar_blue,\n",
    "    .SDcols = campos_monetarios\n",
    "  ]\n",
    "\n",
    "  cat( \"fin drift_dolar_blue()\\n\")\n",
    "}\n"
   ]
  },
  {
   "cell_type": "code",
   "execution_count": null,
   "id": "44e1d893-90ed-4267-8a4f-999712bea120",
   "metadata": {
    "id": "7n171_BoStAj"
   },
   "outputs": [],
   "source": [
    "drift_IPC <- function(campos_monetarios) {\n",
    "  cat( \"inicio drift_IPC()\\n\")\n",
    "\n",
    "  dataset[tb_indices,\n",
    "    on = c(\"foto_mes\"),\n",
    "    (campos_monetarios) := .SD * i.IPC,\n",
    "    .SDcols = campos_monetarios\n",
    "  ]\n",
    "\n",
    "  cat( \"fin drift_IPC()\\n\")\n",
    "}\n"
   ]
  },
  {
   "cell_type": "code",
   "execution_count": null,
   "id": "d23b3f10-f34b-4932-b423-900378653ccf",
   "metadata": {
    "id": "Z94UizNySv0m"
   },
   "outputs": [],
   "source": [
    "drift_rank_simple <- function(campos_drift) {\n",
    "\n",
    "  cat( \"inicio drift_rank_simple()\\n\")\n",
    "  for (campo in campos_drift)\n",
    "  {\n",
    "    cat(campo, \" \")\n",
    "    dataset[, paste0(campo, \"_rank\") :=\n",
    "      (frank(get(campo), ties.method = \"random\") - 1) / (.N - 1), by = list(foto_mes)]\n",
    "    dataset[, (campo) := NULL]\n",
    "  }\n",
    "  cat( \"fin drift_rank_simple()\\n\")\n",
    "}\n"
   ]
  },
  {
   "cell_type": "code",
   "execution_count": null,
   "id": "f09277cc-b027-409e-842b-ca83263cbc52",
   "metadata": {
    "id": "GnbUIXeWSyQm"
   },
   "outputs": [],
   "source": [
    "# El cero se transforma en cero\n",
    "# los positivos se rankean por su lado\n",
    "# los negativos se rankean por su lado\n",
    "\n",
    "drift_rank_cero_fijo <- function(campos_drift) {\n",
    "\n",
    "  cat( \"inicio drift_rank_cero_fijo()\\n\")\n",
    "  for (campo in campos_drift)\n",
    "  {\n",
    "    cat(campo, \" \")\n",
    "    dataset[get(campo) == 0, paste0(campo, \"_rank\") := 0]\n",
    "    dataset[get(campo) > 0, paste0(campo, \"_rank\") :=\n",
    "      frank(get(campo), ties.method = \"random\") / .N, by = list(foto_mes)]\n",
    "\n",
    "    dataset[get(campo) < 0, paste0(campo, \"_rank\") :=\n",
    "      -frank(-get(campo), ties.method = \"random\") / .N, by = list(foto_mes)]\n",
    "    dataset[, (campo) := NULL]\n",
    "  }\n",
    "  cat(\"\\n\")\n",
    "  cat( \"fin drift_rank_cero_fijo()\\n\")\n",
    "}\n"
   ]
  },
  {
   "cell_type": "code",
   "execution_count": null,
   "id": "e0f5bb83-2333-41ba-a9e4-86b378969a88",
   "metadata": {
    "id": "dhlyk-WxS040"
   },
   "outputs": [],
   "source": [
    "drift_estandarizar <- function(campos_drift) {\n",
    "  cat(\"inicio drift_estandarizar()\\n\")\n",
    "  for (campo in campos_drift) {\n",
    "    cat(campo, \" \")\n",
    "    \n",
    "    # Check if column exists\n",
    "    if (!campo %in% names(dataset)) {\n",
    "      warning(paste(\"Column\", campo, \"not found in dataset\"))\n",
    "      next\n",
    "    }\n",
    "    \n",
    "    # Standardize by foto_mes groups\n",
    "    dataset[, paste0(campo, \"_normal\") := {\n",
    "      valores <- get(campo)\n",
    "      media <- mean(valores, na.rm = TRUE)\n",
    "      desv <- sd(valores, na.rm = TRUE)\n",
    "      \n",
    "      # Handle cases where sd = 0 (constant values)\n",
    "      if (is.na(desv) || desv == 0) {\n",
    "        rep(0, length(valores))  # or rep(NA, length(valores))\n",
    "      } else {\n",
    "        (valores - media) / desv\n",
    "      }\n",
    "    }, by = foto_mes]\n",
    "    \n",
    "    # Remove original column\n",
    "    dataset[, (campo) := NULL]\n",
    "  }\n",
    "  cat(\"fin drift_estandarizar()\\n\")\n",
    "}"
   ]
  },
  {
   "cell_type": "code",
   "execution_count": null,
   "id": "0dc7b973-9f50-473e-b304-407d93f76167",
   "metadata": {
    "id": "tlJjlN6PVanz"
   },
   "outputs": [],
   "source": [
    "# por como armé los nombres de campos,\n",
    "#  estos son los campos que expresan variables monetarias\n",
    "campos_monetarios <- colnames(dataset)\n",
    "campos_monetarios <- campos_monetarios[campos_monetarios %like%\n",
    "  \"^(m|Visa_m|Master_m|vm_m)\"]\n",
    "\n",
    "campos_monetarios"
   ]
  },
  {
   "cell_type": "code",
   "execution_count": null,
   "id": "b49cfd50-2795-4abc-86b4-527262998c9c",
   "metadata": {
    "id": "G_8BH82XS3uV"
   },
   "outputs": [],
   "source": [
    "# ejecuto el Data Drifting\n",
    "setorder( dataset, numero_de_cliente, foto_mes )\n",
    "\n",
    "\n",
    "PARAM$DR$metodo <- \"estandarizar\"\n",
    "\n",
    "switch(PARAM$DR$metodo,\n",
    "  \"ninguno\"        = cat(\"No hay correccion del data drifting\"),\n",
    "  \"rank_simple\"    = drift_rank_simple(campos_monetarios),\n",
    "  \"rank_cero_fijo\" = drift_rank_cero_fijo(campos_monetarios),\n",
    "  \"IPC\"      = drift_IPC(campos_monetarios),\n",
    "  \"dolar_blue\"     = drift_dolar_blue(campos_monetarios),\n",
    "  \"dolar_oficial\"  = drift_dolar_oficial(campos_monetarios),\n",
    "  \"Nucleo\"            = drift_Nucleo(campos_monetarios),\n",
    "  \"estandarizar\"   = drift_estandarizar(campos_monetarios)\n",
    ")\n"
   ]
  },
  {
   "cell_type": "code",
   "execution_count": null,
   "id": "48e77440-c667-4de0-bc7e-4c4333ec9713",
   "metadata": {
    "id": "-efBawbTWPKc"
   },
   "outputs": [],
   "source": [
    "colnames(dataset)"
   ]
  },
  {
   "cell_type": "markdown",
   "id": "31484336-77b5-463a-b5a0-60e54a42fc23",
   "metadata": {
    "id": "rZ11c9KcFoAp"
   },
   "source": [
    "head(dataset)"
   ]
  },
  {
   "cell_type": "code",
   "execution_count": null,
   "id": "76483f84-6ef5-4f6f-a7cd-e15aca6f1a38",
   "metadata": {
    "id": "L85A2lwKSe3k"
   },
   "outputs": [],
   "source": [
    "# se intenta corregir el data drifting utilizando algunos indices financieros"
   ]
  },
  {
   "cell_type": "markdown",
   "id": "f3fa3e67-d28a-4e94-8af1-fa313f852acd",
   "metadata": {
    "id": "7sppIDYeSn5X",
    "jp-MarkdownHeadingCollapsed": true
   },
   "source": [
    "#### 9.3.1.3  FE_intra_manual Feature Engineering intra-mes\n",
    "\n",
    "Agrego campos nuevos dentro del mismo mes, SIN considerar la historia."
   ]
  },
  {
   "cell_type": "code",
   "execution_count": null,
   "id": "281835e1-41cc-4d9b-9807-6d386587afed",
   "metadata": {
    "id": "qrqf3j3_St3p"
   },
   "outputs": [],
   "source": [
    "# esta funcion atributos presentes existe debido a que las modalidades poseen datasets con distinta cantidad de campos\n",
    "atributos_presentes <- function( patributos )\n",
    "{\n",
    "  atributos <- unique( patributos )\n",
    "  comun <- intersect( atributos, colnames(dataset) )\n",
    "\n",
    "  return(  length( atributos ) == length( comun ) )\n",
    "}\n",
    "\n",
    "# el mes 1,2, ..12\n",
    "if( atributos_presentes( c(\"foto_mes\") ))\n",
    "  dataset[, kmes := foto_mes %% 100]\n",
    "\n",
    "# variable extraida de una tesis de maestria de Irlanda\n",
    "if( atributos_presentes( c(\"mpayroll\", \"cliente_edad\") ))\n",
    "  dataset[, mpayroll_sobre_edad := mpayroll / cliente_edad]\n"
   ]
  },
  {
   "cell_type": "code",
   "execution_count": null,
   "id": "c0d04a3e-cd0a-4164-bf4e-51ed46ef4cc7",
   "metadata": {
    "id": "iC4viwOdY5Kp"
   },
   "outputs": [],
   "source": [
    "# visualizo las columas del dataset a esta etapa\n",
    "colnames(dataset)"
   ]
  },
  {
   "cell_type": "markdown",
   "id": "f89fc58d-d4d4-465a-b791-1a481f06f24e",
   "metadata": {
    "id": "9682b4ca-3ab3-4bbc-a36a-b185361e6b6b",
    "jp-MarkdownHeadingCollapsed": true
   },
   "source": [
    "#### 9.3.1.4  FE_rf Feature Engineering de nuevas variables a partir de hojas de Random Forest"
   ]
  },
  {
   "cell_type": "code",
   "execution_count": null,
   "id": "ade8bbb1-f3cd-4cd3-af6b-d57a7779641f",
   "metadata": {
    "id": "Vd09ZaybfUeK"
   },
   "outputs": [],
   "source": [
    "if( !require(\"lightgbm\")) install.packages(\"lightgbm\")\n",
    "require(\"lightgbm\")"
   ]
  },
  {
   "cell_type": "code",
   "execution_count": null,
   "id": "741f8b74-e46c-4fe0-9d66-c1f98398cab4",
   "metadata": {
    "id": "JrsaXcQqcefM"
   },
   "outputs": [],
   "source": [
    "AgregaVarRandomForest <- function() {\n",
    "\n",
    "  cat( \"inicio AgregaVarRandomForest()\\n\")\n",
    "  gc(verbose= FALSE)\n",
    "  dataset[, clase01 := 0L ]\n",
    "  dataset[ clase_ternaria %in% PARAM$FE_rf$train$clase01_valor1,\n",
    "      clase01 := 1L ]\n",
    "\n",
    "  campos_buenos <- setdiff(\n",
    "    colnames(dataset),\n",
    "    c( \"clase_ternaria\", \"clase01\")\n",
    "  )\n",
    "\n",
    "  dataset[, entrenamiento :=\n",
    "    as.integer( foto_mes %in% PARAM$FE_rf$train$training )]\n",
    "\n",
    "  dtrain <- lgb.Dataset(\n",
    "    data = data.matrix(dataset[entrenamiento == TRUE, campos_buenos, with = FALSE]),\n",
    "    label = dataset[entrenamiento == TRUE, clase01],\n",
    "    free_raw_data = FALSE\n",
    "  )\n",
    "\n",
    "  modelo <- lgb.train(\n",
    "     data = dtrain,\n",
    "     param = PARAM$FE_rf$lgb_param,\n",
    "     verbose = -100\n",
    "  )\n",
    "\n",
    "  cat( \"Fin construccion RandomForest\\n\" )\n",
    "  # grabo el modelo, achivo .model\n",
    "  lgb.save(modelo, file=\"modelo.model\" )\n",
    "\n",
    "  qarbolitos <- copy(PARAM$FE_rf$lgb_param$num_iterations)\n",
    "\n",
    "  periodos <- dataset[ , unique( foto_mes ) ]\n",
    "\n",
    "  for( periodo in  periodos )\n",
    "  {\n",
    "    cat( \"periodo = \", periodo, \"\\n\" )\n",
    "    datamatrix <- data.matrix(dataset[ foto_mes== periodo, campos_buenos, with = FALSE])\n",
    "\n",
    "    cat( \"Inicio prediccion\\n\" )\n",
    "    prediccion <- predict(\n",
    "        modelo,\n",
    "        datamatrix,\n",
    "        type = \"leaf\"\n",
    "    )\n",
    "    cat( \"Fin prediccion\\n\" )\n",
    "\n",
    "    for( arbolito in 1:qarbolitos )\n",
    "    {\n",
    "       cat( arbolito, \" \" )\n",
    "       hojas_arbol <- unique(prediccion[ , arbolito])\n",
    "\n",
    "       for (pos in 1:length(hojas_arbol)) {\n",
    "         # el numero de nodo de la hoja, estan salteados\n",
    "         nodo_id <- hojas_arbol[pos]\n",
    "         dataset[ foto_mes== periodo, paste0(\n",
    "            \"rf_\", sprintf(\"%03d\", arbolito),\n",
    "             \"_\", sprintf(\"%03d\", nodo_id)\n",
    "          ) :=  as.integer( nodo_id == prediccion[ , arbolito]) ]\n",
    "\n",
    "       }\n",
    "\n",
    "       rm( hojas_arbol )\n",
    "    }\n",
    "    cat( \"\\n\" )\n",
    "\n",
    "    rm( prediccion )\n",
    "    rm( datamatrix )\n",
    "    gc(verbose= FALSE)\n",
    "  }\n",
    "\n",
    "  gc(verbose= FALSE)\n",
    "\n",
    "  # borro clase01 , no debe ensuciar el dataset\n",
    "  dataset[ , clase01 := NULL ]\n",
    "\n",
    "}\n"
   ]
  },
  {
   "cell_type": "code",
   "execution_count": null,
   "id": "7df3f241-ef67-44c8-8315-0493cba7e3b2",
   "metadata": {
    "id": "i6vcLtXldMpz"
   },
   "outputs": [],
   "source": [
    "# Parametros de Feature Engineering  a partir de hojas de Random Forest\n",
    "\n",
    "# Estos CUATRO parametros son los que se deben modificar\n",
    "PARAM$FE_rf$arbolitos= 20\n",
    "PARAM$FE_rf$hojas_por_arbol= 16\n",
    "PARAM$FE_rf$datos_por_hoja= 100\n",
    "PARAM$FE_rf$mtry_ratio= 0.2\n",
    "\n",
    "# Estos son quasi fijos\n",
    "PARAM$FE_rf$train$clase01_valor1 <- c( \"BAJA+2\", \"BAJA+1\")\n",
    "PARAM$FE_rf$train$training <- c( 202101, 202102, 202103)\n",
    "\n",
    "# Estos TAMBIEN son quasi fijos\n",
    "PARAM$FE_rf$lgb_param <-list(\n",
    "    # parametros que se pueden cambiar\n",
    "    num_iterations = PARAM$FE_rf$arbolitos,\n",
    "    num_leaves  = PARAM$FE_rf$hojas_por_arbol,\n",
    "    min_data_in_leaf = PARAM$FE_rf$datos_por_hoja,\n",
    "    feature_fraction_bynode  = PARAM$FE_rf$mtry_ratio,\n",
    "\n",
    "    # para que LightGBM emule Random Forest\n",
    "    boosting = \"rf\",\n",
    "    bagging_fraction = ( 1.0 - 1.0/exp(1.0) ),\n",
    "    bagging_freq = 1.0,\n",
    "    feature_fraction = 1.0,\n",
    "\n",
    "    # genericos de LightGBM\n",
    "    max_bin = 31L,\n",
    "    objective = \"binary\",\n",
    "    first_metric_only = TRUE,\n",
    "    boost_from_average = TRUE,\n",
    "    feature_pre_filter = FALSE,\n",
    "    force_row_wise = TRUE,\n",
    "    verbosity = -100,\n",
    "    max_depth = -1L,\n",
    "    min_gain_to_split = 0.0,\n",
    "    min_sum_hessian_in_leaf = 0.001,\n",
    "    lambda_l1 = 0.0,\n",
    "    lambda_l2 = 0.0,\n",
    "\n",
    "    pos_bagging_fraction = 1.0,\n",
    "    neg_bagging_fraction = 1.0,\n",
    "    is_unbalance = FALSE,\n",
    "    scale_pos_weight = 1.0,\n",
    "\n",
    "    drop_rate = 0.1,\n",
    "    max_drop = 50,\n",
    "    skip_drop = 0.5,\n",
    "\n",
    "    extra_trees = FALSE\n",
    "  )"
   ]
  },
  {
   "cell_type": "code",
   "execution_count": null,
   "id": "d7954349-0e50-4c02-8aba-ab51e7cbc1e3",
   "metadata": {
    "id": "GTTj4VdBezcE"
   },
   "outputs": [],
   "source": [
    "# Feature Engineering agregando variables de Random Forest\n",
    "AgregaVarRandomForest()"
   ]
  },
  {
   "cell_type": "code",
   "execution_count": null,
   "id": "d0e7fbc1-e430-40a4-abe6-66b331afd2e2",
   "metadata": {
    "id": "bs2vXYFuiXGu"
   },
   "outputs": [],
   "source": [
    "ncol(dataset)\n",
    "colnames(dataset)"
   ]
  },
  {
   "cell_type": "code",
   "execution_count": null,
   "id": "7fa9f987-831d-435b-9bcd-223610869a76",
   "metadata": {
    "id": "ljA3h0jOcciP"
   },
   "outputs": [],
   "source": [
    "# No se implementa Feature Engineering a partir de Random Forest"
   ]
  },
  {
   "cell_type": "markdown",
   "id": "fb155364-4428-4949-bb51-12be6449135a",
   "metadata": {
    "id": "XaRBjQj8ZRUZ",
    "jp-MarkdownHeadingCollapsed": true
   },
   "source": [
    "#### 9.3.1.5  FEhist Feature Engineering historico\n",
    "\n",
    "El Fature Engineering Histórico es la etapa que más aporta a la ganancia final, ya que enriquece cada registro del dataset con su historia."
   ]
  },
  {
   "cell_type": "markdown",
   "id": "e6556f2a-1331-41fe-bdff-eda7522b92a1",
   "metadata": {
    "id": "cfe3b8cf-0707-4512-92e7-c1407bb3f73b"
   },
   "source": [
    "Para cada campo del dataset original (*)\n",
    "se crean lo siguientes campos de a partir de la historia\n",
    "* lag1  lags de orden 1\n",
    "* delta1  =  valor actual - lag1\n",
    "* lag2  lags de orden 2\n",
    "* delta2  = valor actual - lag2\n",
    "\n",
    "\n",
    "(*) Excepto para los campos  <numero_de_cliente,  foto_mes,  clase_ternaria>"
   ]
  },
  {
   "cell_type": "code",
   "execution_count": null,
   "id": "20ec460a-6eba-4c4b-a55e-550e1486a880",
   "metadata": {
    "id": "7850b948-827d-4a2a-b4d3-a5e459b47c11"
   },
   "outputs": [],
   "source": [
    "# Feature Engineering Historico\n",
    "\n",
    "# todo es lagueable, menos la primary key y la clase\n",
    "cols_lagueables <- copy( setdiff(\n",
    "    colnames(dataset),\n",
    "    c(\"numero_de_cliente\", \"foto_mes\", \"clase_ternaria\")\n",
    ") )\n",
    "\n",
    "# https://rdrr.io/cran/data.table/man/shift.html\n",
    "\n",
    "# lags de orden 1\n",
    "dataset[,\n",
    "    paste0(cols_lagueables, \"_lag1\") := shift(.SD, 1, NA, \"lag\"),\n",
    "    by = numero_de_cliente,\n",
    "    .SDcols = cols_lagueables\n",
    "]\n",
    "\n",
    "# lags de orden 2\n",
    "dataset[,\n",
    "    paste0(cols_lagueables, \"_lag2\") := shift(.SD, 2, NA, \"lag\"),\n",
    "    by = numero_de_cliente,\n",
    "    .SDcols = cols_lagueables\n",
    "]\n",
    "\n",
    "# agrego los delta lags\n",
    "for (vcol in cols_lagueables)\n",
    "{\n",
    "    dataset[, paste0(vcol, \"_delta1\") := get(vcol) - get(paste0(vcol, \"_lag1\"))]\n",
    "    dataset[, paste0(vcol, \"_delta2\") := get(vcol) - get(paste0(vcol, \"_lag2\"))]\n",
    "}\n"
   ]
  },
  {
   "cell_type": "markdown",
   "id": "1ead9fcb-41ae-469c-8bfb-d0249f90374e",
   "metadata": {
    "id": "cea690d9-ece9-4852-a5e2-f337c31b6721"
   },
   "source": [
    "Verificacion de los campos recien creados"
   ]
  },
  {
   "cell_type": "code",
   "execution_count": null,
   "id": "a82e5e68-395e-4a72-9d57-001260bd4bd6",
   "metadata": {
    "id": "f772896b-595a-47d4-8905-c15304ac9452"
   },
   "outputs": [],
   "source": [
    "ncol(dataset)\n",
    "colnames(dataset)"
   ]
  },
  {
   "cell_type": "markdown",
   "id": "63b717d0-03dd-42d9-9d4d-7870d7088670",
   "metadata": {
    "id": "l8mKij0XaDY0",
    "jp-MarkdownHeadingCollapsed": true
   },
   "source": [
    "#### 9.3.1.6  FEhist Reduccion dimensionalidad con canaritos\n",
    "\n",
    "Esta etapa solo se mostrará a la *modalidad Anlista Sr* por algun canal secreto de forma de no confundir a los *Analista Jr*  nni distraer con detalles operativos a la estratégica *Modalidad Gerencial*"
   ]
  },
  {
   "cell_type": "code",
   "execution_count": null,
   "id": "89b03287-060c-49b6-85e1-ae834c544da8",
   "metadata": {
    "id": "QrmnPtlBcEgx"
   },
   "outputs": [],
   "source": [
    "# No se implementa la reduccion de la dimensionalidad con canaritos"
   ]
  },
  {
   "cell_type": "markdown",
   "id": "9a5bbff5-cb38-4637-b0d6-fdc5b5a23e82",
   "metadata": {
    "id": "cf91ea5e-3341-4afb-8d05-cc4923d3d1e1"
   },
   "source": [
    "### 9.3.2 Modelado"
   ]
  },
  {
   "cell_type": "markdown",
   "id": "745b0c14-77d9-44f1-b002-329fe88e4887",
   "metadata": {
    "id": "526048e4-8cf2-4023-bd2d-a70e4e9ff157"
   },
   "source": [
    "#### 9.3.2.1 Training Strategy"
   ]
  },
  {
   "cell_type": "markdown",
   "id": "b5546bf1-3a08-4062-9c95-7ba0383703ee",
   "metadata": {
    "id": "f16bc1c1-b3ea-43ca-9d3c-53f8f9ab8ec1"
   },
   "source": [
    "Se hace una estrategia de entrenamiento muy sencilla, tomando todos los meses posibles, SIN eliminar nada x pandemia ni por ningun otro motivo\n",
    "\n",
    "* future = 202109  obviamente completo\n",
    "\n",
    "* final_train =  [ 201901, 202107 ]  SIN undersampling\n",
    "\n",
    "* training\n",
    "   * testing = NO HAY\n",
    "   * validation =  202107   completo, sin undersampling\n",
    "   * training = [ 201901, 202105 ]  donde se consideran el 100% de los CONTINUA"
   ]
  },
  {
   "cell_type": "code",
   "execution_count": null,
   "id": "cf128b4b-c2e4-43c7-b936-967fb2305a61",
   "metadata": {
    "id": "2c9c0a42-ba58-4264-8566-091a6161716f"
   },
   "outputs": [],
   "source": [
    "PARAM$trainingstrategy$validate <- c(202107)\n",
    "\n",
    "PARAM$trainingstrategy$training <- c(\n",
    "  201901, 201902, 201903, 201904, 201905, 201906,\n",
    "  201907, 201908, 201909, 201910, 201911, 201912,\n",
    "  202001, 202002, 202003, 202004, 202005, 202006,\n",
    "  202007, 202008, 202009, 202010, 202011, 202012,\n",
    "  202101, 202102, 202103, 202104, 202105\n",
    ")\n",
    "\n",
    "\n",
    "PARAM$trainingstrategy$training_pct <- 1.0\n",
    "\n",
    "\n",
    "PARAM$trainingstrategy$positivos <- c( \"BAJA+1\", \"BAJA+2\")"
   ]
  },
  {
   "cell_type": "code",
   "execution_count": null,
   "id": "9157a294-7db2-4917-b687-9c6b898db124",
   "metadata": {
    "id": "tv_trHWAj4a8"
   },
   "outputs": [],
   "source": [
    "# seteo la clase01   1={BAJA+1, BAJA+2}   0={CONTINUA}\n",
    "dataset[, clase01 := ifelse( clase_ternaria %in% PARAM$trainingstrategy$positivos, 1, 0 )]"
   ]
  },
  {
   "cell_type": "code",
   "execution_count": null,
   "id": "0572ed94-cbe0-4f40-9dc3-620242b249a2",
   "metadata": {
    "id": "Ud_XDKSIj8f_"
   },
   "outputs": [],
   "source": [
    "# los campos en los que se entrena\n",
    "campos_buenos <- copy( setdiff(\n",
    "    colnames(dataset), c(\"clase_ternaria\",\"clase01\",\"azar\"))\n",
    ")"
   ]
  },
  {
   "cell_type": "code",
   "execution_count": null,
   "id": "a93a4a53-ffb3-468a-9c77-d765b47e509a",
   "metadata": {
    "id": "rFKgZZPSj_Pa"
   },
   "outputs": [],
   "source": [
    "# preparo para que se puede hacer undersampling de los CONTINUA\n",
    "#  solamente por un tema de VELOCIDAD\n",
    "set.seed(PARAM$semilla_primigenia, kind = \"L'Ecuyer-CMRG\")\n",
    "dataset[, azar:=runif(nrow(dataset))]\n",
    "\n",
    "# undersampling de los CONTINUA\n",
    "dataset[, fold_train :=  foto_mes %in%  PARAM$trainingstrategy$training &\n",
    "    (clase_ternaria %in% c(\"BAJA+1\", \"BAJA+2\") |\n",
    "     azar < PARAM$trainingstrategy$training_pct ) ]\n",
    "\n",
    "\n",
    "if( !require(\"lightgbm\")) install.packages(\"lightgbm\")\n",
    "require(\"lightgbm\")\n",
    "\n",
    "dtrain <- lgb.Dataset(\n",
    "  data= data.matrix(dataset[fold_train == TRUE, campos_buenos, with = FALSE]),\n",
    "  label= dataset[fold_train == TRUE, clase01],\n",
    "  free_raw_data= TRUE\n",
    ")"
   ]
  },
  {
   "cell_type": "code",
   "execution_count": null,
   "id": "d70e9827-0772-4e72-b83b-d97a8a2f6435",
   "metadata": {
    "id": "B3yo98kQkHcP"
   },
   "outputs": [],
   "source": [
    "# datos de validation\n",
    "dvalidate <- lgb.Dataset(\n",
    "  data= data.matrix(dataset[foto_mes %in% PARAM$trainingstrategy$validate, campos_buenos, with = FALSE]),\n",
    "  label= dataset[foto_mes %in% PARAM$trainingstrategy$validate, clase01],\n",
    "  free_raw_data= TRUE\n",
    ")\n",
    "\n",
    "nrow(dvalidate)"
   ]
  },
  {
   "cell_type": "markdown",
   "id": "6af6d1b5-e970-42cb-b4dd-68c37e2e68d0",
   "metadata": {
    "id": "28e8f788-551c-4e50-9029-302ac0834287"
   },
   "source": [
    "####  9.3.2.2. Hyperparameter Tuning"
   ]
  },
  {
   "cell_type": "markdown",
   "id": "210ba18a-3fdb-4bd5-a69d-3e00898004b8",
   "metadata": {
    "id": "bf5fc836-e222-4aeb-a6a8-157346895ef7"
   },
   "source": [
    "* Clase binaria que se optimiza :  positivos = [ BAJA+1, BAJA+2 ]"
   ]
  },
  {
   "cell_type": "markdown",
   "id": "97665dc9-f2bc-4716-a776-09d7e68db147",
   "metadata": {
    "id": "885c03b5-77bc-4510-a930-0d1f14b52ffb"
   },
   "source": [
    "* Metrica que se optimiza **AUC** Area Under Curve de la  ROC Curve\n",
    "\n",
    "es muy importante notar que intencionalmente  **NO** se está optimizando la funcion de ganancia del problema"
   ]
  },
  {
   "cell_type": "markdown",
   "id": "765773c1-c4d0-4cc9-a860-7dd71545629e",
   "metadata": {
    "id": "b7e6f95c-66ef-4ab9-9ba3-fcc099816704"
   },
   "source": [
    "* Cantidad de iteraciones inteligentes de la Optimizacion Bayesiana = **10**"
   ]
  },
  {
   "cell_type": "markdown",
   "id": "791a635e-3ac2-4e4a-9b52-2c5ca44bf2f5",
   "metadata": {
    "id": "fe047a87-e2d0-4418-97dd-0a881e66d73a"
   },
   "source": [
    "* Parametros no default, fijos de LightGBM que no se optimizan\n",
    "  * max_bin = 31 , Alienigenas Ancestrales contruyeron las pirámides y dejaron a la humanidad en un jeroglifico  *max_bin=31*\n",
    "  * feature_fraction = 0.5  para poner algo que generalmente no falla\n",
    "  * learning_rate = 0.03  para que aprenda lento\n"
   ]
  },
  {
   "cell_type": "markdown",
   "id": "3b987303-2c8f-488e-962c-287156738369",
   "metadata": {
    "id": "1e7da08e-fe57-4681-beff-11fe963116bd"
   },
   "source": [
    "* Parametros que se optimizan en la Bayesian Optimization\n",
    "  * num_leaves  [8, 256]\n",
    "  * min_data_in_leaf  [8, 8192]"
   ]
  },
  {
   "cell_type": "code",
   "execution_count": null,
   "id": "30a31f73-7fa1-49c4-bcb3-f86a3c39430a",
   "metadata": {
    "id": "34V6y4GetKq_"
   },
   "outputs": [],
   "source": [
    "# paquetes necesarios para la Bayesian Optimization\n",
    "if(!require(\"DiceKriging\")) install.packages(\"DiceKriging\")\n",
    "require(\"DiceKriging\")\n",
    "\n",
    "if(!require(\"mlrMBO\")) install.packages(\"mlrMBO\")\n",
    "require(\"mlrMBO\")"
   ]
  },
  {
   "cell_type": "markdown",
   "id": "2d4e3ca6-605d-4dfd-8470-e695ff8dab42",
   "metadata": {
    "id": "UFbDSYtH0TTT"
   },
   "source": [
    "Definición de la Bayesian Optimization\n",
    "<br> Si se desea optimizar un hiperparámetro que esta como fijo, debe QUITARSE de param_fijos y agregarse a PARAM$hipeparametertuning$hs"
   ]
  },
  {
   "cell_type": "code",
   "execution_count": null,
   "id": "aa2913ab-d216-44a5-bb9e-6718a79bfb2d",
   "metadata": {
    "id": "5Uag3XGHqrfZ"
   },
   "outputs": [],
   "source": [
    "# un Analista Jr  debe poder animarse a hacer 100 iteraciones\n",
    "PARAM$hipeparametertuning$num_interations <- 20\n",
    "\n",
    "# parametros fijos del LightGBM\n",
    "PARAM$lgbm$param_fijos <- list(\n",
    "  objective= \"binary\",\n",
    "  metric= \"auc\",\n",
    "  first_metric_only= TRUE,\n",
    "  boost_from_average= TRUE,\n",
    "  feature_pre_filter= FALSE,\n",
    "  verbosity= -100,\n",
    "  force_row_wise= TRUE, # para evitar warning\n",
    "  seed= PARAM$semilla_primigenia,\n",
    "  max_bin= 31,\n",
    "\n",
    "  num_iterations= 9999,  # valor grande, lo limita early_stopping_rounds\n",
    "  early_stopping_rounds= 400\n",
    ")\n",
    "\n",
    "PARAM$hipeparametertuning$hs <- makeParamSet(\n",
    "  makeIntegerParam(\"num_leaves\", lower= 2L, upper= 256L),\n",
    "  makeIntegerParam(\"min_data_in_leaf\", lower= 2L, upper= 8192L),\n",
    "  makeNumericParam(\"feature_fraction\", lower= 0.1, upper= 0.9),\n",
    "  makeNumericParam(\"learning_rate\", lower= 0.01, upper= 0.5)\n",
    ")"
   ]
  },
  {
   "cell_type": "markdown",
   "id": "17998573-1498-4ca1-b97d-935b7f2a0093",
   "metadata": {
    "id": "FEa1UuuAz4yj"
   },
   "source": [
    "Función \"señora caja negra\"  que es llamada para verificar la realidad por la Bayesian Optimization"
   ]
  },
  {
   "cell_type": "code",
   "execution_count": null,
   "id": "5b6dd939-1c21-4b3d-afba-b9b60829bb0e",
   "metadata": {
    "id": "2c10f535-8d90-47d1-ac3d-9b4c24ec21d2"
   },
   "outputs": [],
   "source": [
    "# En  x llegan los parmaetros de la bayesiana\n",
    "#  devuelve la AUC en validate del modelo entrenado\n",
    "#  en el parametro x llegan los hiperparámetros que se estan optimizando\n",
    "\n",
    "EstimarGanancia_AUC_lightgbm <- function(x) {\n",
    "\n",
    "  # x pisa (o agrega) a param_fijos\n",
    "  param_completo <- modifyList(PARAM$lgbm$param_fijos, x)\n",
    "\n",
    "  # entreno LightGBM\n",
    "  modelo_train <- lgb.train(\n",
    "    data= dtrain,\n",
    "    valids= list(valid = dvalidate),\n",
    "    eval= \"auc\",\n",
    "    param= param_completo,\n",
    "    verbose= -100\n",
    "  )\n",
    "\n",
    "  # recupero la AUC en validation\n",
    "  AUC <- modelo_train$record_evals$valid$auc$eval[[modelo_train$best_iter]]\n",
    "\n",
    "  # esta es la forma de devolver un parametro extra\n",
    "  attr(AUC, \"extras\") <- list(\"num_iterations\"= modelo_train$best_iter)\n",
    "\n",
    "  # hago espacio en la memoria\n",
    "  rm(modelo_train)\n",
    "  gc(full= TRUE, verbose= FALSE)\n",
    "\n",
    "  message(format(Sys.time(), \"%a %b %d %X %Y\"), \" AUC \", AUC)\n",
    "\n",
    "  return(AUC)\n",
    "}"
   ]
  },
  {
   "cell_type": "markdown",
   "id": "c9de4106-fefb-4571-8dd0-f538c475b856",
   "metadata": {
    "id": "267a35d4-adaf-4271-a875-3864111333b7"
   },
   "source": [
    "seteo de la Bayesian Optimization (complejo)\n",
    "<br> copiado y pegado de la documentación de la librería"
   ]
  },
  {
   "cell_type": "code",
   "execution_count": null,
   "id": "3a32fef1-2164-4181-81cc-f5ae2b5c0c09",
   "metadata": {
    "id": "43c2a92d-1041-46b8-bff2-47297f209ed2"
   },
   "outputs": [],
   "source": [
    "configureMlr(show.learner.output = FALSE)\n",
    "\n",
    "# configuro la busqueda bayesiana,  los hiperparametros que se van a optimizar\n",
    "# por favor, no desesperarse por lo complejo\n",
    "obj.fun <- makeSingleObjectiveFunction(\n",
    "    fn= EstimarGanancia_AUC_lightgbm, # la funcion que voy a maximizar\n",
    "    minimize= FALSE, # estoy Maximizando AUC\n",
    "    noisy= FALSE,\n",
    "    par.set= PARAM$hipeparametertuning$hs,\n",
    "    has.simple.signature= FALSE # paso los parametros en una lista\n",
    ")\n",
    "\n",
    "# cada 600 segundos guardo el resultado intermedio\n",
    "ctrl <- makeMBOControl(\n",
    "    save.on.disk.at.time= 600,\n",
    "    save.file.path= \"HT.RDATA\"\n",
    ")\n",
    "\n",
    "# indico la cantidad de iteraciones que va a tener la Bayesian Optimization\n",
    "ctrl <- setMBOControlTermination(\n",
    "    ctrl,\n",
    "    iters= PARAM$hipeparametertuning$num_interations  # cantidad de iteraciones inteligentes\n",
    ")\n",
    "\n",
    "# defino el método estandar para la creacion de los puntos iniciales\n",
    "#   los \"No Inteligentes\"\n",
    "ctrl <- setMBOControlInfill(ctrl, crit = makeMBOInfillCritEI())\n",
    "\n",
    "# mas configuraciones\n",
    "surr.km <- makeLearner(\n",
    "    \"regr.km\",\n",
    "    predict.type= \"se\",\n",
    "    covtype= \"matern3_2\",\n",
    "    control= list(trace = TRUE)\n",
    ")"
   ]
  },
  {
   "cell_type": "markdown",
   "id": "9e45f5b8-a097-4e2f-8938-2cde6118a61a",
   "metadata": {
    "id": "6c1e5645-d26f-4923-a53f-f30471a4c4e8"
   },
   "source": [
    "Corrida de la Bayesian Optimization,  aqui se hace el trabajo pesado\n",
    "<br> por favor no se asuste con los warnings que pudieran aparecer\n",
    "\n",
    "Si corrío a medias y llegó a las iteraciones inteligentes, en el archivo binario HT.RDATA quedó lo ya procesado y es utilizado para retomar la corrida desde lo último que llegó a grabar."
   ]
  },
  {
   "cell_type": "code",
   "execution_count": null,
   "id": "b0593067-393f-41f4-bf15-7cd2c5f1d8a5",
   "metadata": {
    "id": "1f8cab3f-c7e2-4802-bfd1-5ad509922a4e",
    "scrolled": true
   },
   "outputs": [],
   "source": [
    "# inicio la optimizacion bayesiana\n",
    "\n",
    "if (!file.exists(\"HT.RDATA\")) {\n",
    "  bayesiana_salida <- mbo(obj.fun, learner= surr.km, control= ctrl)\n",
    "} else {\n",
    "  bayesiana_salida <- mboContinue(\"HT.RDATA\") # retomo en caso que ya exista\n",
    "}"
   ]
  },
  {
   "cell_type": "markdown",
   "id": "02df51ae-e318-48c7-b084-ba0d09c2baa6",
   "metadata": {
    "id": "36307612-964f-4df3-907a-1bc3c095f178"
   },
   "source": [
    "la bayesian optimization ha corrido, extraigo los mejores hiperparametros"
   ]
  },
  {
   "cell_type": "code",
   "execution_count": null,
   "id": "dcf64a8b-b967-472e-9b0a-4e1486a970cf",
   "metadata": {
    "id": "8c061a2a-3341-4006-a154-c95bb6cfd407"
   },
   "outputs": [],
   "source": [
    "# almaceno los resultados de la Bayesian Optimization\n",
    "# y capturo los mejores hiperparametros encontrados\n",
    "\n",
    "tb_bayesiana <- as.data.table(bayesiana_salida$opt.path)\n",
    "\n",
    "# ordeno en forma descendente por AUC = y\n",
    "setorder(tb_bayesiana, -y, -num_iterations)\n",
    "\n",
    "# grabo para eventualmente poder utilizarlos en OTRA corrida\n",
    "fwrite( tb_bayesiana,\n",
    "  file=\"BO_log.txt\",\n",
    "  sep=\"\\t\"\n",
    ")\n",
    "\n",
    "# los mejores hiperparámetros son los que quedaron en el registro 1 de la tabla\n",
    "PARAM$out$lgbm$mejores_hiperparametros <- tb_bayesiana[\n",
    "  1, # el primero es el de mejor AUC\n",
    "  list(num_leaves, min_data_in_leaf, num_iterations)\n",
    "]\n",
    "\n",
    "print(PARAM$out$lgbm$mejores_hiperparametros)"
   ]
  },
  {
   "cell_type": "markdown",
   "id": "d61f8003-178a-4bb1-a46f-756613855705",
   "metadata": {
    "id": "ddb554cb-1d96-4f6b-ae1c-c9a076f8dbdc"
   },
   "source": [
    "### 9.3.3 Produccion"
   ]
  },
  {
   "cell_type": "markdown",
   "id": "2cd5a5e5-2cd6-423e-bd99-de5095d3007e",
   "metadata": {
    "id": "c39492c3-756f-47a5-8747-93ade8275306"
   },
   "source": [
    "#### Final Training\n",
    "Construyo el modelo final, que es uno solo, no hace ningun tipo de particion < training, validation, testing>]"
   ]
  },
  {
   "cell_type": "markdown",
   "id": "f631a9f0-05fc-4475-a642-f151b869ee33",
   "metadata": {
    "id": "xhKi_G_sYQqq"
   },
   "source": [
    "##### Final Training Dataset\n",
    "\n",
    "Aqui esta la gran decision de en qué meses hago el Final Training\n",
    "<br> debo utilizar los mejores hiperparámetros que encontré en la optimización bayesiana"
   ]
  },
  {
   "cell_type": "code",
   "execution_count": null,
   "id": "625ff862-a020-45a4-8423-60985a986d95",
   "metadata": {
    "id": "qyHfS_X0zd7o"
   },
   "outputs": [],
   "source": [
    "PARAM$trainingstrategy$final_train <- c(\n",
    "  201901, 201902, 201903, 201904, 201905, 201906,\n",
    "  201907, 201908, 201909, 201910, 201911, 201912,\n",
    "  202001, 202002, 202003, 202004, 202005, 202006,\n",
    "  202007, 202008, 202009, 202010, 202011, 202012,\n",
    "  202101, 202102, 202103, 202104, 202105, 202106,\n",
    "  202107\n",
    ")\n",
    "\n",
    "\n",
    "dataset[, fold_final_train := foto_mes %in% PARAM$trainingstrategy$final_train ]\n",
    "\n",
    "# creo el dfinal_train en formato  LightGBM\n",
    "dfinal_train <- lgb.Dataset(\n",
    "  data= data.matrix(dataset[fold_final_train == TRUE, campos_buenos, with= FALSE]),\n",
    "  label= dataset[fold_final_train == TRUE, clase01],\n",
    "  free_raw_data= TRUE\n",
    ")\n",
    "\n",
    "nrow( dfinal_train) # verifico el tamaño"
   ]
  },
  {
   "cell_type": "markdown",
   "id": "25eaf3e4-d1fb-40ce-9966-bdb808d1529a",
   "metadata": {
    "id": "HATRyklxYUpT"
   },
   "source": [
    "##### Final Training Hyperparameters"
   ]
  },
  {
   "cell_type": "code",
   "execution_count": null,
   "id": "2c004bc6-9b6e-4ce2-b9f0-659d5404a69c",
   "metadata": {
    "id": "d6b9f33c-e0a0-4ea6-8169-4a6180cc5d01"
   },
   "outputs": [],
   "source": [
    "# uno los parametros fijos y los mejores encontrados de los variables\n",
    "fijos <- copy(PARAM$lgbm$param_fijos)\n",
    "\n",
    "# quito lo que optimice en la Bayesian Optimization\n",
    "fijos$num_iterations <- NULL\n",
    "fijos$early_stopping_rounds <- NULL\n",
    "\n",
    "# agrego a los hiperparametros fijos los que encontre con la Bayesian Optimization\n",
    "param_final <- c(fijos, PARAM$out$lgbm$mejores_hiperparametros)"
   ]
  },
  {
   "cell_type": "markdown",
   "id": "cd324abd-7612-445a-aad3-76f710461c2c",
   "metadata": {
    "id": "05d3494f-0401-4f3e-9b69-f488a737879d"
   },
   "source": [
    "##### Training\n",
    "Genero el modelo final, siempre sobre TODOS los datos de  final_train, sin hacer ningun tipo de undersampling de la clase mayoritaria"
   ]
  },
  {
   "cell_type": "code",
   "execution_count": null,
   "id": "4eb6a926-4945-4394-9e77-8a5b936cc7b6",
   "metadata": {
    "id": "fa239848-1c28-4ee5-984a-073903b4b279"
   },
   "outputs": [],
   "source": [
    "final_model <- lgb.train(\n",
    "  data= dfinal_train,\n",
    "  param= param_final,\n",
    "  verbose= -100\n",
    ")"
   ]
  },
  {
   "cell_type": "code",
   "execution_count": null,
   "id": "f482a5d5-ee60-4dc7-9fc7-dc082a7ec7cf",
   "metadata": {
    "id": "RC1ju-5MZN5s"
   },
   "outputs": [],
   "source": [
    "# grabo a disco el modelo en un formato para seres humanos ... ponele ...\n",
    "\n",
    "lgb.save(final_model, \"modelo.txt\")"
   ]
  },
  {
   "cell_type": "code",
   "execution_count": null,
   "id": "5608a85f-da93-4937-8f67-39a3e3cac68b",
   "metadata": {
    "id": "VEpv4RYOZHTU"
   },
   "outputs": [],
   "source": [
    "# ahora imprimo la importancia de variables\n",
    "\n",
    "tb_importancia <- as.data.table(lgb.importance(final_model))\n",
    "archivo_importancia <- \"impo.txt\"\n",
    "\n",
    "fwrite( tb_importancia,\n",
    "  file= archivo_importancia,\n",
    "  sep= \"\\t\"\n",
    ")"
   ]
  },
  {
   "cell_type": "markdown",
   "id": "b2d63c4c-b9e6-4218-ae2b-2435f6f0a812",
   "metadata": {
    "id": "7ea225b3-ce02-42e2-8330-b10ed250d172"
   },
   "source": [
    "#### Scoring"
   ]
  },
  {
   "cell_type": "markdown",
   "id": "0baa14fe-bb75-4494-b3fa-1f99853630b0",
   "metadata": {
    "id": "164981bb-f4c1-4228-8bc9-32e58a383c05"
   },
   "source": [
    "Aplico el modelo final a los datos del futuro"
   ]
  },
  {
   "cell_type": "code",
   "execution_count": null,
   "id": "9c5da0ed-93bc-441e-ba64-9c08dc608f83",
   "metadata": {
    "id": "eJ7RbT271v-R"
   },
   "outputs": [],
   "source": [
    "PARAM$trainingstrategy$future <- c(202109)\n",
    "\n",
    "dfuture <- dataset[ foto_mes %in% PARAM$trainingstrategy$future ]"
   ]
  },
  {
   "cell_type": "code",
   "execution_count": null,
   "id": "a11f634e-f7b2-4acd-a903-923dad962455",
   "metadata": {
    "id": "88ca61c8-fa24-4ce5-8be1-323aca018e8f"
   },
   "outputs": [],
   "source": [
    "# aplico final_model   a dfuture\n",
    "\n",
    "prediccion <- predict(\n",
    "  final_model,\n",
    "  data.matrix(dfuture[, campos_buenos, with= FALSE])\n",
    ")"
   ]
  },
  {
   "cell_type": "markdown",
   "id": "dc56e41b-cb54-4162-a0fe-c64480e852af",
   "metadata": {
    "id": "79u0ZvjJZblE"
   },
   "source": [
    "##### Tabla Prediccion"
   ]
  },
  {
   "cell_type": "code",
   "execution_count": null,
   "id": "b0aab63f-2e36-4f8b-97eb-fc70ff92705c",
   "metadata": {
    "id": "TB6aerGDZeTo"
   },
   "outputs": [],
   "source": [
    "tb_prediccion <- dfuture[, list(numero_de_cliente)]\n",
    "tb_prediccion[, prob := prediccion]\n",
    "\n",
    "# grabo las probabilidad del modelo\n",
    "#  me va a ser util para hacer Ensembles de modelos\n",
    "fwrite(tb_prediccion,\n",
    "  file= \"prediccion.txt\",\n",
    "  sep= \"\\t\"\n",
    ")"
   ]
  },
  {
   "cell_type": "markdown",
   "id": "6a1fa69d-fc53-4080-be81-30d84bea6c47",
   "metadata": {
    "id": "8412d838-5bd5-454e-b3a9-5eaa18d80a50"
   },
   "source": [
    "#### Kaggle Competition Submit"
   ]
  },
  {
   "cell_type": "markdown",
   "id": "efc07939-1617-46df-aab2-ff24af2bd556",
   "metadata": {
    "id": "55970cb6-856a-46e3-a893-7f36b8352b8e"
   },
   "source": [
    "Genero las salidas y hago los submits a Kaggle"
   ]
  },
  {
   "cell_type": "code",
   "execution_count": null,
   "id": "e75bada0-e025-4135-ae22-4d555c84dfec",
   "metadata": {
    "id": "e5fa2439-b0e9-49e0-a861-71d7315d6e1c"
   },
   "outputs": [],
   "source": [
    "# genero archivos con los  \"envios\" mejores\n",
    "# suba TODOS los archivos a Kaggle\n",
    "\n",
    "PARAM$kaggle$competencia <- \"data-mining-analista-jr-2025-b\"\n",
    "PARAM$kaggle$cortes <- seq(1800, 2400, by = 100)\n",
    "\n",
    "# ordeno por probabilidad descendente\n",
    "setorder(tb_prediccion, -prob)\n",
    "\n",
    "dir.create(\"kaggle\")\n",
    "\n",
    "for (envios in PARAM$kaggle$cortes) {\n",
    "\n",
    "  tb_prediccion[, Predicted := 0L] # seteo inicial a 0\n",
    "  tb_prediccion[1:envios, Predicted := 1L] # marclo los primeros\n",
    "\n",
    "  archivo_kaggle <- paste0(\"./kaggle/KA\", PARAM$experimento, \"_\", envios, \".csv\")\n",
    "\n",
    "  # grabo el archivo\n",
    "  fwrite(tb_prediccion[, list(numero_de_cliente, Predicted)],\n",
    "    file= archivo_kaggle,\n",
    "    sep= \",\"\n",
    "  )\n",
    "\n",
    "  # subida a Kaggle, armo la linea de comando\n",
    "  comando <- \"kaggle competitions submit\"\n",
    "  competencia <- paste(\"-c\", PARAM$kaggle$competencia)\n",
    "  arch <- paste( \"-f\", archivo_kaggle)\n",
    "\n",
    "  mensaje <- paste0(\"-m 'envios=\", envios,\n",
    "  \"  semilla=\", PARAM$semilla_primigenia,\n",
    "    \"'\" )\n",
    "\n",
    "  linea <- paste( comando, competencia, arch, mensaje)\n",
    "\n",
    "  salida <- system(linea, intern=TRUE) # el submit a Kaggle\n",
    "  cat(salida, \"\\n\")\n",
    "  Sys.sleep(60)\n",
    "}"
   ]
  },
  {
   "cell_type": "code",
   "execution_count": null,
   "id": "71638cef-9811-4885-869e-5caf0234b66e",
   "metadata": {
    "id": "C94tK-xid6p2"
   },
   "outputs": [],
   "source": [
    "# grabo los parametros\n",
    "if( !require(\"yaml\")) install.packages(\"yaml\")\n",
    "require(\"yaml\")\n",
    "\n",
    "write_yaml( PARAM, file=\"PARAM.yml\")"
   ]
  },
  {
   "cell_type": "code",
   "execution_count": null,
   "id": "958a496b-a054-4e98-98f2-affbe9ca3a1c",
   "metadata": {
    "id": "1b615a62-20cc-4e95-9af2-6b6db38d5efb"
   },
   "outputs": [],
   "source": [
    "format(Sys.time(), \"%a %b %d %X %Y\")"
   ]
  },
  {
   "cell_type": "code",
   "execution_count": null,
   "id": "55970225-2aae-45ea-9ba4-487ddd7a3279",
   "metadata": {
    "id": "EL8wdHaUs59K"
   },
   "outputs": [],
   "source": [
    "format(Sys.time(), \"%a %b %d %X %Y\")"
   ]
  },
  {
   "cell_type": "code",
   "execution_count": null,
   "id": "066bfcfa-3521-4e57-ba86-b9cb34f957bc",
   "metadata": {},
   "outputs": [],
   "source": [
    "# 7 horas = 25200 segundos\n",
    "#Sys.sleep(25200) \n",
    "\n",
    "#cat(\"¡Se cumplieron las 7 horas!\\n\")"
   ]
  },
  {
   "cell_type": "code",
   "execution_count": null,
   "id": "97efda46-7493-4502-af6f-f0e25c40f3c9",
   "metadata": {
    "id": "EL8wdHaUs59K"
   },
   "outputs": [],
   "source": [
    "format(Sys.time(), \"%a %b %d %X %Y\")"
   ]
  },
  {
   "cell_type": "code",
   "execution_count": null,
   "id": "a4e9a97f-a3d8-4341-b115-2838e38ef3dc",
   "metadata": {
    "id": "1iE0U4_WCPRT"
   },
   "outputs": [],
   "source": [
    "# limpio la memoria\n",
    "rm(list=ls(all.names=TRUE)) # remove all objects\n",
    "gc(full=TRUE, verbose=FALSE) # garbage collection"
   ]
  },
  {
   "cell_type": "code",
   "execution_count": null,
   "id": "fa0cca1e-0161-444a-821f-32b0bbcfa80c",
   "metadata": {
    "id": "atmIUEUNUrK5"
   },
   "outputs": [],
   "source": [
    "require(\"data.table\")\n",
    "\n",
    "if( !require(\"R.utils\")) install.packages(\"R.utils\")\n",
    "require(\"R.utils\")"
   ]
  },
  {
   "cell_type": "markdown",
   "id": "65cf2791-dc08-4f25-b66d-df20d57bb74a",
   "metadata": {
    "id": "BsxZ_ONyj9L_"
   },
   "source": [
    "#### Parametros"
   ]
  },
  {
   "cell_type": "code",
   "execution_count": null,
   "id": "4c9d0a89-48db-4a54-812a-9c548f257eab",
   "metadata": {
    "id": "peRH7ySLCPRV"
   },
   "outputs": [],
   "source": [
    "PARAM <- list()\n",
    "PARAM$semilla_primigenia <- 942869\n",
    "\n",
    "PARAM$experimento <- 9145\n",
    "PARAM$dataset <- \"analistajr_competencia_2025.csv.gz\""
   ]
  },
  {
   "cell_type": "markdown",
   "id": "3a7b1b17-1a65-4e45-b6cd-983208b2d196",
   "metadata": {
    "id": "NoJbKo_4NG8A"
   },
   "source": [
    "#### Carpeta del Experimento"
   ]
  },
  {
   "cell_type": "code",
   "execution_count": null,
   "id": "692f6d73-aeab-47c4-ae5b-88ea7a03bf40",
   "metadata": {
    "id": "1gZD6ZMvCPRV"
   },
   "outputs": [],
   "source": [
    "# carpeta de trabajo\n",
    "\n",
    "setwd(\"/content/buckets/b1/exp\")\n",
    "experimento_folder <- paste0(\"WF\", PARAM$experimento)\n",
    "dir.create(experimento_folder, showWarnings=FALSE)\n",
    "setwd( paste0(\"/content/buckets/b1/exp/\", experimento_folder ))"
   ]
  },
  {
   "cell_type": "markdown",
   "id": "6365a256-f8ab-4daa-898d-4eb161ea7626",
   "metadata": {
    "id": "YVKBfLtkR8SO"
   },
   "source": [
    "### 9.3.1   Preprocesamiento del dataset"
   ]
  },
  {
   "cell_type": "markdown",
   "id": "a9e68abb-9c54-4f4a-a9d4-adcf24369fe8",
   "metadata": {
    "id": "cr3K0RPVRjq6"
   },
   "source": [
    "#### 9.3.1.1  DT incorporar dataset"
   ]
  },
  {
   "cell_type": "code",
   "execution_count": null,
   "id": "819571ee-edab-4a63-964a-86631ac44c2e",
   "metadata": {
    "id": "Xi0emX2ECPRV"
   },
   "outputs": [],
   "source": [
    "# lectura del dataset\n",
    "dataset <- fread(paste0(\"/content/datasets/\", PARAM$dataset))"
   ]
  },
  {
   "cell_type": "markdown",
   "id": "64a1b6a9-dcb7-4e90-841a-915e7f6733f5",
   "metadata": {
    "id": "MWuPzK3nSLY3",
    "jp-MarkdownHeadingCollapsed": true
   },
   "source": [
    "#### 9.3.1.2  CA  Catastrophe Analysis\n",
    "Se intentan reparar las variables que para un mes están con todos los valores en cero."
   ]
  },
  {
   "cell_type": "markdown",
   "id": "1b2d0d05-6a58-4588-9711-059cb6cfb339",
   "metadata": {
    "id": "UAI16-yCVcBS"
   },
   "source": [
    "El método que se utiliza es **Machine Learning** se asigna NA also valores, si ha leido bien, es la \"anti imputación de valores faltantes\"\n",
    "<br> Usted podrá aplicar aquí otros métodos"
   ]
  },
  {
   "cell_type": "code",
   "execution_count": null,
   "id": "6428f276-6f51-4e48-a269-311c6db6f9bf",
   "metadata": {
    "id": "JB9nRyNKNBzy"
   },
   "outputs": [],
   "source": [
    "if( !require(\"mice\")) install.packages(\"mice\", repos = \"http://cran.us.r-project.org\")\n",
    "require(\"mice\")"
   ]
  },
  {
   "cell_type": "code",
   "execution_count": null,
   "id": "8e1c5721-e11f-4a8c-815e-4eb62b842f1a",
   "metadata": {
    "id": "QuraTbvTMmpf"
   },
   "outputs": [],
   "source": [
    "# Escrito por alumnos de  Universidad Austral  Rosario\n",
    "\n",
    "Corregir_MICE <- function(pcampo, pmeses) {\n",
    "\n",
    "  meth <- rep(\"\", ncol(dataset))\n",
    "  names(meth) <- colnames(dataset)\n",
    "  meth[names(meth) == pcampo] <- \"sample\"\n",
    "\n",
    "  # llamada a mice  !\n",
    "  imputacion <- mice(dataset,\n",
    "    method = meth,\n",
    "    maxit = 5,\n",
    "    m = 1,\n",
    "    seed = 7)\n",
    "\n",
    "  tbl <- mice::complete(dataset)\n",
    "\n",
    "  dataset[, paste0(pcampo) := ifelse(foto_mes %in% pmeses, tbl[, get(pcampo)], get(pcampo))]\n",
    "\n",
    "}\n"
   ]
  },
  {
   "cell_type": "code",
   "execution_count": null,
   "id": "f098c59b-40cd-4401-9f8c-1766a6cf09f5",
   "metadata": {
    "id": "mUDX04VTJz3M"
   },
   "outputs": [],
   "source": [
    "Corregir_interpolar <- function(pcampo, pmeses) {\n",
    "\n",
    "  tbl <- dataset[, list(\n",
    "    \"v1\" = shift(get(pcampo), 1, type = \"lag\"),\n",
    "    \"v2\" = shift(get(pcampo), 1, type = \"lead\")\n",
    "  ),\n",
    "  by = eval(envg$PARAM$dataset_metadata$entity_id)\n",
    "  ]\n",
    "\n",
    "  tbl[, paste0(envg$PARAM$dataset_metadata$entity_id) := NULL]\n",
    "  tbl[, promedio := rowMeans(tbl, na.rm = TRUE)]\n",
    "\n",
    "  dataset[\n",
    "    ,\n",
    "    paste0(pcampo) := ifelse(!(foto_mes %in% pmeses),\n",
    "      get(pcampo),\n",
    "      tbl$promedio\n",
    "    )\n",
    "  ]\n",
    "}"
   ]
  },
  {
   "cell_type": "code",
   "execution_count": null,
   "id": "aac22987-e868-4627-89c4-fd588a981aef",
   "metadata": {
    "id": "Yyt2YmrbJ1zf"
   },
   "outputs": [],
   "source": [
    "AsignarNA_campomeses <- function(pcampo, pmeses) {\n",
    "\n",
    "  if( pcampo %in% colnames( dataset ) ) {\n",
    "\n",
    "    dataset[ foto_mes %in% pmeses, paste0(pcampo) := NA ]\n",
    "  }\n",
    "}"
   ]
  },
  {
   "cell_type": "code",
   "execution_count": null,
   "id": "f8a38525-799d-47bf-88e5-4eb366387232",
   "metadata": {
    "id": "aFBlFw7hJ4EW"
   },
   "outputs": [],
   "source": [
    "\n",
    "Corregir_atributo <- function(pcampo, pmeses, pmetodo)\n",
    "{\n",
    "  # si el campo no existe en el dataset, Afuera !\n",
    "  if( !(pcampo %in% colnames( dataset )) )\n",
    "    return( 1 )\n",
    "\n",
    "  # llamo a la funcion especializada que corresponde\n",
    "  switch( pmetodo,\n",
    "    \"MachineLearning\"     = AsignarNA_campomeses(pcampo, pmeses),\n",
    "    \"EstadisticaClasica\"  = Corregir_interpolar(pcampo, pmeses),\n",
    "    \"MICE\"                = Corregir_MICE(pcampo, pmeses),\n",
    "  )\n",
    "\n",
    "  return( 0 )\n",
    "}"
   ]
  },
  {
   "cell_type": "code",
   "execution_count": null,
   "id": "5cde8f4f-97b7-4b3c-af03-336d1a607f2b",
   "metadata": {
    "id": "krkr3JCxJ9Px"
   },
   "outputs": [],
   "source": [
    "\n",
    "Corregir_Rotas <- function(dataset, pmetodo) {\n",
    "  gc(verbose= FALSE)\n",
    "  cat( \"inicio Corregir_Rotas()\\n\")\n",
    "  # acomodo los errores del dataset\n",
    "\n",
    "  Corregir_atributo(\"active_quarter\", c(202006), pmetodo) # 1\n",
    "  Corregir_atributo(\"internet\", c(202006), pmetodo) # 2\n",
    "\n",
    "  Corregir_atributo(\"mrentabilidad\", c(201905, 201910, 202006), pmetodo) # 3\n",
    "  Corregir_atributo(\"mrentabilidad_annual\", c(201905, 201910, 202006), pmetodo) # 4\n",
    "\n",
    "  Corregir_atributo(\"mcomisiones\", c(201905, 201910, 202006), pmetodo) # 5\n",
    "\n",
    "  Corregir_atributo(\"mactivos_margen\", c(201905, 201910, 202006), pmetodo) # 6\n",
    "  Corregir_atributo(\"mpasivos_margen\", c(201905, 201910, 202006), pmetodo) # 7\n",
    "\n",
    "  Corregir_atributo(\"mcuentas_saldo\", c(202006), pmetodo) # 8\n",
    "\n",
    "  Corregir_atributo(\"ctarjeta_debito_transacciones\", c(202006), pmetodo) # 9\n",
    "\n",
    "  Corregir_atributo(\"mautoservicio\", c(202006), pmetodo) # 10\n",
    "\n",
    "  Corregir_atributo(\"ctarjeta_visa_transacciones\", c(202006), pmetodo) # 11\n",
    "  Corregir_atributo(\"mtarjeta_visa_consumo\", c(202006), pmetodo) # 12\n",
    "\n",
    "  Corregir_atributo(\"ctarjeta_master_transacciones\", c(202006), pmetodo) # 13\n",
    "  Corregir_atributo(\"mtarjeta_master_consumo\", c(202006), pmetodo) # 14\n",
    "\n",
    "  Corregir_atributo(\"ctarjeta_visa_debitos_automaticos\", c(201904), pmetodo) # 15\n",
    "  Corregir_atributo(\"mttarjeta_visa_debitos_automaticos\", c(201904), pmetodo) # 16\n",
    "\n",
    "  Corregir_atributo(\"ccajeros_propios_descuentos\",\n",
    "    c(201910, 202002, 202006, 202009, 202010, 202102), pmetodo) # 17\n",
    "\n",
    "  Corregir_atributo(\"mcajeros_propios_descuentos\",\n",
    "    c(201910, 202002, 202006, 202009, 202010, 202102), pmetodo) # 18\n",
    "\n",
    "  Corregir_atributo(\"ctarjeta_visa_descuentos\",\n",
    "    c(201910, 202002, 202006, 202009, 202010, 202102), pmetodo) # 19\n",
    "\n",
    "  Corregir_atributo(\"mtarjeta_visa_descuentos\",\n",
    "    c(201910, 202002, 202006, 202009, 202010, 202102), pmetodo) # 20\n",
    "\n",
    "  Corregir_atributo(\"ctarjeta_master_descuentos\",\n",
    "    c(201910, 202002, 202006, 202009, 202010, 202102), pmetodo) # 21\n",
    "\n",
    "  Corregir_atributo(\"mtarjeta_master_descuentos\",\n",
    "    c(201910, 202002, 202006, 202009, 202010, 202102), pmetodo) # 22\n",
    "\n",
    "  Corregir_atributo(\"ccomisiones_otras\", c(201905, 201910, 202006), pmetodo) # 23\n",
    "  Corregir_atributo(\"mcomisiones_otras\", c(201905, 201910, 202006), pmetodo) # 24\n",
    "\n",
    "  Corregir_atributo(\"cextraccion_autoservicio\", c(202006), pmetodo) # 25\n",
    "  Corregir_atributo(\"mextraccion_autoservicio\", c(202006), pmetodo) # 26\n",
    "\n",
    "  Corregir_atributo(\"ccheques_depositados\", c(202006), pmetodo) # 27\n",
    "  Corregir_atributo(\"mcheques_depositados\", c(202006), pmetodo) # 28\n",
    "  Corregir_atributo(\"ccheques_emitidos\", c(202006), pmetodo) # 29\n",
    "  Corregir_atributo(\"mcheques_emitidos\", c(202006), pmetodo) # 30\n",
    "  Corregir_atributo(\"ccheques_depositados_rechazados\", c(202006), pmetodo) # 31\n",
    "  Corregir_atributo(\"mcheques_depositados_rechazados\", c(202006), pmetodo) # 32\n",
    "  Corregir_atributo(\"ccheques_emitidos_rechazados\", c(202006), pmetodo) # 33\n",
    "  Corregir_atributo(\"mcheques_emitidos_rechazados\", c(202006), pmetodo) # 34\n",
    "\n",
    "  Corregir_atributo(\"tcallcenter\", c(202006), pmetodo) # 35\n",
    "  Corregir_atributo(\"ccallcenter_transacciones\", c(202006), pmetodo) # 36\n",
    "\n",
    "  Corregir_atributo(\"thomebanking\", c(202006), pmetodo) # 37\n",
    "  Corregir_atributo(\"chomebanking_transacciones\", c(201910, 202006), pmetodo) # 38\n",
    "\n",
    "  Corregir_atributo(\"ccajas_transacciones\", c(202006), pmetodo) # 39\n",
    "  Corregir_atributo(\"ccajas_consultas\", c(202006), pmetodo) # 40\n",
    "\n",
    "  Corregir_atributo(\"ccajas_depositos\", c(202006, 202105), pmetodo) # 41\n",
    "\n",
    "  Corregir_atributo(\"ccajas_extracciones\", c(202006), pmetodo) # 41\n",
    "  Corregir_atributo(\"ccajas_otras\", c(202006), pmetodo) # 43\n",
    "\n",
    "  Corregir_atributo(\"catm_trx\", c(202006), pmetodo) # 44\n",
    "  Corregir_atributo(\"matm\", c(202006), pmetodo) # 45\n",
    "  Corregir_atributo(\"catm_trx_other\", c(202006), pmetodo) # 46\n",
    "  Corregir_atributo(\"matm_other\", c(202006), pmetodo) # 47\n",
    "\n",
    "  cat( \"fin Corregir_rotas()\\n\")\n",
    "}\n"
   ]
  },
  {
   "cell_type": "code",
   "execution_count": null,
   "id": "7ce2834f-2463-467d-88d4-b943a7d63a0b",
   "metadata": {
    "id": "HaW4TeBIMxTn"
   },
   "outputs": [],
   "source": [
    "# resuelvo el Catastrophe Analysis\n",
    "\n",
    "setorder( dataset, numero_de_cliente, foto_mes )\n",
    "\n",
    "PARAM$CA$metodo= \"MachineLearning\"\n",
    "\n",
    "if( PARAM$CA$metodo %in% c(\"MachineLearning\", \"EstadisticaClasica\", \"MICE\") )\n",
    "  Corregir_Rotas(dataset, PARAM$CA$metodo)"
   ]
  },
  {
   "cell_type": "markdown",
   "id": "59e75616-78e1-423d-a7ce-5735ecf331db",
   "metadata": {
    "id": "-4NiANYFSYHG"
   },
   "source": [
    "#### 9.3.1.3  DR  Data Drifting\n",
    "Se intenta corregir el data drifting, ajustando por algunos indices financieros"
   ]
  },
  {
   "cell_type": "code",
   "execution_count": null,
   "id": "825caa0f-453a-4406-ac58-d6bc0e8e25da",
   "metadata": {
    "id": "XXPLxqc1ShLN"
   },
   "outputs": [],
   "source": [
    "# meses que me interesan para el ajuste de variables monetarias\n",
    "vfoto_mes <- c(\n",
    "  201901, 201902, 201903, 201904, 201905, 201906,\n",
    "  201907, 201908, 201909, 201910, 201911, 201912,\n",
    "  202001, 202002, 202003, 202004, 202005, 202006,\n",
    "  202007, 202008, 202009, 202010, 202011, 202012,\n",
    "  202101, 202102, 202103, 202104, 202105, 202106,\n",
    "  202107, 202108, 202109\n",
    ")\n"
   ]
  },
  {
   "cell_type": "code",
   "execution_count": null,
   "id": "7dac980b-a769-4aba-828d-13c1db770ce3",
   "metadata": {
    "id": "sjjUe3waSh8D"
   },
   "outputs": [],
   "source": [
    "# los valores que siguen fueron calculados por alumnos\n",
    "\n",
    "# momento 1.0  Sep-2021\n",
    "vIPC <- c(2.787281901122360, 2.686132306921320, 2.566052833332770,\n",
    "  2.480603534259520, 2.406972565811860, 2.343282033546600,\n",
    "  2.292887450432550, 2.205675360182500, 2.083072734166780,\n",
    "  2.016654576841490, 1.934356651408890, 1.864553234816590,\n",
    "  1.823472319453580, 1.787479114947270, 1.729648848066530,\n",
    "  1.704145079892160, 1.678254046331520, 1.641427967120310,\n",
    "  1.610281979296860, 1.567945714631560, 1.524712170969590,\n",
    "  1.469446722849830, 1.424438664000510, 1.369579245086460,\n",
    "  1.316282576323060, 1.270854218792650, 1.212522114036500,\n",
    "  1.164987215923810, 1.127519974398630, 1.092827636775390,\n",
    "  1.061028266084610, 1.035467879533110, 1.000000000000000)\n",
    "\n",
    "vdolar_blue <- c(\n",
    "   39.045455,  38.402500,  41.639474,\n",
    "   44.274737,  46.095455,  45.063333,\n",
    "   43.983333,  54.842857,  61.059524,\n",
    "   65.545455,  66.750000,  72.368421,\n",
    "   77.477273,  78.191667,  82.434211,\n",
    "  101.087500, 126.236842, 125.857143,\n",
    "  130.782609, 133.400000, 137.954545,\n",
    "  170.619048, 160.400000, 153.052632,\n",
    "  157.900000, 149.380952, 143.615385,\n",
    "  146.250000, 153.550000, 162.000000,\n",
    "  178.478261, 180.878788, 184.357143\n",
    ")\n",
    "\n",
    "vdolar_oficial <- c(\n",
    "   38.430000,  39.428000,  42.542105,\n",
    "   44.354211,  46.088636,  44.955000,\n",
    "   43.751429,  54.650476,  58.790000,\n",
    "   61.403182,  63.012632,  63.011579,\n",
    "   62.983636,  63.580556,  65.200000,\n",
    "   67.872000,  70.047895,  72.520952,\n",
    "   75.324286,  77.488500,  79.430909,\n",
    "   83.134762,  85.484737,  88.181667,\n",
    "   91.474000,  93.997778,  96.635909,\n",
    "   98.526000,  99.613158, 100.619048,\n",
    "  101.619048, 102.569048, 103.781818\n",
    ")\n",
    "\n",
    "vNucleo <- c(2.9509401776, 2.8413904076, 2.7169681247,\n",
    "  2.6183338075, 2.5376976850, 2.4702213038,\n",
    "  2.4182843036, 2.3110987598, 2.1713146424,\n",
    "  2.0917312214, 2.0117031138, 1.9402570077,\n",
    "  1.8940250995, 1.8499633664, 1.7939805354,\n",
    "  1.7637193990, 1.7358472741, 1.6965692402,\n",
    "  1.6546523624, 1.6059398018, 1.5695744147,\n",
    "  1.5170891738, 1.4596143906, 1.3918188786,\n",
    "  1.3393707547, 1.2869937330, 1.2312659603,\n",
    "  1.1775806320, 1.1379817057, 1.0983355780,\n",
    "  1.0649648892, 1.0326212556, 1.0000000000)\n"
   ]
  },
  {
   "cell_type": "code",
   "execution_count": null,
   "id": "95d75795-5f70-46e1-826d-7eda7eb29815",
   "metadata": {
    "id": "RSF9i9nyWwKs"
   },
   "outputs": [],
   "source": [
    "tb_indices <- as.data.table( list(\n",
    "  \"IPC\" = vIPC,\n",
    "  \"dolar_blue\" = vdolar_blue,\n",
    "  \"dolar_oficial\" = vdolar_oficial,\n",
    "  \"Nucleo\" = vNucleo\n",
    "  )\n",
    ")\n",
    "\n",
    "tb_indices[[ 'foto_mes' ]] <- vfoto_mes\n",
    "\n",
    "tb_indices"
   ]
  },
  {
   "cell_type": "code",
   "execution_count": null,
   "id": "b3c1dc93-42d9-418c-ae2b-aec98b16f77a",
   "metadata": {
    "id": "oq2zlvpkSmAU"
   },
   "outputs": [],
   "source": [
    "drift_Nucleo <- function(campos_monetarios) {\n",
    "  cat( \"inicio drift_Nucleo()\\n\")\n",
    "\n",
    "  dataset[tb_indices,\n",
    "    on = c(\"foto_mes\"),\n",
    "    (campos_monetarios) := .SD * i.Nucleo,\n",
    "    .SDcols = campos_monetarios\n",
    "  ]\n",
    "\n",
    "  cat( \"fin drift_Nucleo()\\n\")\n",
    "}\n"
   ]
  },
  {
   "cell_type": "code",
   "execution_count": null,
   "id": "41f7c679-93dd-4a71-a240-1fce5883e7fe",
   "metadata": {
    "id": "h2QbqSn8Sojj"
   },
   "outputs": [],
   "source": [
    "drift_dolar_oficial <- function(campos_monetarios) {\n",
    "  cat( \"inicio drift_dolar_oficial()\\n\")\n",
    "\n",
    "  dataset[tb_indices,\n",
    "    on = c(\"foto_mes\"),\n",
    "    (campos_monetarios) := .SD / i.dolar_oficial,\n",
    "    .SDcols = campos_monetarios\n",
    "  ]\n",
    "\n",
    "  cat( \"fin drift_dolar_oficial()\\n\")\n",
    "}\n"
   ]
  },
  {
   "cell_type": "code",
   "execution_count": null,
   "id": "44b2c1f3-9546-44a6-8be3-f64dacfaa3db",
   "metadata": {
    "id": "DMTgpq9VSqqM"
   },
   "outputs": [],
   "source": [
    "drift_dolar_blue <- function(campos_monetarios) {\n",
    "  cat( \"inicio drift_dolar_blue()\\n\")\n",
    "\n",
    "  dataset[tb_indices,\n",
    "    on = c(\"foto_mes\"),\n",
    "    (campos_monetarios) := .SD / i.dolar_blue,\n",
    "    .SDcols = campos_monetarios\n",
    "  ]\n",
    "\n",
    "  cat( \"fin drift_dolar_blue()\\n\")\n",
    "}\n"
   ]
  },
  {
   "cell_type": "code",
   "execution_count": null,
   "id": "96ec6b40-e52b-4ac2-a0e9-5fa734db7824",
   "metadata": {
    "id": "7n171_BoStAj"
   },
   "outputs": [],
   "source": [
    "drift_IPC <- function(campos_monetarios) {\n",
    "  cat( \"inicio drift_IPC()\\n\")\n",
    "\n",
    "  dataset[tb_indices,\n",
    "    on = c(\"foto_mes\"),\n",
    "    (campos_monetarios) := .SD * i.IPC,\n",
    "    .SDcols = campos_monetarios\n",
    "  ]\n",
    "\n",
    "  cat( \"fin drift_IPC()\\n\")\n",
    "}\n"
   ]
  },
  {
   "cell_type": "code",
   "execution_count": null,
   "id": "267ab843-8e33-4bcb-a7e3-0491111e3681",
   "metadata": {
    "id": "Z94UizNySv0m"
   },
   "outputs": [],
   "source": [
    "drift_rank_simple <- function(campos_drift) {\n",
    "\n",
    "  cat( \"inicio drift_rank_simple()\\n\")\n",
    "  for (campo in campos_drift)\n",
    "  {\n",
    "    cat(campo, \" \")\n",
    "    dataset[, paste0(campo, \"_rank\") :=\n",
    "      (frank(get(campo), ties.method = \"random\") - 1) / (.N - 1), by = list(foto_mes)]\n",
    "    dataset[, (campo) := NULL]\n",
    "  }\n",
    "  cat( \"fin drift_rank_simple()\\n\")\n",
    "}\n"
   ]
  },
  {
   "cell_type": "code",
   "execution_count": null,
   "id": "c54dd58b-1de4-4d67-a28f-b576ef7186b9",
   "metadata": {
    "id": "GnbUIXeWSyQm"
   },
   "outputs": [],
   "source": [
    "# El cero se transforma en cero\n",
    "# los positivos se rankean por su lado\n",
    "# los negativos se rankean por su lado\n",
    "\n",
    "drift_rank_cero_fijo <- function(campos_drift) {\n",
    "\n",
    "  cat( \"inicio drift_rank_cero_fijo()\\n\")\n",
    "  for (campo in campos_drift)\n",
    "  {\n",
    "    cat(campo, \" \")\n",
    "    dataset[get(campo) == 0, paste0(campo, \"_rank\") := 0]\n",
    "    dataset[get(campo) > 0, paste0(campo, \"_rank\") :=\n",
    "      frank(get(campo), ties.method = \"random\") / .N, by = list(foto_mes)]\n",
    "\n",
    "    dataset[get(campo) < 0, paste0(campo, \"_rank\") :=\n",
    "      -frank(-get(campo), ties.method = \"random\") / .N, by = list(foto_mes)]\n",
    "    dataset[, (campo) := NULL]\n",
    "  }\n",
    "  cat(\"\\n\")\n",
    "  cat( \"fin drift_rank_cero_fijo()\\n\")\n",
    "}\n"
   ]
  },
  {
   "cell_type": "code",
   "execution_count": null,
   "id": "045653a4-6610-42fc-ba64-c68aabb15ad7",
   "metadata": {
    "id": "dhlyk-WxS040"
   },
   "outputs": [],
   "source": [
    "drift_estandarizar <- function(campos_drift) {\n",
    "  cat(\"inicio drift_estandarizar()\\n\")\n",
    "  for (campo in campos_drift) {\n",
    "    cat(campo, \" \")\n",
    "    \n",
    "    # Check if column exists\n",
    "    if (!campo %in% names(dataset)) {\n",
    "      warning(paste(\"Column\", campo, \"not found in dataset\"))\n",
    "      next\n",
    "    }\n",
    "    \n",
    "    # Standardize by foto_mes groups\n",
    "    dataset[, paste0(campo, \"_normal\") := {\n",
    "      valores <- get(campo)\n",
    "      media <- mean(valores, na.rm = TRUE)\n",
    "      desv <- sd(valores, na.rm = TRUE)\n",
    "      \n",
    "      # Handle cases where sd = 0 (constant values)\n",
    "      if (is.na(desv) || desv == 0) {\n",
    "        rep(0, length(valores))  # or rep(NA, length(valores))\n",
    "      } else {\n",
    "        (valores - media) / desv\n",
    "      }\n",
    "    }, by = foto_mes]\n",
    "    \n",
    "    # Remove original column\n",
    "    dataset[, (campo) := NULL]\n",
    "  }\n",
    "  cat(\"fin drift_estandarizar()\\n\")\n",
    "}"
   ]
  },
  {
   "cell_type": "code",
   "execution_count": null,
   "id": "be52fa4a-1d04-40d3-9dd1-677820bfd8ff",
   "metadata": {
    "id": "tlJjlN6PVanz"
   },
   "outputs": [],
   "source": [
    "# por como armé los nombres de campos,\n",
    "#  estos son los campos que expresan variables monetarias\n",
    "campos_monetarios <- colnames(dataset)\n",
    "campos_monetarios <- campos_monetarios[campos_monetarios %like%\n",
    "  \"^(m|Visa_m|Master_m|vm_m)\"]\n",
    "\n",
    "campos_monetarios"
   ]
  },
  {
   "cell_type": "code",
   "execution_count": null,
   "id": "6b9d2c52-ed16-4a43-9a5b-ece70b5e4006",
   "metadata": {
    "id": "G_8BH82XS3uV"
   },
   "outputs": [],
   "source": [
    "# ejecuto el Data Drifting\n",
    "setorder( dataset, numero_de_cliente, foto_mes )\n",
    "\n",
    "\n",
    "PARAM$DR$metodo <- \"rank_cero_fijo\"\n",
    "\n",
    "switch(PARAM$DR$metodo,\n",
    "  \"ninguno\"        = cat(\"No hay correccion del data drifting\"),\n",
    "  \"rank_simple\"    = drift_rank_simple(campos_monetarios),\n",
    "  \"rank_cero_fijo\" = drift_rank_cero_fijo(campos_monetarios),\n",
    "  \"IPC\"      = drift_IPC(campos_monetarios),\n",
    "  \"dolar_blue\"     = drift_dolar_blue(campos_monetarios),\n",
    "  \"dolar_oficial\"  = drift_dolar_oficial(campos_monetarios),\n",
    "  \"Nucleo\"            = drift_Nucleo(campos_monetarios),\n",
    "  \"estandarizar\"   = drift_estandarizar(campos_monetarios)\n",
    ")\n"
   ]
  },
  {
   "cell_type": "code",
   "execution_count": null,
   "id": "5935782e-1a37-4a13-9ced-80a0c8fae5e1",
   "metadata": {
    "id": "-efBawbTWPKc"
   },
   "outputs": [],
   "source": [
    "colnames(dataset)"
   ]
  },
  {
   "cell_type": "markdown",
   "id": "2509499a-b6e9-48d0-aebd-125e170795eb",
   "metadata": {
    "id": "rZ11c9KcFoAp"
   },
   "source": [
    "head(dataset)"
   ]
  },
  {
   "cell_type": "code",
   "execution_count": null,
   "id": "8c5075bc-f86c-490f-bc8a-afe4be7eb83c",
   "metadata": {
    "id": "L85A2lwKSe3k"
   },
   "outputs": [],
   "source": [
    "# se intenta corregir el data drifting utilizando algunos indices financieros"
   ]
  },
  {
   "cell_type": "markdown",
   "id": "05114ff9-bad6-4455-a32d-a3759ba265e8",
   "metadata": {
    "id": "7sppIDYeSn5X",
    "jp-MarkdownHeadingCollapsed": true
   },
   "source": [
    "#### 9.3.1.3  FE_intra_manual Feature Engineering intra-mes\n",
    "\n",
    "Agrego campos nuevos dentro del mismo mes, SIN considerar la historia."
   ]
  },
  {
   "cell_type": "code",
   "execution_count": null,
   "id": "3d6604ec-d30a-4b03-b538-c690324390bf",
   "metadata": {
    "id": "qrqf3j3_St3p"
   },
   "outputs": [],
   "source": [
    "# esta funcion atributos presentes existe debido a que las modalidades poseen datasets con distinta cantidad de campos\n",
    "atributos_presentes <- function( patributos )\n",
    "{\n",
    "  atributos <- unique( patributos )\n",
    "  comun <- intersect( atributos, colnames(dataset) )\n",
    "\n",
    "  return(  length( atributos ) == length( comun ) )\n",
    "}\n",
    "\n",
    "# el mes 1,2, ..12\n",
    "if( atributos_presentes( c(\"foto_mes\") ))\n",
    "  dataset[, kmes := foto_mes %% 100]\n",
    "\n",
    "# variable extraida de una tesis de maestria de Irlanda\n",
    "if( atributos_presentes( c(\"mpayroll\", \"cliente_edad\") ))\n",
    "  dataset[, mpayroll_sobre_edad := mpayroll / cliente_edad]\n"
   ]
  },
  {
   "cell_type": "code",
   "execution_count": null,
   "id": "e340dcf6-b0ad-4083-9fa6-a18275f09018",
   "metadata": {
    "id": "iC4viwOdY5Kp"
   },
   "outputs": [],
   "source": [
    "# visualizo las columas del dataset a esta etapa\n",
    "colnames(dataset)"
   ]
  },
  {
   "cell_type": "markdown",
   "id": "96660558-54cf-4ee9-a8b1-9d243440773a",
   "metadata": {
    "id": "9682b4ca-3ab3-4bbc-a36a-b185361e6b6b",
    "jp-MarkdownHeadingCollapsed": true
   },
   "source": [
    "#### 9.3.1.4  FE_rf Feature Engineering de nuevas variables a partir de hojas de Random Forest"
   ]
  },
  {
   "cell_type": "code",
   "execution_count": null,
   "id": "ebf74389-05b3-470d-a115-ed794e4f3633",
   "metadata": {
    "id": "Vd09ZaybfUeK"
   },
   "outputs": [],
   "source": [
    "if( !require(\"lightgbm\")) install.packages(\"lightgbm\")\n",
    "require(\"lightgbm\")"
   ]
  },
  {
   "cell_type": "code",
   "execution_count": null,
   "id": "b8624afd-ab88-41a7-b1eb-307aab03d63a",
   "metadata": {
    "id": "JrsaXcQqcefM"
   },
   "outputs": [],
   "source": [
    "AgregaVarRandomForest <- function() {\n",
    "\n",
    "  cat( \"inicio AgregaVarRandomForest()\\n\")\n",
    "  gc(verbose= FALSE)\n",
    "  dataset[, clase01 := 0L ]\n",
    "  dataset[ clase_ternaria %in% PARAM$FE_rf$train$clase01_valor1,\n",
    "      clase01 := 1L ]\n",
    "\n",
    "  campos_buenos <- setdiff(\n",
    "    colnames(dataset),\n",
    "    c( \"clase_ternaria\", \"clase01\")\n",
    "  )\n",
    "\n",
    "  dataset[, entrenamiento :=\n",
    "    as.integer( foto_mes %in% PARAM$FE_rf$train$training )]\n",
    "\n",
    "  dtrain <- lgb.Dataset(\n",
    "    data = data.matrix(dataset[entrenamiento == TRUE, campos_buenos, with = FALSE]),\n",
    "    label = dataset[entrenamiento == TRUE, clase01],\n",
    "    free_raw_data = FALSE\n",
    "  )\n",
    "\n",
    "  modelo <- lgb.train(\n",
    "     data = dtrain,\n",
    "     param = PARAM$FE_rf$lgb_param,\n",
    "     verbose = -100\n",
    "  )\n",
    "\n",
    "  cat( \"Fin construccion RandomForest\\n\" )\n",
    "  # grabo el modelo, achivo .model\n",
    "  lgb.save(modelo, file=\"modelo.model\" )\n",
    "\n",
    "  qarbolitos <- copy(PARAM$FE_rf$lgb_param$num_iterations)\n",
    "\n",
    "  periodos <- dataset[ , unique( foto_mes ) ]\n",
    "\n",
    "  for( periodo in  periodos )\n",
    "  {\n",
    "    cat( \"periodo = \", periodo, \"\\n\" )\n",
    "    datamatrix <- data.matrix(dataset[ foto_mes== periodo, campos_buenos, with = FALSE])\n",
    "\n",
    "    cat( \"Inicio prediccion\\n\" )\n",
    "    prediccion <- predict(\n",
    "        modelo,\n",
    "        datamatrix,\n",
    "        type = \"leaf\"\n",
    "    )\n",
    "    cat( \"Fin prediccion\\n\" )\n",
    "\n",
    "    for( arbolito in 1:qarbolitos )\n",
    "    {\n",
    "       cat( arbolito, \" \" )\n",
    "       hojas_arbol <- unique(prediccion[ , arbolito])\n",
    "\n",
    "       for (pos in 1:length(hojas_arbol)) {\n",
    "         # el numero de nodo de la hoja, estan salteados\n",
    "         nodo_id <- hojas_arbol[pos]\n",
    "         dataset[ foto_mes== periodo, paste0(\n",
    "            \"rf_\", sprintf(\"%03d\", arbolito),\n",
    "             \"_\", sprintf(\"%03d\", nodo_id)\n",
    "          ) :=  as.integer( nodo_id == prediccion[ , arbolito]) ]\n",
    "\n",
    "       }\n",
    "\n",
    "       rm( hojas_arbol )\n",
    "    }\n",
    "    cat( \"\\n\" )\n",
    "\n",
    "    rm( prediccion )\n",
    "    rm( datamatrix )\n",
    "    gc(verbose= FALSE)\n",
    "  }\n",
    "\n",
    "  gc(verbose= FALSE)\n",
    "\n",
    "  # borro clase01 , no debe ensuciar el dataset\n",
    "  dataset[ , clase01 := NULL ]\n",
    "\n",
    "}\n"
   ]
  },
  {
   "cell_type": "code",
   "execution_count": null,
   "id": "509f71e0-75e0-443b-948a-6389b7bcf9ce",
   "metadata": {
    "id": "i6vcLtXldMpz"
   },
   "outputs": [],
   "source": [
    "# Parametros de Feature Engineering  a partir de hojas de Random Forest\n",
    "\n",
    "# Estos CUATRO parametros son los que se deben modificar\n",
    "PARAM$FE_rf$arbolitos= 20\n",
    "PARAM$FE_rf$hojas_por_arbol= 16\n",
    "PARAM$FE_rf$datos_por_hoja= 100\n",
    "PARAM$FE_rf$mtry_ratio= 0.2\n",
    "\n",
    "# Estos son quasi fijos\n",
    "PARAM$FE_rf$train$clase01_valor1 <- c( \"BAJA+2\", \"BAJA+1\")\n",
    "PARAM$FE_rf$train$training <- c( 202101, 202102, 202103)\n",
    "\n",
    "# Estos TAMBIEN son quasi fijos\n",
    "PARAM$FE_rf$lgb_param <-list(\n",
    "    # parametros que se pueden cambiar\n",
    "    num_iterations = PARAM$FE_rf$arbolitos,\n",
    "    num_leaves  = PARAM$FE_rf$hojas_por_arbol,\n",
    "    min_data_in_leaf = PARAM$FE_rf$datos_por_hoja,\n",
    "    feature_fraction_bynode  = PARAM$FE_rf$mtry_ratio,\n",
    "\n",
    "    # para que LightGBM emule Random Forest\n",
    "    boosting = \"rf\",\n",
    "    bagging_fraction = ( 1.0 - 1.0/exp(1.0) ),\n",
    "    bagging_freq = 1.0,\n",
    "    feature_fraction = 1.0,\n",
    "\n",
    "    # genericos de LightGBM\n",
    "    max_bin = 31L,\n",
    "    objective = \"binary\",\n",
    "    first_metric_only = TRUE,\n",
    "    boost_from_average = TRUE,\n",
    "    feature_pre_filter = FALSE,\n",
    "    force_row_wise = TRUE,\n",
    "    verbosity = -100,\n",
    "    max_depth = -1L,\n",
    "    min_gain_to_split = 0.0,\n",
    "    min_sum_hessian_in_leaf = 0.001,\n",
    "    lambda_l1 = 0.0,\n",
    "    lambda_l2 = 0.0,\n",
    "\n",
    "    pos_bagging_fraction = 1.0,\n",
    "    neg_bagging_fraction = 1.0,\n",
    "    is_unbalance = FALSE,\n",
    "    scale_pos_weight = 1.0,\n",
    "\n",
    "    drop_rate = 0.1,\n",
    "    max_drop = 50,\n",
    "    skip_drop = 0.5,\n",
    "\n",
    "    extra_trees = FALSE\n",
    "  )"
   ]
  },
  {
   "cell_type": "code",
   "execution_count": null,
   "id": "1eef4ac8-85fc-4dde-92ef-2ecffb895717",
   "metadata": {
    "id": "GTTj4VdBezcE"
   },
   "outputs": [],
   "source": [
    "# Feature Engineering agregando variables de Random Forest\n",
    "AgregaVarRandomForest()"
   ]
  },
  {
   "cell_type": "code",
   "execution_count": null,
   "id": "433229ab-0912-4a54-90b5-65840bb57969",
   "metadata": {
    "id": "bs2vXYFuiXGu"
   },
   "outputs": [],
   "source": [
    "ncol(dataset)\n",
    "colnames(dataset)"
   ]
  },
  {
   "cell_type": "code",
   "execution_count": null,
   "id": "999bf2d7-3e53-4588-b725-e7b5092d305f",
   "metadata": {
    "id": "ljA3h0jOcciP"
   },
   "outputs": [],
   "source": [
    "# No se implementa Feature Engineering a partir de Random Forest"
   ]
  },
  {
   "cell_type": "markdown",
   "id": "9ffbcd0e-8f02-4d0c-b506-f8f07a01d3de",
   "metadata": {
    "id": "XaRBjQj8ZRUZ",
    "jp-MarkdownHeadingCollapsed": true
   },
   "source": [
    "#### 9.3.1.5  FEhist Feature Engineering historico\n",
    "\n",
    "El Fature Engineering Histórico es la etapa que más aporta a la ganancia final, ya que enriquece cada registro del dataset con su historia."
   ]
  },
  {
   "cell_type": "markdown",
   "id": "9fd4363c-4d2c-4b05-aa04-948c76214d3c",
   "metadata": {
    "id": "cfe3b8cf-0707-4512-92e7-c1407bb3f73b"
   },
   "source": [
    "Para cada campo del dataset original (*)\n",
    "se crean lo siguientes campos de a partir de la historia\n",
    "* lag1  lags de orden 1\n",
    "* delta1  =  valor actual - lag1\n",
    "* lag2  lags de orden 2\n",
    "* delta2  = valor actual - lag2\n",
    "\n",
    "\n",
    "(*) Excepto para los campos  <numero_de_cliente,  foto_mes,  clase_ternaria>"
   ]
  },
  {
   "cell_type": "code",
   "execution_count": null,
   "id": "478c9d1d-cc4f-4c3a-8c48-c31297236171",
   "metadata": {
    "id": "7850b948-827d-4a2a-b4d3-a5e459b47c11"
   },
   "outputs": [],
   "source": [
    "# Feature Engineering Historico\n",
    "\n",
    "# todo es lagueable, menos la primary key y la clase\n",
    "cols_lagueables <- copy( setdiff(\n",
    "    colnames(dataset),\n",
    "    c(\"numero_de_cliente\", \"foto_mes\", \"clase_ternaria\")\n",
    ") )\n",
    "\n",
    "# https://rdrr.io/cran/data.table/man/shift.html\n",
    "\n",
    "# lags de orden 1\n",
    "dataset[,\n",
    "    paste0(cols_lagueables, \"_lag1\") := shift(.SD, 1, NA, \"lag\"),\n",
    "    by = numero_de_cliente,\n",
    "    .SDcols = cols_lagueables\n",
    "]\n",
    "\n",
    "# lags de orden 2\n",
    "dataset[,\n",
    "    paste0(cols_lagueables, \"_lag2\") := shift(.SD, 2, NA, \"lag\"),\n",
    "    by = numero_de_cliente,\n",
    "    .SDcols = cols_lagueables\n",
    "]\n",
    "\n",
    "# agrego los delta lags\n",
    "for (vcol in cols_lagueables)\n",
    "{\n",
    "    dataset[, paste0(vcol, \"_delta1\") := get(vcol) - get(paste0(vcol, \"_lag1\"))]\n",
    "    dataset[, paste0(vcol, \"_delta2\") := get(vcol) - get(paste0(vcol, \"_lag2\"))]\n",
    "}\n"
   ]
  },
  {
   "cell_type": "markdown",
   "id": "5891df23-d1dd-459f-b0c2-90337daac327",
   "metadata": {
    "id": "cea690d9-ece9-4852-a5e2-f337c31b6721"
   },
   "source": [
    "Verificacion de los campos recien creados"
   ]
  },
  {
   "cell_type": "code",
   "execution_count": null,
   "id": "26b16066-11e2-417b-87ff-e33ca6fe821b",
   "metadata": {
    "id": "f772896b-595a-47d4-8905-c15304ac9452"
   },
   "outputs": [],
   "source": [
    "ncol(dataset)\n",
    "colnames(dataset)"
   ]
  },
  {
   "cell_type": "markdown",
   "id": "3dfd0360-63b9-4b79-a775-761bdf69cedb",
   "metadata": {
    "id": "l8mKij0XaDY0",
    "jp-MarkdownHeadingCollapsed": true
   },
   "source": [
    "#### 9.3.1.6  FEhist Reduccion dimensionalidad con canaritos\n",
    "\n",
    "Esta etapa solo se mostrará a la *modalidad Anlista Sr* por algun canal secreto de forma de no confundir a los *Analista Jr*  nni distraer con detalles operativos a la estratégica *Modalidad Gerencial*"
   ]
  },
  {
   "cell_type": "code",
   "execution_count": null,
   "id": "6df66c63-fd01-4766-9459-b01a4e453481",
   "metadata": {
    "id": "QrmnPtlBcEgx"
   },
   "outputs": [],
   "source": [
    "# No se implementa la reduccion de la dimensionalidad con canaritos"
   ]
  },
  {
   "cell_type": "markdown",
   "id": "c56b3716-6515-4b4b-baa1-1e84d22b250f",
   "metadata": {
    "id": "cf91ea5e-3341-4afb-8d05-cc4923d3d1e1"
   },
   "source": [
    "### 9.3.2 Modelado"
   ]
  },
  {
   "cell_type": "markdown",
   "id": "db9ec3ba-a0bf-4502-ba7b-5e67c3a9cbd0",
   "metadata": {
    "id": "526048e4-8cf2-4023-bd2d-a70e4e9ff157"
   },
   "source": [
    "#### 9.3.2.1 Training Strategy"
   ]
  },
  {
   "cell_type": "markdown",
   "id": "94441ac5-a19a-44e8-8727-7548f74df173",
   "metadata": {
    "id": "f16bc1c1-b3ea-43ca-9d3c-53f8f9ab8ec1"
   },
   "source": [
    "Se hace una estrategia de entrenamiento muy sencilla, tomando todos los meses posibles, SIN eliminar nada x pandemia ni por ningun otro motivo\n",
    "\n",
    "* future = 202109  obviamente completo\n",
    "\n",
    "* final_train =  [ 201901, 202107 ]  SIN undersampling\n",
    "\n",
    "* training\n",
    "   * testing = NO HAY\n",
    "   * validation =  202107   completo, sin undersampling\n",
    "   * training = [ 201901, 202105 ]  donde se consideran el 100% de los CONTINUA"
   ]
  },
  {
   "cell_type": "code",
   "execution_count": null,
   "id": "9d444f13-09f2-4daf-a007-3ad2edf89610",
   "metadata": {
    "id": "2c9c0a42-ba58-4264-8566-091a6161716f"
   },
   "outputs": [],
   "source": [
    "PARAM$trainingstrategy$validate <- c(202107)\n",
    "\n",
    "PARAM$trainingstrategy$training <- c(\n",
    "  201901, 201902, 201903, 201904, 201905, 201906,\n",
    "  201907, 201908, 201909, 201910, 201911, 201912,\n",
    "  202001, 202002, 202003, 202004, 202005, 202006,\n",
    "  202007, 202008, 202009, 202010, 202011, 202012,\n",
    "  202101, 202102, 202103, 202104, 202105\n",
    ")\n",
    "\n",
    "\n",
    "PARAM$trainingstrategy$training_pct <- 1.0\n",
    "\n",
    "\n",
    "PARAM$trainingstrategy$positivos <- c( \"BAJA+1\", \"BAJA+2\")"
   ]
  },
  {
   "cell_type": "code",
   "execution_count": null,
   "id": "1cd05d11-b11e-47a2-9799-a1390b3598b6",
   "metadata": {
    "id": "tv_trHWAj4a8"
   },
   "outputs": [],
   "source": [
    "# seteo la clase01   1={BAJA+1, BAJA+2}   0={CONTINUA}\n",
    "dataset[, clase01 := ifelse( clase_ternaria %in% PARAM$trainingstrategy$positivos, 1, 0 )]"
   ]
  },
  {
   "cell_type": "code",
   "execution_count": null,
   "id": "d1936392-8e7e-4180-b691-7f54d024a10b",
   "metadata": {
    "id": "Ud_XDKSIj8f_"
   },
   "outputs": [],
   "source": [
    "# los campos en los que se entrena\n",
    "campos_buenos <- copy( setdiff(\n",
    "    colnames(dataset), c(\"clase_ternaria\",\"clase01\",\"azar\"))\n",
    ")"
   ]
  },
  {
   "cell_type": "code",
   "execution_count": null,
   "id": "a6a6ceb0-ad9b-499f-9c44-ab9ffbad2ce4",
   "metadata": {
    "id": "rFKgZZPSj_Pa"
   },
   "outputs": [],
   "source": [
    "# preparo para que se puede hacer undersampling de los CONTINUA\n",
    "#  solamente por un tema de VELOCIDAD\n",
    "set.seed(PARAM$semilla_primigenia, kind = \"L'Ecuyer-CMRG\")\n",
    "dataset[, azar:=runif(nrow(dataset))]\n",
    "\n",
    "# undersampling de los CONTINUA\n",
    "dataset[, fold_train :=  foto_mes %in%  PARAM$trainingstrategy$training &\n",
    "    (clase_ternaria %in% c(\"BAJA+1\", \"BAJA+2\") |\n",
    "     azar < PARAM$trainingstrategy$training_pct ) ]\n",
    "\n",
    "\n",
    "if( !require(\"lightgbm\")) install.packages(\"lightgbm\")\n",
    "require(\"lightgbm\")\n",
    "\n",
    "dtrain <- lgb.Dataset(\n",
    "  data= data.matrix(dataset[fold_train == TRUE, campos_buenos, with = FALSE]),\n",
    "  label= dataset[fold_train == TRUE, clase01],\n",
    "  free_raw_data= TRUE\n",
    ")"
   ]
  },
  {
   "cell_type": "code",
   "execution_count": null,
   "id": "be7a8c76-8fc6-4b54-91de-5c75b0c07d76",
   "metadata": {
    "id": "B3yo98kQkHcP"
   },
   "outputs": [],
   "source": [
    "# datos de validation\n",
    "dvalidate <- lgb.Dataset(\n",
    "  data= data.matrix(dataset[foto_mes %in% PARAM$trainingstrategy$validate, campos_buenos, with = FALSE]),\n",
    "  label= dataset[foto_mes %in% PARAM$trainingstrategy$validate, clase01],\n",
    "  free_raw_data= TRUE\n",
    ")\n",
    "\n",
    "nrow(dvalidate)"
   ]
  },
  {
   "cell_type": "markdown",
   "id": "6c3ee7ba-5d3e-4255-a39e-6612d529aaad",
   "metadata": {
    "id": "28e8f788-551c-4e50-9029-302ac0834287"
   },
   "source": [
    "####  9.3.2.2. Hyperparameter Tuning"
   ]
  },
  {
   "cell_type": "markdown",
   "id": "c3d77dac-9567-4f93-ba1a-07bc18819a03",
   "metadata": {
    "id": "bf5fc836-e222-4aeb-a6a8-157346895ef7"
   },
   "source": [
    "* Clase binaria que se optimiza :  positivos = [ BAJA+1, BAJA+2 ]"
   ]
  },
  {
   "cell_type": "markdown",
   "id": "71cc15c9-cd15-45a9-b5c1-0bbf8435ee2b",
   "metadata": {
    "id": "885c03b5-77bc-4510-a930-0d1f14b52ffb"
   },
   "source": [
    "* Metrica que se optimiza **AUC** Area Under Curve de la  ROC Curve\n",
    "\n",
    "es muy importante notar que intencionalmente  **NO** se está optimizando la funcion de ganancia del problema"
   ]
  },
  {
   "cell_type": "markdown",
   "id": "cdfcfdb5-032e-4bf8-b6ef-b24902f89c32",
   "metadata": {
    "id": "b7e6f95c-66ef-4ab9-9ba3-fcc099816704"
   },
   "source": [
    "* Cantidad de iteraciones inteligentes de la Optimizacion Bayesiana = **10**"
   ]
  },
  {
   "cell_type": "markdown",
   "id": "ba1a0a50-243f-4e4d-984e-c4968f0a62d0",
   "metadata": {
    "id": "fe047a87-e2d0-4418-97dd-0a881e66d73a"
   },
   "source": [
    "* Parametros no default, fijos de LightGBM que no se optimizan\n",
    "  * max_bin = 31 , Alienigenas Ancestrales contruyeron las pirámides y dejaron a la humanidad en un jeroglifico  *max_bin=31*\n",
    "  * feature_fraction = 0.5  para poner algo que generalmente no falla\n",
    "  * learning_rate = 0.03  para que aprenda lento\n"
   ]
  },
  {
   "cell_type": "markdown",
   "id": "6db76fa5-ccb0-466e-a778-10dcab699c73",
   "metadata": {
    "id": "1e7da08e-fe57-4681-beff-11fe963116bd"
   },
   "source": [
    "* Parametros que se optimizan en la Bayesian Optimization\n",
    "  * num_leaves  [8, 256]\n",
    "  * min_data_in_leaf  [8, 8192]"
   ]
  },
  {
   "cell_type": "code",
   "execution_count": null,
   "id": "8d290bd5-9bc6-4bab-9872-b90d6addf7ab",
   "metadata": {
    "id": "34V6y4GetKq_"
   },
   "outputs": [],
   "source": [
    "# paquetes necesarios para la Bayesian Optimization\n",
    "if(!require(\"DiceKriging\")) install.packages(\"DiceKriging\")\n",
    "require(\"DiceKriging\")\n",
    "\n",
    "if(!require(\"mlrMBO\")) install.packages(\"mlrMBO\")\n",
    "require(\"mlrMBO\")"
   ]
  },
  {
   "cell_type": "markdown",
   "id": "df66e4bb-64be-456e-bb5d-141a183447bb",
   "metadata": {
    "id": "UFbDSYtH0TTT"
   },
   "source": [
    "Definición de la Bayesian Optimization\n",
    "<br> Si se desea optimizar un hiperparámetro que esta como fijo, debe QUITARSE de param_fijos y agregarse a PARAM$hipeparametertuning$hs"
   ]
  },
  {
   "cell_type": "code",
   "execution_count": null,
   "id": "dfedf7c8-bd81-42f8-b916-c78b2c9311e3",
   "metadata": {
    "id": "5Uag3XGHqrfZ"
   },
   "outputs": [],
   "source": [
    "# un Analista Jr  debe poder animarse a hacer 100 iteraciones\n",
    "PARAM$hipeparametertuning$num_interations <- 20\n",
    "\n",
    "# parametros fijos del LightGBM\n",
    "PARAM$lgbm$param_fijos <- list(\n",
    "  objective= \"binary\",\n",
    "  metric= \"auc\",\n",
    "  first_metric_only= TRUE,\n",
    "  boost_from_average= TRUE,\n",
    "  feature_pre_filter= FALSE,\n",
    "  verbosity= -100,\n",
    "  force_row_wise= TRUE, # para evitar warning\n",
    "  seed= PARAM$semilla_primigenia,\n",
    "  max_bin= 31,\n",
    "\n",
    "  num_iterations= 9999,  # valor grande, lo limita early_stopping_rounds\n",
    "  early_stopping_rounds= 400\n",
    ")\n",
    "\n",
    "PARAM$hipeparametertuning$hs <- makeParamSet(\n",
    "  makeIntegerParam(\"num_leaves\", lower= 2L, upper= 256L),\n",
    "  makeIntegerParam(\"min_data_in_leaf\", lower= 2L, upper= 8192L),\n",
    "  makeNumericParam(\"feature_fraction\", lower= 0.1, upper= 0.9),\n",
    "  makeNumericParam(\"learning_rate\", lower= 0.01, upper= 0.5)\n",
    ")"
   ]
  },
  {
   "cell_type": "markdown",
   "id": "4880694a-332f-40d9-9374-c92fb319b6f5",
   "metadata": {
    "id": "FEa1UuuAz4yj"
   },
   "source": [
    "Función \"señora caja negra\"  que es llamada para verificar la realidad por la Bayesian Optimization"
   ]
  },
  {
   "cell_type": "code",
   "execution_count": null,
   "id": "235edc7e-21fc-4c0c-94d4-b4823452aac7",
   "metadata": {
    "id": "2c10f535-8d90-47d1-ac3d-9b4c24ec21d2"
   },
   "outputs": [],
   "source": [
    "# En  x llegan los parmaetros de la bayesiana\n",
    "#  devuelve la AUC en validate del modelo entrenado\n",
    "#  en el parametro x llegan los hiperparámetros que se estan optimizando\n",
    "\n",
    "EstimarGanancia_AUC_lightgbm <- function(x) {\n",
    "\n",
    "  # x pisa (o agrega) a param_fijos\n",
    "  param_completo <- modifyList(PARAM$lgbm$param_fijos, x)\n",
    "\n",
    "  # entreno LightGBM\n",
    "  modelo_train <- lgb.train(\n",
    "    data= dtrain,\n",
    "    valids= list(valid = dvalidate),\n",
    "    eval= \"auc\",\n",
    "    param= param_completo,\n",
    "    verbose= -100\n",
    "  )\n",
    "\n",
    "  # recupero la AUC en validation\n",
    "  AUC <- modelo_train$record_evals$valid$auc$eval[[modelo_train$best_iter]]\n",
    "\n",
    "  # esta es la forma de devolver un parametro extra\n",
    "  attr(AUC, \"extras\") <- list(\"num_iterations\"= modelo_train$best_iter)\n",
    "\n",
    "  # hago espacio en la memoria\n",
    "  rm(modelo_train)\n",
    "  gc(full= TRUE, verbose= FALSE)\n",
    "\n",
    "  message(format(Sys.time(), \"%a %b %d %X %Y\"), \" AUC \", AUC)\n",
    "\n",
    "  return(AUC)\n",
    "}"
   ]
  },
  {
   "cell_type": "markdown",
   "id": "47e40f57-9694-4f4f-94d6-ed307badd24e",
   "metadata": {
    "id": "267a35d4-adaf-4271-a875-3864111333b7"
   },
   "source": [
    "seteo de la Bayesian Optimization (complejo)\n",
    "<br> copiado y pegado de la documentación de la librería"
   ]
  },
  {
   "cell_type": "code",
   "execution_count": null,
   "id": "40cc7b82-f141-462a-8e97-5624c90a1c15",
   "metadata": {
    "id": "43c2a92d-1041-46b8-bff2-47297f209ed2"
   },
   "outputs": [],
   "source": [
    "configureMlr(show.learner.output = FALSE)\n",
    "\n",
    "# configuro la busqueda bayesiana,  los hiperparametros que se van a optimizar\n",
    "# por favor, no desesperarse por lo complejo\n",
    "obj.fun <- makeSingleObjectiveFunction(\n",
    "    fn= EstimarGanancia_AUC_lightgbm, # la funcion que voy a maximizar\n",
    "    minimize= FALSE, # estoy Maximizando AUC\n",
    "    noisy= FALSE,\n",
    "    par.set= PARAM$hipeparametertuning$hs,\n",
    "    has.simple.signature= FALSE # paso los parametros en una lista\n",
    ")\n",
    "\n",
    "# cada 600 segundos guardo el resultado intermedio\n",
    "ctrl <- makeMBOControl(\n",
    "    save.on.disk.at.time= 600,\n",
    "    save.file.path= \"HT.RDATA\"\n",
    ")\n",
    "\n",
    "# indico la cantidad de iteraciones que va a tener la Bayesian Optimization\n",
    "ctrl <- setMBOControlTermination(\n",
    "    ctrl,\n",
    "    iters= PARAM$hipeparametertuning$num_interations  # cantidad de iteraciones inteligentes\n",
    ")\n",
    "\n",
    "# defino el método estandar para la creacion de los puntos iniciales\n",
    "#   los \"No Inteligentes\"\n",
    "ctrl <- setMBOControlInfill(ctrl, crit = makeMBOInfillCritEI())\n",
    "\n",
    "# mas configuraciones\n",
    "surr.km <- makeLearner(\n",
    "    \"regr.km\",\n",
    "    predict.type= \"se\",\n",
    "    covtype= \"matern3_2\",\n",
    "    control= list(trace = TRUE)\n",
    ")"
   ]
  },
  {
   "cell_type": "markdown",
   "id": "98698e04-3737-4a43-bfc9-f2e75ac42ed4",
   "metadata": {
    "id": "6c1e5645-d26f-4923-a53f-f30471a4c4e8"
   },
   "source": [
    "Corrida de la Bayesian Optimization,  aqui se hace el trabajo pesado\n",
    "<br> por favor no se asuste con los warnings que pudieran aparecer\n",
    "\n",
    "Si corrío a medias y llegó a las iteraciones inteligentes, en el archivo binario HT.RDATA quedó lo ya procesado y es utilizado para retomar la corrida desde lo último que llegó a grabar."
   ]
  },
  {
   "cell_type": "code",
   "execution_count": null,
   "id": "5b01a0b7-0555-45d1-b3c9-0b528553efe5",
   "metadata": {
    "id": "1f8cab3f-c7e2-4802-bfd1-5ad509922a4e",
    "scrolled": true
   },
   "outputs": [],
   "source": [
    "# inicio la optimizacion bayesiana\n",
    "\n",
    "if (!file.exists(\"HT.RDATA\")) {\n",
    "  bayesiana_salida <- mbo(obj.fun, learner= surr.km, control= ctrl)\n",
    "} else {\n",
    "  bayesiana_salida <- mboContinue(\"HT.RDATA\") # retomo en caso que ya exista\n",
    "}"
   ]
  },
  {
   "cell_type": "markdown",
   "id": "56b054d9-0b3e-499e-b1fb-63f9660ef2f9",
   "metadata": {
    "id": "36307612-964f-4df3-907a-1bc3c095f178"
   },
   "source": [
    "la bayesian optimization ha corrido, extraigo los mejores hiperparametros"
   ]
  },
  {
   "cell_type": "code",
   "execution_count": null,
   "id": "e296d243-ff60-4792-9931-74783deda1f8",
   "metadata": {
    "id": "8c061a2a-3341-4006-a154-c95bb6cfd407"
   },
   "outputs": [],
   "source": [
    "# almaceno los resultados de la Bayesian Optimization\n",
    "# y capturo los mejores hiperparametros encontrados\n",
    "\n",
    "tb_bayesiana <- as.data.table(bayesiana_salida$opt.path)\n",
    "\n",
    "# ordeno en forma descendente por AUC = y\n",
    "setorder(tb_bayesiana, -y, -num_iterations)\n",
    "\n",
    "# grabo para eventualmente poder utilizarlos en OTRA corrida\n",
    "fwrite( tb_bayesiana,\n",
    "  file=\"BO_log.txt\",\n",
    "  sep=\"\\t\"\n",
    ")\n",
    "\n",
    "# los mejores hiperparámetros son los que quedaron en el registro 1 de la tabla\n",
    "PARAM$out$lgbm$mejores_hiperparametros <- tb_bayesiana[\n",
    "  1, # el primero es el de mejor AUC\n",
    "  list(num_leaves, min_data_in_leaf, num_iterations)\n",
    "]\n",
    "\n",
    "print(PARAM$out$lgbm$mejores_hiperparametros)"
   ]
  },
  {
   "cell_type": "markdown",
   "id": "0c3a4d10-23fa-485b-a72e-b9e637419255",
   "metadata": {
    "id": "ddb554cb-1d96-4f6b-ae1c-c9a076f8dbdc"
   },
   "source": [
    "### 9.3.3 Produccion"
   ]
  },
  {
   "cell_type": "markdown",
   "id": "67111b93-c062-4ab4-808d-7d393a77cb78",
   "metadata": {
    "id": "c39492c3-756f-47a5-8747-93ade8275306"
   },
   "source": [
    "#### Final Training\n",
    "Construyo el modelo final, que es uno solo, no hace ningun tipo de particion < training, validation, testing>]"
   ]
  },
  {
   "cell_type": "markdown",
   "id": "e2e26e96-e61a-40c3-ac78-18b1e7d54e3e",
   "metadata": {
    "id": "xhKi_G_sYQqq"
   },
   "source": [
    "##### Final Training Dataset\n",
    "\n",
    "Aqui esta la gran decision de en qué meses hago el Final Training\n",
    "<br> debo utilizar los mejores hiperparámetros que encontré en la optimización bayesiana"
   ]
  },
  {
   "cell_type": "code",
   "execution_count": null,
   "id": "091be680-18a2-441f-8397-b4423060b8f9",
   "metadata": {
    "id": "qyHfS_X0zd7o"
   },
   "outputs": [],
   "source": [
    "PARAM$trainingstrategy$final_train <- c(\n",
    "  201901, 201902, 201903, 201904, 201905, 201906,\n",
    "  201907, 201908, 201909, 201910, 201911, 201912,\n",
    "  202001, 202002, 202003, 202004, 202005, 202006,\n",
    "  202007, 202008, 202009, 202010, 202011, 202012,\n",
    "  202101, 202102, 202103, 202104, 202105, 202106,\n",
    "  202107\n",
    ")\n",
    "\n",
    "\n",
    "dataset[, fold_final_train := foto_mes %in% PARAM$trainingstrategy$final_train ]\n",
    "\n",
    "# creo el dfinal_train en formato  LightGBM\n",
    "dfinal_train <- lgb.Dataset(\n",
    "  data= data.matrix(dataset[fold_final_train == TRUE, campos_buenos, with= FALSE]),\n",
    "  label= dataset[fold_final_train == TRUE, clase01],\n",
    "  free_raw_data= TRUE\n",
    ")\n",
    "\n",
    "nrow( dfinal_train) # verifico el tamaño"
   ]
  },
  {
   "cell_type": "markdown",
   "id": "dd48f6dc-a0c8-4395-8fa8-cc26dd3db64d",
   "metadata": {
    "id": "HATRyklxYUpT"
   },
   "source": [
    "##### Final Training Hyperparameters"
   ]
  },
  {
   "cell_type": "code",
   "execution_count": null,
   "id": "f85a74f1-b5df-4fb1-a4be-ffc00caca20b",
   "metadata": {
    "id": "d6b9f33c-e0a0-4ea6-8169-4a6180cc5d01"
   },
   "outputs": [],
   "source": [
    "# uno los parametros fijos y los mejores encontrados de los variables\n",
    "fijos <- copy(PARAM$lgbm$param_fijos)\n",
    "\n",
    "# quito lo que optimice en la Bayesian Optimization\n",
    "fijos$num_iterations <- NULL\n",
    "fijos$early_stopping_rounds <- NULL\n",
    "\n",
    "# agrego a los hiperparametros fijos los que encontre con la Bayesian Optimization\n",
    "param_final <- c(fijos, PARAM$out$lgbm$mejores_hiperparametros)"
   ]
  },
  {
   "cell_type": "markdown",
   "id": "de0a78c5-751f-4f9e-9310-dbd3963d80df",
   "metadata": {
    "id": "05d3494f-0401-4f3e-9b69-f488a737879d"
   },
   "source": [
    "##### Training\n",
    "Genero el modelo final, siempre sobre TODOS los datos de  final_train, sin hacer ningun tipo de undersampling de la clase mayoritaria"
   ]
  },
  {
   "cell_type": "code",
   "execution_count": null,
   "id": "d33eb21b-176e-4c20-9496-3f87a548369c",
   "metadata": {
    "id": "fa239848-1c28-4ee5-984a-073903b4b279"
   },
   "outputs": [],
   "source": [
    "final_model <- lgb.train(\n",
    "  data= dfinal_train,\n",
    "  param= param_final,\n",
    "  verbose= -100\n",
    ")"
   ]
  },
  {
   "cell_type": "code",
   "execution_count": null,
   "id": "1b180336-d287-41fb-8b41-82f56b5ddd6f",
   "metadata": {
    "id": "RC1ju-5MZN5s"
   },
   "outputs": [],
   "source": [
    "# grabo a disco el modelo en un formato para seres humanos ... ponele ...\n",
    "\n",
    "lgb.save(final_model, \"modelo.txt\")"
   ]
  },
  {
   "cell_type": "code",
   "execution_count": null,
   "id": "210db00e-6439-4955-8d85-3e0e9af4201c",
   "metadata": {
    "id": "VEpv4RYOZHTU"
   },
   "outputs": [],
   "source": [
    "# ahora imprimo la importancia de variables\n",
    "\n",
    "tb_importancia <- as.data.table(lgb.importance(final_model))\n",
    "archivo_importancia <- \"impo.txt\"\n",
    "\n",
    "fwrite( tb_importancia,\n",
    "  file= archivo_importancia,\n",
    "  sep= \"\\t\"\n",
    ")"
   ]
  },
  {
   "cell_type": "markdown",
   "id": "ff95c9ca-8ea8-4408-9b45-0cd3dce6f24a",
   "metadata": {
    "id": "7ea225b3-ce02-42e2-8330-b10ed250d172"
   },
   "source": [
    "#### Scoring"
   ]
  },
  {
   "cell_type": "markdown",
   "id": "77ba0922-a321-451d-ae72-7b06db451232",
   "metadata": {
    "id": "164981bb-f4c1-4228-8bc9-32e58a383c05"
   },
   "source": [
    "Aplico el modelo final a los datos del futuro"
   ]
  },
  {
   "cell_type": "code",
   "execution_count": null,
   "id": "9fe42b5c-073e-4ed4-a46d-21b42387e1c1",
   "metadata": {
    "id": "eJ7RbT271v-R"
   },
   "outputs": [],
   "source": [
    "PARAM$trainingstrategy$future <- c(202109)\n",
    "\n",
    "dfuture <- dataset[ foto_mes %in% PARAM$trainingstrategy$future ]"
   ]
  },
  {
   "cell_type": "code",
   "execution_count": null,
   "id": "8548786c-7ff0-4d1a-820e-7012758ed250",
   "metadata": {
    "id": "88ca61c8-fa24-4ce5-8be1-323aca018e8f"
   },
   "outputs": [],
   "source": [
    "# aplico final_model   a dfuture\n",
    "\n",
    "prediccion <- predict(\n",
    "  final_model,\n",
    "  data.matrix(dfuture[, campos_buenos, with= FALSE])\n",
    ")"
   ]
  },
  {
   "cell_type": "markdown",
   "id": "b542fc74-f4a0-4159-b391-df7126f870a4",
   "metadata": {
    "id": "79u0ZvjJZblE"
   },
   "source": [
    "##### Tabla Prediccion"
   ]
  },
  {
   "cell_type": "code",
   "execution_count": null,
   "id": "d89ec190-af9f-4c6e-9ada-1247c87697b0",
   "metadata": {
    "id": "TB6aerGDZeTo"
   },
   "outputs": [],
   "source": [
    "tb_prediccion <- dfuture[, list(numero_de_cliente)]\n",
    "tb_prediccion[, prob := prediccion]\n",
    "\n",
    "# grabo las probabilidad del modelo\n",
    "#  me va a ser util para hacer Ensembles de modelos\n",
    "fwrite(tb_prediccion,\n",
    "  file= \"prediccion.txt\",\n",
    "  sep= \"\\t\"\n",
    ")"
   ]
  },
  {
   "cell_type": "markdown",
   "id": "8223437c-52d6-490e-ba8a-dba1e11ea876",
   "metadata": {
    "id": "8412d838-5bd5-454e-b3a9-5eaa18d80a50"
   },
   "source": [
    "#### Kaggle Competition Submit"
   ]
  },
  {
   "cell_type": "markdown",
   "id": "251d41bb-640c-41a7-ae2c-2424a55dc179",
   "metadata": {
    "id": "55970cb6-856a-46e3-a893-7f36b8352b8e"
   },
   "source": [
    "Genero las salidas y hago los submits a Kaggle"
   ]
  },
  {
   "cell_type": "code",
   "execution_count": null,
   "id": "c272d99c-09f5-46db-9674-3fe23121a80b",
   "metadata": {
    "id": "e5fa2439-b0e9-49e0-a861-71d7315d6e1c"
   },
   "outputs": [],
   "source": [
    "# genero archivos con los  \"envios\" mejores\n",
    "# suba TODOS los archivos a Kaggle\n",
    "\n",
    "PARAM$kaggle$competencia <- \"data-mining-analista-jr-2025-b\"\n",
    "PARAM$kaggle$cortes <- seq(1800, 2400, by = 100)\n",
    "\n",
    "# ordeno por probabilidad descendente\n",
    "setorder(tb_prediccion, -prob)\n",
    "\n",
    "dir.create(\"kaggle\")\n",
    "\n",
    "for (envios in PARAM$kaggle$cortes) {\n",
    "\n",
    "  tb_prediccion[, Predicted := 0L] # seteo inicial a 0\n",
    "  tb_prediccion[1:envios, Predicted := 1L] # marclo los primeros\n",
    "\n",
    "  archivo_kaggle <- paste0(\"./kaggle/KA\", PARAM$experimento, \"_\", envios, \".csv\")\n",
    "\n",
    "  # grabo el archivo\n",
    "  fwrite(tb_prediccion[, list(numero_de_cliente, Predicted)],\n",
    "    file= archivo_kaggle,\n",
    "    sep= \",\"\n",
    "  )\n",
    "\n",
    "  # subida a Kaggle, armo la linea de comando\n",
    "  comando <- \"kaggle competitions submit\"\n",
    "  competencia <- paste(\"-c\", PARAM$kaggle$competencia)\n",
    "  arch <- paste( \"-f\", archivo_kaggle)\n",
    "\n",
    "  mensaje <- paste0(\"-m 'envios=\", envios,\n",
    "  \"  semilla=\", PARAM$semilla_primigenia,\n",
    "    \"'\" )\n",
    "\n",
    "  linea <- paste( comando, competencia, arch, mensaje)\n",
    "\n",
    "  salida <- system(linea, intern=TRUE) # el submit a Kaggle\n",
    "  cat(salida, \"\\n\")\n",
    "  Sys.sleep(60)\n",
    "}"
   ]
  },
  {
   "cell_type": "code",
   "execution_count": null,
   "id": "bfb2caad-28f3-466c-aca1-a36358de59b2",
   "metadata": {
    "id": "C94tK-xid6p2"
   },
   "outputs": [],
   "source": [
    "# grabo los parametros\n",
    "if( !require(\"yaml\")) install.packages(\"yaml\")\n",
    "require(\"yaml\")\n",
    "\n",
    "write_yaml( PARAM, file=\"PARAM.yml\")"
   ]
  },
  {
   "cell_type": "code",
   "execution_count": null,
   "id": "8ef7f12d-4e88-4b27-9113-ca95911046e4",
   "metadata": {
    "id": "1b615a62-20cc-4e95-9af2-6b6db38d5efb"
   },
   "outputs": [],
   "source": [
    "format(Sys.time(), \"%a %b %d %X %Y\")"
   ]
  },
  {
   "cell_type": "code",
   "execution_count": null,
   "id": "2e253af9-7fce-44b2-936a-0d563bbf647b",
   "metadata": {
    "scrolled": true
   },
   "outputs": [],
   "source": [
    "#Logging\n",
    "\n",
    "library(data.table)\n",
    "library(stringr)\n",
    "\n",
    "# 1) Kaggle submissions\n",
    "cmd <- \"kaggle competitions submissions -c data-mining-analista-jr-2025-b --csv\"\n",
    "DT  <- fread(cmd = cmd, showProgress = FALSE)\n",
    "\n",
    "# 2) Columnas esperadas\n",
    "req <- c(\"description\",\"fileName\",\"date\",\"publicScore\")\n",
    "if (!all(req %in% names(DT))) stop(\"Faltan columnas en el CSV de Kaggle: \", paste(setdiff(req, names(DT)), collapse=\", \"))\n",
    "\n",
    "# 3) Parseos seguros\n",
    "#    - Si no hay 'envios=' o 'semilla=' en description, queda NA (sin warnings)\n",
    "DT[, envios  := as.numeric(str_extract(description, \"(?<=envios=)\\\\d+\"))]\n",
    "DT[, semilla := as.numeric(str_extract(description, \"(?<=semilla=)\\\\d+\"))]\n",
    "\n",
    "#    - Extraer KA#### del fileName; si no hay match, queda NA\n",
    "DT[, experimento := as.numeric(sub(\".*KA([0-9]{4}).*\", \"\\\\1\", fileName))]\n",
    "DT <- DT[, .(experimento, date, publicScore, envios, semilla)]\n",
    "\n",
    "# 4) Parámetros del modelo + experimento\n",
    "get_param_with_default <- function(model, param_name, default_value) {\n",
    "  params <- tryCatch(model$params, error = function(e) NULL)\n",
    "  if (!is.null(params) && param_name %in% names(params)) params[[param_name]] else default_value\n",
    "}\n",
    "\n",
    "# num_iterations del modelo (lightgbm); si no es LGBM, dejá NA o tu forma de contarlos\n",
    "num_iters <- tryCatch(lightgbm::lgb.num_trees(final_model), error = function(e) NA_integer_)\n",
    "\n",
    "# fuente del experimento para el join\n",
    "exp_id <- if (exists(\"PARAM\") && !is.null(PARAM$experimento)) {\n",
    "  as.numeric(PARAM$experimento)\n",
    "} else {\n",
    "  # tomar el experimento más reciente con fecha más nueva que tenga KA####\n",
    "  DT[!is.na(experimento), experimento[which.max(as.POSIXct(date))]]\n",
    "}\n",
    "\n",
    "selected_params_dt <- data.table(\n",
    "  experimento      = exp_id,\n",
    "  num_leaves       = get_param_with_default(final_model, \"num_leaves\", 31),\n",
    "  min_data_in_leaf = get_param_with_default(final_model, \"min_data_in_leaf\", 20),\n",
    "  feature_fraction = get_param_with_default(final_model, \"feature_fraction\", 1.0),\n",
    "  learning_rate    = get_param_with_default(final_model, \"learning_rate\", 0.1),\n",
    "  num_iterations   = get_param_with_default(final_model, \"num_iterations\", 0.1)\n",
    ")\n",
    "\n",
    "# 5) Join y chequeos\n",
    "setkey(DT, experimento)\n",
    "setkey(selected_params_dt, experimento)\n",
    "submissions_dt <- DT[selected_params_dt, nomatch = 0L]\n",
    "\n",
    "if (nrow(submissions_dt) == 0L) {\n",
    "  stop(\"No encontré submissions con 'experimento' = \", exp_id,\n",
    "       \". ¿El fileName tiene el patrón 'KA####'? Ejemplo: '...KA9112_...csv'\")\n",
    "}\n",
    "\n",
    "# 6) Guardado (directorio actual salvo que pongas ruta)\n",
    "archivo_submissions <- if (exists(\"PARAM\") && !is.null(PARAM$experimento)) {\n",
    "  paste0(\"submits_\", PARAM$experimento, \".csv\")\n",
    "} else {\n",
    "  paste0(\"submits_\", exp_id, \".csv\")\n",
    "}\n",
    "fwrite(submissions_dt, file = archivo_submissions)\n",
    "\n",
    "# Mensaje útil\n",
    "cat(\"Guardado en:\", normalizePath(archivo_submissions), \"\\n\")\n",
    "submissions_dt\n"
   ]
  }
 ],
 "metadata": {
  "colab": {
   "provenance": []
  },
  "kernelspec": {
   "display_name": "R",
   "language": "R",
   "name": "ir"
  },
  "language_info": {
   "codemirror_mode": "r",
   "file_extension": ".r",
   "mimetype": "text/x-r-source",
   "name": "R",
   "pygments_lexer": "r",
   "version": "4.4.3"
  }
 },
 "nbformat": 4,
 "nbformat_minor": 5
}
