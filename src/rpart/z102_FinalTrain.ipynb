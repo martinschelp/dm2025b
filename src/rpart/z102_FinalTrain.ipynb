{
 "cells": [
  {
   "cell_type": "markdown",
   "metadata": {
    "id": "x79hZRjomDop"
   },
   "source": [
    "# Arbol elemental con libreria  rpart"
   ]
  },
  {
   "cell_type": "markdown",
   "metadata": {
    "id": "_4490Ry5cqPo"
   },
   "source": [
    "## Introduccion"
   ]
  },
  {
   "cell_type": "markdown",
   "metadata": {
    "id": "aAYUcclYjDCi"
   },
   "source": [
    "Este es el primer notebook/script de la materia Laboratorio de Implementacion I, se expone en la primera clase.\n",
    "<br>Se utilizan Arboles de Decision, librería **rpart**,  el primer algoritmo, el más simple que utilizaremos en la materia pero que es el fundamento de los Ensembles de Arboles de Decision tales como  Random Forest y  Gradient Boosting of Decision Trees (XGBoost/LightGBM)\n",
    "<br>La materia posee un dataset con 31 meses, en las primeras clases toda la cohorte, independiente de la modalidad elegida, utilizará **dataset_pequeno** que posee apenas un mes histórico 202107 y obviamente el mes donde se debe realizar la predicción 202109\n",
    "<br>Este primer notebook/script **no** desarrolla todas las etapas necesarias para la generación de un buen modelo, apenas posee la parte final del pipeline/workflow."
   ]
  },
  {
   "cell_type": "markdown",
   "metadata": {
    "id": "kjl2iZNJjTTn"
   },
   "source": [
    "### Limitaciones\n",
    "\n"
   ]
  },
  {
   "cell_type": "markdown",
   "metadata": {
    "id": "Ls6hLk6Vja_C"
   },
   "source": [
    "Este primer y elemental notebook/script supone estas simplificaciónes:\n",
    "* Solo se dispone del mes 202107 con el campo clase_ternaria completo, es el unico mes donde entrenar\n",
    "* Se decidió previamente, de alguna forma, que la etapa de Final Training se hará sobre TODO el dataset de 202107\n",
    "* Se obtuvieron previamente los hiperparámetros optimos de la libería **rpart** para este problema, mediante algun tipo de busqueda búsqueda.  Esta es la etapa que demandará decenas de horas para quienes opten por la *modalidad Analista Senior*\n",
    "* No se realiza ningun tipo de feature engineering intra-mes\n",
    "* Al no disponer de datos históricos no se realiza ningun tipo de feature engineering histórico\n",
    "* No hay ningun analisis de la calidad de los campos, no se analiza si ocurrió alguna catástrofe ese mes y algun campo no se calculó correctamente\n",
    "* Noy hay ningun tipo de análisis de Data Drifting entre los meses de 202107 y 202109\n",
    "* Obedientemente se trabaja utlizando como clase el campo **clase_ternaria** sin ningun tipo de transformacion\n",
    "\n",
    "\n",
    "<br> Obviamente, a lo largo de la materia se avanzará sobre todas las limitacinoes anteriores."
   ]
  },
  {
   "cell_type": "markdown",
   "metadata": {
    "id": "kmLygy1TYPfg"
   },
   "source": [
    "## Seteo del ambiente en Google Colab"
   ]
  },
  {
   "cell_type": "markdown",
   "metadata": {
    "id": "OikOm5K2YU3X"
   },
   "source": [
    "Esta parte se debe correr con el runtime en Python3\n",
    "<br>Ir al menu, Runtime -> Change Runtime Tipe -> Runtime type ->  **Python 3**"
   ]
  },
  {
   "cell_type": "markdown",
   "metadata": {
    "id": "4fmV5LyZdFyI"
   },
   "source": [
    "Conectar la virtual machine donde esta corriendo Google Colab con el  Google Drive, para poder tener persistencia de archivos"
   ]
  },
  {
   "cell_type": "code",
   "execution_count": null,
   "metadata": {
    "id": "ilEZ-bE2VybW"
   },
   "outputs": [],
   "source": [
    "# primero establecer el Runtime de Python 3\n",
    "from google.colab import drive\n",
    "drive.mount('/content/.drive')"
   ]
  },
  {
   "cell_type": "markdown",
   "metadata": {
    "id": "ilaKtqWldeWg"
   },
   "source": [
    "Para correr la siguiente celda es fundamental en Arranque en Frio haber copiado el archivo **kaggle.json** al Google Drive, en la carpeta indicada en el instructivo\n",
    "\n",
    "<br>los siguientes comando estan en shell script de Linux\n",
    "*   Crear las carpetas en el Google Drive\n",
    "*   \"instalar\" el archivo kaggle.json desde el Google Drive a la virtual machine para que pueda ser utilizado por la libreria  kaggle de Python\n",
    "*   Bajar el  **dataset_pequeno**  al  Google Drive  y tambien al disco local de la virtual machine que esta corriendo Google Colab\n",
    "\n"
   ]
  },
  {
   "cell_type": "code",
   "execution_count": null,
   "metadata": {
    "id": "W8dQFI5QYCFa"
   },
   "outputs": [],
   "source": [
    "%%shell\n",
    "\n",
    "mkdir -p \"/content/.drive/My Drive/dm\"\n",
    "mkdir -p \"/content/buckets\"\n",
    "ln -s \"/content/.drive/My Drive/dm\" /content/buckets/b1\n",
    "\n",
    "mkdir -p ~/.kaggle\n",
    "cp /content/buckets/b1/kaggle/kaggle.json  ~/.kaggle\n",
    "chmod 600 ~/.kaggle/kaggle.json\n",
    "\n",
    "\n",
    "mkdir -p /content/buckets/b1/exp\n",
    "mkdir -p /content/buckets/b1/datasets\n",
    "mkdir -p /content/datasets\n",
    "\n",
    "\n",
    "\n",
    "archivo_origen=\"https://storage.googleapis.com/open-courses/itba2025-8d0a/dataset_pequeno.csv\"\n",
    "archivo_destino=\"/content/datasets/dataset_pequeno.csv\"\n",
    "archivo_destino_bucket=\"/content/buckets/b1/datasets/dataset_pequeno.csv\"\n",
    "\n",
    "if ! test -f $archivo_destino_bucket; then\n",
    "  wget  $archivo_origen  -O $archivo_destino_bucket\n",
    "fi\n",
    "\n",
    "\n",
    "if ! test -f $archivo_destino; then\n",
    "  cp  $archivo_destino_bucket  $archivo_destino\n",
    "fi\n"
   ]
  },
  {
   "cell_type": "markdown",
   "metadata": {
    "id": "GfY5gFQAaWDe"
   },
   "source": [
    "## Final Train y generacion de la prediccion"
   ]
  },
  {
   "cell_type": "markdown",
   "metadata": {
    "id": "SBXPU-_tabMb"
   },
   "source": [
    "Esta parte se debe correr con el runtime en lenguaje **R** Ir al menu, Runtime -> Change Runtime Tipe -> Runtime type -> R"
   ]
  },
  {
   "cell_type": "markdown",
   "metadata": {
    "id": "SE94XRhWsxkX"
   },
   "source": [
    "limpio el ambiente de R"
   ]
  },
  {
   "cell_type": "code",
   "execution_count": 1,
   "metadata": {
    "id": "oZG_4br6szlT"
   },
   "outputs": [
    {
     "data": {
      "text/html": [
       "<table class=\"dataframe\">\n",
       "<caption>A matrix: 2 × 6 of type dbl</caption>\n",
       "<thead>\n",
       "\t<tr><th></th><th scope=col>used</th><th scope=col>(Mb)</th><th scope=col>gc trigger</th><th scope=col>(Mb)</th><th scope=col>max used</th><th scope=col>(Mb)</th></tr>\n",
       "</thead>\n",
       "<tbody>\n",
       "\t<tr><th scope=row>Ncells</th><td> 653308</td><td>34.9</td><td>1439374</td><td>76.9</td><td>1117747</td><td>59.7</td></tr>\n",
       "\t<tr><th scope=row>Vcells</th><td>1216642</td><td> 9.3</td><td>8388608</td><td>64.0</td><td>1924961</td><td>14.7</td></tr>\n",
       "</tbody>\n",
       "</table>\n"
      ],
      "text/latex": [
       "A matrix: 2 × 6 of type dbl\n",
       "\\begin{tabular}{r|llllll}\n",
       "  & used & (Mb) & gc trigger & (Mb) & max used & (Mb)\\\\\n",
       "\\hline\n",
       "\tNcells &  653308 & 34.9 & 1439374 & 76.9 & 1117747 & 59.7\\\\\n",
       "\tVcells & 1216642 &  9.3 & 8388608 & 64.0 & 1924961 & 14.7\\\\\n",
       "\\end{tabular}\n"
      ],
      "text/markdown": [
       "\n",
       "A matrix: 2 × 6 of type dbl\n",
       "\n",
       "| <!--/--> | used | (Mb) | gc trigger | (Mb) | max used | (Mb) |\n",
       "|---|---|---|---|---|---|---|\n",
       "| Ncells |  653308 | 34.9 | 1439374 | 76.9 | 1117747 | 59.7 |\n",
       "| Vcells | 1216642 |  9.3 | 8388608 | 64.0 | 1924961 | 14.7 |\n",
       "\n"
      ],
      "text/plain": [
       "       used    (Mb) gc trigger (Mb) max used (Mb)\n",
       "Ncells  653308 34.9 1439374    76.9 1117747  59.7\n",
       "Vcells 1216642  9.3 8388608    64.0 1924961  14.7"
      ]
     },
     "metadata": {},
     "output_type": "display_data"
    }
   ],
   "source": [
    "# limpio la memoria\n",
    "rm(list=ls(all.names=TRUE)) # remove all objects\n",
    "gc(full=TRUE, verbose=FALSE) # garbage collection"
   ]
  },
  {
   "cell_type": "markdown",
   "metadata": {
    "id": "3BrrQ47PeEb2"
   },
   "source": [
    "* Instalacion de la libreria  rpart.plot  para dibujar el arbol\n",
    "* invocacion de las librerias  **data.table**  **rpart** y  **rpart.plot**"
   ]
  },
  {
   "cell_type": "code",
   "execution_count": 2,
   "metadata": {
    "id": "SxO-0Ql0khn6"
   },
   "outputs": [
    {
     "name": "stderr",
     "output_type": "stream",
     "text": [
      "Loading required package: data.table\n",
      "\n",
      "Loading required package: rpart\n",
      "\n",
      "Loading required package: rpart.plot\n",
      "\n"
     ]
    }
   ],
   "source": [
    "# cargo las librerias que necesito\n",
    "require(\"data.table\")\n",
    "require(\"rpart\")\n",
    "\n",
    "if (!require(\"rpart.plot\")) install.packages(\"rpart.plot\")\n",
    "require(\"rpart.plot\")"
   ]
  },
  {
   "cell_type": "markdown",
   "metadata": {
    "id": "apAqiSA2eXSr"
   },
   "source": [
    "Crear y moverse a la carpeta donde se va a trabajar"
   ]
  },
  {
   "cell_type": "code",
   "execution_count": 3,
   "metadata": {
    "id": "u6JQluRzaNlX"
   },
   "outputs": [],
   "source": [
    "# carpeta de trabajo\n",
    "setwd(\"/content/buckets/b1/exp\")\n",
    "experimento <- \"KA2001\"\n",
    "dir.create(experimento, showWarnings=FALSE)\n",
    "setwd( paste0(\"/content/buckets/b1/exp/\", experimento ))"
   ]
  },
  {
   "cell_type": "markdown",
   "metadata": {
    "id": "8ZvIUVwIWUTo"
   },
   "source": [
    "## Final Training"
   ]
  },
  {
   "cell_type": "markdown",
   "metadata": {
    "id": "XLOILuGOXR2J"
   },
   "source": [
    "### Final Train Dataset"
   ]
  },
  {
   "cell_type": "markdown",
   "metadata": {
    "id": "xWhnTG7lxQQ-"
   },
   "source": [
    "Es importante notar que para el entrenamiento final utilizo el mes de 202107 completo sin ningun tipo particion  train/test, aqui no hay random, aqui no hay semillas"
   ]
  },
  {
   "cell_type": "code",
   "execution_count": 4,
   "metadata": {
    "id": "SguKBIIyaeWK"
   },
   "outputs": [],
   "source": [
    "# lectura del dataset\n",
    "dataset <- fread(\"/content/datasets/dataset_pequeno.csv\")\n",
    "dtrain_final <- dataset[foto_mes == 202107] # defino donde voy a entrenar"
   ]
  },
  {
   "cell_type": "markdown",
   "metadata": {
    "id": "HiQCnQPEXcuM"
   },
   "source": [
    "### Hyperparameters"
   ]
  },
  {
   "cell_type": "markdown",
   "metadata": {
    "id": "pfCLuBh4zJ2g"
   },
   "source": [
    "Aqui los hiperparámetros estan hardcodeados\n",
    "<br> Usted puede jugar con ellos manualmente\n",
    "<br> En las siguientes clases veremos como encontrar previamente los hiperparámetros óptimos, para ser copiados aquí"
   ]
  },
  {
   "cell_type": "code",
   "execution_count": null,
   "metadata": {
    "id": "OaCUo3gYXgYV"
   },
   "outputs": [],
   "source": [
    "param_final <- list (\n",
    "  \"cp\"= -1, # complejidad minima\n",
    "  \"minsplit\"= 250, # minima cantidad de regs en un nodo para hacer el split\n",
    "  \"minbucket\"= 100, # minima cantidad de regs en una hoja\n",
    "  \"maxdepth\"= 3 # profundidad máxima del arbol\n",
    ")"
   ]
  },
  {
   "cell_type": "markdown",
   "metadata": {
    "id": "0PBsV__gXqJq"
   },
   "source": [
    "### Training"
   ]
  },
  {
   "cell_type": "code",
   "execution_count": null,
   "metadata": {
    "id": "SZz1lLIyke0U"
   },
   "outputs": [],
   "source": [
    "# genero el modelo,  aqui se construye el arbol\n",
    "# quiero predecir clase_ternaria a partir de el resto de las variables\n",
    "modelo_final <- rpart(\n",
    "    formula= \"clase_ternaria ~ .\",\n",
    "    data= dtrain_final, # los datos donde voy a entrenar\n",
    "    xval= 0,\n",
    "    control= param_final\n",
    ")\n"
   ]
  },
  {
   "cell_type": "markdown",
   "metadata": {
    "id": "nsZbb_9-X9EZ"
   },
   "source": [
    "#### Impresion del modelo"
   ]
  },
  {
   "cell_type": "code",
   "execution_count": null,
   "metadata": {
    "id": "mAVWy614X6hJ"
   },
   "outputs": [],
   "source": [
    "# grafico el arbol\n",
    "options(repr.plot.width=30, repr.plot.height=20 )\n",
    "\n",
    "prp(modelo_final,\n",
    "    extra= 101,\n",
    "    digits= -5,\n",
    "    branch= 1,\n",
    "    type= 4,\n",
    "    varlen= 0,\n",
    "    faclen= 0\n",
    ")"
   ]
  },
  {
   "cell_type": "markdown",
   "metadata": {
    "id": "xN2ig210f6-N"
   },
   "source": [
    "## Dataset Future"
   ]
  },
  {
   "cell_type": "markdown",
   "metadata": {
    "id": "ZJioDs4Jf-lB"
   },
   "source": [
    "Aqui se define el dataset donde quiero hacer la prediccion final, generalmente esto viene dado por el problema y es trivial su eleccion"
   ]
  },
  {
   "cell_type": "code",
   "execution_count": null,
   "metadata": {
    "id": "h7JErrOagHbH"
   },
   "outputs": [],
   "source": [
    "dfuture <- dataset[foto_mes == 202109] # defino donde voy a aplicar el modelo"
   ]
  },
  {
   "cell_type": "markdown",
   "metadata": {
    "id": "spyjXPVYj6Nk"
   },
   "source": [
    "### Scoring"
   ]
  },
  {
   "cell_type": "markdown",
   "metadata": {
    "id": "CNMKS5m6gLX-"
   },
   "source": [
    "Aplico el modelo_final a los datos del futuro"
   ]
  },
  {
   "cell_type": "code",
   "execution_count": null,
   "metadata": {
    "id": "2iS68RYaZhLJ"
   },
   "outputs": [],
   "source": [
    "# aplico el modelo a los datos nuevos\n",
    "prediccion <- predict(\n",
    "    object= modelo_final,\n",
    "    newdata= dfuture,\n",
    "    type= \"prob\"\n",
    ")\n",
    "\n",
    "# veo que  quedó en predccion\n",
    "# es una matriz, una linea por registro del dataset dfuture\n",
    "# una columna para cada uno de los valores de la clase\n",
    "prediccion"
   ]
  },
  {
   "cell_type": "markdown",
   "metadata": {
    "id": "YgEJUN2ZlLZN"
   },
   "source": [
    "## Tabla Prediccion"
   ]
  },
  {
   "cell_type": "code",
   "execution_count": null,
   "metadata": {
    "id": "-UbcZ6u4lwuK"
   },
   "outputs": [],
   "source": [
    "tb_prediccion <- as.data.table(list(\n",
    "  \"numero_de_cliente\" = dfuture$numero_de_cliente,\n",
    "  \"prob\"=prediccion[, \"BAJA+2\"]\n",
    "))"
   ]
  },
  {
   "cell_type": "markdown",
   "metadata": {
    "id": "lbFzDPDwWcnM"
   },
   "source": [
    "## Decision"
   ]
  },
  {
   "cell_type": "code",
   "execution_count": null,
   "metadata": {
    "id": "m_8lCAWKWgbu"
   },
   "outputs": [],
   "source": [
    "# decido a quien se envia estimulo y a quien no\n",
    "# como trabajo con clase_ternaria puedo hacer el corte en 1/40\n",
    "# solo le envio estimulo a los registros\n",
    "#  con probabilidad de BAJA+2 mayor  a  1/40\n",
    "\n",
    "tb_prediccion[, Predicted := prob > (1/40) ]\n",
    "\n",
    "# veo que hay en tb_prediccion\n",
    "tb_prediccion"
   ]
  },
  {
   "cell_type": "markdown",
   "metadata": {
    "id": "x8wauYqsn159"
   },
   "source": [
    "## Kaggle"
   ]
  },
  {
   "cell_type": "code",
   "execution_count": null,
   "metadata": {
    "id": "F3t1x1FWdNiK"
   },
   "outputs": [],
   "source": [
    "# genero el archivo para Kaggle\n",
    "# en el formato requerido por Kaggle\n",
    "# <numero_de_cliente, Predicted>  separados por coma, estension .csv\n",
    "\n",
    "archivo_kaggle <- \"K101_001.csv\"\n",
    "\n",
    "fwrite( tb_prediccion[, list(numero_de_cliente, Predicted)],\n",
    "    file = archivo_kaggle,\n",
    "    sep = \",\"\n",
    ")"
   ]
  },
  {
   "cell_type": "markdown",
   "metadata": {
    "id": "fZ2TFi8IjkqS"
   },
   "source": [
    "### Kaggle Competition Submit"
   ]
  },
  {
   "cell_type": "markdown",
   "metadata": {
    "id": "tHgAYi8PfOja"
   },
   "source": [
    "Google Colab ya trae instalada una libreria llamada **kaggle** de python, que permite hacer submits a la Plataforma Kaggle"
   ]
  },
  {
   "cell_type": "code",
   "execution_count": null,
   "metadata": {
    "id": "ssU7YGxzg9ks"
   },
   "outputs": [],
   "source": [
    "comando <- \"kaggle competitions submit\"\n",
    "competencia <- \"-c data-mining-analista-sr-2025-b\"\n",
    "arch <- paste( \"-f\", archivo_kaggle)"
   ]
  },
  {
   "cell_type": "code",
   "execution_count": null,
   "metadata": {
    "id": "SgkMHQU_hbH_"
   },
   "outputs": [],
   "source": [
    "mensaje <-  paste0( \"-m 'cp=\", param_final$cp, \"  minsplit=\", param_final$minsplit, \"  minbucket=\", param_final$minbucket, \"  maxdepth=\", param_final$maxdepth, \"'\")"
   ]
  },
  {
   "cell_type": "code",
   "execution_count": null,
   "metadata": {
    "id": "pxY7faTRiSPm"
   },
   "outputs": [],
   "source": [
    "linea <- paste( comando, competencia, arch, mensaje)\n",
    "\n",
    "# este el el comando que correria desde el prompt de Linux\n",
    "linea"
   ]
  },
  {
   "cell_type": "code",
   "execution_count": null,
   "metadata": {
    "id": "S_uqWh7KhgQr"
   },
   "outputs": [],
   "source": [
    "# ejecuto el comando\n",
    "salida <- system(linea, intern=TRUE)\n",
    "cat(salida)"
   ]
  },
  {
   "cell_type": "markdown",
   "metadata": {
    "id": "yOPAzXbyvfVu"
   },
   "source": [
    "## Tarea para el Hogar"
   ]
  },
  {
   "cell_type": "markdown",
   "metadata": {
    "id": "1m6BshdUvjqv"
   },
   "source": [
    "Explorar manualmente que hiperparámetros genera una mayor ganancia en Kaggle\n",
    "<br> Si en un momento logra quedar en primera posición del Private Leaderboard, saquese una selfie"
   ]
  }
 ],
 "metadata": {
  "colab": {
   "provenance": []
  },
  "kernelspec": {
   "display_name": "R",
   "language": "R",
   "name": "ir"
  },
  "language_info": {
   "codemirror_mode": "r",
   "file_extension": ".r",
   "mimetype": "text/x-r-source",
   "name": "R",
   "pygments_lexer": "r",
   "version": "4.4.3"
  }
 },
 "nbformat": 4,
 "nbformat_minor": 4
}
