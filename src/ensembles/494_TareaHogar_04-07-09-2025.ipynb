{
 "cells": [
  {
   "cell_type": "markdown",
   "metadata": {
    "id": "0cEmzeUKFkPh"
   },
   "source": [
    "# Tarea para el Hogar 04"
   ]
  },
  {
   "cell_type": "markdown",
   "metadata": {
    "id": "nSICPpyTGQmC"
   },
   "source": [
    "Esta Tarea para el Hogar 02 se entrega el final de la cuarta clase\n",
    "<br> se espera de usted que intente avanzar con los desafios propuestos y que los traiga terminados para la Clase 05 que será el miercoles 03 de septiembre"
   ]
  },
  {
   "cell_type": "markdown",
   "metadata": {
    "id": "DenyKXkiJ5JN"
   },
   "source": [
    "##  1. Cazatalentos"
   ]
  },
  {
   "cell_type": "markdown",
   "metadata": {
    "id": "l-K2_ZsZGrVD"
   },
   "source": [
    "En la Clase 03 nos hemos enfrentado a  \"La Maldicion del Ganandor\",  elegir el modelo con el mejor puntaje simple no suele ser la mejor estrategia.\n",
    "<br> Lea y ejecute el notebook  **src/CazaTalentos/CazaTalentos.ipynb**\n",
    "<br> en caso de interesarle, participe del Desafío Ordenamiento  que vence el sábado 06 de septiembre a las 19:00"
   ]
  },
  {
   "cell_type": "markdown",
   "metadata": {
    "id": "K9GkTOk5J9t3"
   },
   "source": [
    "## 2. Hiperparámetros del LightGBM"
   ]
  },
  {
   "cell_type": "markdown",
   "metadata": {
    "id": "VmEFy0ukKL5T"
   },
   "source": [
    "Los objetivos de esta tarea son:\n",
    "\n",
    "\n",
    "*   Aumentar la rentabilidad de la campaña de marketing de retención proactiva de clientes.\n",
    "*   Generar un mejor modelo optimizando sus hiperparámetros\n",
    "*   Conceptual : investigar los mas relevantes hiperparámetros de LightGBM\n",
    "*   Familiarizarse con la Bayesian Optimization, sus largos tiempos de corrida y opciones para reducirlos\n",
    "*   Familiarizarse con el uso de máquinas virtuales de Google Colab\n",
    "*   Ver un pipeline completo de optimización de hiperparámetros y puesta en producción"
   ]
  },
  {
   "cell_type": "markdown",
   "metadata": {
    "id": "5yvlS6JQLRMd"
   },
   "source": [
    "LightGBM cuenta con mas de 60 hiperparámetros, siendo posible utilizar 40 al mismo tiempo, aunque no razonable.\n",
    "<br> La documentación oficial de los hiperparámetros de LightGBM es  https://lightgbm.readthedocs.io/en/latest/Parameters.html#core-parameters\n"
   ]
  },
  {
   "cell_type": "markdown",
   "metadata": {
    "id": "eydI4YNAsFaf"
   },
   "source": [
    "Se lo alerta sobre que una Optimizacion Bayesiana lleva varias horas de corrida, y usted deberá correr VARIAS optimizaciones para descubrir cuales parámetros conviene optimizar.\n",
    "<br> A pesar que la próxima clase es recien en viernes 01 de agosto, inicie la tarea con tiempo, aprenda a planificar estratégicamente sus corridas como un@ científ@  de datos."
   ]
  },
  {
   "cell_type": "markdown",
   "metadata": {
    "id": "RzU4S0SeMcpp"
   },
   "source": [
    "Es necesario investigar cuales son los hiperparámetros de LightGBM que vale la pena optimizar en una Bayesian Optimization, ya que los realmente utiles son apenas un reducido subconjunto.\n",
    "<br>Usted deberá investigar cuales son los hiperparámetros mas relevantes de LightGBM, su primer alternativa es preguntándole a su amigo con capacidades especiales ChatGPT o sus endogámicos familiares Claude, DeepSeek, Gemini, Grok, etc\n",
    "<br> La segunda alternativa es la propia documentación de LightGBM  https://lightgbm.readthedocs.io/en/latest/Parameters-Tuning.html\n"
   ]
  },
  {
   "cell_type": "markdown",
   "metadata": {
    "id": "LNptUgI_NWWG"
   },
   "source": [
    "Adicionalmente podra buscar información como la que proveen esta diminuta muestra aleatoria de artículos ligeros:\n",
    "*  https://medium.com/@sarahzouinina/a-deep-dive-into-lightgbm-how-to-choose-and-tune-parameters-7c584945842e\n",
    "*  https://www.kaggle.com/code/somang1418/tuning-hyperparameters-under-10-minutes-lgbm\n",
    "*  https://towardsdatascience.com/beginners-guide-to-the-must-know-lightgbm-hyperparameters-a0005a812702/\n",
    "\n",
    "\n",
    "<br>  La muestra anterior se brinda a modo de ejemplo, usted deberá buscar muuuuchas  fuentes adicionales de información\n",
    "<br> Tenga presente que LightGBM es el estado del arte en modelado predictivo para datasets estructurado, que son el 90% del trabajo del 95% de los Data Scientists en Argentina."
   ]
  },
  {
   "cell_type": "markdown",
   "metadata": {
    "id": "WpUThBojODyK"
   },
   "source": [
    "El desafío de esta tarea es:\n",
    "* Qué hiperparparámetros conviene optimizar?  Las recomendaciones de los artículos ligeros es siempre sensata?  Sus autores realmente hicieron experimentos o son siemplemente escritores de entretenimiento carente de base científica?\n",
    "* Elegidos los hiperparámetros, cual es el  <desde, hasta> que se debe utilizar en la Bayesian Optimization ?\n",
    "* Realmente vale la pena optimizar 10 o 16 hiperparámetros al mismo tiempo ?  No resulta contraproducente una búsqueda en un espacio de tal alta dimensionalidad ?"
   ]
  },
  {
   "cell_type": "markdown",
   "metadata": {
    "id": "PX0qg_c0yqob"
   },
   "source": [
    "#### 2.1  Seteo del ambiente en Google Colab"
   ]
  },
  {
   "cell_type": "markdown",
   "metadata": {
    "id": "NGY7H9xza7Zr"
   },
   "source": [
    "Esta parte se debe correr con el runtime en Python3\n",
    "<br>Ir al menu, Runtime -> Change Runtime Type -> Runtime type ->  **Python 3**"
   ]
  },
  {
   "cell_type": "markdown",
   "metadata": {
    "id": "7PupIBNba7Zr"
   },
   "source": [
    "Conectar la virtual machine donde esta corriendo Google Colab con el  Google Drive, para poder tener persistencia de archivos"
   ]
  },
  {
   "cell_type": "code",
   "execution_count": null,
   "metadata": {
    "id": "9LpZCst5a7Zs"
   },
   "outputs": [],
   "source": [
    "# primero establecer el Runtime de Python 3\n",
    "from google.colab import drive\n",
    "drive.mount('/content/.drive')"
   ]
  },
  {
   "cell_type": "markdown",
   "metadata": {
    "id": "JYC_F-wla7Zs"
   },
   "source": [
    "Para correr la siguiente celda es fundamental en Arranque en Frio haber copiado el archivo kaggle.json al Google Drive, en la carpeta indicada en el instructivo\n",
    "\n",
    "<br>los siguientes comando estan en shell script de Linux\n",
    "*   Crear las carpetas en el Google Drive\n",
    "*   \"instalar\" el archivo kaggle.json desde el Google Drive a la virtual machine para que pueda ser utilizado por la libreria  kaggle de Python\n",
    "*   Bajar el  **dataset_pequeno**  al  Google Drive  y tambien al disco local de la virtual machine que esta corriendo Google Colab\n",
    "\n"
   ]
  },
  {
   "cell_type": "code",
   "execution_count": null,
   "metadata": {
    "id": "XWLelftXa7Zt"
   },
   "outputs": [],
   "source": [
    "%%shell\n",
    "\n",
    "mkdir -p \"/content/.drive/My Drive/dm\"\n",
    "mkdir -p \"/content/buckets\"\n",
    "ln -s \"/content/.drive/My Drive/dm\" /content/buckets/b1\n",
    "\n",
    "mkdir -p ~/.kaggle\n",
    "cp /content/buckets/b1/kaggle/kaggle.json  ~/.kaggle\n",
    "chmod 600 ~/.kaggle/kaggle.json\n",
    "\n",
    "\n",
    "mkdir -p /content/buckets/b1/exp\n",
    "mkdir -p /content/buckets/b1/datasets\n",
    "mkdir -p /content/datasets\n",
    "\n",
    "\n",
    "\n",
    "archivo_origen=\"https://storage.googleapis.com/open-courses/itba2025-8d0a/dataset_pequeno.csv\"\n",
    "archivo_destino=\"/content/datasets/dataset_pequeno.csv\"\n",
    "archivo_destino_bucket=\"/content/buckets/b1/datasets/dataset_pequeno.csv\"\n",
    "\n",
    "if ! test -f $archivo_destino_bucket; then\n",
    "  wget  $archivo_origen  -O $archivo_destino_bucket\n",
    "fi\n",
    "\n",
    "\n",
    "if ! test -f $archivo_destino; then\n",
    "  cp  $archivo_destino_bucket  $archivo_destino\n",
    "fi\n"
   ]
  },
  {
   "cell_type": "markdown",
   "metadata": {
    "id": "oSKhZRToy2F7"
   },
   "source": [
    "### 2.2 Optimizacion Hiperparámetros"
   ]
  },
  {
   "cell_type": "markdown",
   "metadata": {
    "id": "2kwPpHAtSmix"
   },
   "source": [
    "Esta parte se debe correr con el runtime en lenguaje R Ir al menu, Runtime -> Change Runtime Type -> Runtime type -> R"
   ]
  },
  {
   "cell_type": "markdown",
   "metadata": {
    "id": "xp4-Bj3aYI8d"
   },
   "source": [
    "### 2.2.1 Inicio"
   ]
  },
  {
   "cell_type": "markdown",
   "metadata": {
    "id": "zy8YTZfESxeJ"
   },
   "source": [
    "limpio el ambiente de R"
   ]
  },
  {
   "cell_type": "code",
   "execution_count": 1,
   "metadata": {
    "id": "gBq__iAdQliq"
   },
   "outputs": [
    {
     "data": {
      "text/html": [
       "'Sun Sep 07 20:50:23 2025'"
      ],
      "text/latex": [
       "'Sun Sep 07 20:50:23 2025'"
      ],
      "text/markdown": [
       "'Sun Sep 07 20:50:23 2025'"
      ],
      "text/plain": [
       "[1] \"Sun Sep 07 20:50:23 2025\""
      ]
     },
     "metadata": {},
     "output_type": "display_data"
    }
   ],
   "source": [
    "format(Sys.time(), \"%a %b %d %X %Y\")"
   ]
  },
  {
   "cell_type": "code",
   "execution_count": 2,
   "metadata": {
    "id": "7rdVrBojS1IV"
   },
   "outputs": [
    {
     "data": {
      "text/html": [
       "<table class=\"dataframe\">\n",
       "<caption>A matrix: 2 × 6 of type dbl</caption>\n",
       "<thead>\n",
       "\t<tr><th></th><th scope=col>used</th><th scope=col>(Mb)</th><th scope=col>gc trigger</th><th scope=col>(Mb)</th><th scope=col>max used</th><th scope=col>(Mb)</th></tr>\n",
       "</thead>\n",
       "<tbody>\n",
       "\t<tr><th scope=row>Ncells</th><td> 656930</td><td>35.1</td><td>1439368</td><td>76.9</td><td>1431361</td><td>76.5</td></tr>\n",
       "\t<tr><th scope=row>Vcells</th><td>1224919</td><td> 9.4</td><td>8388608</td><td>64.0</td><td>1924961</td><td>14.7</td></tr>\n",
       "</tbody>\n",
       "</table>\n"
      ],
      "text/latex": [
       "A matrix: 2 × 6 of type dbl\n",
       "\\begin{tabular}{r|llllll}\n",
       "  & used & (Mb) & gc trigger & (Mb) & max used & (Mb)\\\\\n",
       "\\hline\n",
       "\tNcells &  656930 & 35.1 & 1439368 & 76.9 & 1431361 & 76.5\\\\\n",
       "\tVcells & 1224919 &  9.4 & 8388608 & 64.0 & 1924961 & 14.7\\\\\n",
       "\\end{tabular}\n"
      ],
      "text/markdown": [
       "\n",
       "A matrix: 2 × 6 of type dbl\n",
       "\n",
       "| <!--/--> | used | (Mb) | gc trigger | (Mb) | max used | (Mb) |\n",
       "|---|---|---|---|---|---|---|\n",
       "| Ncells |  656930 | 35.1 | 1439368 | 76.9 | 1431361 | 76.5 |\n",
       "| Vcells | 1224919 |  9.4 | 8388608 | 64.0 | 1924961 | 14.7 |\n",
       "\n"
      ],
      "text/plain": [
       "       used    (Mb) gc trigger (Mb) max used (Mb)\n",
       "Ncells  656930 35.1 1439368    76.9 1431361  76.5\n",
       "Vcells 1224919  9.4 8388608    64.0 1924961  14.7"
      ]
     },
     "metadata": {},
     "output_type": "display_data"
    }
   ],
   "source": [
    "# limpio la memoria\n",
    "rm(list=ls(all.names=TRUE)) # remove all objects\n",
    "gc(full=TRUE, verbose=FALSE) # garbage collection"
   ]
  },
  {
   "cell_type": "markdown",
   "metadata": {
    "id": "kuPfQ7ksjwW3"
   },
   "source": [
    "### 2.2.2 Carga de Librerias"
   ]
  },
  {
   "cell_type": "code",
   "execution_count": 3,
   "metadata": {
    "id": "lVyxLaJ1j1J_"
   },
   "outputs": [
    {
     "name": "stderr",
     "output_type": "stream",
     "text": [
      "Loading required package: data.table\n",
      "\n",
      "Loading required package: parallel\n",
      "\n",
      "Loading required package: primes\n",
      "\n",
      "Loading required package: rlist\n",
      "\n",
      "Loading required package: yaml\n",
      "\n",
      "Loading required package: lightgbm\n",
      "\n",
      "Loading required package: DiceKriging\n",
      "\n",
      "Loading required package: mlrMBO\n",
      "\n",
      "Loading required package: mlr\n",
      "\n",
      "Loading required package: ParamHelpers\n",
      "\n",
      "Loading required package: smoof\n",
      "\n",
      "Loading required package: checkmate\n",
      "\n",
      "\n",
      "Attaching package: ‘checkmate’\n",
      "\n",
      "\n",
      "The following object is masked from ‘package:DiceKriging’:\n",
      "\n",
      "    checkNames\n",
      "\n",
      "\n"
     ]
    }
   ],
   "source": [
    "# cargo las librerias que necesito\n",
    "require(\"data.table\")\n",
    "require(\"parallel\")\n",
    "\n",
    "if( !require(\"primes\") ) install.packages(\"primes\")\n",
    "require(\"primes\")\n",
    "\n",
    "if( !require(\"utils\") ) install.packages(\"utils\")\n",
    "require(\"utils\")\n",
    "\n",
    "if( !require(\"rlist\") ) install.packages(\"rlist\")\n",
    "require(\"rlist\")\n",
    "\n",
    "if( !require(\"yaml\")) install.packages(\"yaml\")\n",
    "require(\"yaml\")\n",
    "\n",
    "if( !require(\"lightgbm\") ) install.packages(\"lightgbm\")\n",
    "require(\"lightgbm\")\n",
    "\n",
    "if( !require(\"DiceKriging\") ) install.packages(\"DiceKriging\")\n",
    "require(\"DiceKriging\")\n",
    "\n",
    "if( !require(\"mlrMBO\") ) install.packages(\"mlrMBO\")\n",
    "require(\"mlrMBO\")"
   ]
  },
  {
   "cell_type": "markdown",
   "metadata": {
    "id": "Iz-6Qt6BUaA3"
   },
   "source": [
    "### 2.2.3 Definicion de Parametros"
   ]
  },
  {
   "cell_type": "markdown",
   "metadata": {
    "id": "cOdlKd7lUm2I"
   },
   "source": [
    "aqui debe cargar SU semilla primigenia\n",
    "<br>recuerde cambiar el numero de experimento en cada corrida nueva"
   ]
  },
  {
   "cell_type": "code",
   "execution_count": 4,
   "metadata": {
    "id": "ASYkebOu2mF6"
   },
   "outputs": [],
   "source": [
    "PARAM <- list()\n",
    "PARAM$experimento <- 49407082025\n",
    "PARAM$semilla_primigenia <- 100379\n"
   ]
  },
  {
   "cell_type": "code",
   "execution_count": 5,
   "metadata": {
    "id": "ezOhQdbA293o"
   },
   "outputs": [],
   "source": [
    "PARAM$kaggle$competencia <- \"data-mining-analista-sr-2025-b\"\n",
    "PARAM$kaggle$cortes <- seq(10000, 12000, by= 500)"
   ]
  },
  {
   "cell_type": "code",
   "execution_count": 6,
   "metadata": {
    "id": "jtB0Lub42rHO"
   },
   "outputs": [],
   "source": [
    "# un undersampling de 0.1  toma solo el 10% de los CONTINUA\n",
    "# undersampling de 1.0  implica tomar TODOS los datos\n",
    "\n",
    "PARAM$trainingstrategy$undersampling <- 0.5"
   ]
  },
  {
   "cell_type": "code",
   "execution_count": 7,
   "metadata": {
    "id": "OFxm-xiNUOJX"
   },
   "outputs": [],
   "source": [
    "# Parametros LightGBM\n",
    "\n",
    "PARAM$hyperparametertuning$xval_folds <- 5\n",
    "\n",
    "# parametros fijos del LightGBM que se pisaran con la parte variable de la BO\n",
    "PARAM$lgbm$param_fijos <-  list(\n",
    "  boosting= \"gbdt\", # puede ir  dart  , ni pruebe random_forest\n",
    "  objective= \"binary\",\n",
    "  metric= \"auc\",\n",
    "  first_metric_only= FALSE,\n",
    "  boost_from_average= TRUE,\n",
    "  feature_pre_filter= FALSE,\n",
    "  force_row_wise= TRUE, # para reducir warnings\n",
    "  verbosity= -100,\n",
    "\n",
    "  seed= PARAM$semilla_primigenia,\n",
    "\n",
    "  max_depth= -1L, # -1 significa no limitar,  por ahora lo dejo fijo\n",
    "  min_gain_to_split= 0, # min_gain_to_split >= 0\n",
    "  min_sum_hessian_in_leaf= 0.001, #  min_sum_hessian_in_leaf >= 0.0\n",
    "  lambda_l1= 0.0, # lambda_l1 >= 0.0\n",
    "  lambda_l2= 0.0, # lambda_l2 >= 0.0\n",
    "  max_bin= 31L, # lo debo dejar fijo, no participa de la BO\n",
    "\n",
    "  bagging_fraction= 1.0, # 0.0 < bagging_fraction <= 1.0\n",
    "  pos_bagging_fraction= 1.0, # 0.0 < pos_bagging_fraction <= 1.0\n",
    "  neg_bagging_fraction= 1.0, # 0.0 < neg_bagging_fraction <= 1.0\n",
    "  is_unbalance= FALSE, #\n",
    "  scale_pos_weight= 1.0, # scale_pos_weight > 0.0\n",
    "\n",
    "  drop_rate= 0.1, # 0.0 < neg_bagging_fraction <= 1.0\n",
    "  max_drop= 50, # <=0 means no limit\n",
    "  skip_drop= 0.5, # 0.0 <= skip_drop <= 1.0\n",
    "\n",
    "  extra_trees= FALSE,\n",
    "\n",
    "  num_iterations= 1200,\n",
    "  learning_rate= 0.02,\n",
    "  feature_fraction= 0.5,\n",
    "  num_leaves= 750,\n",
    "  min_data_in_leaf= 5000\n",
    ")\n"
   ]
  },
  {
   "cell_type": "markdown",
   "metadata": {
    "id": "D5Yj-JV4yvOt"
   },
   "source": [
    "Aqui se definen los hiperparámetros de LightGBM que participan de la Bayesian Optimization\n",
    "<br> si es un numero entero debe ir  makeIntegerParam\n",
    "<br> si es un numero real (con decimales) debe ir  makeNumericParam\n",
    "<br> es muy importante leer cuales son un lower y upper  permitidos y ademas razonables"
   ]
  },
  {
   "cell_type": "code",
   "execution_count": 9,
   "metadata": {
    "id": "jENpR26ZyuS8"
   },
   "outputs": [],
   "source": [
    "# Aqui se cargan los bordes de los hiperparametros de la BO\n",
    "PARAM$hypeparametertuning$hs <- makeParamSet(\n",
    "  makeIntegerParam(\"num_iterations\", lower= 8L, upper= 4096L),\n",
    "  makeNumericParam(\"learning_rate\", lower= 0.0001, upper= 0.5),\n",
    "  makeNumericParam(\"feature_fraction\", lower= 0.0001, upper= 1.0),\n",
    "  makeIntegerParam(\"num_leaves\", lower= 8L, upper= 2048L),\n",
    "  makeIntegerParam(\"min_data_in_leaf\", lower= 1L, upper= 8000L),\n",
    "  makeNumericParam(\"lambda_l1\", lower= 0.0, upper= 10000.0),\n",
    "  makeNumericParam(\"lambda_l2\", lower= 0.0, upper= 10000.0)\n",
    ")"
   ]
  },
  {
   "cell_type": "markdown",
   "metadata": {
    "id": "-_RPFUb3zMoW"
   },
   "source": [
    "A mayor cantidad de hiperparámetros, se debe aumentar las iteraciones de la Bayesian Optimization\n",
    "<br> 30 es un valor muy tacaño, pero corre rápido\n",
    "<br> deberia partir de 50, alcanzando los 100 si se dispone de tiempo"
   ]
  },
  {
   "cell_type": "code",
   "execution_count": 10,
   "metadata": {
    "id": "q5Rd3pnbzSiG"
   },
   "outputs": [],
   "source": [
    "PARAM$hyperparametertuning$iteraciones <- 100 # iteraciones bayesianas"
   ]
  },
  {
   "cell_type": "markdown",
   "metadata": {
    "id": "4RWZXL1VZjMI"
   },
   "source": [
    "### 2.2.4  Preprocesamiento"
   ]
  },
  {
   "cell_type": "code",
   "execution_count": 11,
   "metadata": {
    "id": "j3toG9-lZm4K"
   },
   "outputs": [],
   "source": [
    "# carpeta de trabajo\n",
    "\n",
    "setwd(\"/content/buckets/b1/exp\")\n",
    "experimento_folder <- paste0(\"HT\", PARAM$experimento)\n",
    "dir.create(experimento_folder, showWarnings=FALSE)\n",
    "setwd( paste0(\"/content/buckets/b1/exp/\", experimento_folder ))"
   ]
  },
  {
   "cell_type": "code",
   "execution_count": 12,
   "metadata": {
    "id": "FM3lxKoLZ643"
   },
   "outputs": [],
   "source": [
    "# lectura del dataset\n",
    "\n",
    "dataset <- fread(\"/content/datasets/dataset_pequeno.csv\")"
   ]
  },
  {
   "cell_type": "code",
   "execution_count": 13,
   "metadata": {
    "id": "OsJ-91UeZ-I_"
   },
   "outputs": [],
   "source": [
    "dataset_train <- dataset[foto_mes %in% c(202107)]"
   ]
  },
  {
   "cell_type": "code",
   "execution_count": 14,
   "metadata": {
    "id": "vrWE7BE0aB2J"
   },
   "outputs": [],
   "source": [
    "# paso la clase a binaria que tome valores {0,1}  enteros\n",
    "#  BAJA+1 y BAJA+2  son  1,   CONTINUA es 0\n",
    "\n",
    "dataset_train[,\n",
    "  clase01 := ifelse(clase_ternaria %in% c(\"BAJA+2\",\"BAJA+1\"), 1L, 0L)\n",
    "]"
   ]
  },
  {
   "cell_type": "code",
   "execution_count": 15,
   "metadata": {
    "id": "jP7YlQBnaW6W"
   },
   "outputs": [],
   "source": [
    "# defino los datos que forma parte del training\n",
    "# aqui se hace el undersampling de los CONTINUA\n",
    "# notar que para esto utilizo la SEGUNDA semilla\n",
    "\n",
    "set.seed(PARAM$semilla_primigenia, kind = \"L'Ecuyer-CMRG\")\n",
    "dataset_train[, azar := runif(nrow(dataset_train))]\n",
    "dataset_train[, training := 0L]\n",
    "\n",
    "dataset_train[\n",
    "  foto_mes %in% c(202107) &\n",
    "    (azar <= PARAM$trainingstrategy$undersampling | clase_ternaria %in% c(\"BAJA+1\", \"BAJA+2\")),\n",
    "  training := 1L\n",
    "]"
   ]
  },
  {
   "cell_type": "code",
   "execution_count": 16,
   "metadata": {
    "id": "xElu4s5W4rX7"
   },
   "outputs": [],
   "source": [
    "# los campos que se van a utilizar\n",
    "\n",
    "campos_buenos <- setdiff(\n",
    "  colnames(dataset_train),\n",
    "  c(\"clase_ternaria\", \"clase01\", \"azar\", \"training\")\n",
    ")"
   ]
  },
  {
   "cell_type": "code",
   "execution_count": 17,
   "metadata": {
    "id": "PppMHcGYaaol"
   },
   "outputs": [
    {
     "data": {
      "text/html": [
       "83507"
      ],
      "text/latex": [
       "83507"
      ],
      "text/markdown": [
       "83507"
      ],
      "text/plain": [
       "[1] 83507"
      ]
     },
     "metadata": {},
     "output_type": "display_data"
    },
    {
     "data": {
      "text/html": [
       "154"
      ],
      "text/latex": [
       "154"
      ],
      "text/markdown": [
       "154"
      ],
      "text/plain": [
       "[1] 154"
      ]
     },
     "metadata": {},
     "output_type": "display_data"
    }
   ],
   "source": [
    "# dejo los datos en el formato que necesita LightGBM\n",
    "\n",
    "dtrain <- lgb.Dataset(\n",
    "  data= data.matrix(dataset_train[training == 1L, campos_buenos, with= FALSE]),\n",
    "  label= dataset_train[training == 1L, clase01],\n",
    "  free_raw_data= FALSE\n",
    ")\n",
    "\n",
    "nrow(dtrain)\n",
    "ncol(dtrain)"
   ]
  },
  {
   "cell_type": "markdown",
   "metadata": {
    "id": "Ta-EkOu3cphF"
   },
   "source": [
    "2.2.5 Configuracion Bayesian Optimization"
   ]
  },
  {
   "cell_type": "code",
   "execution_count": 18,
   "metadata": {
    "id": "cjgfurjdfiXb"
   },
   "outputs": [],
   "source": [
    "# En el argumento x llegan los parmaetros de la bayesiana\n",
    "#  devuelve la AUC en cross validation del modelo entrenado\n",
    "\n",
    "EstimarGanancia_AUC_lightgbm <- function(x) {\n",
    "\n",
    "  # x pisa (o agrega) a param_fijos\n",
    "  param_completo <- modifyList(PARAM$lgbm$param_fijos, x)\n",
    "\n",
    "  # entreno LightGBM\n",
    "  modelocv <- lgb.cv(\n",
    "    data= dtrain,\n",
    "    nfold= PARAM$hyperparametertuning$xval_folds,\n",
    "    stratified= TRUE,\n",
    "    param= param_completo\n",
    "  )\n",
    "\n",
    "  # obtengo la ganancia\n",
    "  AUC <- modelocv$best_score\n",
    "\n",
    "  # hago espacio en la memoria\n",
    "  rm(modelocv)\n",
    "  gc(full= TRUE, verbose= FALSE)\n",
    "\n",
    "  message(format(Sys.time(), \"%a %b %d %X %Y\"), \" AUC \", AUC)\n",
    "\n",
    "  return(AUC)\n",
    "}"
   ]
  },
  {
   "cell_type": "code",
   "execution_count": 19,
   "metadata": {
    "id": "WLi_o1hocvN-"
   },
   "outputs": [],
   "source": [
    "# Aqui comienza la configuracion de la Bayesian Optimization\n",
    "\n",
    "# en este archivo quedan la evolucion binaria de la BO\n",
    "kbayesiana <- \"bayesiana.RDATA\"\n",
    "\n",
    "funcion_optimizar <- EstimarGanancia_AUC_lightgbm # la funcion que voy a maximizar\n",
    "\n",
    "configureMlr(show.learner.output= FALSE)\n",
    "\n",
    "# configuro la busqueda bayesiana,  los hiperparametros que se van a optimizar\n",
    "# por favor, no desesperarse por lo complejo\n",
    "\n",
    "obj.fun <- makeSingleObjectiveFunction(\n",
    "  fn= funcion_optimizar, # la funcion que voy a maximizar\n",
    "  minimize= FALSE, # estoy Maximizando la ganancia\n",
    "  noisy= TRUE,\n",
    "  par.set= PARAM$hypeparametertuning$hs, # definido al comienzo del programa\n",
    "  has.simple.signature= FALSE # paso los parametros en una lista\n",
    ")\n",
    "\n",
    "# cada 600 segundos guardo el resultado intermedio\n",
    "ctrl <- makeMBOControl(\n",
    "  save.on.disk.at.time= 600, # se graba cada 600 segundos\n",
    "  save.file.path= kbayesiana\n",
    ") # se graba cada 600 segundos\n",
    "\n",
    "# indico la cantidad de iteraciones que va a tener la Bayesian Optimization\n",
    "ctrl <- setMBOControlTermination(\n",
    "  ctrl,\n",
    "  iters= PARAM$hyperparametertuning$iteraciones\n",
    ") # cantidad de iteraciones\n",
    "\n",
    "# defino el método estandar para la creacion de los puntos iniciales,\n",
    "# los \"No Inteligentes\"\n",
    "ctrl <- setMBOControlInfill(ctrl, crit= makeMBOInfillCritEI())\n",
    "\n",
    "# establezco la funcion que busca el maximo\n",
    "surr.km <- makeLearner(\n",
    "  \"regr.km\",\n",
    "  predict.type= \"se\",\n",
    "  covtype= \"matern3_2\",\n",
    "  control= list(trace= TRUE)\n",
    ")\n"
   ]
  },
  {
   "cell_type": "markdown",
   "metadata": {
    "id": "_uUeVo5pc4zc"
   },
   "source": [
    "2.2.6 Corrida Bayesian Optimization"
   ]
  },
  {
   "cell_type": "code",
   "execution_count": 20,
   "metadata": {
    "id": "RcABNaKGciaz"
   },
   "outputs": [
    {
     "name": "stderr",
     "output_type": "stream",
     "text": [
      "Computing y column(s) for design. Not provided.\n",
      "\n",
      "Sun Sep 07 20:51:33 2025 AUC 0.5\n",
      "\n",
      "Sun Sep 07 20:51:51 2025 AUC 0.5\n",
      "\n",
      "Sun Sep 07 20:52:11 2025 AUC 0.5\n",
      "\n",
      "Sun Sep 07 20:52:33 2025 AUC 0.5\n",
      "\n",
      "Sun Sep 07 20:54:27 2025 AUC 0.5\n",
      "\n",
      "Sun Sep 07 20:54:46 2025 AUC 0.5\n",
      "\n",
      "Sun Sep 07 20:54:52 2025 AUC 0.5\n",
      "\n",
      "Sun Sep 07 20:55:39 2025 AUC 0.5\n",
      "\n",
      "Sun Sep 07 20:55:58 2025 AUC 0.5\n",
      "\n",
      "Sun Sep 07 20:56:13 2025 AUC 0.5\n",
      "\n",
      "Sun Sep 07 20:56:39 2025 AUC 0.5\n",
      "\n",
      "Sun Sep 07 20:57:03 2025 AUC 0.5\n",
      "\n",
      "Sun Sep 07 20:58:15 2025 AUC 0.5\n",
      "\n",
      "Sun Sep 07 20:58:45 2025 AUC 0.90176415690403\n",
      "\n",
      "Sun Sep 07 20:58:57 2025 AUC 0.5\n",
      "\n",
      "Sun Sep 07 20:59:32 2025 AUC 0.5\n",
      "\n",
      "Sun Sep 07 21:02:09 2025 AUC 0.5\n",
      "\n",
      "Sun Sep 07 21:02:54 2025 AUC 0.5\n",
      "\n",
      "Sun Sep 07 21:03:01 2025 AUC 0.5\n",
      "\n",
      "Sun Sep 07 21:03:29 2025 AUC 0.902132288383728\n",
      "\n",
      "Sun Sep 07 21:04:01 2025 AUC 0.5\n",
      "\n",
      "[mbo] 0: num_iterations=2048; learning_rate=0.0855; feature_fraction=0.652; num_leaves=544; min_data_in_leaf=1910; lambda_l1=6.88e+03; lambda_l2=3.53e+03 : y = 0.5 : 16.1 secs : initdesign\n",
      "\n",
      "[mbo] 0: num_iterations=2480; learning_rate=0.0161; feature_fraction=0.928; num_leaves=947; min_data_in_leaf=4613; lambda_l1=4.18e+03; lambda_l2=2.97e+03 : y = 0.5 : 18.5 secs : initdesign\n",
      "\n",
      "[mbo] 0: num_iterations=2801; learning_rate=0.379; feature_fraction=0.701; num_leaves=459; min_data_in_leaf=2886; lambda_l1=2.28e+03; lambda_l2=5.38e+03 : y = 0.5 : 20.1 secs : initdesign\n",
      "\n",
      "[mbo] 0: num_iterations=1189; learning_rate=0.283; feature_fraction=0.301; num_leaves=161; min_data_in_leaf=6441; lambda_l1=3.18e+03; lambda_l2=8.3e+03 : y = 0.5 : 21.8 secs : initdesign\n",
      "\n",
      "[mbo] 0: num_iterations=3522; learning_rate=0.366; feature_fraction=0.542; num_leaves=1455; min_data_in_leaf=6618; lambda_l1=1.91e+03; lambda_l2=4.91e+03 : y = 0.5 : 64.8 secs : initdesign\n",
      "\n",
      "[mbo] 0: num_iterations=3169; learning_rate=0.165; feature_fraction=0.104; num_leaves=875; min_data_in_leaf=3768; lambda_l1=5.61e+03; lambda_l2=1.86e+03 : y = 0.5 : 49.1 secs : initdesign\n",
      "\n",
      "[mbo] 0: num_iterations=980; learning_rate=0.215; feature_fraction=0.411; num_leaves=1517; min_data_in_leaf=6176; lambda_l1=4.93e+03; lambda_l2=5.99e+03 : y = 0.5 : 18.9 secs : initdesign\n",
      "\n",
      "[mbo] 0: num_iterations=320; learning_rate=0.499; feature_fraction=0.496; num_leaves=259; min_data_in_leaf=2668; lambda_l1=1.5e+03; lambda_l2=7.26e+03 : y = 0.5 : 6.5 secs : initdesign\n",
      "\n",
      "[mbo] 0: num_iterations=2752; learning_rate=0.267; feature_fraction=0.18; num_leaves=1222; min_data_in_leaf=7594; lambda_l1=7.15e+03; lambda_l2=3.93e+03 : y = 0.5 : 46.9 secs : initdesign\n",
      "\n",
      "[mbo] 0: num_iterations=2618; learning_rate=0.13; feature_fraction=0.784; num_leaves=1172; min_data_in_leaf=688; lambda_l1=5.97e+03; lambda_l2=5.31e+03 : y = 0.5 : 18.6 secs : initdesign\n",
      "\n",
      "[mbo] 0: num_iterations=876; learning_rate=0.349; feature_fraction=0.252; num_leaves=596; min_data_in_leaf=2414; lambda_l1=8.31e+03; lambda_l2=3.69e+03 : y = 0.5 : 15.5 secs : initdesign\n",
      "\n",
      "[mbo] 0: num_iterations=1608; learning_rate=0.338; feature_fraction=0.135; num_leaves=1842; min_data_in_leaf=3257; lambda_l1=4.62e+03; lambda_l2=233 : y = 0.5 : 25.9 secs : initdesign\n",
      "\n",
      "[mbo] 0: num_iterations=3232; learning_rate=0.433; feature_fraction=0.962; num_leaves=1300; min_data_in_leaf=5985; lambda_l1=6.43e+03; lambda_l2=9.16e+03 : y = 0.5 : 23.8 secs : initdesign\n",
      "\n",
      "[mbo] 0: num_iterations=4066; learning_rate=0.3; feature_fraction=0.249; num_leaves=774; min_data_in_leaf=921; lambda_l1=6.73e+03; lambda_l2=7.65e+03 : y = 0.5 : 72.3 secs : initdesign\n",
      "\n",
      "[mbo] 0: num_iterations=1391; learning_rate=0.108; feature_fraction=0.37; num_leaves=357; min_data_in_leaf=2265; lambda_l1=422; lambda_l2=6.9e+03 : y = 0.902 : 30.2 secs : initdesign\n",
      "\n",
      "[mbo] 0: num_iterations=1119; learning_rate=0.0361; feature_fraction=0.62; num_leaves=1592; min_data_in_leaf=4529; lambda_l1=8.09e+03; lambda_l2=9.44e+03 : y = 0.5 : 11.1 secs : initdesign\n",
      "\n",
      "[mbo] 0: num_iterations=2187; learning_rate=0.0303; feature_fraction=0.145; num_leaves=1935; min_data_in_leaf=3558; lambda_l1=7.71e+03; lambda_l2=1.53e+03 : y = 0.5 : 35.2 secs : initdesign\n",
      "\n",
      "[mbo] 0: num_iterations=3701; learning_rate=0.406; feature_fraction=0.832; num_leaves=1074; min_data_in_leaf=382; lambda_l1=1.06e+03; lambda_l2=9.95e+03 : y = 0.801 : 30.0 secs : initdesign\n",
      "\n",
      "[mbo] 0: num_iterations=134; learning_rate=0.185; feature_fraction=0.605; num_leaves=19; min_data_in_leaf=4016; lambda_l1=5.32e+03; lambda_l2=893 : y = 0.5 : 2.1 secs : initdesign\n",
      "\n",
      "[mbo] 0: num_iterations=232; learning_rate=0.304; feature_fraction=0.965; num_leaves=1986; min_data_in_leaf=1361; lambda_l1=3.65e+03; lambda_l2=6.14e+03 : y = 0.5 : 2.5 secs : initdesign\n",
      "\n",
      "[mbo] 0: num_iterations=1904; learning_rate=0.477; feature_fraction=0.00726; num_leaves=998; min_data_in_leaf=5494; lambda_l1=3.39e+03; lambda_l2=4.39e+03 : y = 0.5 : 23.4 secs : initdesign\n",
      "\n",
      "[mbo] 0: num_iterations=673; learning_rate=0.411; feature_fraction=0.746; num_leaves=1766; min_data_in_leaf=7743; lambda_l1=9.16e+03; lambda_l2=2.59e+03 : y = 0.5 : 5.3 secs : initdesign\n",
      "\n",
      "[mbo] 0: num_iterations=3867; learning_rate=0.159; feature_fraction=0.886; num_leaves=1680; min_data_in_leaf=7086; lambda_l1=9.55e+03; lambda_l2=567 : y = 0.5 : 28.4 secs : initdesign\n",
      "\n",
      "[mbo] 0: num_iterations=3490; learning_rate=0.244; feature_fraction=0.322; num_leaves=677; min_data_in_leaf=130; lambda_l1=2.58e+03; lambda_l2=1.25e+03 : y = 0.5 : 65.4 secs : initdesign\n",
      "\n",
      "[mbo] 0: num_iterations=2314; learning_rate=0.0664; feature_fraction=0.431; num_leaves=96; min_data_in_leaf=5263; lambda_l1=9.96e+03; lambda_l2=6.6e+03 : y = 0.5 : 45.4 secs : initdesign\n",
      "\n",
      "[mbo] 0: num_iterations=462; learning_rate=0.0967; feature_fraction=0.0569; num_leaves=1738; min_data_in_leaf=4887; lambda_l1=1.25e+03; lambda_l2=7.91e+03 : y = 0.5 : 7.0 secs : initdesign\n",
      "\n",
      "[mbo] 0: num_iterations=3015; learning_rate=0.207; feature_fraction=0.802; num_leaves=373; min_data_in_leaf=7341; lambda_l1=279; lambda_l2=2.26e+03 : y = 0.902 : 27.5 secs : initdesign\n",
      "\n",
      "[mbo] 0: num_iterations=1658; learning_rate=0.453; feature_fraction=0.525; num_leaves=1336; min_data_in_leaf=1584; lambda_l1=8.84e+03; lambda_l2=8.91e+03 : y = 0.5 : 32.5 secs : initdesign\n",
      "\n",
      "Saved the current state after iteration 1 in the file bayesiana.RDATA.\n",
      "\n",
      "Sun Sep 07 21:04:36 2025 AUC 0.90276149876442\n",
      "\n",
      "[mbo] 1: num_iterations=3344; learning_rate=0.214; feature_fraction=0.774; num_leaves=436; min_data_in_leaf=1560; lambda_l1=339; lambda_l2=7.1e+03 : y = 0.903 : 29.8 secs : infill_ei\n",
      "\n",
      "Sun Sep 07 21:05:05 2025 AUC 0.902341280685622\n",
      "\n",
      "[mbo] 2: num_iterations=2265; learning_rate=0.149; feature_fraction=0.617; num_leaves=260; min_data_in_leaf=3359; lambda_l1=369; lambda_l2=4.59e+03 : y = 0.902 : 28.0 secs : infill_ei\n",
      "\n",
      "Sun Sep 07 21:05:47 2025 AUC 0.900762815762009\n",
      "\n",
      "[mbo] 3: num_iterations=2914; learning_rate=0.204; feature_fraction=0.596; num_leaves=468; min_data_in_leaf=6532; lambda_l1=357; lambda_l2=8.22e+03 : y = 0.901 : 41.0 secs : infill_ei\n",
      "\n",
      "Sun Sep 07 21:06:40 2025 AUC 0.903831584476428\n",
      "\n",
      "[mbo] 4: num_iterations=2444; learning_rate=0.286; feature_fraction=0.404; num_leaves=686; min_data_in_leaf=2049; lambda_l1=324; lambda_l2=6.72e+03 : y = 0.904 : 52.7 secs : infill_ei\n",
      "\n",
      "Sun Sep 07 21:06:56 2025 AUC 0.89965094365907\n",
      "\n",
      "[mbo] 5: num_iterations=1655; learning_rate=0.223; feature_fraction=0.844; num_leaves=692; min_data_in_leaf=2139; lambda_l1=422; lambda_l2=7.81e+03 : y = 0.9 : 15.6 secs : infill_ei\n",
      "\n",
      "Sun Sep 07 21:07:58 2025 AUC 0.899776200827364\n",
      "\n",
      "[mbo] 6: num_iterations=2785; learning_rate=0.197; feature_fraction=0.485; num_leaves=486; min_data_in_leaf=1045; lambda_l1=453; lambda_l2=9.33e+03 : y = 0.9 : 61.6 secs : infill_ei\n",
      "\n",
      "Sun Sep 07 21:10:28 2025 AUC 0.904285701536041\n",
      "\n",
      "[mbo] 10: num_iterations=2629; learning_rate=0.19; feature_fraction=0.708; num_leaves=529; min_data_in_leaf=5164; lambda_l1=278; lambda_l2=6.12e+03 : y = 0.904 : 26.4 secs : infill_ei\n",
      "\n",
      "Sun Sep 07 21:11:09 2025 AUC 0.904391681187819\n",
      "\n",
      "[mbo] 11: num_iterations=1793; learning_rate=0.179; feature_fraction=0.462; num_leaves=291; min_data_in_leaf=1909; lambda_l1=307; lambda_l2=7.1e+03 : y = 0.904 : 40.6 secs : infill_ei\n",
      "\n",
      "Sun Sep 07 21:11:41 2025 AUC 0.898315936522426\n",
      "\n",
      "[mbo] 12: num_iterations=3782; learning_rate=0.357; feature_fraction=0.671; num_leaves=612; min_data_in_leaf=2664; lambda_l1=465; lambda_l2=7.2e+03 : y = 0.898 : 31.7 secs : infill_ei\n",
      "\n",
      "Sun Sep 07 21:12:50 2025 AUC 0.905428221325123\n",
      "\n",
      "[mbo] 13: num_iterations=3246; learning_rate=0.246; feature_fraction=0.389; num_leaves=304; min_data_in_leaf=6451; lambda_l1=202; lambda_l2=4.02e+03 : y = 0.905 : 68.1 secs : infill_ei\n",
      "\n",
      "Sun Sep 07 21:13:26 2025 AUC 0.905466130411433\n",
      "\n",
      "[mbo] 14: num_iterations=1674; learning_rate=0.228; feature_fraction=0.487; num_leaves=442; min_data_in_leaf=5432; lambda_l1=207; lambda_l2=1.95e+03 : y = 0.905 : 35.8 secs : infill_ei\n",
      "\n",
      "Sun Sep 07 21:14:06 2025 AUC 0.905937271668123\n",
      "\n",
      "[mbo] 15: num_iterations=1842; learning_rate=0.158; feature_fraction=0.327; num_leaves=404; min_data_in_leaf=3976; lambda_l1=243; lambda_l2=7.03e+03 : y = 0.906 : 39.0 secs : infill_ei\n",
      "\n",
      "Sun Sep 07 21:15:22 2025 AUC 0.90093000211147\n",
      "\n",
      "[mbo] 16: num_iterations=3434; learning_rate=0.141; feature_fraction=0.475; num_leaves=654; min_data_in_leaf=2412; lambda_l1=391; lambda_l2=6.77e+03 : y = 0.901 : 75.5 secs : infill_ei\n",
      "\n",
      "Saved the current state after iteration 17 in the file bayesiana.RDATA.\n",
      "\n",
      "Sun Sep 07 21:16:17 2025 AUC 0.904013351032557\n",
      "\n",
      "[mbo] 17: num_iterations=2590; learning_rate=0.287; feature_fraction=0.546; num_leaves=431; min_data_in_leaf=6489; lambda_l1=244; lambda_l2=3.36e+03 : y = 0.904 : 50.2 secs : infill_ei\n",
      "\n",
      "Sun Sep 07 21:16:56 2025 AUC 0.906871461655277\n",
      "\n",
      "[mbo] 18: num_iterations=1751; learning_rate=0.0819; feature_fraction=0.389; num_leaves=89; min_data_in_leaf=6331; lambda_l1=175; lambda_l2=2.54e+03 : y = 0.907 : 38.4 secs : infill_ei\n",
      "\n",
      "Sun Sep 07 21:17:26 2025 AUC 0.908242609955198\n",
      "\n",
      "[mbo] 19: num_iterations=1337; learning_rate=0.0986; feature_fraction=0.397; num_leaves=394; min_data_in_leaf=3146; lambda_l1=175; lambda_l2=4.31e+03 : y = 0.908 : 29.9 secs : infill_ei\n",
      "\n",
      "Sun Sep 07 21:19:01 2025 AUC 0.920258711398853\n",
      "\n",
      "[mbo] 22: num_iterations=1498; learning_rate=0.141; feature_fraction=0.586; num_leaves=315; min_data_in_leaf=7860; lambda_l1=26.4; lambda_l2=2.04e+03 : y = 0.92 : 32.1 secs : infill_ei\n",
      "\n",
      "Sun Sep 07 21:19:33 2025 AUC 0.921830999527654\n",
      "\n",
      "[mbo] 23: num_iterations=1211; learning_rate=0.225; feature_fraction=0.355; num_leaves=316; min_data_in_leaf=7968; lambda_l1=2.41; lambda_l2=2.68e+03 : y = 0.922 : 30.5 secs : infill_ei\n",
      "\n",
      "Sun Sep 07 21:20:23 2025 AUC 0.924776067440046\n",
      "\n",
      "[mbo] 24: num_iterations=2927; learning_rate=0.284; feature_fraction=0.728; num_leaves=778; min_data_in_leaf=7966; lambda_l1=0.465; lambda_l2=2.41e+03 : y = 0.925 : 49.8 secs : infill_ei\n",
      "\n",
      "Sun Sep 07 21:21:13 2025 AUC 0.922283995136591\n",
      "\n",
      "[mbo] 25: num_iterations=3108; learning_rate=0.261; feature_fraction=0.73; num_leaves=771; min_data_in_leaf=7983; lambda_l1=0.281; lambda_l2=9e+03 : y = 0.922 : 49.2 secs : infill_ei\n",
      "\n",
      "Sun Sep 07 21:22:00 2025 AUC 0.923895681833272\n",
      "\n",
      "[mbo] 26: num_iterations=2870; learning_rate=0.364; feature_fraction=0.781; num_leaves=595; min_data_in_leaf=7996; lambda_l1=0.8; lambda_l2=6.37e+03 : y = 0.924 : 46.4 secs : infill_ei\n",
      "\n",
      "Sun Sep 07 21:22:52 2025 AUC 0.923049024951325\n",
      "\n",
      "[mbo] 27: num_iterations=3097; learning_rate=0.269; feature_fraction=0.69; num_leaves=705; min_data_in_leaf=7993; lambda_l1=0.559; lambda_l2=6.52e+03 : y = 0.923 : 52.2 secs : infill_ei\n",
      "\n",
      "Sun Sep 07 21:23:45 2025 AUC 0.922854806992695\n",
      "\n",
      "[mbo] 28: num_iterations=3134; learning_rate=0.347; feature_fraction=0.965; num_leaves=1044; min_data_in_leaf=7973; lambda_l1=2.11; lambda_l2=8.46e+03 : y = 0.923 : 52.2 secs : infill_ei\n",
      "\n",
      "Sun Sep 07 21:24:00 2025 AUC 0.922745897887795\n",
      "\n",
      "[mbo] 29: num_iterations=811; learning_rate=0.306; feature_fraction=0.724; num_leaves=784; min_data_in_leaf=7777; lambda_l1=1.12; lambda_l2=2.57e+03 : y = 0.923 : 13.9 secs : infill_ei\n",
      "\n",
      "Sun Sep 07 21:24:28 2025 AUC 0.921382683573\n",
      "\n",
      "[mbo] 30: num_iterations=1768; learning_rate=0.327; feature_fraction=0.842; num_leaves=990; min_data_in_leaf=7969; lambda_l1=0.0668; lambda_l2=8.48e+03 : y = 0.921 : 28.1 secs : infill_ei\n",
      "\n",
      "Sun Sep 07 21:25:34 2025 AUC 0.927054550142996\n",
      "\n",
      "[mbo] 31: num_iterations=3182; learning_rate=0.381; feature_fraction=0.771; num_leaves=955; min_data_in_leaf=3369; lambda_l1=3.45; lambda_l2=9.39e+03 : y = 0.927 : 64.8 secs : infill_ei\n",
      "\n",
      "Saved the current state after iteration 32 in the file bayesiana.RDATA.\n",
      "\n",
      "Sun Sep 07 21:26:36 2025 AUC 0.92468732710949\n",
      "\n",
      "[mbo] 32: num_iterations=3396; learning_rate=0.421; feature_fraction=0.766; num_leaves=1086; min_data_in_leaf=6820; lambda_l1=0.345; lambda_l2=9.24e+03 : y = 0.925 : 57.3 secs : infill_ei\n",
      "\n",
      "Sun Sep 07 21:29:16 2025 AUC 0.911361123898421\n",
      "\n",
      "[mbo] 35: num_iterations=3315; learning_rate=0.359; feature_fraction=0.811; num_leaves=1358; min_data_in_leaf=3325; lambda_l1=97.2; lambda_l2=9.98e+03 : y = 0.911 : 35.6 secs : infill_ei\n",
      "\n",
      "Sun Sep 07 21:30:22 2025 AUC 0.925250694992294\n",
      "\n",
      "[mbo] 36: num_iterations=3038; learning_rate=0.421; feature_fraction=0.956; num_leaves=1048; min_data_in_leaf=3070; lambda_l1=1.37; lambda_l2=6.71e+03 : y = 0.925 : 65.2 secs : infill_ei\n",
      "\n",
      "Sun Sep 07 21:31:40 2025 AUC 0.926873276155915\n",
      "\n",
      "[mbo] 37: num_iterations=2550; learning_rate=0.389; feature_fraction=0.506; num_leaves=1021; min_data_in_leaf=3433; lambda_l1=0.648; lambda_l2=2.99e+03 : y = 0.927 : 77.3 secs : infill_ei\n",
      "\n",
      "Sun Sep 07 21:34:22 2025 AUC 0.926804282077944\n",
      "\n",
      "[mbo] 39: num_iterations=3177; learning_rate=0.375; feature_fraction=0.785; num_leaves=1049; min_data_in_leaf=2310; lambda_l1=0.857; lambda_l2=4.05e+03 : y = 0.927 : 75.0 secs : infill_ei\n",
      "\n",
      "Sun Sep 07 21:34:53 2025 AUC 0.925320058492988\n",
      "\n",
      "[mbo] 40: num_iterations=1476; learning_rate=0.391; feature_fraction=0.814; num_leaves=1131; min_data_in_leaf=3927; lambda_l1=0.159; lambda_l2=2.23e+03 : y = 0.925 : 30.4 secs : infill_ei\n",
      "\n",
      "Sun Sep 07 21:35:33 2025 AUC 0.92671807395828\n",
      "\n",
      "[mbo] 41: num_iterations=2017; learning_rate=0.36; feature_fraction=0.706; num_leaves=877; min_data_in_leaf=3501; lambda_l1=1.87; lambda_l2=4.07e+03 : y = 0.927 : 39.9 secs : infill_ei\n",
      "\n",
      "Sun Sep 07 21:36:51 2025 AUC 0.926861704878058\n",
      "\n",
      "[mbo] 42: num_iterations=3762; learning_rate=0.36; feature_fraction=0.647; num_leaves=1071; min_data_in_leaf=4059; lambda_l1=1.11; lambda_l2=2.32e+03 : y = 0.927 : 76.6 secs : infill_ei\n",
      "\n",
      "Saved the current state after iteration 43 in the file bayesiana.RDATA.\n",
      "\n",
      "Sun Sep 07 21:37:53 2025 AUC 0.927084379371676\n",
      "\n",
      "[mbo] 43: num_iterations=2787; learning_rate=0.363; feature_fraction=0.699; num_leaves=613; min_data_in_leaf=3457; lambda_l1=0.216; lambda_l2=1.54e+03 : y = 0.927 : 57.8 secs : infill_ei\n",
      "\n",
      "Sun Sep 07 21:40:42 2025 AUC 0.926474066738178\n",
      "\n",
      "[mbo] 46: num_iterations=3131; learning_rate=0.331; feature_fraction=0.921; num_leaves=1307; min_data_in_leaf=3891; lambda_l1=0.208; lambda_l2=2.1e+03 : y = 0.926 : 66.2 secs : infill_ei\n",
      "\n",
      "Sun Sep 07 21:41:10 2025 AUC 0.924701859426265\n",
      "\n",
      "[mbo] 47: num_iterations=1321; learning_rate=0.314; feature_fraction=0.617; num_leaves=778; min_data_in_leaf=3158; lambda_l1=0.443; lambda_l2=8.15e+03 : y = 0.925 : 27.3 secs : infill_ei\n",
      "\n",
      "Sun Sep 07 21:41:49 2025 AUC 0.924169888553898\n",
      "\n",
      "[mbo] 48: num_iterations=2238; learning_rate=0.364; feature_fraction=0.913; num_leaves=1057; min_data_in_leaf=7109; lambda_l1=0.0825; lambda_l2=186 : y = 0.924 : 38.8 secs : infill_ei\n",
      "\n",
      "Sun Sep 07 21:42:49 2025 AUC 0.926431296680282\n",
      "\n",
      "[mbo] 49: num_iterations=2689; learning_rate=0.346; feature_fraction=0.91; num_leaves=994; min_data_in_leaf=2872; lambda_l1=0.0836; lambda_l2=1.65e+03 : y = 0.926 : 58.9 secs : infill_ei\n",
      "\n",
      "Sun Sep 07 21:44:07 2025 AUC 0.926632093230516\n",
      "\n",
      "[mbo] 50: num_iterations=3252; learning_rate=0.338; feature_fraction=0.626; num_leaves=1072; min_data_in_leaf=3191; lambda_l1=0.351; lambda_l2=1.36e+03 : y = 0.927 : 77.1 secs : infill_ei\n",
      "\n",
      "Sun Sep 07 21:44:40 2025 AUC 0.926115419968371\n",
      "\n",
      "[mbo] 51: num_iterations=1113; learning_rate=0.319; feature_fraction=0.379; num_leaves=549; min_data_in_leaf=3442; lambda_l1=0.153; lambda_l2=1.24e+03 : y = 0.926 : 32.1 secs : infill_ei\n",
      "\n",
      "Sun Sep 07 21:46:09 2025 AUC 0.929391118332019\n",
      "\n",
      "[mbo] 52: num_iterations=2486; learning_rate=0.347; feature_fraction=0.633; num_leaves=1144; min_data_in_leaf=648; lambda_l1=0.088; lambda_l2=6.35e+03 : y = 0.929 : 87.8 secs : infill_ei\n",
      "\n",
      "Sun Sep 07 21:48:13 2025 AUC 0.927281754110383\n",
      "\n",
      "[mbo] 53: num_iterations=4074; learning_rate=0.388; feature_fraction=0.356; num_leaves=588; min_data_in_leaf=2089; lambda_l1=1.04; lambda_l2=8.69e+03 : y = 0.927 : 123.6 secs : infill_ei\n",
      "\n",
      "Saved the current state after iteration 54 in the file bayesiana.RDATA.\n",
      "\n",
      "Sun Sep 07 21:50:28 2025 AUC 0.926628789296098\n",
      "\n",
      "[mbo] 55: num_iterations=2387; learning_rate=0.366; feature_fraction=0.298; num_leaves=515; min_data_in_leaf=2503; lambda_l1=0.711; lambda_l2=6.59e+03 : y = 0.927 : 66.8 secs : infill_ei\n",
      "\n",
      "Sun Sep 07 21:54:16 2025 AUC 0.927264552238678\n",
      "\n",
      "[mbo] 57: num_iterations=3370; learning_rate=0.327; feature_fraction=0.32; num_leaves=805; min_data_in_leaf=1910; lambda_l1=0.00627; lambda_l2=2.82e+03 : y = 0.927 : 101.9 secs : infill_ei\n",
      "\n",
      "Sun Sep 07 21:54:44 2025 AUC 0.924113361018964\n",
      "\n",
      "[mbo] 58: num_iterations=1582; learning_rate=0.336; feature_fraction=0.927; num_leaves=2006; min_data_in_leaf=6754; lambda_l1=0.456; lambda_l2=1.23e+03 : y = 0.924 : 27.7 secs : infill_ei\n",
      "\n",
      "Sun Sep 07 21:56:17 2025 AUC 0.929783895225783\n",
      "\n",
      "[mbo] 59: num_iterations=1959; learning_rate=0.355; feature_fraction=0.437; num_leaves=759; min_data_in_leaf=280; lambda_l1=0.752; lambda_l2=5.5e+03 : y = 0.93 : 92.3 secs : infill_ei\n",
      "\n",
      "Sun Sep 07 21:57:40 2025 AUC 0.930150636926869\n",
      "\n",
      "[mbo] 60: num_iterations=1909; learning_rate=0.362; feature_fraction=0.706; num_leaves=1739; min_data_in_leaf=426; lambda_l1=0.327; lambda_l2=2.73e+03 : y = 0.93 : 81.7 secs : infill_ei\n",
      "\n",
      "Sun Sep 07 21:59:19 2025 AUC 0.92520930288524\n",
      "\n",
      "[mbo] 61: num_iterations=3675; learning_rate=0.468; feature_fraction=0.369; num_leaves=1716; min_data_in_leaf=6993; lambda_l1=0.529; lambda_l2=1.58e+03 : y = 0.925 : 99.0 secs : infill_ei\n",
      "\n",
      "Saved the current state after iteration 62 in the file bayesiana.RDATA.\n",
      "\n",
      "Sun Sep 07 22:04:01 2025 AUC 0.928761592705122\n",
      "\n",
      "[mbo] 63: num_iterations=3972; learning_rate=0.242; feature_fraction=0.357; num_leaves=1675; min_data_in_leaf=531; lambda_l1=0.904; lambda_l2=3.84e+03 : y = 0.929 : 159.6 secs : infill_ei\n",
      "\n",
      "Sun Sep 07 22:04:49 2025 AUC 0.92538183230043\n",
      "\n",
      "[mbo] 64: num_iterations=2103; learning_rate=0.35; feature_fraction=0.0862; num_leaves=1801; min_data_in_leaf=1618; lambda_l1=1.43; lambda_l2=5.28e+03 : y = 0.925 : 47.6 secs : infill_ei\n",
      "\n",
      "Sun Sep 07 22:05:57 2025 AUC 0.924164026206622\n",
      "\n",
      "[mbo] 65: num_iterations=3911; learning_rate=0.459; feature_fraction=0.903; num_leaves=1748; min_data_in_leaf=7465; lambda_l1=0.158; lambda_l2=1.76e+03 : y = 0.924 : 67.2 secs : infill_ei\n",
      "\n",
      "Sun Sep 07 22:07:35 2025 AUC 0.929497846910207\n",
      "\n",
      "[mbo] 66: num_iterations=2573; learning_rate=0.357; feature_fraction=0.382; num_leaves=1741; min_data_in_leaf=731; lambda_l1=0.229; lambda_l2=4.11e+03 : y = 0.929 : 96.5 secs : infill_ei\n",
      "\n",
      "Sun Sep 07 22:08:48 2025 AUC 0.92563141708081\n",
      "\n",
      "[mbo] 67: num_iterations=2733; learning_rate=0.32; feature_fraction=0.257; num_leaves=1596; min_data_in_leaf=3365; lambda_l1=0.276; lambda_l2=5.78e+03 : y = 0.926 : 72.8 secs : infill_ei\n",
      "\n",
      "Sun Sep 07 22:10:25 2025 AUC 0.923712240372409\n",
      "\n",
      "[mbo] 68: num_iterations=3712; learning_rate=0.256; feature_fraction=0.297; num_leaves=1820; min_data_in_leaf=7015; lambda_l1=0.732; lambda_l2=2.18e+03 : y = 0.924 : 95.8 secs : infill_ei\n",
      "\n",
      "Saved the current state after iteration 69 in the file bayesiana.RDATA.\n",
      "\n",
      "Sun Sep 07 22:14:51 2025 AUC 0.928399897558531\n",
      "\n",
      "[mbo] 71: num_iterations=3987; learning_rate=0.388; feature_fraction=0.338; num_leaves=1373; min_data_in_leaf=992; lambda_l1=0.0293; lambda_l2=5.74e+03 : y = 0.928 : 135.5 secs : infill_ei\n",
      "\n",
      "Sun Sep 07 22:16:21 2025 AUC 0.929080102515235\n",
      "\n",
      "[mbo] 72: num_iterations=2826; learning_rate=0.246; feature_fraction=0.691; num_leaves=1881; min_data_in_leaf=893; lambda_l1=0.348; lambda_l2=3.49e+03 : y = 0.929 : 89.1 secs : infill_ei\n",
      "\n",
      "Sun Sep 07 22:21:58 2025 AUC 0.929426464992883\n",
      "\n",
      "[mbo] 74: num_iterations=3611; learning_rate=0.142; feature_fraction=0.808; num_leaves=1700; min_data_in_leaf=254; lambda_l1=0.227; lambda_l2=5.74e+03 : y = 0.929 : 174.8 secs : infill_ei\n",
      "\n",
      "Saved the current state after iteration 75 in the file bayesiana.RDATA.\n",
      "\n",
      "Sun Sep 07 22:22:37 2025 AUC 0.926845539429121\n",
      "\n",
      "[mbo] 75: num_iterations=1221; learning_rate=0.175; feature_fraction=0.787; num_leaves=1817; min_data_in_leaf=904; lambda_l1=0.236; lambda_l2=5.08e+03 : y = 0.927 : 32.9 secs : infill_ei\n",
      "\n",
      "Sun Sep 07 22:23:17 2025 AUC 0.920055610808724\n",
      "\n",
      "[mbo] 76: num_iterations=1537; learning_rate=0.0559; feature_fraction=0.223; num_leaves=1462; min_data_in_leaf=777; lambda_l1=0.55; lambda_l2=6.13e+03 : y = 0.92 : 39.8 secs : infill_ei\n",
      "\n",
      "Sun Sep 07 22:26:54 2025 AUC 0.926448250015973\n",
      "\n",
      "[mbo] 78: num_iterations=3852; learning_rate=0.396; feature_fraction=0.0991; num_leaves=1973; min_data_in_leaf=2856; lambda_l1=1.17; lambda_l2=1.56e+03 : y = 0.926 : 92.0 secs : infill_ei\n",
      "\n",
      "Sun Sep 07 22:28:36 2025 AUC 0.930797315027249\n",
      "\n",
      "[mbo] 79: num_iterations=1390; learning_rate=0.303; feature_fraction=0.329; num_leaves=2026; min_data_in_leaf=53; lambda_l1=0.203; lambda_l2=2.88e+03 : y = 0.931 : 101.3 secs : infill_ei\n",
      "\n",
      "Sun Sep 07 22:30:46 2025 AUC 0.927562310608823\n",
      "\n",
      "[mbo] 80: num_iterations=3796; learning_rate=0.126; feature_fraction=0.386; num_leaves=1989; min_data_in_leaf=1356; lambda_l1=0.162; lambda_l2=1.97e+03 : y = 0.928 : 128.2 secs : infill_ei\n",
      "\n",
      "Sun Sep 07 22:36:04 2025 AUC 0.921929492514553\n",
      "\n",
      "[mbo] 83: num_iterations=1577; learning_rate=0.457; feature_fraction=0.0591; num_leaves=618; min_data_in_leaf=6080; lambda_l1=0.0346; lambda_l2=4.07e+03 : y = 0.922 : 31.0 secs : infill_ei\n",
      "\n",
      "Sun Sep 07 22:37:07 2025 AUC 0.923483274031688\n",
      "\n",
      "[mbo] 84: num_iterations=3562; learning_rate=0.148; feature_fraction=0.924; num_leaves=2039; min_data_in_leaf=6413; lambda_l1=0.319; lambda_l2=6.71e+03 : y = 0.923 : 61.9 secs : infill_ei\n",
      "\n",
      "Sun Sep 07 22:39:03 2025 AUC 0.929298038264869\n",
      "\n",
      "[mbo] 85: num_iterations=1770; learning_rate=0.314; feature_fraction=0.711; num_leaves=2011; min_data_in_leaf=110; lambda_l1=0.0238; lambda_l2=8.63e+03 : y = 0.929 : 114.9 secs : infill_ei\n",
      "\n",
      "Sun Sep 07 22:41:38 2025 AUC 0.929936304892647\n",
      "\n",
      "[mbo] 86: num_iterations=3695; learning_rate=0.221; feature_fraction=0.894; num_leaves=1751; min_data_in_leaf=395; lambda_l1=0.38; lambda_l2=7.46e+03 : y = 0.93 : 154.5 secs : infill_ei\n",
      "\n",
      "Sun Sep 07 22:43:34 2025 AUC 0.927116774876526\n",
      "\n",
      "[mbo] 87: num_iterations=3805; learning_rate=0.36; feature_fraction=0.343; num_leaves=2035; min_data_in_leaf=2506; lambda_l1=0.187; lambda_l2=6.98e+03 : y = 0.927 : 114.7 secs : infill_ei\n",
      "\n",
      "Sun Sep 07 22:45:57 2025 AUC 0.928797577091047\n",
      "\n",
      "[mbo] 88: num_iterations=2192; learning_rate=0.458; feature_fraction=0.416; num_leaves=1855; min_data_in_leaf=113; lambda_l1=0.205; lambda_l2=6.94e+03 : y = 0.929 : 142.5 secs : infill_ei\n",
      "\n",
      "Saved the current state after iteration 89 in the file bayesiana.RDATA.\n",
      "\n",
      "Sun Sep 07 22:48:09 2025 AUC 0.929481932621075\n",
      "\n",
      "[mbo] 89: num_iterations=1407; learning_rate=0.263; feature_fraction=0.34; num_leaves=1594; min_data_in_leaf=27; lambda_l1=0.356; lambda_l2=2.35e+03 : y = 0.929 : 124.7 secs : infill_ei\n",
      "\n",
      "Sun Sep 07 22:52:00 2025 AUC 0.929075405477921\n",
      "\n",
      "[mbo] 90: num_iterations=1636; learning_rate=0.129; feature_fraction=0.656; num_leaves=1730; min_data_in_leaf=9; lambda_l1=0.0471; lambda_l2=1.98e+03 : y = 0.929 : 230.1 secs : infill_ei\n",
      "\n",
      "Sun Sep 07 22:53:39 2025 AUC 0.928734853349832\n",
      "\n",
      "[mbo] 91: num_iterations=1418; learning_rate=0.361; feature_fraction=0.895; num_leaves=1885; min_data_in_leaf=124; lambda_l1=1.57; lambda_l2=4.36e+03 : y = 0.929 : 97.8 secs : infill_ei\n",
      "\n",
      "Sun Sep 07 22:56:47 2025 AUC 0.930254332126067\n",
      "\n",
      "[mbo] 93: num_iterations=1239; learning_rate=0.398; feature_fraction=0.656; num_leaves=829; min_data_in_leaf=44; lambda_l1=0.0257; lambda_l2=2.63e+03 : y = 0.93 : 117.1 secs : infill_ei\n",
      "\n",
      "Saved the current state after iteration 94 in the file bayesiana.RDATA.\n",
      "\n",
      "Sun Sep 07 23:02:36 2025 AUC 0.927148078640227\n",
      "\n",
      "[mbo] 95: num_iterations=1214; learning_rate=0.317; feature_fraction=0.18; num_leaves=597; min_data_in_leaf=352; lambda_l1=0.988; lambda_l2=6.96e+03 : y = 0.927 : 38.4 secs : infill_ei\n",
      "\n",
      "Sun Sep 07 23:04:23 2025 AUC 0.924218887567808\n",
      "\n",
      "[mbo] 96: num_iterations=3960; learning_rate=0.102; feature_fraction=0.326; num_leaves=673; min_data_in_leaf=2762; lambda_l1=0.642; lambda_l2=8.78e+03 : y = 0.924 : 106.8 secs : infill_ei\n",
      "\n",
      "Sun Sep 07 23:09:20 2025 AUC 0.928169935919441\n",
      "\n",
      "[mbo] 97: num_iterations=3952; learning_rate=0.0668; feature_fraction=0.683; num_leaves=1127; min_data_in_leaf=44; lambda_l1=0.335; lambda_l2=8.38e+03 : y = 0.928 : 295.3 secs : infill_ei\n",
      "\n",
      "Saved the current state after iteration 98 in the file bayesiana.RDATA.\n",
      "\n",
      "Sun Sep 07 23:10:24 2025 AUC 0.930950250435664\n",
      "\n",
      "[mbo] 98: num_iterations=1485; learning_rate=0.391; feature_fraction=0.153; num_leaves=808; min_data_in_leaf=193; lambda_l1=0.0374; lambda_l2=2.49e+03 : y = 0.931 : 56.6 secs : infill_ei\n",
      "\n",
      "Sun Sep 07 23:13:14 2025 AUC 0.925352809451974\n",
      "\n",
      "[mbo] 100: num_iterations=3709; learning_rate=0.467; feature_fraction=0.157; num_leaves=708; min_data_in_leaf=3358; lambda_l1=0.358; lambda_l2=1.92e+03 : y = 0.925 : 93.3 secs : infill_ei\n",
      "\n",
      "Saved the final state in the file bayesiana.RDATA\n",
      "\n"
     ]
    }
   ],
   "source": [
    "# inicio la optimizacion bayesiana, retomando si ya existe\n",
    "# es la celda mas lenta de todo el notebook\n",
    "\n",
    "if (!file.exists(kbayesiana)) {\n",
    "  bayesiana_salida <- mbo(obj.fun, learner= surr.km, control= ctrl)\n",
    "} else {\n",
    "  bayesiana_salida <- mboContinue(kbayesiana) # retomo en caso que ya exista\n",
    "}"
   ]
  },
  {
   "cell_type": "code",
   "execution_count": 21,
   "metadata": {
    "id": "ssk5nnMk6INK"
   },
   "outputs": [
    {
     "data": {
      "text/html": [
       "<style>\n",
       ".list-inline {list-style: none; margin:0; padding: 0}\n",
       ".list-inline>li {display: inline-block}\n",
       ".list-inline>li:not(:last-child)::after {content: \"\\00b7\"; padding: 0 .5ex}\n",
       "</style>\n",
       "<ol class=list-inline><li>'num_iterations'</li><li>'learning_rate'</li><li>'feature_fraction'</li><li>'num_leaves'</li><li>'min_data_in_leaf'</li><li>'lambda_l1'</li><li>'lambda_l2'</li><li>'y'</li><li>'dob'</li><li>'eol'</li><li>'error.message'</li><li>'exec.time'</li><li>'ei'</li><li>'error.model'</li><li>'train.time'</li><li>'prop.type'</li><li>'propose.time'</li><li>'se'</li><li>'mean'</li></ol>\n"
      ],
      "text/latex": [
       "\\begin{enumerate*}\n",
       "\\item 'num\\_iterations'\n",
       "\\item 'learning\\_rate'\n",
       "\\item 'feature\\_fraction'\n",
       "\\item 'num\\_leaves'\n",
       "\\item 'min\\_data\\_in\\_leaf'\n",
       "\\item 'lambda\\_l1'\n",
       "\\item 'lambda\\_l2'\n",
       "\\item 'y'\n",
       "\\item 'dob'\n",
       "\\item 'eol'\n",
       "\\item 'error.message'\n",
       "\\item 'exec.time'\n",
       "\\item 'ei'\n",
       "\\item 'error.model'\n",
       "\\item 'train.time'\n",
       "\\item 'prop.type'\n",
       "\\item 'propose.time'\n",
       "\\item 'se'\n",
       "\\item 'mean'\n",
       "\\end{enumerate*}\n"
      ],
      "text/markdown": [
       "1. 'num_iterations'\n",
       "2. 'learning_rate'\n",
       "3. 'feature_fraction'\n",
       "4. 'num_leaves'\n",
       "5. 'min_data_in_leaf'\n",
       "6. 'lambda_l1'\n",
       "7. 'lambda_l2'\n",
       "8. 'y'\n",
       "9. 'dob'\n",
       "10. 'eol'\n",
       "11. 'error.message'\n",
       "12. 'exec.time'\n",
       "13. 'ei'\n",
       "14. 'error.model'\n",
       "15. 'train.time'\n",
       "16. 'prop.type'\n",
       "17. 'propose.time'\n",
       "18. 'se'\n",
       "19. 'mean'\n",
       "\n",
       "\n"
      ],
      "text/plain": [
       " [1] \"num_iterations\"   \"learning_rate\"    \"feature_fraction\" \"num_leaves\"      \n",
       " [5] \"min_data_in_leaf\" \"lambda_l1\"        \"lambda_l2\"        \"y\"               \n",
       " [9] \"dob\"              \"eol\"              \"error.message\"    \"exec.time\"       \n",
       "[13] \"ei\"               \"error.model\"      \"train.time\"       \"prop.type\"       \n",
       "[17] \"propose.time\"     \"se\"               \"mean\"            "
      ]
     },
     "metadata": {},
     "output_type": "display_data"
    }
   ],
   "source": [
    "\n",
    "tb_bayesiana <- as.data.table(bayesiana_salida$opt.path)\n",
    "colnames( tb_bayesiana)"
   ]
  },
  {
   "cell_type": "code",
   "execution_count": 22,
   "metadata": {
    "id": "u4zq-vknhjGc"
   },
   "outputs": [],
   "source": [
    "# almaceno los resultados de la Bayesian Optimization\n",
    "# y capturo los mejores hiperparametros encontrados\n",
    "\n",
    "tb_bayesiana <- as.data.table(bayesiana_salida$opt.path)\n",
    "\n",
    "tb_bayesiana[, iter := .I]\n",
    "\n",
    "# ordeno en forma descendente por AUC = y\n",
    "setorder(tb_bayesiana, -y)\n",
    "\n",
    "# grabo para eventualmente poder utilizarlos en OTRA corrida\n",
    "fwrite( tb_bayesiana,\n",
    "  file= \"BO_log.txt\",\n",
    "  sep= \"\\t\"\n",
    ")\n",
    "\n",
    "# los mejores hiperparámetros son los que quedaron en el registro 1 de la tabla\n",
    "PARAM$out$lgbm$mejores_hiperparametros <- tb_bayesiana[\n",
    "  1, # el primero es el de mejor AUC\n",
    "  setdiff(colnames(tb_bayesiana),\n",
    "    c(\"y\",\"dob\",\"eol\",\"error.message\",\"exec.time\",\"ei\",\"error.model\",\n",
    "      \"train.time\",\"prop.type\",\"propose.time\",\"se\",\"mean\",\"iter\")),\n",
    "  with= FALSE\n",
    "]\n",
    "\n",
    "\n",
    "PARAM$out$lgbm$y <- tb_bayesiana[1, y]\n"
   ]
  },
  {
   "cell_type": "code",
   "execution_count": 23,
   "metadata": {
    "id": "E8v2eA427N8e"
   },
   "outputs": [],
   "source": [
    "write_yaml( PARAM, file=\"PARAM.yml\")"
   ]
  },
  {
   "cell_type": "code",
   "execution_count": 24,
   "metadata": {
    "id": "iBTWexVU7PGC"
   },
   "outputs": [
    {
     "name": "stdout",
     "output_type": "stream",
     "text": [
      "   num_iterations learning_rate feature_fraction num_leaves min_data_in_leaf\n",
      "            <int>         <num>            <num>      <int>            <int>\n",
      "1:           1485     0.3908224        0.1525468        808              193\n",
      "    lambda_l1 lambda_l2\n",
      "        <num>     <num>\n",
      "1: 0.03744994  2494.496\n",
      "[1] 0.9309503\n"
     ]
    }
   ],
   "source": [
    "print(PARAM$out$lgbm$mejores_hiperparametros)\n",
    "print(PARAM$out$lgbm$y)"
   ]
  },
  {
   "cell_type": "markdown",
   "metadata": {
    "id": "TKsVZmAnhwX-"
   },
   "source": [
    "## 2.3  Produccion"
   ]
  },
  {
   "cell_type": "markdown",
   "metadata": {
    "id": "RQ_C33Tr5B_9"
   },
   "source": [
    "### Final Training\n",
    "Construyo el modelo final, que es uno solo, no hace ningun tipo de particion < training, validation, testing>]"
   ]
  },
  {
   "cell_type": "code",
   "execution_count": 25,
   "metadata": {
    "id": "eDqfyA14hzwv"
   },
   "outputs": [],
   "source": [
    "setwd(\"/content/buckets/b1/exp\")\n",
    "experimento <- paste0(\"exp\", PARAM$experimento)\n",
    "dir.create(experimento, showWarnings= FALSE)\n",
    "setwd( paste0(\"/content/buckets/b1/exp/\", experimento ))"
   ]
  },
  {
   "cell_type": "markdown",
   "metadata": {
    "id": "8qFmFivf5Iet"
   },
   "source": [
    "#### Final Training Dataset\n",
    "\n",
    "Aqui esta la gran decision de en qué meses hago el Final Training\n",
    "<br> debo utilizar los mejores hiperparámetros que encontré en la optimización bayesiana"
   ]
  },
  {
   "cell_type": "code",
   "execution_count": 26,
   "metadata": {
    "id": "lg5WVZncvc7H"
   },
   "outputs": [],
   "source": [
    "# clase01\n",
    "dataset[, clase01 := ifelse(clase_ternaria %in% c(\"BAJA+1\", \"BAJA+2\"), 1L, 0L)]"
   ]
  },
  {
   "cell_type": "code",
   "execution_count": 27,
   "metadata": {
    "id": "yc9QzXREv0xf"
   },
   "outputs": [],
   "source": [
    "dataset_train <- dataset[foto_mes %in% c(202107)]"
   ]
  },
  {
   "cell_type": "code",
   "execution_count": 28,
   "metadata": {
    "id": "thjdqEBLuvNt"
   },
   "outputs": [],
   "source": [
    "# dejo los datos en el formato que necesita LightGBM\n",
    "\n",
    "dtrain <- lgb.Dataset(\n",
    "  data= data.matrix(dataset_train[, campos_buenos, with= FALSE]),\n",
    "  label= dataset_train[, clase01]\n",
    ")"
   ]
  },
  {
   "cell_type": "markdown",
   "metadata": {
    "id": "VNUa-WSz5Oqu"
   },
   "source": [
    "#### Final Training Hyperparameters"
   ]
  },
  {
   "cell_type": "code",
   "execution_count": 29,
   "metadata": {
    "id": "FgCcvBfEwImu"
   },
   "outputs": [
    {
     "data": {
      "text/html": [
       "<dl>\n",
       "\t<dt>$boosting</dt>\n",
       "\t\t<dd>'gbdt'</dd>\n",
       "\t<dt>$objective</dt>\n",
       "\t\t<dd>'binary'</dd>\n",
       "\t<dt>$metric</dt>\n",
       "\t\t<dd>'auc'</dd>\n",
       "\t<dt>$first_metric_only</dt>\n",
       "\t\t<dd>FALSE</dd>\n",
       "\t<dt>$boost_from_average</dt>\n",
       "\t\t<dd>TRUE</dd>\n",
       "\t<dt>$feature_pre_filter</dt>\n",
       "\t\t<dd>FALSE</dd>\n",
       "\t<dt>$force_row_wise</dt>\n",
       "\t\t<dd>TRUE</dd>\n",
       "\t<dt>$verbosity</dt>\n",
       "\t\t<dd>-100</dd>\n",
       "\t<dt>$seed</dt>\n",
       "\t\t<dd>100379</dd>\n",
       "\t<dt>$max_depth</dt>\n",
       "\t\t<dd>-1</dd>\n",
       "\t<dt>$min_gain_to_split</dt>\n",
       "\t\t<dd>0</dd>\n",
       "\t<dt>$min_sum_hessian_in_leaf</dt>\n",
       "\t\t<dd>0.001</dd>\n",
       "\t<dt>$lambda_l1</dt>\n",
       "\t\t<dd>0.0374499404849381</dd>\n",
       "\t<dt>$lambda_l2</dt>\n",
       "\t\t<dd>2494.49604608174</dd>\n",
       "\t<dt>$max_bin</dt>\n",
       "\t\t<dd>31</dd>\n",
       "\t<dt>$bagging_fraction</dt>\n",
       "\t\t<dd>1</dd>\n",
       "\t<dt>$pos_bagging_fraction</dt>\n",
       "\t\t<dd>1</dd>\n",
       "\t<dt>$neg_bagging_fraction</dt>\n",
       "\t\t<dd>1</dd>\n",
       "\t<dt>$is_unbalance</dt>\n",
       "\t\t<dd>FALSE</dd>\n",
       "\t<dt>$scale_pos_weight</dt>\n",
       "\t\t<dd>1</dd>\n",
       "\t<dt>$drop_rate</dt>\n",
       "\t\t<dd>0.1</dd>\n",
       "\t<dt>$max_drop</dt>\n",
       "\t\t<dd>50</dd>\n",
       "\t<dt>$skip_drop</dt>\n",
       "\t\t<dd>0.5</dd>\n",
       "\t<dt>$extra_trees</dt>\n",
       "\t\t<dd>FALSE</dd>\n",
       "\t<dt>$num_iterations</dt>\n",
       "\t\t<dd>1485</dd>\n",
       "\t<dt>$learning_rate</dt>\n",
       "\t\t<dd>0.390822384869543</dd>\n",
       "\t<dt>$feature_fraction</dt>\n",
       "\t\t<dd>0.152546791209206</dd>\n",
       "\t<dt>$num_leaves</dt>\n",
       "\t\t<dd>808</dd>\n",
       "\t<dt>$min_data_in_leaf</dt>\n",
       "\t\t<dd>193</dd>\n",
       "</dl>\n"
      ],
      "text/latex": [
       "\\begin{description}\n",
       "\\item[\\$boosting] 'gbdt'\n",
       "\\item[\\$objective] 'binary'\n",
       "\\item[\\$metric] 'auc'\n",
       "\\item[\\$first\\_metric\\_only] FALSE\n",
       "\\item[\\$boost\\_from\\_average] TRUE\n",
       "\\item[\\$feature\\_pre\\_filter] FALSE\n",
       "\\item[\\$force\\_row\\_wise] TRUE\n",
       "\\item[\\$verbosity] -100\n",
       "\\item[\\$seed] 100379\n",
       "\\item[\\$max\\_depth] -1\n",
       "\\item[\\$min\\_gain\\_to\\_split] 0\n",
       "\\item[\\$min\\_sum\\_hessian\\_in\\_leaf] 0.001\n",
       "\\item[\\$lambda\\_l1] 0.0374499404849381\n",
       "\\item[\\$lambda\\_l2] 2494.49604608174\n",
       "\\item[\\$max\\_bin] 31\n",
       "\\item[\\$bagging\\_fraction] 1\n",
       "\\item[\\$pos\\_bagging\\_fraction] 1\n",
       "\\item[\\$neg\\_bagging\\_fraction] 1\n",
       "\\item[\\$is\\_unbalance] FALSE\n",
       "\\item[\\$scale\\_pos\\_weight] 1\n",
       "\\item[\\$drop\\_rate] 0.1\n",
       "\\item[\\$max\\_drop] 50\n",
       "\\item[\\$skip\\_drop] 0.5\n",
       "\\item[\\$extra\\_trees] FALSE\n",
       "\\item[\\$num\\_iterations] 1485\n",
       "\\item[\\$learning\\_rate] 0.390822384869543\n",
       "\\item[\\$feature\\_fraction] 0.152546791209206\n",
       "\\item[\\$num\\_leaves] 808\n",
       "\\item[\\$min\\_data\\_in\\_leaf] 193\n",
       "\\end{description}\n"
      ],
      "text/markdown": [
       "$boosting\n",
       ":   'gbdt'\n",
       "$objective\n",
       ":   'binary'\n",
       "$metric\n",
       ":   'auc'\n",
       "$first_metric_only\n",
       ":   FALSE\n",
       "$boost_from_average\n",
       ":   TRUE\n",
       "$feature_pre_filter\n",
       ":   FALSE\n",
       "$force_row_wise\n",
       ":   TRUE\n",
       "$verbosity\n",
       ":   -100\n",
       "$seed\n",
       ":   100379\n",
       "$max_depth\n",
       ":   -1\n",
       "$min_gain_to_split\n",
       ":   0\n",
       "$min_sum_hessian_in_leaf\n",
       ":   0.001\n",
       "$lambda_l1\n",
       ":   0.0374499404849381\n",
       "$lambda_l2\n",
       ":   2494.49604608174\n",
       "$max_bin\n",
       ":   31\n",
       "$bagging_fraction\n",
       ":   1\n",
       "$pos_bagging_fraction\n",
       ":   1\n",
       "$neg_bagging_fraction\n",
       ":   1\n",
       "$is_unbalance\n",
       ":   FALSE\n",
       "$scale_pos_weight\n",
       ":   1\n",
       "$drop_rate\n",
       ":   0.1\n",
       "$max_drop\n",
       ":   50\n",
       "$skip_drop\n",
       ":   0.5\n",
       "$extra_trees\n",
       ":   FALSE\n",
       "$num_iterations\n",
       ":   1485\n",
       "$learning_rate\n",
       ":   0.390822384869543\n",
       "$feature_fraction\n",
       ":   0.152546791209206\n",
       "$num_leaves\n",
       ":   808\n",
       "$min_data_in_leaf\n",
       ":   193\n",
       "\n",
       "\n"
      ],
      "text/plain": [
       "$boosting\n",
       "[1] \"gbdt\"\n",
       "\n",
       "$objective\n",
       "[1] \"binary\"\n",
       "\n",
       "$metric\n",
       "[1] \"auc\"\n",
       "\n",
       "$first_metric_only\n",
       "[1] FALSE\n",
       "\n",
       "$boost_from_average\n",
       "[1] TRUE\n",
       "\n",
       "$feature_pre_filter\n",
       "[1] FALSE\n",
       "\n",
       "$force_row_wise\n",
       "[1] TRUE\n",
       "\n",
       "$verbosity\n",
       "[1] -100\n",
       "\n",
       "$seed\n",
       "[1] 100379\n",
       "\n",
       "$max_depth\n",
       "[1] -1\n",
       "\n",
       "$min_gain_to_split\n",
       "[1] 0\n",
       "\n",
       "$min_sum_hessian_in_leaf\n",
       "[1] 0.001\n",
       "\n",
       "$lambda_l1\n",
       "[1] 0.03744994\n",
       "\n",
       "$lambda_l2\n",
       "[1] 2494.496\n",
       "\n",
       "$max_bin\n",
       "[1] 31\n",
       "\n",
       "$bagging_fraction\n",
       "[1] 1\n",
       "\n",
       "$pos_bagging_fraction\n",
       "[1] 1\n",
       "\n",
       "$neg_bagging_fraction\n",
       "[1] 1\n",
       "\n",
       "$is_unbalance\n",
       "[1] FALSE\n",
       "\n",
       "$scale_pos_weight\n",
       "[1] 1\n",
       "\n",
       "$drop_rate\n",
       "[1] 0.1\n",
       "\n",
       "$max_drop\n",
       "[1] 50\n",
       "\n",
       "$skip_drop\n",
       "[1] 0.5\n",
       "\n",
       "$extra_trees\n",
       "[1] FALSE\n",
       "\n",
       "$num_iterations\n",
       "[1] 1485\n",
       "\n",
       "$learning_rate\n",
       "[1] 0.3908224\n",
       "\n",
       "$feature_fraction\n",
       "[1] 0.1525468\n",
       "\n",
       "$num_leaves\n",
       "[1] 808\n",
       "\n",
       "$min_data_in_leaf\n",
       "[1] 193\n"
      ]
     },
     "metadata": {},
     "output_type": "display_data"
    }
   ],
   "source": [
    "param_final <- modifyList(PARAM$lgbm$param_fijos,\n",
    "  PARAM$out$lgbm$mejores_hiperparametros)\n",
    "\n",
    "param_final"
   ]
  },
  {
   "cell_type": "markdown",
   "metadata": {
    "id": "TZIYn4l95TBH"
   },
   "source": [
    "#### Training\n",
    "Genero el modelo final, siempre sobre TODOS los datos de  final_train, sin hacer ningun tipo de undersampling de la clase mayoritaria"
   ]
  },
  {
   "cell_type": "code",
   "execution_count": 30,
   "metadata": {
    "id": "vPLsd4mMRe4u"
   },
   "outputs": [],
   "source": [
    "# este punto es muy SUTIL  y será revisado en la Clase 05\n",
    "\n",
    "param_normalizado <- copy(param_final)\n",
    "param_normalizado$min_data_in_leaf <-  round(param_final$min_data_in_leaf / PARAM$trainingstrategy$undersampling)"
   ]
  },
  {
   "cell_type": "code",
   "execution_count": 31,
   "metadata": {
    "id": "WRI_-taRwOXO"
   },
   "outputs": [],
   "source": [
    "  # entreno LightGBM\n",
    "\n",
    "  modelo_final <- lgb.train(\n",
    "    data= dtrain,\n",
    "    param= param_normalizado\n",
    "  )"
   ]
  },
  {
   "cell_type": "code",
   "execution_count": 32,
   "metadata": {
    "id": "_bkhnCvj0g3Q"
   },
   "outputs": [],
   "source": [
    "# ahora imprimo la importancia de variables\n",
    "\n",
    "tb_importancia <- as.data.table(lgb.importance(modelo_final))\n",
    "archivo_importancia <- \"impo.txt\"\n",
    "\n",
    "fwrite(tb_importancia,\n",
    "  file= archivo_importancia,\n",
    "  sep= \"\\t\"\n",
    ")"
   ]
  },
  {
   "cell_type": "code",
   "execution_count": 33,
   "metadata": {
    "id": "lZ3sLmbh0kFj"
   },
   "outputs": [],
   "source": [
    "# grabo a disco el modelo en un formato para seres humanos ... ponele ...\n",
    "\n",
    "lgb.save(modelo_final, \"modelo.txt\" )"
   ]
  },
  {
   "cell_type": "markdown",
   "metadata": {
    "id": "VEtp2--t5Ymg"
   },
   "source": [
    "### Scoring"
   ]
  },
  {
   "cell_type": "markdown",
   "metadata": {
    "id": "hI5008Mj5ZdI"
   },
   "source": [
    "Aplico el modelo final a los datos del futuro"
   ]
  },
  {
   "cell_type": "code",
   "execution_count": 34,
   "metadata": {
    "id": "PimBY3N_0ryP"
   },
   "outputs": [],
   "source": [
    "# aplico el modelo a los datos sin clase\n",
    "dfuture <- dataset[foto_mes == 202109]\n",
    "\n",
    "# aplico el modelo a los datos nuevos\n",
    "prediccion <- predict(\n",
    "  modelo_final,\n",
    "  data.matrix(dfuture[, campos_buenos, with= FALSE])\n",
    ")"
   ]
  },
  {
   "cell_type": "markdown",
   "metadata": {
    "id": "D26rNRh55gpw"
   },
   "source": [
    "#### Tabla Prediccion"
   ]
  },
  {
   "cell_type": "code",
   "execution_count": 35,
   "metadata": {
    "id": "RJwg7LHd11yu"
   },
   "outputs": [],
   "source": [
    "# tabla de prediccion\n",
    "\n",
    "tb_prediccion <- dfuture[, list(numero_de_cliente)]\n",
    "tb_prediccion[, prob := prediccion ]\n",
    "\n",
    "# grabo las probabilidad del modelo\n",
    "fwrite(tb_prediccion,\n",
    "  file= \"prediccion.txt\",\n",
    "  sep= \"\\t\"\n",
    ")"
   ]
  },
  {
   "cell_type": "markdown",
   "metadata": {
    "id": "jOt4eG_55ltv"
   },
   "source": [
    "Kaggle Competition Submit"
   ]
  },
  {
   "cell_type": "code",
   "execution_count": 39,
   "metadata": {
    "id": "gWW3tatE12je"
   },
   "outputs": [
    {
     "name": "stderr",
     "output_type": "stream",
     "text": [
      "Warning message in dir.create(\"kaggle\"):\n",
      "“'kaggle' already exists”\n"
     ]
    },
    {
     "name": "stdout",
     "output_type": "stream",
     "text": [
      "Successfully submitted to Data Mining, Analista Sr 2025 B \n",
      "Successfully submitted to Data Mining, Analista Sr 2025 B \n",
      "Successfully submitted to Data Mining, Analista Sr 2025 B \n",
      "Successfully submitted to Data Mining, Analista Sr 2025 B \n",
      "Successfully submitted to Data Mining, Analista Sr 2025 B \n"
     ]
    }
   ],
   "source": [
    "# genero archivos con los  \"envios\" mejores\n",
    "# suba TODOS los archivos a Kaggle\n",
    "\n",
    "# ordeno por probabilidad descendente\n",
    "setorder(tb_prediccion, -prob)\n",
    "\n",
    "dir.create(\"kaggle\")\n",
    "\n",
    "for (envios in PARAM$kaggle$cortes) {\n",
    "\n",
    "  tb_prediccion[, Predicted := 0L] # seteo inicial a 0\n",
    "  tb_prediccion[1:envios, Predicted := 1L] # marclo los primeros\n",
    "\n",
    "  archivo_kaggle <- paste0(\"./kaggle/KA\", PARAM$experimento, \"_\", envios, \".csv\")\n",
    "\n",
    "  # grabo el archivo\n",
    "  fwrite(tb_prediccion[, list(numero_de_cliente, Predicted)],\n",
    "    file= archivo_kaggle,\n",
    "    sep= \",\"\n",
    "  )\n",
    "\n",
    "  # subida a Kaggle, armo la linea de comando\n",
    "  comando <- \"kaggle competitions submit\"\n",
    "  competencia <- paste(\"-c\", PARAM$kaggle$competencia)\n",
    "  arch <- paste( \"-f\", archivo_kaggle)\n",
    "\n",
    "  mensaje <- paste0(\"-m 'envios=\", envios,\n",
    "  \"  semilla=\", PARAM$semilla_primigenia,\n",
    "    \"'\" )\n",
    "\n",
    "  linea <- paste( comando, competencia, arch, mensaje)\n",
    "\n",
    "  salida <- system(linea, intern=TRUE) # el submit a Kaggle\n",
    "  cat(salida, \"\\n\")\n",
    "}"
   ]
  },
  {
   "cell_type": "code",
   "execution_count": 40,
   "metadata": {
    "id": "B9tB2X4439Hg"
   },
   "outputs": [],
   "source": [
    "write_yaml( PARAM, file=\"PARAM.yml\")"
   ]
  },
  {
   "cell_type": "code",
   "execution_count": 41,
   "metadata": {
    "id": "9zA_W25c15DP"
   },
   "outputs": [
    {
     "data": {
      "text/html": [
       "'Sun Sep 07 23:43:19 2025'"
      ],
      "text/latex": [
       "'Sun Sep 07 23:43:19 2025'"
      ],
      "text/markdown": [
       "'Sun Sep 07 23:43:19 2025'"
      ],
      "text/plain": [
       "[1] \"Sun Sep 07 23:43:19 2025\""
      ]
     },
     "metadata": {},
     "output_type": "display_data"
    }
   ],
   "source": [
    "format(Sys.time(), \"%a %b %d %X %Y\")"
   ]
  },
  {
   "cell_type": "markdown",
   "metadata": {
    "id": "UdVZucdLHzZ0"
   },
   "source": [
    "Finalmente usted deberá cargar el resultado de su corrida en la Google Sheet Colaborativa,  hoja **TareaHogar04**\n",
    "<br> Siéntase libre de agregar las columnas que hagan falta a la planilla"
   ]
  }
 ],
 "metadata": {
  "colab": {
   "provenance": []
  },
  "kernelspec": {
   "display_name": "R",
   "language": "R",
   "name": "ir"
  },
  "language_info": {
   "codemirror_mode": "r",
   "file_extension": ".r",
   "mimetype": "text/x-r-source",
   "name": "R",
   "pygments_lexer": "r",
   "version": "4.4.3"
  }
 },
 "nbformat": 4,
 "nbformat_minor": 4
}
